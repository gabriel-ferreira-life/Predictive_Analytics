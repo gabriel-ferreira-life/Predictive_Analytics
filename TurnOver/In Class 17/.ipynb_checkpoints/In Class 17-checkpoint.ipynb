{
 "cells": [
  {
   "cell_type": "code",
   "execution_count": 1,
   "id": "0f35cb23",
   "metadata": {},
   "outputs": [],
   "source": [
    "import boto3\n",
    "import pandas as pd; pd.set_option('display.max_columns', 50)\n",
    "import matplotlib.pyplot as plt\n",
    "import numpy as np\n",
    "import seaborn as sns\n",
    "import precision_recall_cutoff # Calling .py function\n",
    "from scipy.stats import boxcox\n",
    "from sklearn.svm import SVC\n",
    "from sklearn.preprocessing import MinMaxScaler\n",
    "from sklearn.feature_selection import RFE, RFECV\n",
    "from sklearn.model_selection import train_test_split, GridSearchCV, RandomizedSearchCV\n",
    "from sklearn.ensemble import RandomForestClassifier, AdaBoostClassifier\n",
    "from sklearn.metrics import confusion_matrix, classification_report, make_scorer\n",
    "from sklearn.tree import DecisionTreeClassifier, plot_tree\n",
    "from cost_function import cost_function, cost_function_cutoff\n",
    "\n",
    "train = pd.read_csv('turnover_train.csv')\n",
    "test = pd.read_csv('turnover_test.csv')\n",
    "val = pd.read_csv('turnover_val.csv')"
   ]
  },
  {
   "cell_type": "code",
   "execution_count": 2,
   "id": "96f57511",
   "metadata": {},
   "outputs": [],
   "source": [
    "## Changing sales to dummy variables\n",
    "train = pd.concat([train.drop(columns = ['sales']), pd.get_dummies(train['sales'])], axis = 1)\n",
    "test = pd.concat([test.drop(columns = ['sales']), pd.get_dummies(test['sales'])], axis = 1)\n",
    "val = pd.concat([val.drop(columns = ['sales']), pd.get_dummies(val['sales'])], axis = 1)\n",
    "\n",
    "## Changing sales to dummy variables\n",
    "train = pd.concat([train, pd.get_dummies(train['salary'])], axis = 1)\n",
    "test = pd.concat([test, pd.get_dummies(test['salary'])], axis = 1)\n",
    "val = pd.concat([val, pd.get_dummies(val['salary'])], axis = 1)"
   ]
  },
  {
   "cell_type": "code",
   "execution_count": 3,
   "id": "4466b611",
   "metadata": {},
   "outputs": [],
   "source": [
    "## Creating interactions/features from the decision tree\n",
    "# interaction 1\n",
    "train['interaction_1'] = np.where((train['satisfaction_level'] <= 0.465) & \n",
    "                                     (train['number_project'] <= 2.5) & \n",
    "                                     (train['last_evaluation'] <= 0.575), 1, 0)\n",
    "\n",
    "test['interaction_1'] = np.where((test['satisfaction_level'] <= 0.465) & \n",
    "                                     (test['number_project'] <= 2.5) & \n",
    "                                     (test['last_evaluation'] <= 0.575), 1, 0)\n",
    "\n",
    "val['interaction_1'] = np.where((val['satisfaction_level'] <= 0.465) & \n",
    "                                     (val['number_project'] <= 2.5) & \n",
    "                                     (val['last_evaluation'] <= 0.575), 1, 0)\n",
    "\n",
    "\n",
    "# interaction 2\n",
    "train['interaction_2'] = np.where((train['satisfaction_level'] <= 0.465) & \n",
    "                                     (train['number_project'] >= 2.5) & \n",
    "                                     (train['satisfaction_level'] >= 0.115), 1, 0)\n",
    "\n",
    "test['interaction_2'] = np.where((test['satisfaction_level'] <= 0.465) & \n",
    "                                     (test['number_project'] >= 2.5) & \n",
    "                                     (test['satisfaction_level'] >= 0.115), 1, 0)\n",
    "\n",
    "val['interaction_2'] = np.where((val['satisfaction_level'] <= 0.465) & \n",
    "                                     (val['number_project'] >= 2.5) & \n",
    "                                     (val['satisfaction_level'] >= 0.115), 1, 0)\n",
    "\n",
    "# interaction 3\n",
    "train['interaction_3'] = np.where((train['satisfaction_level'] > 0.465) & \n",
    "                                     (train['time_spend_company'] <= 4.5) & \n",
    "                                     (train['average_montly_hours'] <= 290.5), 1, 0)\n",
    "\n",
    "test['interaction_3'] = np.where((test['satisfaction_level'] > 0.465) & \n",
    "                                     (test['time_spend_company'] <= 4.5) & \n",
    "                                     (test['average_montly_hours'] <= 290.5), 1, 0)\n",
    "\n",
    "val['interaction_3'] = np.where((val['satisfaction_level'] > 0.465) & \n",
    "                                     (val['time_spend_company'] <= 4.5) & \n",
    "                                     (val['average_montly_hours'] <= 290.5), 1, 0)"
   ]
  },
  {
   "cell_type": "code",
   "execution_count": 4,
   "id": "2eee5013",
   "metadata": {},
   "outputs": [],
   "source": [
    "# Defining input and target variables\n",
    "X_train = train[['interaction_3', 'interaction_1', 'satisfaction_level', 'time_spend_company', 'number_project']]\n",
    "Y_train = train['left']\n",
    "\n",
    "X_test = test[['interaction_3', 'interaction_1', 'satisfaction_level', 'time_spend_company', 'number_project']]\n",
    "Y_test = test['left']\n",
    "\n",
    "X_val = val[['interaction_3', 'interaction_1', 'satisfaction_level', 'time_spend_company', 'number_project']]\n",
    "Y_val = val['left']\n",
    "\n",
    "\n",
    "## Changing the scale\n",
    "scaler = MinMaxScaler()\n",
    "X_train = scaler.fit_transform(X_train)\n",
    "X_test = scaler.fit_transform(X_test)\n",
    "X_val = scaler.fit_transform(X_val)"
   ]
  },
  {
   "cell_type": "code",
   "execution_count": 5,
   "id": "06bdca56",
   "metadata": {},
   "outputs": [
    {
     "data": {
      "text/plain": [
       "RandomForestClassifier(max_depth=7, min_samples_leaf=5, min_samples_split=10,\n",
       "                       n_estimators=500)"
      ]
     },
     "execution_count": 5,
     "metadata": {},
     "output_type": "execute_result"
    }
   ],
   "source": [
    "## Defining the hyper-parameters for RF\n",
    "RF_param_grid = {'n_estimators': [100, 300, 500],\n",
    "                 'min_samples_split': [10, 15], \n",
    "                 'min_samples_leaf': [5, 7], \n",
    "                 'max_depth' : [3, 5, 7]}\n",
    "\n",
    "# Defining customized scoring function\n",
    "my_score_function = make_scorer(cost_function, greater_is_better = True, needs_proba = True)\n",
    "\n",
    "# Performing GridSearch\n",
    "RF_grid_search = GridSearchCV(RandomForestClassifier(), RF_param_grid, cv = 3, scoring = my_score_function, n_jobs = -1).fit(X_train, Y_train)\n",
    "\n",
    "# Extracting the best model\n",
    "RF_model = RF_grid_search.best_estimator_\n",
    "RF_model"
   ]
  },
  {
   "cell_type": "code",
   "execution_count": 7,
   "id": "a8d098d1",
   "metadata": {},
   "outputs": [
    {
     "name": "stdout",
     "output_type": "stream",
     "text": [
      "[[1130   13]\n",
      " [  28  329]]\n",
      "The cost of the RF model is:  109500\n"
     ]
    }
   ],
   "source": [
    "# Predicting on validation and test\n",
    "RF_val_pred = RF_model.predict_proba(X_val)[:,1]\n",
    "RF_test_pred = RF_model.predict_proba(X_test)[:,1]\n",
    "\n",
    "# Indentifyung the optimal cut-off value\n",
    "opt_cutoff = cost_function_cutoff(Y_val, RF_val_pred)\n",
    "\n",
    "# Changing the likelihoods to labels\n",
    "RF_label = np.where(RF_test_pred < opt_cutoff, 0, 1)\n",
    "\n",
    "# Computing the confusion matrix\n",
    "X = confusion_matrix(Y_test, RF_label)\n",
    "print(X)\n",
    "print('The cost of the RF model is: ', -1500*X[1,0] - 1000*X[0,1] + 500*X[1, 1])"
   ]
  },
  {
   "cell_type": "code",
   "execution_count": 8,
   "id": "8e443761",
   "metadata": {},
   "outputs": [],
   "source": [
    "## Defining the hyper-parameters for svm\n",
    "SVM_param_grid = {'kernel': ['rbf', 'poly', 'sigmoid'], \n",
    "                  'C': [0.01, 0.1, 1, 10],\n",
    "                  'gamma': [0.001, 0.01, 0.1, 1]}\n",
    "\n",
    "\n",
    "SVM_grid_search = GridSearchCV(SVC(probability = True), SVM_param_grid, cv = 3, scoring = my_score_function, n_jobs = -1).fit(X_train, Y_train)\n",
    "\n",
    "# Extracting the best model\n",
    "svm_md = SVM_grid_search.best_estimator_"
   ]
  },
  {
   "cell_type": "code",
   "execution_count": 9,
   "id": "1ec2ffe3",
   "metadata": {},
   "outputs": [
    {
     "name": "stdout",
     "output_type": "stream",
     "text": [
      "[[1121   22]\n",
      " [  31  326]]\n",
      "The cost of the svm model is:  94500\n"
     ]
    }
   ],
   "source": [
    "# Predicting on validation and test\n",
    "svm_val_pred = svm_md.predict_proba(X_val)[:,1]\n",
    "svm_test_pred = svm_md.predict_proba(X_test)[:,1]\n",
    "\n",
    "# Indentifyung the optimal cut-off value\n",
    "opt_cutoff = cost_function_cutoff(Y_val, svm_val_pred)\n",
    "\n",
    "# Changing the likelihoods to labels\n",
    "svm_label = np.where(svm_test_pred < opt_cutoff, 0, 1)\n",
    "\n",
    "# Computing the confusion matrix\n",
    "X = confusion_matrix(Y_test, svm_label)\n",
    "print(X)\n",
    "print('The cost of the svm model is: ', -1500*X[1,0] - 1000*X[0,1] + 500*X[1, 1])"
   ]
  },
  {
   "cell_type": "markdown",
   "id": "53964cbc",
   "metadata": {},
   "source": [
    "### Based on the above results, Random Forest had a better perfromance."
   ]
  }
 ],
 "metadata": {
  "kernelspec": {
   "display_name": "conda_python3",
   "language": "python",
   "name": "conda_python3"
  },
  "language_info": {
   "codemirror_mode": {
    "name": "ipython",
    "version": 3
   },
   "file_extension": ".py",
   "mimetype": "text/x-python",
   "name": "python",
   "nbconvert_exporter": "python",
   "pygments_lexer": "ipython3",
   "version": "3.6.13"
  }
 },
 "nbformat": 4,
 "nbformat_minor": 5
}
