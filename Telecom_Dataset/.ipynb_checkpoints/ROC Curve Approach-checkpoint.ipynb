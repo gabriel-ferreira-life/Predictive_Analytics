{
 "cells": [
  {
   "cell_type": "markdown",
   "id": "655ee6db",
   "metadata": {},
   "source": [
    "## Reading the csv data file and creating a data-frame called churn"
   ]
  },
  {
   "cell_type": "code",
   "execution_count": 1,
   "id": "c33fca0b",
   "metadata": {},
   "outputs": [
    {
     "data": {
      "text/html": [
       "<div>\n",
       "<style scoped>\n",
       "    .dataframe tbody tr th:only-of-type {\n",
       "        vertical-align: middle;\n",
       "    }\n",
       "\n",
       "    .dataframe tbody tr th {\n",
       "        vertical-align: top;\n",
       "    }\n",
       "\n",
       "    .dataframe thead th {\n",
       "        text-align: right;\n",
       "    }\n",
       "</style>\n",
       "<table border=\"1\" class=\"dataframe\">\n",
       "  <thead>\n",
       "    <tr style=\"text-align: right;\">\n",
       "      <th></th>\n",
       "      <th>Churn</th>\n",
       "      <th>AccountWeeks</th>\n",
       "      <th>ContractRenewal</th>\n",
       "      <th>DataPlan</th>\n",
       "      <th>DataUsage</th>\n",
       "      <th>CustServCalls</th>\n",
       "      <th>DayMins</th>\n",
       "      <th>DayCalls</th>\n",
       "      <th>MonthlyCharge</th>\n",
       "      <th>OverageFee</th>\n",
       "      <th>RoamMins</th>\n",
       "    </tr>\n",
       "  </thead>\n",
       "  <tbody>\n",
       "    <tr>\n",
       "      <th>0</th>\n",
       "      <td>0</td>\n",
       "      <td>128</td>\n",
       "      <td>1</td>\n",
       "      <td>1</td>\n",
       "      <td>2.7</td>\n",
       "      <td>1</td>\n",
       "      <td>265.1</td>\n",
       "      <td>110</td>\n",
       "      <td>89.0</td>\n",
       "      <td>9.87</td>\n",
       "      <td>10.0</td>\n",
       "    </tr>\n",
       "  </tbody>\n",
       "</table>\n",
       "</div>"
      ],
      "text/plain": [
       "   Churn  AccountWeeks  ContractRenewal  DataPlan  DataUsage  CustServCalls  \\\n",
       "0      0           128                1         1        2.7              1   \n",
       "\n",
       "   DayMins  DayCalls  MonthlyCharge  OverageFee  RoamMins  \n",
       "0    265.1       110           89.0        9.87      10.0  "
      ]
     },
     "execution_count": 1,
     "metadata": {},
     "output_type": "execute_result"
    }
   ],
   "source": [
    "import boto3\n",
    "import pandas as pd\n",
    "import numpy as np\n",
    "from sklearn.model_selection import train_test_split\n",
    "from sklearn.ensemble import RandomForestClassifier, AdaBoostClassifier\n",
    "from sklearn.tree import DecisionTreeClassifier\n",
    "from sklearn.metrics import roc_curve, classification_report\n",
    "\n",
    "# Defining the s3 bucket\n",
    "s3 = boto3.resource('s3')\n",
    "bucket_name = 'gabriel-predictive-analytics'\n",
    "bucket = s3.Bucket(bucket_name)\n",
    "\n",
    "# Defining the file to be read from s3 bucket\n",
    "file_key = \"telecom_churn.csv\"\n",
    "\n",
    "bucket_object = bucket.Object(file_key)\n",
    "file_object = bucket_object.get()\n",
    "file_content_stream = file_object.get('Body')\n",
    "\n",
    "# Reading the csv file\n",
    "churn = pd.read_csv(file_content_stream)\n",
    "churn.head(1)"
   ]
  },
  {
   "cell_type": "markdown",
   "id": "647973b8",
   "metadata": {},
   "source": [
    "## Looking at the relative frequency table of the Churn variable."
   ]
  },
  {
   "cell_type": "code",
   "execution_count": 8,
   "id": "f47651ec",
   "metadata": {},
   "outputs": [
    {
     "data": {
      "text/plain": [
       "0    0.855\n",
       "1    0.145\n",
       "Name: Churn, dtype: float64"
      ]
     },
     "execution_count": 8,
     "metadata": {},
     "output_type": "execute_result"
    }
   ],
   "source": [
    "# Relative Frequency table\n",
    "round(churn['Churn'].value_counts() / churn.shape[0], 3)"
   ]
  },
  {
   "cell_type": "markdown",
   "id": "bceb948c",
   "metadata": {},
   "source": [
    "As we can see, this is an unbalanced dataset."
   ]
  },
  {
   "cell_type": "markdown",
   "id": "adf698bb",
   "metadata": {},
   "source": [
    "#### Let's use the following variable to predict Churn: AccountWeeks, ContractRenewal, CustServCalls, MonthlyCharge, and DayMins as the predictor variables, and Churn is the target variable. \n",
    "\n",
    "#### Let's then split the data into two data-frames (taking into account the proportion of 0s and 1s): train (80%) and test (20%)."
   ]
  },
  {
   "cell_type": "code",
   "execution_count": 3,
   "id": "a8672cb9",
   "metadata": {},
   "outputs": [],
   "source": [
    "# Defining the input and target variables\n",
    "X = churn[['AccountWeeks', 'ContractRenewal', 'CustServCalls', 'MonthlyCharge', 'DayMins']]\n",
    "Y = churn['Churn']\n",
    "\n",
    "# Splitting the data\n",
    "X_train, X_test, Y_train, Y_test = train_test_split(X, Y, test_size = 0.2, stratify=Y)"
   ]
  },
  {
   "cell_type": "markdown",
   "id": "2b2747dd",
   "metadata": {},
   "source": [
    "#### Using the train data-frame, let's build a random forest classification model with 500 trees and the maximum depth of each tree equal to 3.\n",
    "\n",
    "#### Then, estimate the cutoff value that makes the random forest classification model the closest to the perfect model based on the ROC curve. Using the optimal cutoff value."
   ]
  },
  {
   "cell_type": "code",
   "execution_count": 4,
   "id": "4ec07d1f",
   "metadata": {},
   "outputs": [
    {
     "data": {
      "text/html": [
       "<div>\n",
       "<style scoped>\n",
       "    .dataframe tbody tr th:only-of-type {\n",
       "        vertical-align: middle;\n",
       "    }\n",
       "\n",
       "    .dataframe tbody tr th {\n",
       "        vertical-align: top;\n",
       "    }\n",
       "\n",
       "    .dataframe thead th {\n",
       "        text-align: right;\n",
       "    }\n",
       "</style>\n",
       "<table border=\"1\" class=\"dataframe\">\n",
       "  <thead>\n",
       "    <tr style=\"text-align: right;\">\n",
       "      <th></th>\n",
       "      <th>False_Positive</th>\n",
       "      <th>True_Positive</th>\n",
       "      <th>Cutoff</th>\n",
       "    </tr>\n",
       "  </thead>\n",
       "  <tbody>\n",
       "    <tr>\n",
       "      <th>0</th>\n",
       "      <td>0.000000</td>\n",
       "      <td>0.000000</td>\n",
       "      <td>1.650456</td>\n",
       "    </tr>\n",
       "    <tr>\n",
       "      <th>1</th>\n",
       "      <td>0.000000</td>\n",
       "      <td>0.010309</td>\n",
       "      <td>0.650456</td>\n",
       "    </tr>\n",
       "    <tr>\n",
       "      <th>2</th>\n",
       "      <td>0.000000</td>\n",
       "      <td>0.041237</td>\n",
       "      <td>0.626021</td>\n",
       "    </tr>\n",
       "    <tr>\n",
       "      <th>3</th>\n",
       "      <td>0.003509</td>\n",
       "      <td>0.041237</td>\n",
       "      <td>0.611743</td>\n",
       "    </tr>\n",
       "    <tr>\n",
       "      <th>4</th>\n",
       "      <td>0.003509</td>\n",
       "      <td>0.103093</td>\n",
       "      <td>0.588655</td>\n",
       "    </tr>\n",
       "  </tbody>\n",
       "</table>\n",
       "</div>"
      ],
      "text/plain": [
       "   False_Positive  True_Positive    Cutoff\n",
       "0        0.000000       0.000000  1.650456\n",
       "1        0.000000       0.010309  0.650456\n",
       "2        0.000000       0.041237  0.626021\n",
       "3        0.003509       0.041237  0.611743\n",
       "4        0.003509       0.103093  0.588655"
      ]
     },
     "execution_count": 4,
     "metadata": {},
     "output_type": "execute_result"
    }
   ],
   "source": [
    "# Building Random Forest Classifier model\n",
    "RF_md = RandomForestClassifier(n_estimators = 500, max_depth = 3).fit(X_train, Y_train)\n",
    "\n",
    "# Predicting on test dataset\n",
    "RF_pred = RF_md.predict_proba(X_test)[:,1]\n",
    "\n",
    "# Computing the ROC curve\n",
    "fpr, tpr, threshold = roc_curve(Y_test, RF_pred)\n",
    "\n",
    "# Creating a data-frame\n",
    "cutoffs = pd.DataFrame({'False_Positive': fpr, 'True_Positive': tpr, 'Cutoff': threshold})\n",
    "cutoffs.head()"
   ]
  },
  {
   "cell_type": "markdown",
   "id": "326c394f",
   "metadata": {},
   "source": [
    "#### Checking the classification report."
   ]
  },
  {
   "cell_type": "code",
   "execution_count": 5,
   "id": "f0d3b58f",
   "metadata": {},
   "outputs": [
    {
     "name": "stdout",
     "output_type": "stream",
     "text": [
      "              precision    recall  f1-score   support\n",
      "\n",
      "           0       0.97      0.87      0.92       570\n",
      "           1       0.53      0.87      0.66        97\n",
      "\n",
      "    accuracy                           0.87       667\n",
      "   macro avg       0.75      0.87      0.79       667\n",
      "weighted avg       0.91      0.87      0.88       667\n",
      "\n"
     ]
    }
   ],
   "source": [
    "# Finding the optimal cut-off\n",
    "cutoffs['True_Positive_minus_1'] = cutoffs['True_Positive'] - 1\n",
    "cutoffs['Euclidean_dist'] = np.sqrt(cutoffs['False_Positive']**2 + cutoffs['True_Positive_minus_1']**2)\n",
    "\n",
    "## Sorting based on the Euclidean distance\n",
    "cutoffs = cutoffs.sort_values(by = 'Euclidean_dist').reset_index(drop = True)\n",
    "\n",
    "## Changing likelihoods to labels\n",
    "RF_pred = np.where(RF_pred < cutoffs['Cutoff'][0], 0, 1)\n",
    "\n",
    "# Printing classification report\n",
    "print(classification_report(Y_test, RF_pred))"
   ]
  },
  {
   "cell_type": "markdown",
   "id": "e8515ec3",
   "metadata": {},
   "source": [
    "#### Repeating the same process but now using an ada-boost classification model with 500 trees, the maximum depth of each tree equal to 3, and learning rate equal to 0.01"
   ]
  },
  {
   "cell_type": "code",
   "execution_count": 6,
   "id": "6ac8cb6e",
   "metadata": {},
   "outputs": [
    {
     "name": "stdout",
     "output_type": "stream",
     "text": [
      "              precision    recall  f1-score   support\n",
      "\n",
      "           0       0.98      0.89      0.93       570\n",
      "           1       0.58      0.87      0.69        97\n",
      "\n",
      "    accuracy                           0.89       667\n",
      "   macro avg       0.78      0.88      0.81       667\n",
      "weighted avg       0.92      0.89      0.90       667\n",
      "\n"
     ]
    }
   ],
   "source": [
    "#### AdaBoost Classifier\n",
    "Ada_md = AdaBoostClassifier(base_estimator = DecisionTreeClassifier(max_depth = 3), n_estimators = 500, learning_rate = 0.01).fit(X_train, Y_train)\n",
    "    \n",
    "# Predicting on test\n",
    "ADA_pred = Ada_md.predict_proba(X_test)[:,1]\n",
    "\n",
    "# Computing the ROC curve\n",
    "fpr, tpr, threshold = roc_curve(Y_test, ADA_pred)\n",
    "\n",
    "# Creating a data-frame\n",
    "cutoffs_ADA = pd.DataFrame({'False_Positive': fpr, 'True_Positive': tpr, 'Cutoff': threshold})\n",
    "\n",
    "# Finding the optimal cut-off\n",
    "cutoffs_ADA['True_Positive_minus_1'] = cutoffs_ADA['True_Positive'] - 1\n",
    "cutoffs_ADA['Euclidean_dist'] = np.sqrt(cutoffs_ADA['False_Positive']**2 + cutoffs_ADA['True_Positive_minus_1']**2)\n",
    "\n",
    "## Sorting based on the Euclidean distance\n",
    "cutoffs_ADA = cutoffs_ADA.sort_values(by = 'Euclidean_dist').reset_index(drop = True)\n",
    "\n",
    "\n",
    "## Changing likelihoods to labels\n",
    "ADA_pred = np.where(ADA_pred < cutoffs_ADA['Cutoff'][0], 0, 1)\n",
    "\n",
    "# Printing classification report\n",
    "print(classification_report(Y_test, ADA_pred))"
   ]
  },
  {
   "cell_type": "markdown",
   "id": "ec02456f",
   "metadata": {},
   "source": [
    "### Given the results from both models, I would choose the AdaBoost Classifier model because it had a higher precision socore in the class 1."
   ]
  }
 ],
 "metadata": {
  "kernelspec": {
   "display_name": "conda_python3",
   "language": "python",
   "name": "conda_python3"
  },
  "language_info": {
   "codemirror_mode": {
    "name": "ipython",
    "version": 3
   },
   "file_extension": ".py",
   "mimetype": "text/x-python",
   "name": "python",
   "nbconvert_exporter": "python",
   "pygments_lexer": "ipython3",
   "version": "3.6.13"
  }
 },
 "nbformat": 4,
 "nbformat_minor": 5
}
