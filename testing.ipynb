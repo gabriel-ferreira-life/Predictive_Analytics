{
 "cells": [
  {
   "cell_type": "code",
   "execution_count": 1,
   "id": "3942a609",
   "metadata": {},
   "outputs": [
    {
     "name": "stdout",
     "output_type": "stream",
     "text": [
      "Collecting runipy\n",
      "  Downloading runipy-0.1.5.tar.gz (24 kB)\n",
      "  Preparing metadata (setup.py) ... \u001b[?25ldone\n",
      "\u001b[?25hRequirement already satisfied: Jinja2>=2.7.2 in /home/ec2-user/anaconda3/envs/python3/lib/python3.6/site-packages (from runipy) (2.11.3)\n",
      "Requirement already satisfied: Pygments>=1.6 in /home/ec2-user/anaconda3/envs/python3/lib/python3.6/site-packages (from runipy) (2.8.0)\n",
      "Requirement already satisfied: ipython>=2.3.1 in /home/ec2-user/anaconda3/envs/python3/lib/python3.6/site-packages (from runipy) (7.16.1)\n",
      "Requirement already satisfied: pyzmq>=14.1.0 in /home/ec2-user/anaconda3/envs/python3/lib/python3.6/site-packages (from runipy) (22.0.3)\n",
      "Requirement already satisfied: ipykernel>=4.0.0 in /home/ec2-user/anaconda3/envs/python3/lib/python3.6/site-packages (from runipy) (5.5.0)\n",
      "Requirement already satisfied: nbconvert>=4.0.0 in /home/ec2-user/anaconda3/envs/python3/lib/python3.6/site-packages (from runipy) (6.0.7)\n",
      "Requirement already satisfied: nbformat>=4.0.0 in /home/ec2-user/anaconda3/envs/python3/lib/python3.6/site-packages (from runipy) (5.1.2)\n",
      "Requirement already satisfied: traitlets>=4.1.0 in /home/ec2-user/anaconda3/envs/python3/lib/python3.6/site-packages (from ipykernel>=4.0.0->runipy) (4.3.3)\n",
      "Requirement already satisfied: jupyter-client in /home/ec2-user/anaconda3/envs/python3/lib/python3.6/site-packages (from ipykernel>=4.0.0->runipy) (6.1.11)\n",
      "Requirement already satisfied: tornado>=4.2 in /home/ec2-user/anaconda3/envs/python3/lib/python3.6/site-packages (from ipykernel>=4.0.0->runipy) (6.1)\n",
      "Requirement already satisfied: pexpect in /home/ec2-user/anaconda3/envs/python3/lib/python3.6/site-packages (from ipython>=2.3.1->runipy) (4.8.0)\n",
      "Requirement already satisfied: setuptools>=18.5 in /home/ec2-user/anaconda3/envs/python3/lib/python3.6/site-packages (from ipython>=2.3.1->runipy) (49.6.0.post20210108)\n",
      "Requirement already satisfied: prompt-toolkit!=3.0.0,!=3.0.1,<3.1.0,>=2.0.0 in /home/ec2-user/anaconda3/envs/python3/lib/python3.6/site-packages (from ipython>=2.3.1->runipy) (3.0.5)\n",
      "Requirement already satisfied: decorator in /home/ec2-user/anaconda3/envs/python3/lib/python3.6/site-packages (from ipython>=2.3.1->runipy) (4.4.2)\n",
      "Requirement already satisfied: pickleshare in /home/ec2-user/anaconda3/envs/python3/lib/python3.6/site-packages (from ipython>=2.3.1->runipy) (0.7.5)\n",
      "Requirement already satisfied: backcall in /home/ec2-user/anaconda3/envs/python3/lib/python3.6/site-packages (from ipython>=2.3.1->runipy) (0.2.0)\n",
      "Requirement already satisfied: jedi>=0.10 in /home/ec2-user/anaconda3/envs/python3/lib/python3.6/site-packages (from ipython>=2.3.1->runipy) (0.17.2)\n",
      "Requirement already satisfied: MarkupSafe>=0.23 in /home/ec2-user/anaconda3/envs/python3/lib/python3.6/site-packages (from Jinja2>=2.7.2->runipy) (1.1.1)\n",
      "Requirement already satisfied: entrypoints>=0.2.2 in /home/ec2-user/anaconda3/envs/python3/lib/python3.6/site-packages (from nbconvert>=4.0.0->runipy) (0.3)\n",
      "Requirement already satisfied: jupyterlab-pygments in /home/ec2-user/anaconda3/envs/python3/lib/python3.6/site-packages (from nbconvert>=4.0.0->runipy) (0.1.2)\n",
      "Requirement already satisfied: mistune<2,>=0.8.1 in /home/ec2-user/anaconda3/envs/python3/lib/python3.6/site-packages (from nbconvert>=4.0.0->runipy) (0.8.4)\n",
      "Requirement already satisfied: nbclient<0.6.0,>=0.5.0 in /home/ec2-user/anaconda3/envs/python3/lib/python3.6/site-packages (from nbconvert>=4.0.0->runipy) (0.5.2)\n",
      "Requirement already satisfied: pandocfilters>=1.4.1 in /home/ec2-user/anaconda3/envs/python3/lib/python3.6/site-packages (from nbconvert>=4.0.0->runipy) (1.4.2)\n",
      "Requirement already satisfied: testpath in /home/ec2-user/anaconda3/envs/python3/lib/python3.6/site-packages (from nbconvert>=4.0.0->runipy) (0.4.4)\n",
      "Requirement already satisfied: jupyter-core in /home/ec2-user/anaconda3/envs/python3/lib/python3.6/site-packages (from nbconvert>=4.0.0->runipy) (4.7.1)\n",
      "Requirement already satisfied: bleach in /home/ec2-user/anaconda3/envs/python3/lib/python3.6/site-packages (from nbconvert>=4.0.0->runipy) (4.1.0)\n",
      "Requirement already satisfied: defusedxml in /home/ec2-user/anaconda3/envs/python3/lib/python3.6/site-packages (from nbconvert>=4.0.0->runipy) (0.6.0)\n",
      "Requirement already satisfied: jsonschema!=2.5.0,>=2.4 in /home/ec2-user/anaconda3/envs/python3/lib/python3.6/site-packages (from nbformat>=4.0.0->runipy) (3.2.0)\n",
      "Requirement already satisfied: ipython-genutils in /home/ec2-user/anaconda3/envs/python3/lib/python3.6/site-packages (from nbformat>=4.0.0->runipy) (0.2.0)\n",
      "Requirement already satisfied: parso<0.8.0,>=0.7.0 in /home/ec2-user/anaconda3/envs/python3/lib/python3.6/site-packages (from jedi>=0.10->ipython>=2.3.1->runipy) (0.7.0)\n",
      "Requirement already satisfied: attrs>=17.4.0 in /home/ec2-user/anaconda3/envs/python3/lib/python3.6/site-packages (from jsonschema!=2.5.0,>=2.4->nbformat>=4.0.0->runipy) (20.3.0)\n",
      "Requirement already satisfied: six>=1.11.0 in /home/ec2-user/anaconda3/envs/python3/lib/python3.6/site-packages (from jsonschema!=2.5.0,>=2.4->nbformat>=4.0.0->runipy) (1.15.0)\n",
      "Requirement already satisfied: importlib-metadata in /home/ec2-user/anaconda3/envs/python3/lib/python3.6/site-packages (from jsonschema!=2.5.0,>=2.4->nbformat>=4.0.0->runipy) (3.7.0)\n",
      "Requirement already satisfied: pyrsistent>=0.14.0 in /home/ec2-user/anaconda3/envs/python3/lib/python3.6/site-packages (from jsonschema!=2.5.0,>=2.4->nbformat>=4.0.0->runipy) (0.17.3)\n",
      "Requirement already satisfied: nest-asyncio in /home/ec2-user/anaconda3/envs/python3/lib/python3.6/site-packages (from nbclient<0.6.0,>=0.5.0->nbconvert>=4.0.0->runipy) (1.5.4)\n",
      "Requirement already satisfied: async-generator in /home/ec2-user/anaconda3/envs/python3/lib/python3.6/site-packages (from nbclient<0.6.0,>=0.5.0->nbconvert>=4.0.0->runipy) (1.10)\n",
      "Requirement already satisfied: python-dateutil>=2.1 in /home/ec2-user/anaconda3/envs/python3/lib/python3.6/site-packages (from jupyter-client->ipykernel>=4.0.0->runipy) (2.8.1)\n",
      "Requirement already satisfied: wcwidth in /home/ec2-user/anaconda3/envs/python3/lib/python3.6/site-packages (from prompt-toolkit!=3.0.0,!=3.0.1,<3.1.0,>=2.0.0->ipython>=2.3.1->runipy) (0.2.5)\n",
      "Requirement already satisfied: webencodings in /home/ec2-user/anaconda3/envs/python3/lib/python3.6/site-packages (from bleach->nbconvert>=4.0.0->runipy) (0.5.1)\n",
      "Requirement already satisfied: packaging in /home/ec2-user/anaconda3/envs/python3/lib/python3.6/site-packages (from bleach->nbconvert>=4.0.0->runipy) (21.3)\n",
      "Requirement already satisfied: ptyprocess>=0.5 in /home/ec2-user/anaconda3/envs/python3/lib/python3.6/site-packages (from pexpect->ipython>=2.3.1->runipy) (0.7.0)\n",
      "Requirement already satisfied: zipp>=0.5 in /home/ec2-user/anaconda3/envs/python3/lib/python3.6/site-packages (from importlib-metadata->jsonschema!=2.5.0,>=2.4->nbformat>=4.0.0->runipy) (3.4.0)\n",
      "Requirement already satisfied: typing-extensions>=3.6.4 in /home/ec2-user/anaconda3/envs/python3/lib/python3.6/site-packages (from importlib-metadata->jsonschema!=2.5.0,>=2.4->nbformat>=4.0.0->runipy) (4.0.1)\n",
      "Requirement already satisfied: pyparsing!=3.0.5,>=2.0.2 in /home/ec2-user/anaconda3/envs/python3/lib/python3.6/site-packages (from packaging->bleach->nbconvert>=4.0.0->runipy) (2.4.7)\n",
      "Building wheels for collected packages: runipy\n",
      "  Building wheel for runipy (setup.py) ... \u001b[?25ldone\n",
      "\u001b[?25h  Created wheel for runipy: filename=runipy-0.1.5-py3-none-any.whl size=10139 sha256=b3262a5f2e102fda3d518e2e3af4e538b7ad8f2cc5395895913caa7a0c17bcee\n",
      "  Stored in directory: /home/ec2-user/.cache/pip/wheels/f3/76/c5/4f739a6f8bb45fe4b0a7e27c04e47c8c14300c4e5338e3506e\n",
      "Successfully built runipy\n",
      "Installing collected packages: runipy\n",
      "Successfully installed runipy-0.1.5\n",
      "Note: you may need to restart the kernel to use updated packages.\n"
     ]
    }
   ],
   "source": [
    "pip install runipy"
   ]
  },
  {
   "cell_type": "code",
   "execution_count": 1,
   "id": "74079a33",
   "metadata": {},
   "outputs": [
    {
     "ename": "SyntaxError",
     "evalue": "invalid syntax (<ipython-input-1-6b4d5a76fc37>, line 1)",
     "output_type": "error",
     "traceback": [
      "\u001b[0;36m  File \u001b[0;32m\"<ipython-input-1-6b4d5a76fc37>\"\u001b[0;36m, line \u001b[0;32m1\u001b[0m\n\u001b[0;31m    nohup runipy Homework 6.ipynb testing.ipynb >> notebook.log &\u001b[0m\n\u001b[0m               ^\u001b[0m\n\u001b[0;31mSyntaxError\u001b[0m\u001b[0;31m:\u001b[0m invalid syntax\n"
     ]
    }
   ],
   "source": []
  },
  {
   "cell_type": "code",
   "execution_count": null,
   "id": "db9809cd",
   "metadata": {},
   "outputs": [],
   "source": []
  }
 ],
 "metadata": {
  "kernelspec": {
   "display_name": "conda_python3",
   "language": "python",
   "name": "conda_python3"
  },
  "language_info": {
   "codemirror_mode": {
    "name": "ipython",
    "version": 3
   },
   "file_extension": ".py",
   "mimetype": "text/x-python",
   "name": "python",
   "nbconvert_exporter": "python",
   "pygments_lexer": "ipython3",
   "version": "3.6.13"
  }
 },
 "nbformat": 4,
 "nbformat_minor": 5
}
