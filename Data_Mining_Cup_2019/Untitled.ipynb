{
 "cells": [
  {
   "cell_type": "code",
   "execution_count": 1,
   "id": "ec50b560",
   "metadata": {},
   "outputs": [
    {
     "data": {
      "text/plain": [
       "(1879, 41)"
      ]
     },
     "execution_count": 1,
     "metadata": {},
     "output_type": "execute_result"
    }
   ],
   "source": [
    "import boto3\n",
    "import pandas as pd; pd.set_option('display.max_columns', 50)\n",
    "import matplotlib.pyplot as plt\n",
    "import numpy as np\n",
    "from sklearn.preprocessing import MinMaxScaler\n",
    "from sklearn.model_selection import train_test_split\n",
    "from sklearn.ensemble import RandomForestClassifier, AdaBoostClassifier\n",
    "from sklearn.metrics import confusion_matrix, classification_report\n",
    "from sklearn.tree import DecisionTreeClassifier, plot_tree\n",
    "from sklearn.neighbors import NearestNeighbors\n",
    "from sklearn.cluster import KMeans\n",
    "from sklearn.feature_selection import RFE, RFECV\n",
    "from sklearn.linear_model import LogisticRegression\n",
    "import precision_recall_cutoff\n",
    "import Feature_Importance_Funs\n",
    "\n",
    "# reading updated train dataset\n",
    "train = pd.read_csv('train_dataset.csv')\n",
    "train = train.dropna()\n",
    "train.shape"
   ]
  },
  {
   "cell_type": "code",
   "execution_count": 2,
   "id": "4f5cdbf1",
   "metadata": {},
   "outputs": [
    {
     "data": {
      "text/plain": [
       "(498121, 40)"
      ]
     },
     "execution_count": 2,
     "metadata": {},
     "output_type": "execute_result"
    }
   ],
   "source": [
    "# reading updated train dataset\n",
    "test = pd.read_csv('test_dataset.csv')\n",
    "test = test.dropna()\n",
    "test.shape"
   ]
  },
  {
   "cell_type": "code",
   "execution_count": 3,
   "id": "a997a1a2",
   "metadata": {},
   "outputs": [],
   "source": [
    "## Engineering features using the strong heredity principle\n",
    "train['heredity_1'] = train['interaction_1'] * train['trustLevel']\n",
    "\n",
    "train['heredity_2'] = train['interaction_1'] * train['Labels']\n",
    "\n",
    "train['heredity_3'] = train['trustLevel'] * train['Labels']"
   ]
  },
  {
   "cell_type": "code",
   "execution_count": 4,
   "id": "efbd56d2",
   "metadata": {},
   "outputs": [],
   "source": [
    "# Variable created in the last feature engineering section\n",
    "train['interaction_9'] = np.where(train['heredity_1'] > 0.5, 1, 0)"
   ]
  },
  {
   "cell_type": "code",
   "execution_count": null,
   "id": "980ccd43",
   "metadata": {},
   "outputs": [
    {
     "name": "stdout",
     "output_type": "stream",
     "text": [
      "Iteraction : 0 1 2 3 4 5 6 7 8 9 10 11 12 13 14 15 16 "
     ]
    }
   ],
   "source": [
    "logit_list = list()\n",
    "RF_list = list()\n",
    "Ada_list = list()\n",
    "\n",
    "for i in range(0,100):\n",
    "    \n",
    "    # Defining input and target variables\n",
    "    X = train.drop(['fraud'], axis = 1)\n",
    "    Y = train['fraud']\n",
    "\n",
    "    # Splitting the data\n",
    "    X_train, X_test, Y_train, Y_test = train_test_split(X, Y, test_size = 0.2, stratify = Y)\n",
    "\n",
    "    # Standardizing the dataset\n",
    "    scaler = MinMaxScaler()\n",
    "    X_train = pd.DataFrame(scaler.fit_transform(X_train), columns = X_train.columns)\n",
    "    X_test = pd.DataFrame(scaler.fit_transform(X_test), columns = X_test.columns)\n",
    "    \n",
    "    # Running RFE with LogisticRegression\n",
    "    logit_rfe = RFE(estimator = LogisticRegression(), n_features_to_select = 5).fit(X_train, Y_train)# Extracting features that got \n",
    "    \n",
    "    # Extracting features that got slected\n",
    "    logit_list.append(X_train.columns[logit_rfe.support_])\n",
    "    \n",
    "    # Running RFE with random forest\n",
    "    RF_rfe = RFE(estimator = RandomForestClassifier(n_estimators = 500, max_depth = 3), n_features_to_select = 5).fit(X_train, Y_train)\n",
    "\n",
    "    # Extracting features that got slected\n",
    "    RF_list.append(X_train.columns[RF_rfe.support_])\n",
    "    \n",
    "    # Running RFE with AdaBoost\n",
    "    Ada_rfe = RFE(estimator = AdaBoostClassifier(base_estimator = DecisionTreeClassifier(max_depth = 3), n_estimators = 500, learning_rate = 0.01), n_features_to_select = 5).fit(X_train, Y_train)\n",
    "\n",
    "    # Extracting features that got slected\n",
    "    Ada_list.append(X_train.columns[Ada_rfe.support_])\n",
    "    \n",
    "    if i == 0:\n",
    "        print('Iteraction :', i, end=' ')\n",
    "    else:\n",
    "        print(i, end=' ')\n",
    "\n",
    "\n",
    "    "
   ]
  },
  {
   "cell_type": "code",
   "execution_count": null,
   "id": "7b3c89ad",
   "metadata": {},
   "outputs": [],
   "source": [
    "logit = pd.DataFrame(logit_list)\n",
    "RF = pd.DataFrame(RF_list)\n",
    "ada = pd.DataFrame(Ada_list)\n",
    "\n",
    "logit.to_csv('logit_list.csv', index = False)\n",
    "RF.to_csv('RF_list.csv', index = False)\n",
    "ada.to_csv('ada_list.csv', index = False)"
   ]
  },
  {
   "cell_type": "code",
   "execution_count": null,
   "id": "5b5d6449",
   "metadata": {},
   "outputs": [],
   "source": []
  }
 ],
 "metadata": {
  "kernelspec": {
   "display_name": "conda_python3",
   "language": "python",
   "name": "conda_python3"
  },
  "language_info": {
   "codemirror_mode": {
    "name": "ipython",
    "version": 3
   },
   "file_extension": ".py",
   "mimetype": "text/x-python",
   "name": "python",
   "nbconvert_exporter": "python",
   "pygments_lexer": "ipython3",
   "version": "3.6.13"
  }
 },
 "nbformat": 4,
 "nbformat_minor": 5
}
