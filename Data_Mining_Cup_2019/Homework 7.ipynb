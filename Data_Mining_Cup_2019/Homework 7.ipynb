{
 "cells": [
  {
   "cell_type": "code",
   "execution_count": 84,
   "id": "868578bb",
   "metadata": {},
   "outputs": [
    {
     "data": {
      "text/plain": [
       "(498121, 44)"
      ]
     },
     "execution_count": 84,
     "metadata": {},
     "output_type": "execute_result"
    }
   ],
   "source": [
    "import boto3\n",
    "import pandas as pd; pd.set_option('display.max_columns', 50)\n",
    "import matplotlib.pyplot as plt\n",
    "import numpy as np\n",
    "import seaborn as sns\n",
    "import precision_recall_cutoff\n",
    "from cost_function import cost_function, cost_function_cutoff\n",
    "from sklearn.preprocessing import MinMaxScaler\n",
    "from scipy.stats import boxcox\n",
    "from sklearn.svm import SVC, SVR\n",
    "from sklearn.model_selection import train_test_split\n",
    "from sklearn.ensemble import RandomForestClassifier, AdaBoostClassifier\n",
    "from sklearn.metrics import confusion_matrix, classification_report\n",
    "from sklearn.multiclass import OneVsRestClassifier\n",
    "from sklearn.tree import DecisionTreeClassifier, plot_tree\n",
    "from sklearn.metrics import confusion_matrix, classification_report, make_scorer\n",
    "from sklearn.model_selection import train_test_split, GridSearchCV, RandomizedSearchCV\n",
    "\n",
    "\n",
    "# Reading the csv file\n",
    "train = pd.read_csv('train_dataset.csv')\n",
    "\n",
    "# Defining the file to be read from s3 bucket\n",
    "test = pd.read_csv('test_dataset.csv')\n",
    "test = test.dropna()\n",
    "test.shape"
   ]
  },
  {
   "cell_type": "code",
   "execution_count": 85,
   "id": "cca0ee0d",
   "metadata": {},
   "outputs": [
    {
     "data": {
      "text/plain": [
       "(1879, 45)"
      ]
     },
     "execution_count": 85,
     "metadata": {},
     "output_type": "execute_result"
    }
   ],
   "source": [
    "train.shape"
   ]
  },
  {
   "cell_type": "code",
   "execution_count": 86,
   "id": "4d926650",
   "metadata": {},
   "outputs": [
    {
     "data": {
      "text/html": [
       "<div>\n",
       "<style scoped>\n",
       "    .dataframe tbody tr th:only-of-type {\n",
       "        vertical-align: middle;\n",
       "    }\n",
       "\n",
       "    .dataframe tbody tr th {\n",
       "        vertical-align: top;\n",
       "    }\n",
       "\n",
       "    .dataframe thead th {\n",
       "        text-align: right;\n",
       "    }\n",
       "</style>\n",
       "<table border=\"1\" class=\"dataframe\">\n",
       "  <thead>\n",
       "    <tr style=\"text-align: right;\">\n",
       "      <th></th>\n",
       "      <th>trustLevel</th>\n",
       "      <th>totalScanTimeInSeconds</th>\n",
       "      <th>grandTotal</th>\n",
       "      <th>lineItemVoids</th>\n",
       "      <th>scansWithoutRegistration</th>\n",
       "      <th>quantityModifications</th>\n",
       "      <th>scannedLineItemsPerSecond</th>\n",
       "      <th>valuePerSecond</th>\n",
       "      <th>lineItemVoidsPerPosition</th>\n",
       "      <th>fraud</th>\n",
       "      <th>interaction_1</th>\n",
       "      <th>interaction_2</th>\n",
       "      <th>interaction_3</th>\n",
       "      <th>interaction_4</th>\n",
       "      <th>average_seconds_per_item</th>\n",
       "      <th>trustLevel_1</th>\n",
       "      <th>trustLevel_2</th>\n",
       "      <th>trustLevel_3</th>\n",
       "      <th>trustLevel_4</th>\n",
       "      <th>trustLevel_5</th>\n",
       "      <th>trustLevel_6</th>\n",
       "      <th>totalScanTimeInSeconds_0_1</th>\n",
       "      <th>grandTotal_0_1</th>\n",
       "      <th>lineItemVoids_0_1</th>\n",
       "      <th>scansWithoutRegistration_0_1</th>\n",
       "      <th>quantityModifications_0_1</th>\n",
       "      <th>scannedLineItemsPerSecond_0_1</th>\n",
       "      <th>valuePerSecond_0_1</th>\n",
       "      <th>lineItemVoidsPerPosition_0_1</th>\n",
       "      <th>average_seconds_per_item_01</th>\n",
       "      <th>Labels</th>\n",
       "      <th>Labels_0</th>\n",
       "      <th>Labels_1</th>\n",
       "      <th>Labels_2</th>\n",
       "      <th>Labels_3</th>\n",
       "      <th>Labels_4</th>\n",
       "      <th>Labels_5</th>\n",
       "      <th>interaction_5</th>\n",
       "      <th>interaction_6</th>\n",
       "      <th>interaction_7</th>\n",
       "      <th>interaction_8</th>\n",
       "      <th>heredity_1</th>\n",
       "      <th>heredity_2</th>\n",
       "      <th>heredity_3</th>\n",
       "      <th>interaction_9</th>\n",
       "    </tr>\n",
       "  </thead>\n",
       "  <tbody>\n",
       "    <tr>\n",
       "      <th>0</th>\n",
       "      <td>5</td>\n",
       "      <td>1054</td>\n",
       "      <td>54.70</td>\n",
       "      <td>7</td>\n",
       "      <td>0</td>\n",
       "      <td>3</td>\n",
       "      <td>0.027514</td>\n",
       "      <td>0.051898</td>\n",
       "      <td>0.241379</td>\n",
       "      <td>0</td>\n",
       "      <td>0</td>\n",
       "      <td>0</td>\n",
       "      <td>0</td>\n",
       "      <td>1</td>\n",
       "      <td>19.27</td>\n",
       "      <td>0</td>\n",
       "      <td>0</td>\n",
       "      <td>0</td>\n",
       "      <td>0</td>\n",
       "      <td>1</td>\n",
       "      <td>0</td>\n",
       "      <td>0.575178</td>\n",
       "      <td>0.547174</td>\n",
       "      <td>0.636364</td>\n",
       "      <td>0.0</td>\n",
       "      <td>0.6</td>\n",
       "      <td>0.004045</td>\n",
       "      <td>0.001370</td>\n",
       "      <td>0.021944</td>\n",
       "      <td>0.000131</td>\n",
       "      <td>0</td>\n",
       "      <td>1</td>\n",
       "      <td>0</td>\n",
       "      <td>0</td>\n",
       "      <td>0</td>\n",
       "      <td>0</td>\n",
       "      <td>0</td>\n",
       "      <td>0.000000</td>\n",
       "      <td>0.002427</td>\n",
       "      <td>0.314722</td>\n",
       "      <td>0</td>\n",
       "      <td>0</td>\n",
       "      <td>0</td>\n",
       "      <td>0</td>\n",
       "      <td>0</td>\n",
       "    </tr>\n",
       "    <tr>\n",
       "      <th>1</th>\n",
       "      <td>3</td>\n",
       "      <td>108</td>\n",
       "      <td>27.36</td>\n",
       "      <td>5</td>\n",
       "      <td>2</td>\n",
       "      <td>4</td>\n",
       "      <td>0.129630</td>\n",
       "      <td>0.253333</td>\n",
       "      <td>0.357143</td>\n",
       "      <td>0</td>\n",
       "      <td>0</td>\n",
       "      <td>0</td>\n",
       "      <td>0</td>\n",
       "      <td>1</td>\n",
       "      <td>3.95</td>\n",
       "      <td>0</td>\n",
       "      <td>0</td>\n",
       "      <td>1</td>\n",
       "      <td>0</td>\n",
       "      <td>0</td>\n",
       "      <td>0</td>\n",
       "      <td>0.057955</td>\n",
       "      <td>0.273637</td>\n",
       "      <td>0.454545</td>\n",
       "      <td>0.2</td>\n",
       "      <td>0.8</td>\n",
       "      <td>0.019364</td>\n",
       "      <td>0.006689</td>\n",
       "      <td>0.032468</td>\n",
       "      <td>0.000027</td>\n",
       "      <td>1</td>\n",
       "      <td>0</td>\n",
       "      <td>1</td>\n",
       "      <td>0</td>\n",
       "      <td>0</td>\n",
       "      <td>0</td>\n",
       "      <td>0</td>\n",
       "      <td>0.090909</td>\n",
       "      <td>0.015491</td>\n",
       "      <td>0.015859</td>\n",
       "      <td>0</td>\n",
       "      <td>0</td>\n",
       "      <td>0</td>\n",
       "      <td>3</td>\n",
       "      <td>0</td>\n",
       "    </tr>\n",
       "    <tr>\n",
       "      <th>2</th>\n",
       "      <td>3</td>\n",
       "      <td>1516</td>\n",
       "      <td>62.16</td>\n",
       "      <td>3</td>\n",
       "      <td>10</td>\n",
       "      <td>5</td>\n",
       "      <td>0.008575</td>\n",
       "      <td>0.041003</td>\n",
       "      <td>0.230769</td>\n",
       "      <td>0</td>\n",
       "      <td>0</td>\n",
       "      <td>0</td>\n",
       "      <td>0</td>\n",
       "      <td>1</td>\n",
       "      <td>24.39</td>\n",
       "      <td>0</td>\n",
       "      <td>0</td>\n",
       "      <td>1</td>\n",
       "      <td>0</td>\n",
       "      <td>0</td>\n",
       "      <td>0</td>\n",
       "      <td>0.827775</td>\n",
       "      <td>0.621811</td>\n",
       "      <td>0.272727</td>\n",
       "      <td>1.0</td>\n",
       "      <td>1.0</td>\n",
       "      <td>0.001204</td>\n",
       "      <td>0.001083</td>\n",
       "      <td>0.020979</td>\n",
       "      <td>0.000165</td>\n",
       "      <td>5</td>\n",
       "      <td>0</td>\n",
       "      <td>0</td>\n",
       "      <td>0</td>\n",
       "      <td>0</td>\n",
       "      <td>0</td>\n",
       "      <td>1</td>\n",
       "      <td>0.272727</td>\n",
       "      <td>0.001204</td>\n",
       "      <td>0.514719</td>\n",
       "      <td>0</td>\n",
       "      <td>0</td>\n",
       "      <td>0</td>\n",
       "      <td>15</td>\n",
       "      <td>0</td>\n",
       "    </tr>\n",
       "    <tr>\n",
       "      <th>3</th>\n",
       "      <td>6</td>\n",
       "      <td>1791</td>\n",
       "      <td>92.31</td>\n",
       "      <td>8</td>\n",
       "      <td>4</td>\n",
       "      <td>4</td>\n",
       "      <td>0.016192</td>\n",
       "      <td>0.051541</td>\n",
       "      <td>0.275862</td>\n",
       "      <td>0</td>\n",
       "      <td>0</td>\n",
       "      <td>0</td>\n",
       "      <td>0</td>\n",
       "      <td>1</td>\n",
       "      <td>19.40</td>\n",
       "      <td>0</td>\n",
       "      <td>0</td>\n",
       "      <td>0</td>\n",
       "      <td>0</td>\n",
       "      <td>0</td>\n",
       "      <td>1</td>\n",
       "      <td>0.978130</td>\n",
       "      <td>0.923462</td>\n",
       "      <td>0.727273</td>\n",
       "      <td>0.4</td>\n",
       "      <td>0.8</td>\n",
       "      <td>0.002347</td>\n",
       "      <td>0.001361</td>\n",
       "      <td>0.025078</td>\n",
       "      <td>0.000132</td>\n",
       "      <td>2</td>\n",
       "      <td>0</td>\n",
       "      <td>0</td>\n",
       "      <td>1</td>\n",
       "      <td>0</td>\n",
       "      <td>0</td>\n",
       "      <td>0</td>\n",
       "      <td>0.290909</td>\n",
       "      <td>0.001877</td>\n",
       "      <td>0.903266</td>\n",
       "      <td>0</td>\n",
       "      <td>0</td>\n",
       "      <td>0</td>\n",
       "      <td>12</td>\n",
       "      <td>0</td>\n",
       "    </tr>\n",
       "    <tr>\n",
       "      <th>4</th>\n",
       "      <td>5</td>\n",
       "      <td>430</td>\n",
       "      <td>81.53</td>\n",
       "      <td>3</td>\n",
       "      <td>7</td>\n",
       "      <td>2</td>\n",
       "      <td>0.062791</td>\n",
       "      <td>0.189605</td>\n",
       "      <td>0.111111</td>\n",
       "      <td>0</td>\n",
       "      <td>0</td>\n",
       "      <td>0</td>\n",
       "      <td>0</td>\n",
       "      <td>1</td>\n",
       "      <td>5.27</td>\n",
       "      <td>0</td>\n",
       "      <td>0</td>\n",
       "      <td>0</td>\n",
       "      <td>0</td>\n",
       "      <td>1</td>\n",
       "      <td>0</td>\n",
       "      <td>0.234008</td>\n",
       "      <td>0.815608</td>\n",
       "      <td>0.272727</td>\n",
       "      <td>0.7</td>\n",
       "      <td>0.4</td>\n",
       "      <td>0.009337</td>\n",
       "      <td>0.005007</td>\n",
       "      <td>0.010101</td>\n",
       "      <td>0.000036</td>\n",
       "      <td>4</td>\n",
       "      <td>0</td>\n",
       "      <td>0</td>\n",
       "      <td>0</td>\n",
       "      <td>0</td>\n",
       "      <td>1</td>\n",
       "      <td>0</td>\n",
       "      <td>0.190909</td>\n",
       "      <td>0.003735</td>\n",
       "      <td>0.190858</td>\n",
       "      <td>0</td>\n",
       "      <td>0</td>\n",
       "      <td>0</td>\n",
       "      <td>20</td>\n",
       "      <td>0</td>\n",
       "    </tr>\n",
       "  </tbody>\n",
       "</table>\n",
       "</div>"
      ],
      "text/plain": [
       "   trustLevel  totalScanTimeInSeconds  grandTotal  lineItemVoids  \\\n",
       "0           5                    1054       54.70              7   \n",
       "1           3                     108       27.36              5   \n",
       "2           3                    1516       62.16              3   \n",
       "3           6                    1791       92.31              8   \n",
       "4           5                     430       81.53              3   \n",
       "\n",
       "   scansWithoutRegistration  quantityModifications  scannedLineItemsPerSecond  \\\n",
       "0                         0                      3                   0.027514   \n",
       "1                         2                      4                   0.129630   \n",
       "2                        10                      5                   0.008575   \n",
       "3                         4                      4                   0.016192   \n",
       "4                         7                      2                   0.062791   \n",
       "\n",
       "   valuePerSecond  lineItemVoidsPerPosition  fraud  interaction_1  \\\n",
       "0        0.051898                  0.241379      0              0   \n",
       "1        0.253333                  0.357143      0              0   \n",
       "2        0.041003                  0.230769      0              0   \n",
       "3        0.051541                  0.275862      0              0   \n",
       "4        0.189605                  0.111111      0              0   \n",
       "\n",
       "   interaction_2  interaction_3  interaction_4  average_seconds_per_item  \\\n",
       "0              0              0              1                     19.27   \n",
       "1              0              0              1                      3.95   \n",
       "2              0              0              1                     24.39   \n",
       "3              0              0              1                     19.40   \n",
       "4              0              0              1                      5.27   \n",
       "\n",
       "   trustLevel_1  trustLevel_2  trustLevel_3  trustLevel_4  trustLevel_5  \\\n",
       "0             0             0             0             0             1   \n",
       "1             0             0             1             0             0   \n",
       "2             0             0             1             0             0   \n",
       "3             0             0             0             0             0   \n",
       "4             0             0             0             0             1   \n",
       "\n",
       "   trustLevel_6  totalScanTimeInSeconds_0_1  grandTotal_0_1  \\\n",
       "0             0                    0.575178        0.547174   \n",
       "1             0                    0.057955        0.273637   \n",
       "2             0                    0.827775        0.621811   \n",
       "3             1                    0.978130        0.923462   \n",
       "4             0                    0.234008        0.815608   \n",
       "\n",
       "   lineItemVoids_0_1  scansWithoutRegistration_0_1  quantityModifications_0_1  \\\n",
       "0           0.636364                           0.0                        0.6   \n",
       "1           0.454545                           0.2                        0.8   \n",
       "2           0.272727                           1.0                        1.0   \n",
       "3           0.727273                           0.4                        0.8   \n",
       "4           0.272727                           0.7                        0.4   \n",
       "\n",
       "   scannedLineItemsPerSecond_0_1  valuePerSecond_0_1  \\\n",
       "0                       0.004045            0.001370   \n",
       "1                       0.019364            0.006689   \n",
       "2                       0.001204            0.001083   \n",
       "3                       0.002347            0.001361   \n",
       "4                       0.009337            0.005007   \n",
       "\n",
       "   lineItemVoidsPerPosition_0_1  average_seconds_per_item_01  Labels  \\\n",
       "0                      0.021944                     0.000131       0   \n",
       "1                      0.032468                     0.000027       1   \n",
       "2                      0.020979                     0.000165       5   \n",
       "3                      0.025078                     0.000132       2   \n",
       "4                      0.010101                     0.000036       4   \n",
       "\n",
       "   Labels_0  Labels_1  Labels_2  Labels_3  Labels_4  Labels_5  interaction_5  \\\n",
       "0         1         0         0         0         0         0       0.000000   \n",
       "1         0         1         0         0         0         0       0.090909   \n",
       "2         0         0         0         0         0         1       0.272727   \n",
       "3         0         0         1         0         0         0       0.290909   \n",
       "4         0         0         0         0         1         0       0.190909   \n",
       "\n",
       "   interaction_6  interaction_7  interaction_8  heredity_1  heredity_2  \\\n",
       "0       0.002427       0.314722              0           0           0   \n",
       "1       0.015491       0.015859              0           0           0   \n",
       "2       0.001204       0.514719              0           0           0   \n",
       "3       0.001877       0.903266              0           0           0   \n",
       "4       0.003735       0.190858              0           0           0   \n",
       "\n",
       "   heredity_3  interaction_9  \n",
       "0           0              0  \n",
       "1           3              0  \n",
       "2          15              0  \n",
       "3          12              0  \n",
       "4          20              0  "
      ]
     },
     "execution_count": 86,
     "metadata": {},
     "output_type": "execute_result"
    }
   ],
   "source": [
    "train.head()"
   ]
  },
  {
   "cell_type": "code",
   "execution_count": 87,
   "id": "a57384f4",
   "metadata": {},
   "outputs": [
    {
     "data": {
      "text/html": [
       "<div>\n",
       "<style scoped>\n",
       "    .dataframe tbody tr th:only-of-type {\n",
       "        vertical-align: middle;\n",
       "    }\n",
       "\n",
       "    .dataframe tbody tr th {\n",
       "        vertical-align: top;\n",
       "    }\n",
       "\n",
       "    .dataframe thead th {\n",
       "        text-align: right;\n",
       "    }\n",
       "</style>\n",
       "<table border=\"1\" class=\"dataframe\">\n",
       "  <thead>\n",
       "    <tr style=\"text-align: right;\">\n",
       "      <th></th>\n",
       "      <th>totalScanTimeInSeconds</th>\n",
       "      <th>interaction_1</th>\n",
       "      <th>interaction_4</th>\n",
       "      <th>heredity_1</th>\n",
       "      <th>interaction_9</th>\n",
       "      <th>heredity_2</th>\n",
       "      <th>interaction_5</th>\n",
       "    </tr>\n",
       "  </thead>\n",
       "  <tbody>\n",
       "    <tr>\n",
       "      <th>0</th>\n",
       "      <td>0.614537</td>\n",
       "      <td>0.0</td>\n",
       "      <td>0.0</td>\n",
       "      <td>0.0</td>\n",
       "      <td>0.0</td>\n",
       "      <td>0.0</td>\n",
       "      <td>0.127273</td>\n",
       "    </tr>\n",
       "    <tr>\n",
       "      <th>1</th>\n",
       "      <td>0.079295</td>\n",
       "      <td>0.0</td>\n",
       "      <td>1.0</td>\n",
       "      <td>0.0</td>\n",
       "      <td>0.0</td>\n",
       "      <td>0.0</td>\n",
       "      <td>0.300000</td>\n",
       "    </tr>\n",
       "    <tr>\n",
       "      <th>2</th>\n",
       "      <td>1.000000</td>\n",
       "      <td>0.0</td>\n",
       "      <td>0.0</td>\n",
       "      <td>0.0</td>\n",
       "      <td>0.0</td>\n",
       "      <td>0.0</td>\n",
       "      <td>0.290909</td>\n",
       "    </tr>\n",
       "    <tr>\n",
       "      <th>3</th>\n",
       "      <td>0.787996</td>\n",
       "      <td>0.0</td>\n",
       "      <td>1.0</td>\n",
       "      <td>0.0</td>\n",
       "      <td>0.0</td>\n",
       "      <td>0.0</td>\n",
       "      <td>0.318182</td>\n",
       "    </tr>\n",
       "    <tr>\n",
       "      <th>4</th>\n",
       "      <td>0.569934</td>\n",
       "      <td>0.0</td>\n",
       "      <td>0.0</td>\n",
       "      <td>0.0</td>\n",
       "      <td>0.0</td>\n",
       "      <td>0.0</td>\n",
       "      <td>0.136364</td>\n",
       "    </tr>\n",
       "    <tr>\n",
       "      <th>...</th>\n",
       "      <td>...</td>\n",
       "      <td>...</td>\n",
       "      <td>...</td>\n",
       "      <td>...</td>\n",
       "      <td>...</td>\n",
       "      <td>...</td>\n",
       "      <td>...</td>\n",
       "    </tr>\n",
       "    <tr>\n",
       "      <th>295</th>\n",
       "      <td>0.824339</td>\n",
       "      <td>0.0</td>\n",
       "      <td>0.0</td>\n",
       "      <td>0.0</td>\n",
       "      <td>0.0</td>\n",
       "      <td>0.0</td>\n",
       "      <td>0.018182</td>\n",
       "    </tr>\n",
       "    <tr>\n",
       "      <th>296</th>\n",
       "      <td>0.812225</td>\n",
       "      <td>0.0</td>\n",
       "      <td>1.0</td>\n",
       "      <td>0.0</td>\n",
       "      <td>0.0</td>\n",
       "      <td>0.0</td>\n",
       "      <td>0.327273</td>\n",
       "    </tr>\n",
       "    <tr>\n",
       "      <th>297</th>\n",
       "      <td>0.063326</td>\n",
       "      <td>0.0</td>\n",
       "      <td>1.0</td>\n",
       "      <td>0.0</td>\n",
       "      <td>0.0</td>\n",
       "      <td>0.0</td>\n",
       "      <td>0.181818</td>\n",
       "    </tr>\n",
       "    <tr>\n",
       "      <th>298</th>\n",
       "      <td>0.704295</td>\n",
       "      <td>0.0</td>\n",
       "      <td>1.0</td>\n",
       "      <td>0.0</td>\n",
       "      <td>0.0</td>\n",
       "      <td>0.0</td>\n",
       "      <td>0.500000</td>\n",
       "    </tr>\n",
       "    <tr>\n",
       "      <th>299</th>\n",
       "      <td>0.438326</td>\n",
       "      <td>0.0</td>\n",
       "      <td>0.0</td>\n",
       "      <td>0.0</td>\n",
       "      <td>0.0</td>\n",
       "      <td>0.0</td>\n",
       "      <td>0.000000</td>\n",
       "    </tr>\n",
       "  </tbody>\n",
       "</table>\n",
       "<p>300 rows × 7 columns</p>\n",
       "</div>"
      ],
      "text/plain": [
       "     totalScanTimeInSeconds  interaction_1  interaction_4  heredity_1  \\\n",
       "0                  0.614537            0.0            0.0         0.0   \n",
       "1                  0.079295            0.0            1.0         0.0   \n",
       "2                  1.000000            0.0            0.0         0.0   \n",
       "3                  0.787996            0.0            1.0         0.0   \n",
       "4                  0.569934            0.0            0.0         0.0   \n",
       "..                      ...            ...            ...         ...   \n",
       "295                0.824339            0.0            0.0         0.0   \n",
       "296                0.812225            0.0            1.0         0.0   \n",
       "297                0.063326            0.0            1.0         0.0   \n",
       "298                0.704295            0.0            1.0         0.0   \n",
       "299                0.438326            0.0            0.0         0.0   \n",
       "\n",
       "     interaction_9  heredity_2  interaction_5  \n",
       "0              0.0         0.0       0.127273  \n",
       "1              0.0         0.0       0.300000  \n",
       "2              0.0         0.0       0.290909  \n",
       "3              0.0         0.0       0.318182  \n",
       "4              0.0         0.0       0.136364  \n",
       "..             ...         ...            ...  \n",
       "295            0.0         0.0       0.018182  \n",
       "296            0.0         0.0       0.327273  \n",
       "297            0.0         0.0       0.181818  \n",
       "298            0.0         0.0       0.500000  \n",
       "299            0.0         0.0       0.000000  \n",
       "\n",
       "[300 rows x 7 columns]"
      ]
     },
     "execution_count": 87,
     "metadata": {},
     "output_type": "execute_result"
    }
   ],
   "source": [
    "# Defining input and target variables\n",
    "X = train[['totalScanTimeInSeconds', 'interaction_1', 'interaction_4', 'heredity_1', 'interaction_9', 'heredity_2', 'interaction_5']]\n",
    "Y = train['fraud']\n",
    "\n",
    "# Splitting the data into train, test, and validation\n",
    "X_train, X_val, Y_train, Y_val = train_test_split(X, Y, test_size = 0.2)\n",
    "X_val, X_test, Y_val, Y_test = train_test_split(X_val, Y_val, test_size = 0.2)\n",
    "\n",
    "\n",
    "# Scaling the data\n",
    "scaler = MinMaxScaler()\n",
    "X_train = scaler.fit_transform(X_train)\n",
    "X_train = pd.DataFrame(X_train, columns = X.columns)\n",
    "\n",
    "X_test = scaler.fit_transform(X_test)\n",
    "X_test = pd.DataFrame(X_test, columns = X.columns)\n",
    "\n",
    "X_val = scaler.fit_transform(X_val)\n",
    "X_val = pd.DataFrame(X_val, columns = X.columns)\n",
    "\n",
    "\n",
    "X_val"
   ]
  },
  {
   "cell_type": "code",
   "execution_count": 88,
   "id": "43fa7358",
   "metadata": {},
   "outputs": [],
   "source": [
    "# Defining top 7, 6, and 5 variables\n",
    "# Train dataset\n",
    "X_train_7 = X_train\n",
    "X_train_6 = X_train[['totalScanTimeInSeconds', 'interaction_1', 'interaction_4', 'heredity_1', 'interaction_9', 'heredity_2']]\n",
    "X_train_5 = X_train[['totalScanTimeInSeconds', 'interaction_1', 'interaction_4', 'heredity_1', 'interaction_9']]\n",
    "\n",
    "# Test dataset\n",
    "X_test_7 = X_test\n",
    "X_test_6 = X_test[['totalScanTimeInSeconds', 'interaction_1', 'interaction_4', 'heredity_1', 'interaction_9', 'heredity_2']]\n",
    "X_test_5 = X_test[['totalScanTimeInSeconds', 'interaction_1', 'interaction_4', 'heredity_1', 'interaction_9']]\n",
    "\n",
    "# Validation dataset\n",
    "X_val_7 = X_val\n",
    "X_val_6 = X_val[['totalScanTimeInSeconds', 'interaction_1', 'interaction_4', 'heredity_1', 'interaction_9', 'heredity_2']]\n",
    "X_val_5 = X_val[['totalScanTimeInSeconds', 'interaction_1', 'interaction_4', 'heredity_1', 'interaction_9']]\n"
   ]
  },
  {
   "cell_type": "markdown",
   "id": "32ce76af",
   "metadata": {},
   "source": [
    "### Random Forest Model"
   ]
  },
  {
   "cell_type": "markdown",
   "id": "7a94aeb8",
   "metadata": {},
   "source": [
    "### Fitting the model with the top 5 features"
   ]
  },
  {
   "cell_type": "code",
   "execution_count": 47,
   "id": "0a42783d",
   "metadata": {},
   "outputs": [
    {
     "data": {
      "text/plain": [
       "RandomForestClassifier(max_depth=3, min_samples_leaf=7, min_samples_split=10,\n",
       "                       n_estimators=500)"
      ]
     },
     "execution_count": 47,
     "metadata": {},
     "output_type": "execute_result"
    }
   ],
   "source": [
    "## Defining the hyper-parameters for RF\n",
    "RF_param_grid = {'n_estimators': [100, 300, 500],\n",
    "                 'min_samples_split': [10, 15], \n",
    "                 'min_samples_leaf': [5, 7], \n",
    "                 'max_depth' : [3, 5, 7]}\n",
    "\n",
    "# Defining customized scoring function\n",
    "my_score_function = make_scorer(cost_function, greater_is_better = True, needs_proba = True)\n",
    "\n",
    "# Performing GridSearch\n",
    "RF_grid_search = GridSearchCV(RandomForestClassifier(), RF_param_grid, cv = 3, scoring = my_score_function, n_jobs = -1).fit(X_train_5, Y_train)\n",
    "\n",
    "# Extracting the best model\n",
    "RF_model = RF_grid_search.best_estimator_\n",
    "RF_model"
   ]
  },
  {
   "cell_type": "code",
   "execution_count": 48,
   "id": "b7d9ab2a",
   "metadata": {
    "collapsed": true,
    "jupyter": {
     "outputs_hidden": true
    }
   },
   "outputs": [
    {
     "data": {
      "text/plain": [
       "{'mean_fit_time': array([0.35863527, 0.86803571, 1.10768716, 0.21665716, 0.64600531,\n",
       "        1.1555291 , 0.23778892, 0.65637136, 1.07568598, 0.21680331,\n",
       "        0.64102912, 1.12585537, 0.23267738, 0.70796363, 1.08664044,\n",
       "        0.22108308, 0.6766475 , 1.13175774, 0.23073657, 0.74226809,\n",
       "        1.08864148, 0.22042958, 0.66091053, 1.07916554, 0.22709672,\n",
       "        0.78834422, 1.10755777, 0.22579352, 0.65764165, 1.09369477,\n",
       "        0.22392869, 0.70219072, 1.13958526, 0.22379692, 0.65865405,\n",
       "        0.92788585]),\n",
       " 'std_fit_time': array([0.06195   , 0.04749   , 0.07055066, 0.00086038, 0.00595501,\n",
       "        0.06300926, 0.01973585, 0.006165  , 0.00600896, 0.00247938,\n",
       "        0.00633941, 0.03661542, 0.01822118, 0.03888567, 0.01698715,\n",
       "        0.00195799, 0.00560626, 0.01789966, 0.00956147, 0.03412162,\n",
       "        0.01087494, 0.00404717, 0.00612233, 0.00763909, 0.00695814,\n",
       "        0.00898224, 0.03628873, 0.0078083 , 0.00817015, 0.00914258,\n",
       "        0.00362574, 0.03823365, 0.08325399, 0.00381633, 0.00574924,\n",
       "        0.14718911]),\n",
       " 'mean_score_time': array([0.08996908, 0.12511826, 0.1551737 , 0.0831093 , 0.12172588,\n",
       "        0.2002461 , 0.08666325, 0.12043508, 0.15411925, 0.08394774,\n",
       "        0.12580236, 0.14733195, 0.08912047, 0.11970075, 0.16027101,\n",
       "        0.08518497, 0.12371651, 0.17832239, 0.08724888, 0.12042093,\n",
       "        0.15682928, 0.0848484 , 0.12239814, 0.18255242, 0.08602325,\n",
       "        0.12187688, 0.15962315, 0.08681353, 0.12246227, 0.16285197,\n",
       "        0.08549428, 0.15516289, 0.15704552, 0.08636181, 0.12085748,\n",
       "        0.10750182]),\n",
       " 'std_score_time': array([0.00638734, 0.00882938, 0.00121547, 0.0009218 , 0.00138951,\n",
       "        0.06289224, 0.00112862, 0.00017118, 0.00096971, 0.00148865,\n",
       "        0.01016822, 0.01230124, 0.00393744, 0.00041283, 0.00160233,\n",
       "        0.00212421, 0.0009821 , 0.0275343 , 0.00321779, 0.00195114,\n",
       "        0.00024987, 0.0015959 , 0.00252548, 0.0294219 , 0.00307093,\n",
       "        0.00276856, 0.00309962, 0.00141863, 0.00284464, 0.00590907,\n",
       "        0.00199163, 0.02640315, 0.00238228, 0.00185585, 0.00134104,\n",
       "        0.02928271]),\n",
       " 'param_max_depth': masked_array(data=[3, 3, 3, 3, 3, 3, 3, 3, 3, 3, 3, 3, 5, 5, 5, 5, 5, 5,\n",
       "                    5, 5, 5, 5, 5, 5, 7, 7, 7, 7, 7, 7, 7, 7, 7, 7, 7, 7],\n",
       "              mask=[False, False, False, False, False, False, False, False,\n",
       "                    False, False, False, False, False, False, False, False,\n",
       "                    False, False, False, False, False, False, False, False,\n",
       "                    False, False, False, False, False, False, False, False,\n",
       "                    False, False, False, False],\n",
       "        fill_value='?',\n",
       "             dtype=object),\n",
       " 'param_min_samples_leaf': masked_array(data=[5, 5, 5, 5, 5, 5, 7, 7, 7, 7, 7, 7, 5, 5, 5, 5, 5, 5,\n",
       "                    7, 7, 7, 7, 7, 7, 5, 5, 5, 5, 5, 5, 7, 7, 7, 7, 7, 7],\n",
       "              mask=[False, False, False, False, False, False, False, False,\n",
       "                    False, False, False, False, False, False, False, False,\n",
       "                    False, False, False, False, False, False, False, False,\n",
       "                    False, False, False, False, False, False, False, False,\n",
       "                    False, False, False, False],\n",
       "        fill_value='?',\n",
       "             dtype=object),\n",
       " 'param_min_samples_split': masked_array(data=[10, 10, 10, 15, 15, 15, 10, 10, 10, 15, 15, 15, 10, 10,\n",
       "                    10, 15, 15, 15, 10, 10, 10, 15, 15, 15, 10, 10, 10, 15,\n",
       "                    15, 15, 10, 10, 10, 15, 15, 15],\n",
       "              mask=[False, False, False, False, False, False, False, False,\n",
       "                    False, False, False, False, False, False, False, False,\n",
       "                    False, False, False, False, False, False, False, False,\n",
       "                    False, False, False, False, False, False, False, False,\n",
       "                    False, False, False, False],\n",
       "        fill_value='?',\n",
       "             dtype=object),\n",
       " 'param_n_estimators': masked_array(data=[100, 300, 500, 100, 300, 500, 100, 300, 500, 100, 300,\n",
       "                    500, 100, 300, 500, 100, 300, 500, 100, 300, 500, 100,\n",
       "                    300, 500, 100, 300, 500, 100, 300, 500, 100, 300, 500,\n",
       "                    100, 300, 500],\n",
       "              mask=[False, False, False, False, False, False, False, False,\n",
       "                    False, False, False, False, False, False, False, False,\n",
       "                    False, False, False, False, False, False, False, False,\n",
       "                    False, False, False, False, False, False, False, False,\n",
       "                    False, False, False, False],\n",
       "        fill_value='?',\n",
       "             dtype=object),\n",
       " 'params': [{'max_depth': 3,\n",
       "   'min_samples_leaf': 5,\n",
       "   'min_samples_split': 10,\n",
       "   'n_estimators': 100},\n",
       "  {'max_depth': 3,\n",
       "   'min_samples_leaf': 5,\n",
       "   'min_samples_split': 10,\n",
       "   'n_estimators': 300},\n",
       "  {'max_depth': 3,\n",
       "   'min_samples_leaf': 5,\n",
       "   'min_samples_split': 10,\n",
       "   'n_estimators': 500},\n",
       "  {'max_depth': 3,\n",
       "   'min_samples_leaf': 5,\n",
       "   'min_samples_split': 15,\n",
       "   'n_estimators': 100},\n",
       "  {'max_depth': 3,\n",
       "   'min_samples_leaf': 5,\n",
       "   'min_samples_split': 15,\n",
       "   'n_estimators': 300},\n",
       "  {'max_depth': 3,\n",
       "   'min_samples_leaf': 5,\n",
       "   'min_samples_split': 15,\n",
       "   'n_estimators': 500},\n",
       "  {'max_depth': 3,\n",
       "   'min_samples_leaf': 7,\n",
       "   'min_samples_split': 10,\n",
       "   'n_estimators': 100},\n",
       "  {'max_depth': 3,\n",
       "   'min_samples_leaf': 7,\n",
       "   'min_samples_split': 10,\n",
       "   'n_estimators': 300},\n",
       "  {'max_depth': 3,\n",
       "   'min_samples_leaf': 7,\n",
       "   'min_samples_split': 10,\n",
       "   'n_estimators': 500},\n",
       "  {'max_depth': 3,\n",
       "   'min_samples_leaf': 7,\n",
       "   'min_samples_split': 15,\n",
       "   'n_estimators': 100},\n",
       "  {'max_depth': 3,\n",
       "   'min_samples_leaf': 7,\n",
       "   'min_samples_split': 15,\n",
       "   'n_estimators': 300},\n",
       "  {'max_depth': 3,\n",
       "   'min_samples_leaf': 7,\n",
       "   'min_samples_split': 15,\n",
       "   'n_estimators': 500},\n",
       "  {'max_depth': 5,\n",
       "   'min_samples_leaf': 5,\n",
       "   'min_samples_split': 10,\n",
       "   'n_estimators': 100},\n",
       "  {'max_depth': 5,\n",
       "   'min_samples_leaf': 5,\n",
       "   'min_samples_split': 10,\n",
       "   'n_estimators': 300},\n",
       "  {'max_depth': 5,\n",
       "   'min_samples_leaf': 5,\n",
       "   'min_samples_split': 10,\n",
       "   'n_estimators': 500},\n",
       "  {'max_depth': 5,\n",
       "   'min_samples_leaf': 5,\n",
       "   'min_samples_split': 15,\n",
       "   'n_estimators': 100},\n",
       "  {'max_depth': 5,\n",
       "   'min_samples_leaf': 5,\n",
       "   'min_samples_split': 15,\n",
       "   'n_estimators': 300},\n",
       "  {'max_depth': 5,\n",
       "   'min_samples_leaf': 5,\n",
       "   'min_samples_split': 15,\n",
       "   'n_estimators': 500},\n",
       "  {'max_depth': 5,\n",
       "   'min_samples_leaf': 7,\n",
       "   'min_samples_split': 10,\n",
       "   'n_estimators': 100},\n",
       "  {'max_depth': 5,\n",
       "   'min_samples_leaf': 7,\n",
       "   'min_samples_split': 10,\n",
       "   'n_estimators': 300},\n",
       "  {'max_depth': 5,\n",
       "   'min_samples_leaf': 7,\n",
       "   'min_samples_split': 10,\n",
       "   'n_estimators': 500},\n",
       "  {'max_depth': 5,\n",
       "   'min_samples_leaf': 7,\n",
       "   'min_samples_split': 15,\n",
       "   'n_estimators': 100},\n",
       "  {'max_depth': 5,\n",
       "   'min_samples_leaf': 7,\n",
       "   'min_samples_split': 15,\n",
       "   'n_estimators': 300},\n",
       "  {'max_depth': 5,\n",
       "   'min_samples_leaf': 7,\n",
       "   'min_samples_split': 15,\n",
       "   'n_estimators': 500},\n",
       "  {'max_depth': 7,\n",
       "   'min_samples_leaf': 5,\n",
       "   'min_samples_split': 10,\n",
       "   'n_estimators': 100},\n",
       "  {'max_depth': 7,\n",
       "   'min_samples_leaf': 5,\n",
       "   'min_samples_split': 10,\n",
       "   'n_estimators': 300},\n",
       "  {'max_depth': 7,\n",
       "   'min_samples_leaf': 5,\n",
       "   'min_samples_split': 10,\n",
       "   'n_estimators': 500},\n",
       "  {'max_depth': 7,\n",
       "   'min_samples_leaf': 5,\n",
       "   'min_samples_split': 15,\n",
       "   'n_estimators': 100},\n",
       "  {'max_depth': 7,\n",
       "   'min_samples_leaf': 5,\n",
       "   'min_samples_split': 15,\n",
       "   'n_estimators': 300},\n",
       "  {'max_depth': 7,\n",
       "   'min_samples_leaf': 5,\n",
       "   'min_samples_split': 15,\n",
       "   'n_estimators': 500},\n",
       "  {'max_depth': 7,\n",
       "   'min_samples_leaf': 7,\n",
       "   'min_samples_split': 10,\n",
       "   'n_estimators': 100},\n",
       "  {'max_depth': 7,\n",
       "   'min_samples_leaf': 7,\n",
       "   'min_samples_split': 10,\n",
       "   'n_estimators': 300},\n",
       "  {'max_depth': 7,\n",
       "   'min_samples_leaf': 7,\n",
       "   'min_samples_split': 10,\n",
       "   'n_estimators': 500},\n",
       "  {'max_depth': 7,\n",
       "   'min_samples_leaf': 7,\n",
       "   'min_samples_split': 15,\n",
       "   'n_estimators': 100},\n",
       "  {'max_depth': 7,\n",
       "   'min_samples_leaf': 7,\n",
       "   'min_samples_split': 15,\n",
       "   'n_estimators': 300},\n",
       "  {'max_depth': 7,\n",
       "   'min_samples_leaf': 7,\n",
       "   'min_samples_split': 15,\n",
       "   'n_estimators': 500}],\n",
       " 'split0_test_score': array([-45., -45., -40., -40., -45., -40., -40., -45., -15., -40., -45.,\n",
       "        -45., -70., -70., -70., -70., -70., -70., -70., -70., -70., -70.,\n",
       "        -70., -70., -70., -70., -70., -70., -70., -70., -70., -70., -70.,\n",
       "        -70., -70., -70.]),\n",
       " 'split1_test_score': array([-130., -130., -130., -130., -130., -130., -130., -120., -130.,\n",
       "        -130., -130., -130., -130., -130., -130., -130., -130., -130.,\n",
       "        -130., -130., -130., -130., -130., -130., -130., -130., -130.,\n",
       "        -130., -130., -130., -130., -130., -130., -130., -130., -130.]),\n",
       " 'split2_test_score': array([-50., -40., -50., -40., -40., -40., -40., -40., -40., -40., -40.,\n",
       "        -40., -55., -55., -55., -55., -55., -55., -55., -55., -55., -50.,\n",
       "        -50., -50., -55., -55., -55., -55., -55., -55., -55., -55., -55.,\n",
       "        -50., -55., -55.]),\n",
       " 'mean_test_score': array([-75.        , -71.66666667, -73.33333333, -70.        ,\n",
       "        -71.66666667, -70.        , -70.        , -68.33333333,\n",
       "        -61.66666667, -70.        , -71.66666667, -71.66666667,\n",
       "        -85.        , -85.        , -85.        , -85.        ,\n",
       "        -85.        , -85.        , -85.        , -85.        ,\n",
       "        -85.        , -83.33333333, -83.33333333, -83.33333333,\n",
       "        -85.        , -85.        , -85.        , -85.        ,\n",
       "        -85.        , -85.        , -85.        , -85.        ,\n",
       "        -85.        , -83.33333333, -85.        , -85.        ]),\n",
       " 'std_test_score': array([38.94440482, 41.29837231, 40.27681991, 42.42640687, 41.29837231,\n",
       "        42.42640687, 42.42640687, 36.59083067, 49.38510797, 42.42640687,\n",
       "        41.29837231, 41.29837231, 32.40370349, 32.40370349, 32.40370349,\n",
       "        32.40370349, 32.40370349, 32.40370349, 32.40370349, 32.40370349,\n",
       "        32.40370349, 33.99346342, 33.99346342, 33.99346342, 32.40370349,\n",
       "        32.40370349, 32.40370349, 32.40370349, 32.40370349, 32.40370349,\n",
       "        32.40370349, 32.40370349, 32.40370349, 33.99346342, 32.40370349,\n",
       "        32.40370349]),\n",
       " 'rank_test_score': array([12,  7, 11,  3,  7,  3,  3,  2,  1,  3,  7,  7, 17, 17, 17, 17, 17,\n",
       "        17, 17, 17, 17, 13, 13, 13, 17, 17, 17, 17, 17, 17, 17, 17, 17, 13,\n",
       "        17, 17], dtype=int32)}"
      ]
     },
     "execution_count": 48,
     "metadata": {},
     "output_type": "execute_result"
    }
   ],
   "source": [
    "RF_grid_search.cv_results_"
   ]
  },
  {
   "cell_type": "markdown",
   "id": "ca2c310e",
   "metadata": {},
   "source": [
    "### Score"
   ]
  },
  {
   "cell_type": "code",
   "execution_count": 49,
   "id": "3eb735a1",
   "metadata": {},
   "outputs": [
    {
     "data": {
      "text/plain": [
       "-75.0"
      ]
     },
     "execution_count": 49,
     "metadata": {},
     "output_type": "execute_result"
    }
   ],
   "source": [
    "score = RF_grid_search.cv_results_\n",
    "score['mean_test_score'][0]"
   ]
  },
  {
   "cell_type": "markdown",
   "id": "e4a9cc41",
   "metadata": {},
   "source": [
    "### Fitting the model with the top 6 features"
   ]
  },
  {
   "cell_type": "code",
   "execution_count": 50,
   "id": "db6fbc32",
   "metadata": {},
   "outputs": [
    {
     "data": {
      "text/plain": [
       "RandomForestClassifier(max_depth=3, min_samples_leaf=7, min_samples_split=15,\n",
       "                       n_estimators=300)"
      ]
     },
     "execution_count": 50,
     "metadata": {},
     "output_type": "execute_result"
    }
   ],
   "source": [
    "# Defining customized scoring function\n",
    "my_score_function = make_scorer(cost_function, greater_is_better = True, needs_proba = True)\n",
    "\n",
    "# Performing GridSearch\n",
    "RF_grid_search = GridSearchCV(RandomForestClassifier(), RF_param_grid, cv = 3, scoring = my_score_function, n_jobs = -1).fit(X_train_6, Y_train)\n",
    "\n",
    "# Extracting the best model\n",
    "RF_model = RF_grid_search.best_estimator_\n",
    "RF_model"
   ]
  },
  {
   "cell_type": "markdown",
   "id": "afbc0e9d",
   "metadata": {},
   "source": [
    "### Score"
   ]
  },
  {
   "cell_type": "code",
   "execution_count": 51,
   "id": "0aad5ef9",
   "metadata": {},
   "outputs": [
    {
     "data": {
      "text/plain": [
       "-75.0"
      ]
     },
     "execution_count": 51,
     "metadata": {},
     "output_type": "execute_result"
    }
   ],
   "source": [
    "score = RF_grid_search.cv_results_\n",
    "score['mean_test_score'][0]"
   ]
  },
  {
   "cell_type": "markdown",
   "id": "b2ab8169",
   "metadata": {},
   "source": [
    "### Fitting the model with the top 7 features"
   ]
  },
  {
   "cell_type": "code",
   "execution_count": 52,
   "id": "596fb49d",
   "metadata": {},
   "outputs": [
    {
     "data": {
      "text/plain": [
       "RandomForestClassifier(max_depth=3, min_samples_leaf=5, min_samples_split=15,\n",
       "                       n_estimators=500)"
      ]
     },
     "execution_count": 52,
     "metadata": {},
     "output_type": "execute_result"
    }
   ],
   "source": [
    "# Defining customized scoring function\n",
    "my_score_function = make_scorer(cost_function, greater_is_better = True, needs_proba = True)\n",
    "\n",
    "# Performing GridSearch\n",
    "RF_grid_search = GridSearchCV(RandomForestClassifier(), RF_param_grid, cv = 3, scoring = my_score_function, n_jobs = -1).fit(X_train_7, Y_train)\n",
    "\n",
    "# Extracting the best model\n",
    "RF_model = RF_grid_search.best_estimator_\n",
    "RF_model"
   ]
  },
  {
   "cell_type": "markdown",
   "id": "716a6270",
   "metadata": {},
   "source": [
    "### Score"
   ]
  },
  {
   "cell_type": "code",
   "execution_count": 53,
   "id": "3ef0ba1d",
   "metadata": {},
   "outputs": [
    {
     "data": {
      "text/plain": [
       "-78.33333333333333"
      ]
     },
     "execution_count": 53,
     "metadata": {},
     "output_type": "execute_result"
    }
   ],
   "source": [
    "score = RF_grid_search.cv_results_\n",
    "score['mean_test_score'][0]"
   ]
  },
  {
   "cell_type": "markdown",
   "id": "8fc2fe77",
   "metadata": {},
   "source": [
    "## From above three scenarios, the best model is the following:\n",
    "#### RandomForestClassifier(max_depth=3, min_samples_leaf=7, min_samples_split=10, n_estimators=500) with the top 5 features."
   ]
  },
  {
   "cell_type": "markdown",
   "id": "22a3af56",
   "metadata": {},
   "source": [
    "### Support Vector Machine"
   ]
  },
  {
   "cell_type": "markdown",
   "id": "884907c7",
   "metadata": {},
   "source": [
    "### Fitting the model with the top 5 features"
   ]
  },
  {
   "cell_type": "code",
   "execution_count": 59,
   "id": "3decd150",
   "metadata": {},
   "outputs": [
    {
     "data": {
      "text/plain": [
       "SVC(C=0.01, gamma=0.1, kernel='sigmoid', probability=True)"
      ]
     },
     "execution_count": 59,
     "metadata": {},
     "output_type": "execute_result"
    }
   ],
   "source": [
    "## Defining the hyper-parameters for svc\n",
    "svc_param_grid = {'kernel': ['rbf', 'poly', 'sigmoid'], \n",
    "                  'C': [0.01, 0.1, 1, 10],\n",
    "                  'gamma': [0.001, 0.01, 0.1, 1]}\n",
    "\n",
    "# Defining customized scoring function\n",
    "my_score_function = make_scorer(cost_function, greater_is_better = True, needs_proba = True)\n",
    "\n",
    "svc_grid_search = GridSearchCV(SVC(probability = True), svc_param_grid, cv = 3, scoring = my_score_function, n_jobs = -1).fit(X_train_5, Y_train)\n",
    "\n",
    "# Extracting the best model\n",
    "svc_md = svc_grid_search.best_estimator_\n",
    "svc_md"
   ]
  },
  {
   "cell_type": "markdown",
   "id": "e44294e9",
   "metadata": {},
   "source": [
    "### Score"
   ]
  },
  {
   "cell_type": "code",
   "execution_count": 60,
   "id": "80da1692",
   "metadata": {},
   "outputs": [
    {
     "data": {
      "text/plain": [
       "-63.333333333333336"
      ]
     },
     "execution_count": 60,
     "metadata": {},
     "output_type": "execute_result"
    }
   ],
   "source": [
    "score = svc_grid_search.cv_results_\n",
    "score['mean_test_score'][0]"
   ]
  },
  {
   "cell_type": "markdown",
   "id": "5b4a539a",
   "metadata": {},
   "source": [
    "### Fitting the model with the top 6 features"
   ]
  },
  {
   "cell_type": "code",
   "execution_count": 61,
   "id": "96fe7d38",
   "metadata": {},
   "outputs": [
    {
     "data": {
      "text/plain": [
       "SVC(C=0.1, gamma=1, kernel='poly', probability=True)"
      ]
     },
     "execution_count": 61,
     "metadata": {},
     "output_type": "execute_result"
    }
   ],
   "source": [
    "svc_grid_search = GridSearchCV(SVC(probability = True), svc_param_grid, cv = 3, scoring = my_score_function, n_jobs = -1).fit(X_train_6, Y_train)\n",
    "\n",
    "# Extracting the best model\n",
    "svc_md = svc_grid_search.best_estimator_\n",
    "svc_md"
   ]
  },
  {
   "cell_type": "markdown",
   "id": "07252b38",
   "metadata": {},
   "source": [
    "### Score"
   ]
  },
  {
   "cell_type": "code",
   "execution_count": 62,
   "id": "9187ea19",
   "metadata": {},
   "outputs": [
    {
     "data": {
      "text/plain": [
       "-83.33333333333333"
      ]
     },
     "execution_count": 62,
     "metadata": {},
     "output_type": "execute_result"
    }
   ],
   "source": [
    "score = svc_grid_search.cv_results_\n",
    "score['mean_test_score'][0]"
   ]
  },
  {
   "cell_type": "markdown",
   "id": "6a475270",
   "metadata": {},
   "source": [
    "### Fitting the model with the top 7 features"
   ]
  },
  {
   "cell_type": "code",
   "execution_count": 63,
   "id": "95cf3266",
   "metadata": {},
   "outputs": [
    {
     "data": {
      "text/plain": [
       "SVC(C=0.01, gamma=1, probability=True)"
      ]
     },
     "execution_count": 63,
     "metadata": {},
     "output_type": "execute_result"
    }
   ],
   "source": [
    "svc_grid_search = GridSearchCV(SVC(probability = True), svc_param_grid, cv = 3, scoring = my_score_function, n_jobs = -1).fit(X_train_7, Y_train)\n",
    "\n",
    "# Extracting the best model\n",
    "svc_md = svc_grid_search.best_estimator_\n",
    "svc_md"
   ]
  },
  {
   "cell_type": "markdown",
   "id": "3ffe0906",
   "metadata": {},
   "source": [
    "### Score"
   ]
  },
  {
   "cell_type": "code",
   "execution_count": 64,
   "id": "a85ecf75",
   "metadata": {},
   "outputs": [
    {
     "data": {
      "text/plain": [
       "-65.0"
      ]
     },
     "execution_count": 64,
     "metadata": {},
     "output_type": "execute_result"
    }
   ],
   "source": [
    "score = svc_grid_search.cv_results_\n",
    "score['mean_test_score'][0]"
   ]
  },
  {
   "cell_type": "markdown",
   "id": "0e205dc7",
   "metadata": {},
   "source": [
    "## From above three scenarios, the best model is the following:\n",
    "#### SVC(C=0.01, gamma=0.1, kernel='sigmoid', probability=True) with the top 5 features."
   ]
  },
  {
   "cell_type": "markdown",
   "id": "2896fa86",
   "metadata": {},
   "source": [
    "### AdaBoost"
   ]
  },
  {
   "cell_type": "markdown",
   "id": "e0291c12",
   "metadata": {},
   "source": [
    "### Fitting the model with the top 5 features"
   ]
  },
  {
   "cell_type": "code",
   "execution_count": 65,
   "id": "21a6f2ae",
   "metadata": {},
   "outputs": [
    {
     "data": {
      "text/plain": [
       "AdaBoostClassifier(base_estimator=DecisionTreeClassifier(max_depth=3,\n",
       "                                                         min_samples_leaf=5,\n",
       "                                                         min_samples_split=10),\n",
       "                   learning_rate=0.01, n_estimators=300)"
      ]
     },
     "execution_count": 65,
     "metadata": {},
     "output_type": "execute_result"
    }
   ],
   "source": [
    "## Defining the hyper-parameters for RF\n",
    "Ada_param_grid = {'n_estimators': [100, 300, 500],\n",
    "                 'base_estimator__min_samples_split': [10, 15], \n",
    "                 'base_estimator__min_samples_leaf': [5, 7], \n",
    "                 'base_estimator__max_depth' : [3, 5, 7],\n",
    "                 'learning_rate': [0.001, 0.01, 0.1]}\n",
    "\n",
    "## Running grid search with 3 fold\n",
    "Ada_grid_search = GridSearchCV(AdaBoostClassifier(base_estimator = DecisionTreeClassifier()), Ada_param_grid, cv = 3, scoring = my_score_function, n_jobs = -1).fit(X_train_5, Y_train)\n",
    "\n",
    "# Extracting the best model\n",
    "ada_md = Ada_grid_search.best_estimator_\n",
    "ada_md"
   ]
  },
  {
   "cell_type": "markdown",
   "id": "de4bfe51",
   "metadata": {},
   "source": [
    "### Score"
   ]
  },
  {
   "cell_type": "code",
   "execution_count": 66,
   "id": "54b1e94f",
   "metadata": {},
   "outputs": [
    {
     "data": {
      "text/plain": [
       "-121.66666666666667"
      ]
     },
     "execution_count": 66,
     "metadata": {},
     "output_type": "execute_result"
    }
   ],
   "source": [
    "score = Ada_grid_search.cv_results_\n",
    "score['mean_test_score'][0]"
   ]
  },
  {
   "cell_type": "markdown",
   "id": "65d7584e",
   "metadata": {},
   "source": [
    "### Fitting the model with the top 6 features"
   ]
  },
  {
   "cell_type": "code",
   "execution_count": 67,
   "id": "c606fa9a",
   "metadata": {},
   "outputs": [
    {
     "data": {
      "text/plain": [
       "AdaBoostClassifier(base_estimator=DecisionTreeClassifier(max_depth=3,\n",
       "                                                         min_samples_leaf=5,\n",
       "                                                         min_samples_split=15),\n",
       "                   learning_rate=0.01, n_estimators=300)"
      ]
     },
     "execution_count": 67,
     "metadata": {},
     "output_type": "execute_result"
    }
   ],
   "source": [
    "## Running grid search with 3 fold\n",
    "Ada_grid_search = GridSearchCV(AdaBoostClassifier(base_estimator = DecisionTreeClassifier()), Ada_param_grid, cv = 3, scoring = my_score_function, n_jobs = -1).fit(X_train_6, Y_train)\n",
    "\n",
    "# Extracting the best model\n",
    "ada_md = Ada_grid_search.best_estimator_\n",
    "ada_md"
   ]
  },
  {
   "cell_type": "markdown",
   "id": "a5d29d66",
   "metadata": {},
   "source": [
    "### Score"
   ]
  },
  {
   "cell_type": "code",
   "execution_count": 68,
   "id": "073e482f",
   "metadata": {},
   "outputs": [
    {
     "data": {
      "text/plain": [
       "-118.33333333333333"
      ]
     },
     "execution_count": 68,
     "metadata": {},
     "output_type": "execute_result"
    }
   ],
   "source": [
    "score = Ada_grid_search.cv_results_\n",
    "score['mean_test_score'][0]"
   ]
  },
  {
   "cell_type": "markdown",
   "id": "e749a530",
   "metadata": {},
   "source": [
    "### Fitting the model with the top 7 features"
   ]
  },
  {
   "cell_type": "code",
   "execution_count": 69,
   "id": "45fa1080",
   "metadata": {},
   "outputs": [
    {
     "data": {
      "text/plain": [
       "AdaBoostClassifier(base_estimator=DecisionTreeClassifier(max_depth=3,\n",
       "                                                         min_samples_leaf=5,\n",
       "                                                         min_samples_split=10),\n",
       "                   learning_rate=0.01, n_estimators=300)"
      ]
     },
     "execution_count": 69,
     "metadata": {},
     "output_type": "execute_result"
    }
   ],
   "source": [
    "## Running grid search with 3 fold\n",
    "Ada_grid_search = GridSearchCV(AdaBoostClassifier(base_estimator = DecisionTreeClassifier()), Ada_param_grid, cv = 3, scoring = my_score_function, n_jobs = -1).fit(X_train_7, Y_train)\n",
    "\n",
    "# Extracting the best model\n",
    "ada_md = Ada_grid_search.best_estimator_\n",
    "ada_md"
   ]
  },
  {
   "cell_type": "markdown",
   "id": "989632ab",
   "metadata": {},
   "source": [
    "### Score"
   ]
  },
  {
   "cell_type": "code",
   "execution_count": 71,
   "id": "4b23ff92",
   "metadata": {},
   "outputs": [
    {
     "data": {
      "text/plain": [
       "-106.66666666666667"
      ]
     },
     "execution_count": 71,
     "metadata": {},
     "output_type": "execute_result"
    }
   ],
   "source": [
    "score = Ada_grid_search.cv_results_\n",
    "score['mean_test_score'][0]"
   ]
  },
  {
   "cell_type": "markdown",
   "id": "a787050a",
   "metadata": {},
   "source": [
    "## From above three scenarios, the best model is the following:\n",
    "#### AdaBoostClassifier(base_estimator=DecisionTreeClassifier(max_depth=3, min_samples_leaf=5, min_samples_split=10), learning_rate=0.01, n_estimators=300) with the top 7 features."
   ]
  },
  {
   "cell_type": "markdown",
   "id": "e03c83cc",
   "metadata": {},
   "source": [
    "## From above models, the best model so far is the following:\n",
    "#### SVC(C=0.01, gamma=0.1, kernel='sigmoid', probability=True) with the top 5 features."
   ]
  },
  {
   "cell_type": "code",
   "execution_count": null,
   "id": "a5a896ad",
   "metadata": {},
   "outputs": [],
   "source": []
  },
  {
   "cell_type": "markdown",
   "id": "a22a838a",
   "metadata": {},
   "source": [
    "### Fitting the model with the top 5 features"
   ]
  },
  {
   "cell_type": "code",
   "execution_count": 89,
   "id": "83f02eaa",
   "metadata": {},
   "outputs": [
    {
     "data": {
      "text/plain": [
       "XGBClassifier(base_score=0.5, booster='gbtree', colsample_bylevel=1,\n",
       "              colsample_bynode=1, colsample_bytree=1, enable_categorical=False,\n",
       "              eval_metric='logloss', gamma=0.3, gpu_id=-1, importance_type=None,\n",
       "              interaction_constraints='', learning_rate=0.01, max_delta_step=0,\n",
       "              max_depth=5, min_child_weight=5, missing=nan,\n",
       "              monotone_constraints='()', n_estimators=500, n_jobs=4,\n",
       "              num_parallel_tree=1, predictor='auto', random_state=0,\n",
       "              reg_alpha=0, reg_lambda=1, scale_pos_weight=1, subsample=0.8,\n",
       "              tree_method='exact', use_label_encoder=False,\n",
       "              validate_parameters=1, verbosity=None)"
      ]
     },
     "execution_count": 89,
     "metadata": {},
     "output_type": "execute_result"
    }
   ],
   "source": [
    "from xgboost import XGBClassifier\n",
    "## Defining the hyper-parameters for RF\n",
    "XGBoost_param_grid = {'n_estimators': [500],\n",
    "                        'max_depth': [3, 5, 7],\n",
    "                        'min_child_weight': [5, 7],\n",
    "                        'learning_rate': [0.01],\n",
    "                        'gamma': [0.3, 0.1],\n",
    "                        'subsample': [0.8, 1],\n",
    "                        'colsample_bytree': [1]}\n",
    "\n",
    "# Defining customized scoring function\n",
    "my_score_function = make_scorer(cost_function, greater_is_better = True, needs_proba = True)\n",
    "\n",
    "# Performing GridSearch\n",
    "XGBoost_grid_search = GridSearchCV(XGBClassifier(use_label_encoder = False, eval_metric = 'logloss'), XGBoost_param_grid, cv = 3, scoring = my_score_function, n_jobs = -1).fit(X_train_5, Y_train)\n",
    "\n",
    "# Extracting the best model\n",
    "XGBoost_model = XGBoost_grid_search.best_estimator_\n",
    "XGBoost_model"
   ]
  },
  {
   "cell_type": "markdown",
   "id": "fca3524e",
   "metadata": {},
   "source": [
    " "
   ]
  },
  {
   "cell_type": "markdown",
   "id": "550a9cf8",
   "metadata": {},
   "source": [
    "### Score"
   ]
  },
  {
   "cell_type": "code",
   "execution_count": 90,
   "id": "1e777bd0",
   "metadata": {},
   "outputs": [
    {
     "data": {
      "text/plain": [
       "-80.0"
      ]
     },
     "execution_count": 90,
     "metadata": {},
     "output_type": "execute_result"
    }
   ],
   "source": [
    "score = XGBoost_grid_search.cv_results_\n",
    "score['mean_test_score'][0]"
   ]
  },
  {
   "cell_type": "markdown",
   "id": "fef08f5d",
   "metadata": {},
   "source": [
    "### Fitting the model with the top 6 features"
   ]
  },
  {
   "cell_type": "code",
   "execution_count": 91,
   "id": "750abd72",
   "metadata": {},
   "outputs": [
    {
     "data": {
      "text/plain": [
       "XGBClassifier(base_score=0.5, booster='gbtree', colsample_bylevel=1,\n",
       "              colsample_bynode=1, colsample_bytree=1, enable_categorical=False,\n",
       "              eval_metric='logloss', gamma=0.3, gpu_id=-1, importance_type=None,\n",
       "              interaction_constraints='', learning_rate=0.01, max_delta_step=0,\n",
       "              max_depth=3, min_child_weight=7, missing=nan,\n",
       "              monotone_constraints='()', n_estimators=500, n_jobs=4,\n",
       "              num_parallel_tree=1, predictor='auto', random_state=0,\n",
       "              reg_alpha=0, reg_lambda=1, scale_pos_weight=1, subsample=0.8,\n",
       "              tree_method='exact', use_label_encoder=False,\n",
       "              validate_parameters=1, verbosity=None)"
      ]
     },
     "execution_count": 91,
     "metadata": {},
     "output_type": "execute_result"
    }
   ],
   "source": [
    "# Defining customized scoring function\n",
    "my_score_function = make_scorer(cost_function, greater_is_better = True, needs_proba = True)\n",
    "\n",
    "# Performing GridSearch\n",
    "XGBoost_grid_search = GridSearchCV(XGBClassifier(use_label_encoder = False, eval_metric = 'logloss'), XGBoost_param_grid, cv = 3, scoring = my_score_function, n_jobs = -1).fit(X_train_6, Y_train)\n",
    "\n",
    "# Extracting the best model\n",
    "XGBoost_model = XGBoost_grid_search.best_estimator_\n",
    "XGBoost_model"
   ]
  },
  {
   "cell_type": "markdown",
   "id": "19f16c02",
   "metadata": {},
   "source": [
    "### Score"
   ]
  },
  {
   "cell_type": "code",
   "execution_count": 92,
   "id": "98f0a355",
   "metadata": {},
   "outputs": [
    {
     "data": {
      "text/plain": [
       "-75.0"
      ]
     },
     "execution_count": 92,
     "metadata": {},
     "output_type": "execute_result"
    }
   ],
   "source": [
    "score = XGBoost_grid_search.cv_results_\n",
    "score['mean_test_score'][0]"
   ]
  },
  {
   "cell_type": "markdown",
   "id": "425c4ce8",
   "metadata": {},
   "source": [
    "### Fitting the model with the top 7 features"
   ]
  },
  {
   "cell_type": "code",
   "execution_count": null,
   "id": "6a6dbdcd",
   "metadata": {},
   "outputs": [],
   "source": [
    "# Defining customized scoring function\n",
    "my_score_function = make_scorer(cost_function, greater_is_better = True, needs_proba = True)\n",
    "\n",
    "# Performing GridSearch\n",
    "XGBoost_grid_search = GridSearchCV(XGBClassifier(use_label_encoder = False, eval_metric = 'logloss'), XGBoost_param_grid, cv = 3, scoring = my_score_function, n_jobs = -1).fit(X_train_7, Y_train)\n",
    "\n",
    "# Extracting the best model\n",
    "XGBoost_model = XGBoost_grid_search.best_estimator_\n",
    "XGBoost_model"
   ]
  },
  {
   "cell_type": "markdown",
   "id": "6360fc2c",
   "metadata": {},
   "source": [
    "### Score"
   ]
  },
  {
   "cell_type": "code",
   "execution_count": null,
   "id": "5091942c",
   "metadata": {},
   "outputs": [],
   "source": [
    "score = XGBoost_grid_search.cv_results_\n",
    "score['mean_test_score'][0]"
   ]
  },
  {
   "cell_type": "code",
   "execution_count": null,
   "id": "280cb793",
   "metadata": {},
   "outputs": [],
   "source": []
  }
 ],
 "metadata": {
  "kernelspec": {
   "display_name": "conda_python3",
   "language": "python",
   "name": "conda_python3"
  },
  "language_info": {
   "codemirror_mode": {
    "name": "ipython",
    "version": 3
   },
   "file_extension": ".py",
   "mimetype": "text/x-python",
   "name": "python",
   "nbconvert_exporter": "python",
   "pygments_lexer": "ipython3",
   "version": "3.6.13"
  }
 },
 "nbformat": 4,
 "nbformat_minor": 5
}
