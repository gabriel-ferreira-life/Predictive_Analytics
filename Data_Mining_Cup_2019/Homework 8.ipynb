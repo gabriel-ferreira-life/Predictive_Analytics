{
 "cells": [
  {
   "cell_type": "code",
   "execution_count": 1,
   "id": "dbc730f2",
   "metadata": {},
   "outputs": [
    {
     "name": "stdout",
     "output_type": "stream",
     "text": [
      "Requirement already satisfied: XGBoost in /home/ec2-user/anaconda3/envs/python3/lib/python3.6/site-packages (1.5.2)\n",
      "Requirement already satisfied: numpy in /home/ec2-user/anaconda3/envs/python3/lib/python3.6/site-packages (from XGBoost) (1.19.5)\n",
      "Requirement already satisfied: scipy in /home/ec2-user/anaconda3/envs/python3/lib/python3.6/site-packages (from XGBoost) (1.5.3)\n",
      "Note: you may need to restart the kernel to use updated packages.\n"
     ]
    }
   ],
   "source": [
    "pip install XGBoost"
   ]
  },
  {
   "cell_type": "code",
   "execution_count": 2,
   "id": "dd6ebb5b",
   "metadata": {},
   "outputs": [
    {
     "data": {
      "text/plain": [
       "(498121, 44)"
      ]
     },
     "execution_count": 2,
     "metadata": {},
     "output_type": "execute_result"
    }
   ],
   "source": [
    "import boto3\n",
    "import pandas as pd; pd.set_option('display.max_columns', 50)\n",
    "import matplotlib.pyplot as plt\n",
    "import numpy as np\n",
    "import seaborn as sns\n",
    "import precision_recall_cutoff\n",
    "import Ensemble\n",
    "from xgboost import XGBClassifier\n",
    "from cost_function import cost_function, cost_function_cutoff\n",
    "from sklearn.preprocessing import MinMaxScaler\n",
    "from scipy.stats import boxcox\n",
    "from sklearn.svm import SVC\n",
    "from sklearn.model_selection import train_test_split\n",
    "from sklearn.ensemble import RandomForestClassifier, AdaBoostClassifier\n",
    "from sklearn.metrics import confusion_matrix, classification_report\n",
    "from sklearn.multiclass import OneVsRestClassifier\n",
    "from sklearn.tree import DecisionTreeClassifier, plot_tree\n",
    "from sklearn.metrics import confusion_matrix, classification_report, make_scorer\n",
    "from sklearn.model_selection import train_test_split, GridSearchCV, RandomizedSearchCV\n",
    "\n",
    "\n",
    "# Reading the csv file\n",
    "train = pd.read_csv('train_dataset.csv')\n",
    "\n",
    "# Defining the file to be read from s3 bucket\n",
    "test = pd.read_csv('test_dataset.csv')\n",
    "test = test.dropna()\n",
    "test.shape"
   ]
  },
  {
   "cell_type": "code",
   "execution_count": 3,
   "id": "fa030868",
   "metadata": {},
   "outputs": [
    {
     "data": {
      "text/plain": [
       "(1879, 45)"
      ]
     },
     "execution_count": 3,
     "metadata": {},
     "output_type": "execute_result"
    }
   ],
   "source": [
    "train.shape"
   ]
  },
  {
   "cell_type": "code",
   "execution_count": 4,
   "id": "d3195f8c",
   "metadata": {},
   "outputs": [
    {
     "data": {
      "text/html": [
       "<div>\n",
       "<style scoped>\n",
       "    .dataframe tbody tr th:only-of-type {\n",
       "        vertical-align: middle;\n",
       "    }\n",
       "\n",
       "    .dataframe tbody tr th {\n",
       "        vertical-align: top;\n",
       "    }\n",
       "\n",
       "    .dataframe thead th {\n",
       "        text-align: right;\n",
       "    }\n",
       "</style>\n",
       "<table border=\"1\" class=\"dataframe\">\n",
       "  <thead>\n",
       "    <tr style=\"text-align: right;\">\n",
       "      <th></th>\n",
       "      <th>totalScanTimeInSeconds</th>\n",
       "      <th>interaction_1</th>\n",
       "      <th>interaction_4</th>\n",
       "      <th>heredity_1</th>\n",
       "      <th>interaction_9</th>\n",
       "      <th>heredity_2</th>\n",
       "      <th>interaction_5</th>\n",
       "    </tr>\n",
       "  </thead>\n",
       "  <tbody>\n",
       "    <tr>\n",
       "      <th>0</th>\n",
       "      <td>0.472070</td>\n",
       "      <td>0.0</td>\n",
       "      <td>0.0</td>\n",
       "      <td>0.0</td>\n",
       "      <td>0.0</td>\n",
       "      <td>0.0</td>\n",
       "      <td>0.818182</td>\n",
       "    </tr>\n",
       "    <tr>\n",
       "      <th>1</th>\n",
       "      <td>0.104600</td>\n",
       "      <td>1.0</td>\n",
       "      <td>0.0</td>\n",
       "      <td>1.0</td>\n",
       "      <td>1.0</td>\n",
       "      <td>0.2</td>\n",
       "      <td>0.254545</td>\n",
       "    </tr>\n",
       "    <tr>\n",
       "      <th>2</th>\n",
       "      <td>0.848302</td>\n",
       "      <td>0.0</td>\n",
       "      <td>1.0</td>\n",
       "      <td>0.0</td>\n",
       "      <td>0.0</td>\n",
       "      <td>0.0</td>\n",
       "      <td>0.000000</td>\n",
       "    </tr>\n",
       "    <tr>\n",
       "      <th>3</th>\n",
       "      <td>0.317087</td>\n",
       "      <td>0.0</td>\n",
       "      <td>1.0</td>\n",
       "      <td>0.0</td>\n",
       "      <td>0.0</td>\n",
       "      <td>0.0</td>\n",
       "      <td>0.654545</td>\n",
       "    </tr>\n",
       "    <tr>\n",
       "      <th>4</th>\n",
       "      <td>0.066265</td>\n",
       "      <td>0.0</td>\n",
       "      <td>0.0</td>\n",
       "      <td>0.0</td>\n",
       "      <td>0.0</td>\n",
       "      <td>0.0</td>\n",
       "      <td>0.272727</td>\n",
       "    </tr>\n",
       "    <tr>\n",
       "      <th>...</th>\n",
       "      <td>...</td>\n",
       "      <td>...</td>\n",
       "      <td>...</td>\n",
       "      <td>...</td>\n",
       "      <td>...</td>\n",
       "      <td>...</td>\n",
       "      <td>...</td>\n",
       "    </tr>\n",
       "    <tr>\n",
       "      <th>371</th>\n",
       "      <td>0.026287</td>\n",
       "      <td>0.0</td>\n",
       "      <td>1.0</td>\n",
       "      <td>0.0</td>\n",
       "      <td>0.0</td>\n",
       "      <td>0.0</td>\n",
       "      <td>0.436364</td>\n",
       "    </tr>\n",
       "    <tr>\n",
       "      <th>372</th>\n",
       "      <td>0.640197</td>\n",
       "      <td>0.0</td>\n",
       "      <td>0.0</td>\n",
       "      <td>0.0</td>\n",
       "      <td>0.0</td>\n",
       "      <td>0.0</td>\n",
       "      <td>0.000000</td>\n",
       "    </tr>\n",
       "    <tr>\n",
       "      <th>373</th>\n",
       "      <td>0.833516</td>\n",
       "      <td>0.0</td>\n",
       "      <td>0.0</td>\n",
       "      <td>0.0</td>\n",
       "      <td>0.0</td>\n",
       "      <td>0.0</td>\n",
       "      <td>0.000000</td>\n",
       "    </tr>\n",
       "    <tr>\n",
       "      <th>374</th>\n",
       "      <td>0.834611</td>\n",
       "      <td>0.0</td>\n",
       "      <td>1.0</td>\n",
       "      <td>0.0</td>\n",
       "      <td>0.0</td>\n",
       "      <td>0.0</td>\n",
       "      <td>0.045455</td>\n",
       "    </tr>\n",
       "    <tr>\n",
       "      <th>375</th>\n",
       "      <td>0.416210</td>\n",
       "      <td>0.0</td>\n",
       "      <td>1.0</td>\n",
       "      <td>0.0</td>\n",
       "      <td>0.0</td>\n",
       "      <td>0.0</td>\n",
       "      <td>0.200000</td>\n",
       "    </tr>\n",
       "  </tbody>\n",
       "</table>\n",
       "<p>376 rows × 7 columns</p>\n",
       "</div>"
      ],
      "text/plain": [
       "     totalScanTimeInSeconds  interaction_1  interaction_4  heredity_1  \\\n",
       "0                  0.472070            0.0            0.0         0.0   \n",
       "1                  0.104600            1.0            0.0         1.0   \n",
       "2                  0.848302            0.0            1.0         0.0   \n",
       "3                  0.317087            0.0            1.0         0.0   \n",
       "4                  0.066265            0.0            0.0         0.0   \n",
       "..                      ...            ...            ...         ...   \n",
       "371                0.026287            0.0            1.0         0.0   \n",
       "372                0.640197            0.0            0.0         0.0   \n",
       "373                0.833516            0.0            0.0         0.0   \n",
       "374                0.834611            0.0            1.0         0.0   \n",
       "375                0.416210            0.0            1.0         0.0   \n",
       "\n",
       "     interaction_9  heredity_2  interaction_5  \n",
       "0              0.0         0.0       0.818182  \n",
       "1              1.0         0.2       0.254545  \n",
       "2              0.0         0.0       0.000000  \n",
       "3              0.0         0.0       0.654545  \n",
       "4              0.0         0.0       0.272727  \n",
       "..             ...         ...            ...  \n",
       "371            0.0         0.0       0.436364  \n",
       "372            0.0         0.0       0.000000  \n",
       "373            0.0         0.0       0.000000  \n",
       "374            0.0         0.0       0.045455  \n",
       "375            0.0         0.0       0.200000  \n",
       "\n",
       "[376 rows x 7 columns]"
      ]
     },
     "execution_count": 4,
     "metadata": {},
     "output_type": "execute_result"
    }
   ],
   "source": [
    "# Defining input and target variables\n",
    "test = test[['totalScanTimeInSeconds', 'interaction_1', 'interaction_4', 'heredity_1', 'interaction_9', 'heredity_2', 'interaction_5']]\n",
    "X = train[['totalScanTimeInSeconds', 'interaction_1', 'interaction_4', 'heredity_1', 'interaction_9', 'heredity_2', 'interaction_5']]\n",
    "Y = train['fraud']\n",
    "\n",
    "# Splitting the data into train, test, and validation\n",
    "X_train, X_val, Y_train, Y_val = train_test_split(X, Y, test_size = 0.2)\n",
    "\n",
    "\n",
    "# Scaling the data\n",
    "scaler = MinMaxScaler()\n",
    "X_train = scaler.fit_transform(X_train)\n",
    "X_train = pd.DataFrame(X_train, columns = X.columns)\n",
    "\n",
    "X_val = scaler.fit_transform(X_val)\n",
    "X_val = pd.DataFrame(X_val, columns = X.columns)\n",
    "\n",
    "\n",
    "X_val"
   ]
  },
  {
   "cell_type": "code",
   "execution_count": 5,
   "id": "8b54553e",
   "metadata": {},
   "outputs": [],
   "source": [
    "# Defining top 7, 6, and 5 variables\n",
    "# Train dataset\n",
    "X_train_7 = X_train\n",
    "X_train_6 = X_train[['totalScanTimeInSeconds', 'interaction_1', 'interaction_4', 'heredity_1', 'interaction_9', 'heredity_2']]\n",
    "X_train_5 = X_train[['totalScanTimeInSeconds', 'interaction_1', 'interaction_4', 'heredity_1', 'interaction_9']]\n",
    "\n",
    "# Validation dataset\n",
    "X_val_7 = X_val\n",
    "X_val_6 = X_val[['totalScanTimeInSeconds', 'interaction_1', 'interaction_4', 'heredity_1', 'interaction_9', 'heredity_2']]\n",
    "X_val_5 = X_val[['totalScanTimeInSeconds', 'interaction_1', 'interaction_4', 'heredity_1', 'interaction_9']]\n",
    "\n",
    "# Validation dataset\n",
    "test_7 = test\n",
    "test_6 = test[['totalScanTimeInSeconds', 'interaction_1', 'interaction_4', 'heredity_1', 'interaction_9', 'heredity_2']]\n",
    "test_5 = test[['totalScanTimeInSeconds', 'interaction_1', 'interaction_4', 'heredity_1', 'interaction_9']]\n"
   ]
  },
  {
   "cell_type": "markdown",
   "id": "32bb9127",
   "metadata": {},
   "source": [
    "### The Best Random Forest Model"
   ]
  },
  {
   "cell_type": "code",
   "execution_count": 6,
   "id": "df1dce62",
   "metadata": {
    "collapsed": true,
    "jupyter": {
     "outputs_hidden": true
    }
   },
   "outputs": [
    {
     "data": {
      "text/plain": [
       "array([7.30049092e-03, 7.51752838e-02, 4.07303998e-03, 1.02178178e-04,\n",
       "       7.44658499e-03, 4.07303998e-03, 1.02178178e-04, 3.94028868e-01,\n",
       "       1.02178178e-04, 3.11270421e-04, 4.59078862e-03, 3.11270421e-04,\n",
       "       1.02178178e-04, 4.59078862e-03, 7.23749275e-03, 4.42842437e-03,\n",
       "       8.58838060e-02, 3.11270421e-04, 3.56606895e-03, 7.44658499e-03,\n",
       "       7.30049092e-03, 7.44658499e-03, 1.02178178e-04, 1.09337627e-01,\n",
       "       7.30049092e-03, 1.02178178e-04, 3.11270421e-04, 7.44658499e-03,\n",
       "       1.36146331e-02, 1.02178178e-04, 4.42842437e-03, 3.56606895e-03,\n",
       "       7.44658499e-03, 7.30049092e-03, 5.02756483e-03, 7.37103467e-02,\n",
       "       3.11270421e-04, 1.02178178e-04, 1.02178178e-04, 7.44658499e-03,\n",
       "       4.07303998e-03, 3.11270421e-04, 3.11270421e-04, 3.11270421e-04,\n",
       "       4.59078862e-03, 7.44012912e-02, 1.02178178e-04, 4.42842437e-03,\n",
       "       4.42842437e-03, 3.11270421e-04, 1.38865778e-02, 1.02178178e-04,\n",
       "       7.44303559e-03, 6.13205543e-02, 3.11270421e-04, 7.44658499e-03,\n",
       "       1.02178178e-04, 1.02178178e-04, 1.02178178e-04, 4.07303998e-03,\n",
       "       4.42842437e-03, 6.13205543e-02, 3.56606895e-03, 3.11270421e-04,\n",
       "       3.11270421e-04, 3.11270421e-04, 1.89390092e-01, 1.02178178e-04,\n",
       "       4.36802633e-03, 7.44303559e-03, 3.11270421e-04, 4.59078862e-03,\n",
       "       1.09337627e-01, 1.02178178e-04, 1.02178178e-04, 1.02178178e-04,\n",
       "       1.02178178e-04, 7.19039562e-02, 1.02178178e-04, 7.55045798e-02,\n",
       "       3.56606895e-03, 1.02178178e-04, 1.02178178e-04, 7.44658499e-03,\n",
       "       3.11270421e-04, 3.11270421e-04, 1.02178178e-04, 4.36802633e-03,\n",
       "       4.07303998e-03, 4.36802633e-03, 7.30049092e-03, 1.02178178e-04,\n",
       "       8.76676643e-02, 7.44658499e-03, 7.30049092e-03, 2.37106688e-01,\n",
       "       3.11270421e-04, 5.21475822e-03, 7.44658499e-03, 3.11270421e-04,\n",
       "       4.57192069e-03, 9.87953468e-02, 1.02178178e-04, 3.11270421e-04,\n",
       "       3.56606895e-03, 3.11270421e-04, 3.11270421e-04, 1.05445778e-01,\n",
       "       7.44658499e-03, 1.12688107e-01, 7.44658499e-03, 1.02178178e-04,\n",
       "       8.58838060e-02, 1.05445778e-01, 3.54577816e-01, 7.44658499e-03,\n",
       "       3.56606895e-03, 4.07303998e-03, 1.02178178e-04, 7.30049092e-03,\n",
       "       2.80727594e-01, 1.02178178e-04, 4.07303998e-03, 3.11270421e-04,\n",
       "       3.11270421e-04, 4.59078862e-03, 7.30049092e-03, 3.04818706e-01,\n",
       "       1.02178178e-04, 1.02178178e-04, 2.78417391e-01, 4.36802633e-03,\n",
       "       1.09747490e-01, 1.02178178e-04, 3.11270421e-04, 4.36802633e-03,\n",
       "       4.42842437e-03, 7.44658499e-03, 4.07303998e-03, 7.30049092e-03,\n",
       "       4.98339262e-03, 3.11270421e-04, 6.13205543e-02, 4.79328440e-01,\n",
       "       1.02178178e-04, 7.30049092e-03, 7.80843983e-03, 3.11270421e-04,\n",
       "       3.11270421e-04, 1.02178178e-04, 4.59078862e-03, 3.11270421e-04,\n",
       "       1.02178178e-04, 3.11270421e-04, 1.02178178e-04, 7.30049092e-03,\n",
       "       1.02178178e-04, 3.11270421e-04, 4.59078862e-03, 1.02178178e-04,\n",
       "       1.02178178e-04, 5.57513237e-01, 7.30049092e-03, 4.53101167e-03,\n",
       "       7.37103467e-02, 2.78417391e-01, 4.07303998e-03, 9.16842597e-01,\n",
       "       7.30049092e-03, 7.44658499e-03, 7.44658499e-03, 4.42842437e-03,\n",
       "       3.11270421e-04, 3.56606895e-03, 1.02178178e-04, 7.30049092e-03,\n",
       "       4.42842437e-03, 7.44658499e-03, 3.11270421e-04, 4.36802633e-03,\n",
       "       3.11270421e-04, 3.11270421e-04, 5.57513237e-01, 4.59078862e-03,\n",
       "       4.42842437e-03, 3.11270421e-04, 1.02178178e-04, 7.44658499e-03,\n",
       "       6.11664459e-03, 3.11270421e-04, 7.30049092e-03, 3.11270421e-04,\n",
       "       4.07303998e-03, 1.02178178e-04, 4.42842437e-03, 3.11270421e-04,\n",
       "       1.02178178e-04, 3.11270421e-04, 3.11270421e-04, 4.88490357e-01,\n",
       "       3.11270421e-04, 3.11270421e-04, 7.44658499e-03, 7.44658499e-03,\n",
       "       1.02178178e-04, 7.44658499e-03, 3.11270421e-04, 3.11270421e-04,\n",
       "       4.07303998e-03, 1.02178178e-04, 7.80843983e-03, 1.02178178e-04,\n",
       "       4.59078862e-03, 1.02178178e-04, 1.02178178e-04, 7.30049092e-03,\n",
       "       7.30049092e-03, 4.42842437e-03, 1.39896393e-02, 1.02178178e-04,\n",
       "       3.11270421e-04, 3.11270421e-04, 3.74511626e-01, 1.02178178e-04,\n",
       "       7.80843983e-03, 3.11270421e-04, 7.30049092e-03, 7.30049092e-03,\n",
       "       3.11270421e-04, 4.42842437e-03, 3.56606895e-03, 1.02178178e-04,\n",
       "       4.07303998e-03, 1.02178178e-04, 4.07303998e-03, 7.44658499e-03,\n",
       "       7.30049092e-03, 5.73202921e-03, 1.02178178e-04, 7.30049092e-03,\n",
       "       3.11270421e-04, 7.44658499e-03, 1.02178178e-04, 3.11270421e-04,\n",
       "       1.02178178e-04, 1.02178178e-04, 4.07303998e-03, 7.30049092e-03,\n",
       "       7.44303559e-03, 7.55045798e-02, 7.44658499e-03, 1.02178178e-04,\n",
       "       2.79502394e-01, 7.44658499e-03, 6.65030037e-01, 8.58838060e-02,\n",
       "       3.11270421e-04, 7.54357548e-02, 1.02178178e-04, 1.02178178e-04,\n",
       "       3.11270421e-04, 4.07303998e-03, 1.02178178e-04, 3.11270421e-04,\n",
       "       4.07303998e-03, 2.34520529e-01, 1.36146331e-02, 3.11270421e-04,\n",
       "       6.08830451e-03, 1.02178178e-04, 7.30049092e-03, 1.02178178e-04,\n",
       "       4.07303998e-03, 3.11270421e-04, 3.11270421e-04, 3.11270421e-04,\n",
       "       1.02178178e-04, 7.30049092e-03, 7.44658499e-03, 3.11270421e-04,\n",
       "       7.30049092e-03, 7.30049092e-03, 3.11270421e-04, 1.02178178e-04,\n",
       "       7.44658499e-03, 4.59078862e-03, 6.53810345e-01, 1.02178178e-04,\n",
       "       8.71433445e-02, 1.02178178e-04, 1.02178178e-04, 7.30049092e-03,\n",
       "       3.11270421e-04, 7.55045798e-02, 7.30049092e-03, 7.30049092e-03,\n",
       "       1.06291028e-02, 5.57513237e-01, 7.30049092e-03, 7.44658499e-03,\n",
       "       3.11270421e-04, 1.02178178e-04, 4.07303998e-03, 1.02178178e-04,\n",
       "       4.42842437e-03, 7.44658499e-03, 3.11270421e-04, 4.59078862e-03,\n",
       "       1.02178178e-04, 9.01962418e-01, 7.23749275e-03, 1.02178178e-04,\n",
       "       1.02178178e-04, 1.10490760e-01, 3.11270421e-04, 7.44658499e-03,\n",
       "       4.59078862e-03, 5.81707308e-03, 7.44658499e-03, 7.23749275e-03,\n",
       "       1.02178178e-04, 1.02178178e-04, 7.44658499e-03, 3.11270421e-04,\n",
       "       3.11270421e-04, 7.65266308e-02, 7.30049092e-03, 3.11270421e-04,\n",
       "       3.11270421e-04, 1.02178178e-04, 3.11270421e-04, 1.02178178e-04,\n",
       "       1.02178178e-04, 1.02178178e-04, 1.02178178e-04, 1.02178178e-04,\n",
       "       3.11270421e-04, 3.11270421e-04, 3.56606895e-03, 3.56606895e-03,\n",
       "       4.59078862e-03, 3.11270421e-04, 1.02178178e-04, 3.11270421e-04,\n",
       "       7.44658499e-03, 2.37106688e-01, 1.02178178e-04, 7.44658499e-03,\n",
       "       4.36802633e-03, 3.04818706e-01, 1.02178178e-04, 1.02178178e-04,\n",
       "       1.02178178e-04, 3.11270421e-04, 3.79259037e-01, 9.39524988e-01,\n",
       "       7.30049092e-03, 1.02178178e-04, 5.14316957e-03, 3.11270421e-04,\n",
       "       3.11270421e-04, 5.81707308e-03, 7.44658499e-03, 4.59078862e-03,\n",
       "       8.00343494e-01, 1.02178178e-04, 7.10481375e-02, 4.59078862e-03,\n",
       "       3.11270421e-04, 7.80843983e-03, 7.10481375e-02, 3.11270421e-04,\n",
       "       7.30049092e-03, 7.55045798e-02, 4.07303998e-03, 1.02178178e-04])"
      ]
     },
     "execution_count": 6,
     "metadata": {},
     "output_type": "execute_result"
    }
   ],
   "source": [
    "RF_md = RandomForestClassifier(max_depth=3, min_samples_leaf=7, min_samples_split=10, n_estimators=500).fit(X_train_5, Y_train)\n",
    "\n",
    "# Predicting on validation and test\n",
    "RF_val_pred = RF_md.predict_proba(X_val_5)[:,1]\n",
    "RF_test_pred = RF_md.predict_proba(test_5)[:,1]\n",
    "\n",
    "RF_val_pred"
   ]
  },
  {
   "cell_type": "markdown",
   "id": "d5a6da80",
   "metadata": {},
   "source": [
    "### The Best Support Vector Machine Model"
   ]
  },
  {
   "cell_type": "code",
   "execution_count": 7,
   "id": "ddf5cbbf",
   "metadata": {},
   "outputs": [
    {
     "data": {
      "text/plain": [
       "array([2.10304326e-05, 2.44834874e-05, 1.80981201e-06, ...,\n",
       "       1.13763524e-05, 2.45035584e-05, 2.45034381e-05])"
      ]
     },
     "execution_count": 7,
     "metadata": {},
     "output_type": "execute_result"
    }
   ],
   "source": [
    "SVC_md = SVC(C=0.01, gamma=0.1, kernel='sigmoid', probability=True).fit(X_train_5, Y_train)\n",
    "\n",
    "# Predicting on validation and test\n",
    "SVC_val_pred = SVC_md.predict_proba(X_val_5)[:,1]\n",
    "SVC_test_pred = SVC_md.predict_proba(test_5)[:,1]\n",
    "\n",
    "SVC_test_pred"
   ]
  },
  {
   "cell_type": "markdown",
   "id": "e3258edd",
   "metadata": {},
   "source": [
    "### The Best AdaBoost Model"
   ]
  },
  {
   "cell_type": "code",
   "execution_count": 8,
   "id": "80dde7f0",
   "metadata": {},
   "outputs": [
    {
     "data": {
      "text/plain": [
       "array([0.01141731, 0.00425823, 0.31357652, ..., 0.00425823, 0.32924427,\n",
       "       0.0136434 ])"
      ]
     },
     "execution_count": 8,
     "metadata": {},
     "output_type": "execute_result"
    }
   ],
   "source": [
    "ADA_md = AdaBoostClassifier(base_estimator=DecisionTreeClassifier(max_depth=3,\n",
    "                                                         min_samples_leaf=5,\n",
    "                                                         min_samples_split=10),\n",
    "                                                         learning_rate=0.01, n_estimators=300).fit(X_train_7, Y_train)\n",
    "# Predicting on validation and test\n",
    "ADA_val_pred = ADA_md.predict_proba(X_val_7)[:,1]\n",
    "ADA_test_pred = ADA_md.predict_proba(test_7)[:,1]\n",
    "\n",
    "ADA_test_pred"
   ]
  },
  {
   "cell_type": "markdown",
   "id": "6fbc5fdf",
   "metadata": {},
   "source": [
    "### The Best XGBClassifier Model"
   ]
  },
  {
   "cell_type": "code",
   "execution_count": null,
   "id": "589136b2",
   "metadata": {},
   "outputs": [],
   "source": [
    "XGBoost_md = XGBClassifier(base_score=0.5, booster='gbtree', colsample_bylevel=1,\n",
    "              colsample_bynode=1, colsample_bytree=1, enable_categorical=False,\n",
    "              eval_metric='logloss', gamma=0.3, gpu_id=-1, importance_type=None,\n",
    "              interaction_constraints='', learning_rate=0.01, max_delta_step=0,\n",
    "              max_depth=5, min_child_weight=5,\n",
    "              monotone_constraints='()', n_estimators=500, n_jobs=4,\n",
    "              num_parallel_tree=1, predictor='auto', random_state=0,\n",
    "              reg_alpha=0, reg_lambda=1, scale_pos_weight=1, subsample=0.8,\n",
    "              tree_method='exact', use_label_encoder=False,\n",
    "              validate_parameters=1, verbosity=None).fit(X_train_5, Y_train)\n",
    "\n",
    "# Predicting on validation and test\n",
    "XGBoost_val_pred = XGBoost_md.predict_proba(X_val_7)[:,1]\n",
    "XGBoost_test_pred = XGBoost_md.predict_proba(test_7)[:,1]\n",
    "\n",
    "XGBoost_val_pred"
   ]
  },
  {
   "cell_type": "code",
   "execution_count": null,
   "id": "e7d113a0",
   "metadata": {},
   "outputs": [],
   "source": []
  },
  {
   "cell_type": "code",
   "execution_count": null,
   "id": "604f0b95",
   "metadata": {},
   "outputs": [],
   "source": [
    "esemble_train = pd.DataFrame({'RF': RF_val_pred, \"SVC\": SVC_val_pred, 'ADA': ADA_val_pred, \"XGBoost\": XGBoost_val_pred, \"Y_val\": Y_val})\n",
    "esemble_train.head()"
   ]
  },
  {
   "cell_type": "code",
   "execution_count": null,
   "id": "a62d0a9f",
   "metadata": {},
   "outputs": [],
   "source": [
    "esemble_test = pd.DataFrame({\"RF_preds_test\": RF_test_pred, \"SVC_preds_test\": SVC_test_pred, \"ADA_preds_test\": ADA_test_pred, \"XGBoost_preds_test\": XGBoost_test_pred})\n",
    "esemble_test.head()"
   ]
  },
  {
   "cell_type": "code",
   "execution_count": null,
   "id": "b6a636d1",
   "metadata": {},
   "outputs": [],
   "source": [
    "import Ensemble\n",
    "RF_val_pred = pd.DataFrame(RF_val_pred)\n",
    "SVC_val_pred = pd.DataFrame(SVC_val_pred)\n",
    "ADA_val_pred = pd.DataFrame(ADA_val_pred)\n",
    "XGBoost_val_pred = pd.DataFrame(XGBoost_val_pred)\n",
    "Y = esemble_train['Y_val']\n",
    "RF_test_pred = pd.DataFrame(RF_test_pred)\n",
    "SVC_test_pred = pd.DataFrame(SVC_test_pred)\n",
    "ADA_test_pred = pd.DataFrame(ADA_test_pred)\n",
    "XGBoost_test_pred = pd.DataFrame(XGBoost_test_pred)\n",
    "\n",
    "ensemble = Ensemble.ensemble(RF_val_pred, SVC_val_pred, ADA_val_pred, XGBoost_val_pred, Y, RF_test_pred, SVC_test_pred, ADA_test_pred, XGBoost_test_pred)\n"
   ]
  },
  {
   "cell_type": "code",
   "execution_count": null,
   "id": "18d14f7f",
   "metadata": {},
   "outputs": [],
   "source": [
    "plt.hist(ensemble)\n",
    "plt.show()"
   ]
  },
  {
   "cell_type": "code",
   "execution_count": null,
   "id": "8ea3c899",
   "metadata": {},
   "outputs": [],
   "source": [
    "ensemble = pd.DataFrame(ensemble)"
   ]
  },
  {
   "cell_type": "code",
   "execution_count": null,
   "id": "c7af4614",
   "metadata": {},
   "outputs": [],
   "source": [
    "Predictions = pd.concat([RF_test_pred, SVC_test_pred, ADA_test_pred, ensemble], axis = 1)\n",
    "Predictions.columns = ['RF_test_pred', 'SVC_test_pred', 'ADA_test_pred', 'Ensemble']\n",
    "Predictions"
   ]
  },
  {
   "cell_type": "code",
   "execution_count": null,
   "id": "e2550185",
   "metadata": {},
   "outputs": [],
   "source": [
    "likelyhoods = pd.DataFrame({'Likelyhoods': Predictions['Ensemble']})\n",
    "likelyhoods.head()"
   ]
  },
  {
   "cell_type": "code",
   "execution_count": null,
   "id": "a16b0c1b",
   "metadata": {},
   "outputs": [],
   "source": [
    "likelyhoods.to_csv(\"likelyhoods.csv\", index = False)"
   ]
  },
  {
   "cell_type": "markdown",
   "id": "f0ec1c9b",
   "metadata": {},
   "source": [
    "# Indentifyung the optimal cut-off value\n",
    "opt_cutoff = cost_function_cutoff(Y_val, SVC_val_pred)\n",
    "\n",
    "# Changing the likelihoods to labels\n",
    "SVC_label = np.where(SVC_test_pred < opt_cutoff, 0, 1)\n",
    "\n",
    "# Computing the confusion matrix\n",
    "X = confusion_matrix(Y_test, SVC_label)\n",
    "print(X)\n",
    "print('The cost of the SVC model is: ', -1500*X[1,0] - 1000*X[0,1] + 500*X[1, 1])"
   ]
  },
  {
   "cell_type": "code",
   "execution_count": null,
   "id": "97bcee80",
   "metadata": {},
   "outputs": [],
   "source": []
  }
 ],
 "metadata": {
  "kernelspec": {
   "display_name": "conda_python3",
   "language": "python",
   "name": "conda_python3"
  },
  "language_info": {
   "codemirror_mode": {
    "name": "ipython",
    "version": 3
   },
   "file_extension": ".py",
   "mimetype": "text/x-python",
   "name": "python",
   "nbconvert_exporter": "python",
   "pygments_lexer": "ipython3",
   "version": "3.6.13"
  }
 },
 "nbformat": 4,
 "nbformat_minor": 5
}
