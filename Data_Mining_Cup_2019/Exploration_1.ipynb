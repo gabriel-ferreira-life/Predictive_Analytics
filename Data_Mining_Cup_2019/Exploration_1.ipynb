{
 "cells": [
  {
   "cell_type": "markdown",
   "id": "89e69c55",
   "metadata": {},
   "source": [
    "### Reading the csv data file and creating a data-frame called churn"
   ]
  },
  {
   "cell_type": "code",
   "execution_count": 172,
   "id": "c9e7300e",
   "metadata": {},
   "outputs": [],
   "source": [
    "import boto3\n",
    "import pandas as pd\n",
    "import numpy as np\n",
    "import seaborn as sns\n",
    "import matplotlib.pyplot as plt\n",
    "from sklearn.model_selection import train_test_split, KFold\n",
    "from sklearn.tree import DecisionTreeClassifier\n",
    "from sklearn.metrics import roc_curve, classification_report, precision_recall_curve\n",
    "from sklearn.ensemble import RandomForestClassifier, AdaBoostClassifier\n",
    "from sklearn.linear_model import Lasso, LassoCV, LinearRegression, Ridge, RidgeCV\n",
    "\n",
    "\n",
    "\n",
    "# Defining the s3 bucket\n",
    "s3 = boto3.resource('s3')\n",
    "bucket_name = 'gabriel-predictive-analytics'\n",
    "bucket = s3.Bucket(bucket_name)\n",
    "\n",
    "# Defining the file to be read from s3 bucket\n",
    "file_key_train = \"train.csv\"\n",
    "bucket_object = bucket.Object(file_key_train)\n",
    "file_object = bucket_object.get()\n",
    "file_content_stream = file_object.get('Body')\n",
    "\n",
    "# Reading the csv file\n",
    "train = pd.read_csv(file_content_stream, sep=\"|\")\n",
    "\n",
    "# Defining the file to be read from s3 bucket\n",
    "file_key_test = \"test.csv\"\n",
    "bucket_object_test = bucket.Object(file_key_test)\n",
    "file_object_test = bucket_object_test.get()\n",
    "file_content_stream_test = file_object_test.get('Body')\n",
    "\n",
    "# Reading the csv file\n",
    "test = pd.read_csv(file_content_stream_test, sep='|')"
   ]
  },
  {
   "cell_type": "markdown",
   "id": "7a5c4ff7",
   "metadata": {},
   "source": [
    "### Test Dataset"
   ]
  },
  {
   "cell_type": "code",
   "execution_count": 173,
   "id": "47e3dc35",
   "metadata": {},
   "outputs": [
    {
     "data": {
      "text/html": [
       "<div>\n",
       "<style scoped>\n",
       "    .dataframe tbody tr th:only-of-type {\n",
       "        vertical-align: middle;\n",
       "    }\n",
       "\n",
       "    .dataframe tbody tr th {\n",
       "        vertical-align: top;\n",
       "    }\n",
       "\n",
       "    .dataframe thead th {\n",
       "        text-align: right;\n",
       "    }\n",
       "</style>\n",
       "<table border=\"1\" class=\"dataframe\">\n",
       "  <thead>\n",
       "    <tr style=\"text-align: right;\">\n",
       "      <th></th>\n",
       "      <th>trustLevel</th>\n",
       "      <th>totalScanTimeInSeconds</th>\n",
       "      <th>grandTotal</th>\n",
       "      <th>lineItemVoids</th>\n",
       "      <th>scansWithoutRegistration</th>\n",
       "      <th>quantityModifications</th>\n",
       "      <th>scannedLineItemsPerSecond</th>\n",
       "      <th>valuePerSecond</th>\n",
       "      <th>lineItemVoidsPerPosition</th>\n",
       "    </tr>\n",
       "  </thead>\n",
       "  <tbody>\n",
       "    <tr>\n",
       "      <th>0</th>\n",
       "      <td>4</td>\n",
       "      <td>467</td>\n",
       "      <td>88.48</td>\n",
       "      <td>4</td>\n",
       "      <td>8</td>\n",
       "      <td>4</td>\n",
       "      <td>0.014989</td>\n",
       "      <td>0.189465</td>\n",
       "      <td>0.571429</td>\n",
       "    </tr>\n",
       "  </tbody>\n",
       "</table>\n",
       "</div>"
      ],
      "text/plain": [
       "   trustLevel  totalScanTimeInSeconds  grandTotal  lineItemVoids  \\\n",
       "0           4                     467       88.48              4   \n",
       "\n",
       "   scansWithoutRegistration  quantityModifications  scannedLineItemsPerSecond  \\\n",
       "0                         8                      4                   0.014989   \n",
       "\n",
       "   valuePerSecond  lineItemVoidsPerPosition  \n",
       "0        0.189465                  0.571429  "
      ]
     },
     "execution_count": 173,
     "metadata": {},
     "output_type": "execute_result"
    }
   ],
   "source": [
    "test.head(1)"
   ]
  },
  {
   "cell_type": "code",
   "execution_count": 174,
   "id": "9bb9df13",
   "metadata": {},
   "outputs": [
    {
     "data": {
      "text/plain": [
       "(498121, 9)"
      ]
     },
     "execution_count": 174,
     "metadata": {},
     "output_type": "execute_result"
    }
   ],
   "source": [
    "test.shape"
   ]
  },
  {
   "cell_type": "markdown",
   "id": "6084eb90",
   "metadata": {},
   "source": [
    "### Train dataset"
   ]
  },
  {
   "cell_type": "code",
   "execution_count": 175,
   "id": "df66f458",
   "metadata": {},
   "outputs": [
    {
     "data": {
      "text/html": [
       "<div>\n",
       "<style scoped>\n",
       "    .dataframe tbody tr th:only-of-type {\n",
       "        vertical-align: middle;\n",
       "    }\n",
       "\n",
       "    .dataframe tbody tr th {\n",
       "        vertical-align: top;\n",
       "    }\n",
       "\n",
       "    .dataframe thead th {\n",
       "        text-align: right;\n",
       "    }\n",
       "</style>\n",
       "<table border=\"1\" class=\"dataframe\">\n",
       "  <thead>\n",
       "    <tr style=\"text-align: right;\">\n",
       "      <th></th>\n",
       "      <th>trustLevel</th>\n",
       "      <th>totalScanTimeInSeconds</th>\n",
       "      <th>grandTotal</th>\n",
       "      <th>lineItemVoids</th>\n",
       "      <th>scansWithoutRegistration</th>\n",
       "      <th>quantityModifications</th>\n",
       "      <th>scannedLineItemsPerSecond</th>\n",
       "      <th>valuePerSecond</th>\n",
       "      <th>lineItemVoidsPerPosition</th>\n",
       "      <th>fraud</th>\n",
       "    </tr>\n",
       "  </thead>\n",
       "  <tbody>\n",
       "    <tr>\n",
       "      <th>0</th>\n",
       "      <td>5</td>\n",
       "      <td>1054</td>\n",
       "      <td>54.70</td>\n",
       "      <td>7</td>\n",
       "      <td>0</td>\n",
       "      <td>3</td>\n",
       "      <td>0.027514</td>\n",
       "      <td>0.051898</td>\n",
       "      <td>0.241379</td>\n",
       "      <td>0</td>\n",
       "    </tr>\n",
       "    <tr>\n",
       "      <th>1</th>\n",
       "      <td>3</td>\n",
       "      <td>108</td>\n",
       "      <td>27.36</td>\n",
       "      <td>5</td>\n",
       "      <td>2</td>\n",
       "      <td>4</td>\n",
       "      <td>0.129630</td>\n",
       "      <td>0.253333</td>\n",
       "      <td>0.357143</td>\n",
       "      <td>0</td>\n",
       "    </tr>\n",
       "    <tr>\n",
       "      <th>2</th>\n",
       "      <td>3</td>\n",
       "      <td>1516</td>\n",
       "      <td>62.16</td>\n",
       "      <td>3</td>\n",
       "      <td>10</td>\n",
       "      <td>5</td>\n",
       "      <td>0.008575</td>\n",
       "      <td>0.041003</td>\n",
       "      <td>0.230769</td>\n",
       "      <td>0</td>\n",
       "    </tr>\n",
       "    <tr>\n",
       "      <th>3</th>\n",
       "      <td>6</td>\n",
       "      <td>1791</td>\n",
       "      <td>92.31</td>\n",
       "      <td>8</td>\n",
       "      <td>4</td>\n",
       "      <td>4</td>\n",
       "      <td>0.016192</td>\n",
       "      <td>0.051541</td>\n",
       "      <td>0.275862</td>\n",
       "      <td>0</td>\n",
       "    </tr>\n",
       "    <tr>\n",
       "      <th>4</th>\n",
       "      <td>5</td>\n",
       "      <td>430</td>\n",
       "      <td>81.53</td>\n",
       "      <td>3</td>\n",
       "      <td>7</td>\n",
       "      <td>2</td>\n",
       "      <td>0.062791</td>\n",
       "      <td>0.189605</td>\n",
       "      <td>0.111111</td>\n",
       "      <td>0</td>\n",
       "    </tr>\n",
       "    <tr>\n",
       "      <th>5</th>\n",
       "      <td>1</td>\n",
       "      <td>770</td>\n",
       "      <td>11.09</td>\n",
       "      <td>11</td>\n",
       "      <td>5</td>\n",
       "      <td>2</td>\n",
       "      <td>0.033766</td>\n",
       "      <td>0.014403</td>\n",
       "      <td>0.423077</td>\n",
       "      <td>1</td>\n",
       "    </tr>\n",
       "    <tr>\n",
       "      <th>6</th>\n",
       "      <td>3</td>\n",
       "      <td>294</td>\n",
       "      <td>55.63</td>\n",
       "      <td>2</td>\n",
       "      <td>7</td>\n",
       "      <td>1</td>\n",
       "      <td>0.037415</td>\n",
       "      <td>0.189218</td>\n",
       "      <td>0.181818</td>\n",
       "      <td>0</td>\n",
       "    </tr>\n",
       "    <tr>\n",
       "      <th>7</th>\n",
       "      <td>2</td>\n",
       "      <td>1545</td>\n",
       "      <td>22.80</td>\n",
       "      <td>0</td>\n",
       "      <td>8</td>\n",
       "      <td>4</td>\n",
       "      <td>0.006472</td>\n",
       "      <td>0.014757</td>\n",
       "      <td>0.000000</td>\n",
       "      <td>0</td>\n",
       "    </tr>\n",
       "    <tr>\n",
       "      <th>8</th>\n",
       "      <td>6</td>\n",
       "      <td>962</td>\n",
       "      <td>65.44</td>\n",
       "      <td>7</td>\n",
       "      <td>0</td>\n",
       "      <td>2</td>\n",
       "      <td>0.028067</td>\n",
       "      <td>0.068025</td>\n",
       "      <td>0.259259</td>\n",
       "      <td>0</td>\n",
       "    </tr>\n",
       "    <tr>\n",
       "      <th>9</th>\n",
       "      <td>2</td>\n",
       "      <td>725</td>\n",
       "      <td>41.08</td>\n",
       "      <td>10</td>\n",
       "      <td>2</td>\n",
       "      <td>4</td>\n",
       "      <td>0.037241</td>\n",
       "      <td>0.056662</td>\n",
       "      <td>0.370370</td>\n",
       "      <td>0</td>\n",
       "    </tr>\n",
       "  </tbody>\n",
       "</table>\n",
       "</div>"
      ],
      "text/plain": [
       "   trustLevel  totalScanTimeInSeconds  grandTotal  lineItemVoids  \\\n",
       "0           5                    1054       54.70              7   \n",
       "1           3                     108       27.36              5   \n",
       "2           3                    1516       62.16              3   \n",
       "3           6                    1791       92.31              8   \n",
       "4           5                     430       81.53              3   \n",
       "5           1                     770       11.09             11   \n",
       "6           3                     294       55.63              2   \n",
       "7           2                    1545       22.80              0   \n",
       "8           6                     962       65.44              7   \n",
       "9           2                     725       41.08             10   \n",
       "\n",
       "   scansWithoutRegistration  quantityModifications  scannedLineItemsPerSecond  \\\n",
       "0                         0                      3                   0.027514   \n",
       "1                         2                      4                   0.129630   \n",
       "2                        10                      5                   0.008575   \n",
       "3                         4                      4                   0.016192   \n",
       "4                         7                      2                   0.062791   \n",
       "5                         5                      2                   0.033766   \n",
       "6                         7                      1                   0.037415   \n",
       "7                         8                      4                   0.006472   \n",
       "8                         0                      2                   0.028067   \n",
       "9                         2                      4                   0.037241   \n",
       "\n",
       "   valuePerSecond  lineItemVoidsPerPosition  fraud  \n",
       "0        0.051898                  0.241379      0  \n",
       "1        0.253333                  0.357143      0  \n",
       "2        0.041003                  0.230769      0  \n",
       "3        0.051541                  0.275862      0  \n",
       "4        0.189605                  0.111111      0  \n",
       "5        0.014403                  0.423077      1  \n",
       "6        0.189218                  0.181818      0  \n",
       "7        0.014757                  0.000000      0  \n",
       "8        0.068025                  0.259259      0  \n",
       "9        0.056662                  0.370370      0  "
      ]
     },
     "execution_count": 175,
     "metadata": {},
     "output_type": "execute_result"
    }
   ],
   "source": [
    "train.head(10)"
   ]
  },
  {
   "cell_type": "code",
   "execution_count": 176,
   "id": "082dec0c",
   "metadata": {},
   "outputs": [
    {
     "data": {
      "text/plain": [
       "(1879, 10)"
      ]
     },
     "execution_count": 176,
     "metadata": {},
     "output_type": "execute_result"
    }
   ],
   "source": [
    "train.shape"
   ]
  },
  {
   "cell_type": "markdown",
   "id": "80446f25",
   "metadata": {},
   "source": [
    "### Looking at the relative frequency table of the fraud variable"
   ]
  },
  {
   "cell_type": "code",
   "execution_count": 190,
   "id": "a6e6d092",
   "metadata": {},
   "outputs": [
    {
     "data": {
      "text/plain": [
       "0    1775\n",
       "1     104\n",
       "Name: fraud, dtype: int64"
      ]
     },
     "execution_count": 190,
     "metadata": {},
     "output_type": "execute_result"
    }
   ],
   "source": [
    "train['fraud'].value_counts()"
   ]
  },
  {
   "cell_type": "code",
   "execution_count": 177,
   "id": "dc57233b",
   "metadata": {},
   "outputs": [
    {
     "data": {
      "text/plain": [
       "0    0.944651\n",
       "1    0.055349\n",
       "Name: fraud, dtype: float64"
      ]
     },
     "execution_count": 177,
     "metadata": {},
     "output_type": "execute_result"
    }
   ],
   "source": [
    "train['fraud'].value_counts() / train.shape[0]"
   ]
  },
  {
   "cell_type": "markdown",
   "id": "0ab7d7b3",
   "metadata": {},
   "source": [
    "As we can see, this is a very unbalanced dataset."
   ]
  },
  {
   "cell_type": "markdown",
   "id": "f9c2de8e",
   "metadata": {},
   "source": [
    "### Creating Exploratory Visualisations"
   ]
  },
  {
   "cell_type": "code",
   "execution_count": 178,
   "id": "59655878",
   "metadata": {},
   "outputs": [
    {
     "data": {
      "text/plain": [
       "<AxesSubplot:>"
      ]
     },
     "execution_count": 178,
     "metadata": {},
     "output_type": "execute_result"
    },
    {
     "data": {
      "image/png": "[encoded data removed]",
      "text/plain": [
       "<Figure size 792x648 with 2 Axes>"
      ]
     },
     "metadata": {
      "needs_background": "light"
     },
     "output_type": "display_data"
    }
   ],
   "source": [
    "# Compute the correlation matrix\n",
    "corr = train.corr()\n",
    "\n",
    "# Generate a mask for the upper triangle\n",
    "mask = np.triu(np.ones_like(corr, dtype=bool))\n",
    "\n",
    "# Set up the matplotlib figure\n",
    "f, ax = plt.subplots(figsize=(11, 9))\n",
    "\n",
    "# Generate a custom diverging colormap\n",
    "cmap = sns.diverging_palette(230, 20, as_cmap=True)\n",
    "\n",
    "# Draw the heatmap with the mask and correct aspect ratio\n",
    "sns.heatmap(corr, mask=mask, cmap=cmap, vmax=.3, center=0,\n",
    "            square=True, linewidths=.5, cbar_kws={\"shrink\": .5})"
   ]
  },
  {
   "cell_type": "markdown",
   "id": "727080ad",
   "metadata": {},
   "source": [
    "#### Here we have a heatmap to have an idea of how the variables correlate with each other.\n",
    "#### We can see the variable trustLevel is the most correlated to our target variable fraud."
   ]
  },
  {
   "cell_type": "code",
   "execution_count": 179,
   "id": "f3815dd3",
   "metadata": {},
   "outputs": [
    {
     "data": {
      "text/plain": [
       "Text(0.5, 0, '0 = Not Fraud | 1 = Fraud')"
      ]
     },
     "execution_count": 179,
     "metadata": {},
     "output_type": "execute_result"
    },
    {
     "data": {
      "image/png": "[encoded data removed]",
      "text/plain": [
       "<Figure size 432x288 with 1 Axes>"
      ]
     },
     "metadata": {
      "needs_background": "light"
     },
     "output_type": "display_data"
    }
   ],
   "source": [
    "# Boxplot\n",
    "sns.boxplot( x=train[\"fraud\"], y=train[\"trustLevel\"]).set_xlabel('0 = Not Fraud | 1 = Fraud')"
   ]
  },
  {
   "cell_type": "markdown",
   "id": "156e5b9c",
   "metadata": {},
   "source": [
    "#### In the above box-plot we can see that all fraud transactions had no more than 2 in the trustLevel."
   ]
  },
  {
   "cell_type": "markdown",
   "id": "054ef1ae",
   "metadata": {},
   "source": [
    "### Building Models"
   ]
  },
  {
   "cell_type": "code",
   "execution_count": 180,
   "id": "99961c2d",
   "metadata": {},
   "outputs": [],
   "source": [
    "## Selecting input and target variables\n",
    "X = train[[\"trustLevel\", \"totalScanTimeInSeconds\", \"grandTotal\", \"lineItemVoids\", \"scansWithoutRegistration\", \"quantityModifications\", \"scannedLineItemsPerSecond\", 'valuePerSecond', \"lineItemVoidsPerPosition\"]]\n",
    "Y = train['fraud']\n",
    "\n",
    "# Spliting the train dataset into train and test\n",
    "X_train, X_test, Y_train, Y_test = train_test_split(X, Y, test_size = 0.2, stratify = Y)\n"
   ]
  },
  {
   "cell_type": "code",
   "execution_count": 181,
   "id": "6796ace1",
   "metadata": {},
   "outputs": [
    {
     "data": {
      "text/plain": [
       "trustLevel                   0.264644\n",
       "scannedLineItemsPerSecond    0.167135\n",
       "totalScanTimeInSeconds       0.146492\n",
       "lineItemVoidsPerPosition     0.109359\n",
       "valuePerSecond               0.091707\n",
       "lineItemVoids                0.071588\n",
       "grandTotal                   0.069885\n",
       "scansWithoutRegistration     0.054355\n",
       "quantityModifications        0.024834\n",
       "dtype: float64"
      ]
     },
     "execution_count": 181,
     "metadata": {},
     "output_type": "execute_result"
    }
   ],
   "source": [
    "# Computing feature importance\n",
    "feature_importance = list()\n",
    "\n",
    "# Creating a foor loop to store 100 feature importances\n",
    "for i in range(0,100):\n",
    "    # Splitting the data into train and test\n",
    "    X_train, X_test, Y_train, Y_test = train_test_split(X, Y, test_size = 0.2, stratify = Y)\n",
    "    \n",
    "    # Random Forest model variable selector\n",
    "    rf_md = RandomForestClassifier(n_estimators = 500).fit(X_train, Y_train)\n",
    "    \n",
    "    # Computing variable importance for each variable\n",
    "    feature_importance.append(rf_md.feature_importances_)\n",
    "\n",
    "# Seeing results\n",
    "feature_importance = pd.DataFrame(feature_importance, columns = X.columns)\n",
    "feature_importance = np.mean(feature_importance, axis = 0).sort_values(ascending = False)\n",
    "feature_importance"
   ]
  },
  {
   "cell_type": "code",
   "execution_count": 182,
   "id": "6a85a2b6",
   "metadata": {},
   "outputs": [
    {
     "data": {
      "text/html": [
       "<div>\n",
       "<style scoped>\n",
       "    .dataframe tbody tr th:only-of-type {\n",
       "        vertical-align: middle;\n",
       "    }\n",
       "\n",
       "    .dataframe tbody tr th {\n",
       "        vertical-align: top;\n",
       "    }\n",
       "\n",
       "    .dataframe thead th {\n",
       "        text-align: right;\n",
       "    }\n",
       "</style>\n",
       "<table border=\"1\" class=\"dataframe\">\n",
       "  <thead>\n",
       "    <tr style=\"text-align: right;\">\n",
       "      <th></th>\n",
       "      <th>trustLevel</th>\n",
       "      <th>totalScanTimeInSeconds</th>\n",
       "      <th>lineItemVoids</th>\n",
       "      <th>scannedLineItemsPerSecond</th>\n",
       "      <th>valuePerSecond</th>\n",
       "      <th>lineItemVoidsPerPosition</th>\n",
       "    </tr>\n",
       "  </thead>\n",
       "  <tbody>\n",
       "    <tr>\n",
       "      <th>0</th>\n",
       "      <td>5</td>\n",
       "      <td>1054</td>\n",
       "      <td>7</td>\n",
       "      <td>0.027514</td>\n",
       "      <td>0.051898</td>\n",
       "      <td>0.241379</td>\n",
       "    </tr>\n",
       "  </tbody>\n",
       "</table>\n",
       "</div>"
      ],
      "text/plain": [
       "   trustLevel  totalScanTimeInSeconds  lineItemVoids  \\\n",
       "0           5                    1054              7   \n",
       "\n",
       "   scannedLineItemsPerSecond  valuePerSecond  lineItemVoidsPerPosition  \n",
       "0                   0.027514        0.051898                  0.241379  "
      ]
     },
     "execution_count": 182,
     "metadata": {},
     "output_type": "execute_result"
    }
   ],
   "source": [
    "X = X.drop(['quantityModifications', 'scansWithoutRegistration', 'grandTotal'], axis = 1) \n",
    "X.head(1)"
   ]
  },
  {
   "cell_type": "code",
   "execution_count": 183,
   "id": "8b80fcfc",
   "metadata": {},
   "outputs": [],
   "source": [
    "# Splitting the data into train and test using new predictors \n",
    "X_train, X_test, Y_train, Y_test = train_test_split(X, Y, test_size = 0.2, stratify = Y)\n",
    "    \n",
    "### Random Forest Classifier model with max_depth = 3\n",
    "rf_md = RandomForestClassifier(n_estimators = 500, max_depth = 3).fit(X_train, Y_train)\n",
    "    \n",
    "# Predicting on test dataset\n",
    "rf_pred = rf_md.predict_proba(X_test)[:, 1]\n",
    "\n",
    "# Computing precision_recall_curve\n",
    "precision, recall, threshold = precision_recall_curve(Y_test, rf_pred)\n",
    "\n",
    "# Creating a data-frame\n",
    "cutoffs = pd.DataFrame({'Precision': precision, 'Recall': recall})\n",
    "cutoffs = cutoffs.tail(cutoffs.shape[0] -1)\n",
    "cutoffs['Cutoff'] = threshold"
   ]
  },
  {
   "cell_type": "code",
   "execution_count": 184,
   "id": "238890de",
   "metadata": {},
   "outputs": [
    {
     "data": {
      "text/html": [
       "<div>\n",
       "<style scoped>\n",
       "    .dataframe tbody tr th:only-of-type {\n",
       "        vertical-align: middle;\n",
       "    }\n",
       "\n",
       "    .dataframe tbody tr th {\n",
       "        vertical-align: top;\n",
       "    }\n",
       "\n",
       "    .dataframe thead th {\n",
       "        text-align: right;\n",
       "    }\n",
       "</style>\n",
       "<table border=\"1\" class=\"dataframe\">\n",
       "  <thead>\n",
       "    <tr style=\"text-align: right;\">\n",
       "      <th></th>\n",
       "      <th>Precision</th>\n",
       "      <th>Recall</th>\n",
       "      <th>Cutoff</th>\n",
       "    </tr>\n",
       "  </thead>\n",
       "  <tbody>\n",
       "    <tr>\n",
       "      <th>0</th>\n",
       "      <td>1.0</td>\n",
       "      <td>0.000000</td>\n",
       "      <td>0.456959</td>\n",
       "    </tr>\n",
       "    <tr>\n",
       "      <th>1</th>\n",
       "      <td>1.0</td>\n",
       "      <td>0.047619</td>\n",
       "      <td>0.445321</td>\n",
       "    </tr>\n",
       "    <tr>\n",
       "      <th>2</th>\n",
       "      <td>1.0</td>\n",
       "      <td>0.095238</td>\n",
       "      <td>0.438299</td>\n",
       "    </tr>\n",
       "  </tbody>\n",
       "</table>\n",
       "</div>"
      ],
      "text/plain": [
       "   Precision    Recall    Cutoff\n",
       "0        1.0  0.000000  0.456959\n",
       "1        1.0  0.047619  0.445321\n",
       "2        1.0  0.095238  0.438299"
      ]
     },
     "execution_count": 184,
     "metadata": {},
     "output_type": "execute_result"
    }
   ],
   "source": [
    "cutoffs.sort_values(by= \"Precision\", ascending = False).reset_index(drop = True).head(3)"
   ]
  },
  {
   "cell_type": "code",
   "execution_count": 185,
   "id": "b49a8d5a",
   "metadata": {},
   "outputs": [
    {
     "data": {
      "text/html": [
       "<div>\n",
       "<style scoped>\n",
       "    .dataframe tbody tr th:only-of-type {\n",
       "        vertical-align: middle;\n",
       "    }\n",
       "\n",
       "    .dataframe tbody tr th {\n",
       "        vertical-align: top;\n",
       "    }\n",
       "\n",
       "    .dataframe thead th {\n",
       "        text-align: right;\n",
       "    }\n",
       "</style>\n",
       "<table border=\"1\" class=\"dataframe\">\n",
       "  <thead>\n",
       "    <tr style=\"text-align: right;\">\n",
       "      <th></th>\n",
       "      <th>Precision</th>\n",
       "      <th>Recall</th>\n",
       "      <th>Cutoff</th>\n",
       "    </tr>\n",
       "  </thead>\n",
       "  <tbody>\n",
       "    <tr>\n",
       "      <th>0</th>\n",
       "      <td>0.303030</td>\n",
       "      <td>0.952381</td>\n",
       "      <td>0.064231</td>\n",
       "    </tr>\n",
       "    <tr>\n",
       "      <th>1</th>\n",
       "      <td>0.307692</td>\n",
       "      <td>0.952381</td>\n",
       "      <td>0.065486</td>\n",
       "    </tr>\n",
       "    <tr>\n",
       "      <th>2</th>\n",
       "      <td>0.327586</td>\n",
       "      <td>0.904762</td>\n",
       "      <td>0.077489</td>\n",
       "    </tr>\n",
       "  </tbody>\n",
       "</table>\n",
       "</div>"
      ],
      "text/plain": [
       "   Precision    Recall    Cutoff\n",
       "0   0.303030  0.952381  0.064231\n",
       "1   0.307692  0.952381  0.065486\n",
       "2   0.327586  0.904762  0.077489"
      ]
     },
     "execution_count": 185,
     "metadata": {},
     "output_type": "execute_result"
    }
   ],
   "source": [
    "cutoffs.sort_values(by= \"Recall\", ascending = False).reset_index(drop = True).head(3)"
   ]
  },
  {
   "cell_type": "code",
   "execution_count": 186,
   "id": "876f614b",
   "metadata": {},
   "outputs": [
    {
     "data": {
      "text/html": [
       "<div>\n",
       "<style scoped>\n",
       "    .dataframe tbody tr th:only-of-type {\n",
       "        vertical-align: middle;\n",
       "    }\n",
       "\n",
       "    .dataframe tbody tr th {\n",
       "        vertical-align: top;\n",
       "    }\n",
       "\n",
       "    .dataframe thead th {\n",
       "        text-align: right;\n",
       "    }\n",
       "</style>\n",
       "<table border=\"1\" class=\"dataframe\">\n",
       "  <thead>\n",
       "    <tr style=\"text-align: right;\">\n",
       "      <th></th>\n",
       "      <th>Precision</th>\n",
       "      <th>Recall</th>\n",
       "      <th>Cutoff</th>\n",
       "      <th>Euclidean_dist</th>\n",
       "    </tr>\n",
       "  </thead>\n",
       "  <tbody>\n",
       "    <tr>\n",
       "      <th>0</th>\n",
       "      <td>0.666667</td>\n",
       "      <td>0.095238</td>\n",
       "      <td>0.436074</td>\n",
       "      <td>0.673435</td>\n",
       "    </tr>\n",
       "    <tr>\n",
       "      <th>1</th>\n",
       "      <td>0.666667</td>\n",
       "      <td>0.190476</td>\n",
       "      <td>0.365095</td>\n",
       "      <td>0.693344</td>\n",
       "    </tr>\n",
       "    <tr>\n",
       "      <th>2</th>\n",
       "      <td>0.714286</td>\n",
       "      <td>0.238095</td>\n",
       "      <td>0.340700</td>\n",
       "      <td>0.752923</td>\n",
       "    </tr>\n",
       "  </tbody>\n",
       "</table>\n",
       "</div>"
      ],
      "text/plain": [
       "   Precision    Recall    Cutoff  Euclidean_dist\n",
       "0   0.666667  0.095238  0.436074        0.673435\n",
       "1   0.666667  0.190476  0.365095        0.693344\n",
       "2   0.714286  0.238095  0.340700        0.752923"
      ]
     },
     "execution_count": 186,
     "metadata": {},
     "output_type": "execute_result"
    }
   ],
   "source": [
    "# Finding the optimal cut-off\n",
    "cutoffs['Euclidean_dist'] = np.sqrt(cutoffs['Precision']**2 + cutoffs['Recall']**2)\n",
    "\n",
    "## Sorting based on the Euclidean distance\n",
    "cutoffs.sort_values(by = 'Euclidean_dist').reset_index(drop = True).head(3)"
   ]
  },
  {
   "cell_type": "code",
   "execution_count": 187,
   "id": "aa375ce2",
   "metadata": {},
   "outputs": [
    {
     "name": "stdout",
     "output_type": "stream",
     "text": [
      "              precision    recall  f1-score   support\n",
      "\n",
      "           0       0.95      1.00      0.97       355\n",
      "           1       0.75      0.14      0.24        21\n",
      "\n",
      "    accuracy                           0.95       376\n",
      "   macro avg       0.85      0.57      0.61       376\n",
      "weighted avg       0.94      0.95      0.93       376\n",
      "\n"
     ]
    }
   ],
   "source": [
    "# Finding the optimal cut-off\n",
    "cutoffs['Euclidean_dist'] = np.sqrt(cutoffs['Precision']**2 + cutoffs['Recall']**2)\n",
    "\n",
    "## Sorting based on the Euclidean distance\n",
    "cutoffs = cutoffs.sort_values(by = 'Euclidean_dist').reset_index(drop = True).head(3)\n",
    "\n",
    "## Changing likelihoods to labels\n",
    "rf_pred = np.where(rf_pred < cutoffs['Cutoff'][0], 0, 1)\n",
    "\n",
    "# Printing classification report\n",
    "print(classification_report(Y_test, rf_pred))"
   ]
  },
  {
   "cell_type": "code",
   "execution_count": 188,
   "id": "517fdcac",
   "metadata": {},
   "outputs": [
    {
     "name": "stdout",
     "output_type": "stream",
     "text": [
      "              precision    recall  f1-score   support\n",
      "\n",
      "           0       1.00      0.94      0.97       355\n",
      "           1       0.51      1.00      0.68        21\n",
      "\n",
      "    accuracy                           0.95       376\n",
      "   macro avg       0.76      0.97      0.82       376\n",
      "weighted avg       0.97      0.95      0.95       376\n",
      "\n"
     ]
    }
   ],
   "source": [
    "#### AdaBoost Classifier\n",
    "Ada_md = AdaBoostClassifier(base_estimator = DecisionTreeClassifier(max_depth = 3), n_estimators = 500, learning_rate = 0.01).fit(X_train, Y_train)\n",
    "    \n",
    "# Predicting on test\n",
    "ADA_pred = Ada_md.predict_proba(X_test)[:,1]\n",
    "\n",
    "# Computing precision_recall_curve\n",
    "precision, recall, threshold = precision_recall_curve(Y_test, ADA_pred)\n",
    "\n",
    "# Creating a data-frame\n",
    "cutoffs_ADA = pd.DataFrame({'Precision': precision, 'Recall': recall})\n",
    "cutoffs_ADA = cutoffs_ADA.tail(cutoffs_ADA.shape[0] -1)\n",
    "cutoffs_ADA['Cutoff'] = threshold\n",
    "\n",
    "# Finding the optimal cut-off\n",
    "cutoffs_ADA['Euclidean_dist'] = np.sqrt(cutoffs['Precision']**2 + cutoffs['Recall']**2)\n",
    "\n",
    "## Sorting based on the Euclidean distance\n",
    "cutoffs_ADA = cutoffs_ADA.sort_values(by = 'Euclidean_dist').reset_index(drop = True)\n",
    "\n",
    "## Changing likelihoods to labels\n",
    "ADA_pred = np.where(ADA_pred < cutoffs_ADA['Cutoff'][0], 0, 1)\n",
    "\n",
    "# Printing classification report\n",
    "print(classification_report(Y_test, ADA_pred))"
   ]
  },
  {
   "cell_type": "markdown",
   "id": "fb4420c0",
   "metadata": {},
   "source": [
    "### Using the results from part (b) and (c), I would use the AdaBoost mode to predict customer fraud because it had a much higher Recall score with an 51% precision in class 1."
   ]
  }
 ],
 "metadata": {
  "kernelspec": {
   "display_name": "conda_python3",
   "language": "python",
   "name": "conda_python3"
  },
  "language_info": {
   "codemirror_mode": {
    "name": "ipython",
    "version": 3
   },
   "file_extension": ".py",
   "mimetype": "text/x-python",
   "name": "python",
   "nbconvert_exporter": "python",
   "pygments_lexer": "ipython3",
   "version": "3.6.13"
  }
 },
 "nbformat": 4,
 "nbformat_minor": 5
}
