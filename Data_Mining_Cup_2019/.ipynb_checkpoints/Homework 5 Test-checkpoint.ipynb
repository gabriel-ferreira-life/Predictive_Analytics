{
 "cells": [
  {
   "cell_type": "code",
   "execution_count": 1,
   "id": "1a3b133c",
   "metadata": {},
   "outputs": [
    {
     "data": {
      "text/plain": [
       "(498121, 40)"
      ]
     },
     "execution_count": 1,
     "metadata": {},
     "output_type": "execute_result"
    }
   ],
   "source": [
    "import boto3\n",
    "import pandas as pd; pd.set_option('display.max_columns', 50)\n",
    "import matplotlib.pyplot as plt\n",
    "import numpy as np\n",
    "import seaborn as sns\n",
    "from sklearn.preprocessing import MinMaxScaler\n",
    "from scipy.stats import boxcox\n",
    "from sklearn.model_selection import train_test_split\n",
    "from sklearn.ensemble import RandomForestClassifier, AdaBoostClassifier\n",
    "from sklearn.metrics import confusion_matrix, classification_report\n",
    "from sklearn.multiclass import OneVsRestClassifier\n",
    "from sklearn.tree import DecisionTreeClassifier, plot_tree\n",
    "from sklearn.neighbors import NearestNeighbors\n",
    "from sklearn.cluster import KMeans\n",
    "from sklearn.metrics import calinski_harabasz_score, davies_bouldin_score, silhouette_score\n",
    "import precision_recall_cutoff\n",
    "import Feature_Importance_Funs\n",
    "\n",
    "# reading updated test dataset\n",
    "test = pd.read_csv('test_dataset.csv')\n",
    "test = test.dropna()\n",
    "test.shape"
   ]
  },
  {
   "cell_type": "code",
   "execution_count": 2,
   "id": "5666a89d",
   "metadata": {},
   "outputs": [
    {
     "data": {
      "text/plain": [
       "(498121, 40)"
      ]
     },
     "execution_count": 2,
     "metadata": {},
     "output_type": "execute_result"
    }
   ],
   "source": [
    "test.shape"
   ]
  },
  {
   "cell_type": "code",
   "execution_count": 4,
   "id": "96d530c6",
   "metadata": {},
   "outputs": [],
   "source": [
    "## Engineering features using the strong heredity principle\n",
    "test['heredity_1'] = test['interaction_1'] * test['trustLevel']\n",
    "\n",
    "test['heredity_2'] = test['interaction_1'] * test['Labels']\n",
    "\n",
    "test['heredity_3'] = test['trustLevel'] * test['Labels']"
   ]
  },
  {
   "cell_type": "code",
   "execution_count": 5,
   "id": "7c4d6e2b",
   "metadata": {},
   "outputs": [],
   "source": [
    "test['interaction_9'] = np.where(test['heredity_1'] > 0.5, 1, 0)"
   ]
  },
  {
   "cell_type": "code",
   "execution_count": 6,
   "id": "53b0683a",
   "metadata": {},
   "outputs": [
    {
     "data": {
      "text/plain": [
       "(498121, 44)"
      ]
     },
     "execution_count": 6,
     "metadata": {},
     "output_type": "execute_result"
    }
   ],
   "source": [
    "test.shape"
   ]
  },
  {
   "cell_type": "code",
   "execution_count": null,
   "id": "25e26888",
   "metadata": {},
   "outputs": [],
   "source": [
    " "
   ]
  }
 ],
 "metadata": {
  "kernelspec": {
   "display_name": "conda_python3",
   "language": "python",
   "name": "conda_python3"
  },
  "language_info": {
   "codemirror_mode": {
    "name": "ipython",
    "version": 3
   },
   "file_extension": ".py",
   "mimetype": "text/x-python",
   "name": "python",
   "nbconvert_exporter": "python",
   "pygments_lexer": "ipython3",
   "version": "3.6.13"
  }
 },
 "nbformat": 4,
 "nbformat_minor": 5
}
