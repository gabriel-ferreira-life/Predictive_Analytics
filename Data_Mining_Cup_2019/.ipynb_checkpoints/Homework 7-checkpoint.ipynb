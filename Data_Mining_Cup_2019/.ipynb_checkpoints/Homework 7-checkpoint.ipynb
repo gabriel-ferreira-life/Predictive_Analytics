{
 "cells": [
  {
   "cell_type": "code",
   "execution_count": 42,
   "id": "5c39b4ad",
   "metadata": {},
   "outputs": [
    {
     "data": {
      "text/plain": [
       "(498121, 44)"
      ]
     },
     "execution_count": 42,
     "metadata": {},
     "output_type": "execute_result"
    }
   ],
   "source": [
    "import boto3\n",
    "import pandas as pd; pd.set_option('display.max_columns', 50)\n",
    "import matplotlib.pyplot as plt\n",
    "import numpy as np\n",
    "import seaborn as sns\n",
    "import precision_recall_cutoff\n",
    "from cost_function import cost_function, cost_function_cutoff\n",
    "from sklearn.preprocessing import MinMaxScaler\n",
    "from scipy.stats import boxcox\n",
    "from sklearn.svm import SVC\n",
    "from sklearn.model_selection import train_test_split\n",
    "from sklearn.ensemble import RandomForestClassifier, AdaBoostClassifier\n",
    "from sklearn.metrics import confusion_matrix, classification_report\n",
    "from sklearn.multiclass import OneVsRestClassifier\n",
    "from sklearn.tree import DecisionTreeClassifier, plot_tree\n",
    "from sklearn.metrics import confusion_matrix, classification_report, make_scorer\n",
    "from sklearn.model_selection import train_test_split, GridSearchCV, RandomizedSearchCV\n",
    "\n",
    "\n",
    "# Reading the csv file\n",
    "train = pd.read_csv('train_dataset.csv')\n",
    "\n",
    "# Defining the file to be read from s3 bucket\n",
    "test = pd.read_csv('test_dataset.csv')\n",
    "test = test.dropna()\n",
    "test.shape"
   ]
  },
  {
   "cell_type": "code",
   "execution_count": 43,
   "id": "78fbaacb",
   "metadata": {},
   "outputs": [
    {
     "data": {
      "text/plain": [
       "(1879, 45)"
      ]
     },
     "execution_count": 43,
     "metadata": {},
     "output_type": "execute_result"
    }
   ],
   "source": [
    "train.shape"
   ]
  },
  {
   "cell_type": "code",
   "execution_count": 44,
   "id": "231e89d4",
   "metadata": {},
   "outputs": [
    {
     "data": {
      "text/html": [
       "<div>\n",
       "<style scoped>\n",
       "    .dataframe tbody tr th:only-of-type {\n",
       "        vertical-align: middle;\n",
       "    }\n",
       "\n",
       "    .dataframe tbody tr th {\n",
       "        vertical-align: top;\n",
       "    }\n",
       "\n",
       "    .dataframe thead th {\n",
       "        text-align: right;\n",
       "    }\n",
       "</style>\n",
       "<table border=\"1\" class=\"dataframe\">\n",
       "  <thead>\n",
       "    <tr style=\"text-align: right;\">\n",
       "      <th></th>\n",
       "      <th>trustLevel</th>\n",
       "      <th>totalScanTimeInSeconds</th>\n",
       "      <th>grandTotal</th>\n",
       "      <th>lineItemVoids</th>\n",
       "      <th>scansWithoutRegistration</th>\n",
       "      <th>quantityModifications</th>\n",
       "      <th>scannedLineItemsPerSecond</th>\n",
       "      <th>valuePerSecond</th>\n",
       "      <th>lineItemVoidsPerPosition</th>\n",
       "      <th>fraud</th>\n",
       "      <th>interaction_1</th>\n",
       "      <th>interaction_2</th>\n",
       "      <th>interaction_3</th>\n",
       "      <th>interaction_4</th>\n",
       "      <th>average_seconds_per_item</th>\n",
       "      <th>trustLevel_1</th>\n",
       "      <th>trustLevel_2</th>\n",
       "      <th>trustLevel_3</th>\n",
       "      <th>trustLevel_4</th>\n",
       "      <th>trustLevel_5</th>\n",
       "      <th>trustLevel_6</th>\n",
       "      <th>totalScanTimeInSeconds_0_1</th>\n",
       "      <th>grandTotal_0_1</th>\n",
       "      <th>lineItemVoids_0_1</th>\n",
       "      <th>scansWithoutRegistration_0_1</th>\n",
       "      <th>quantityModifications_0_1</th>\n",
       "      <th>scannedLineItemsPerSecond_0_1</th>\n",
       "      <th>valuePerSecond_0_1</th>\n",
       "      <th>lineItemVoidsPerPosition_0_1</th>\n",
       "      <th>average_seconds_per_item_01</th>\n",
       "      <th>Labels</th>\n",
       "      <th>Labels_0</th>\n",
       "      <th>Labels_1</th>\n",
       "      <th>Labels_2</th>\n",
       "      <th>Labels_3</th>\n",
       "      <th>Labels_4</th>\n",
       "      <th>Labels_5</th>\n",
       "      <th>interaction_5</th>\n",
       "      <th>interaction_6</th>\n",
       "      <th>interaction_7</th>\n",
       "      <th>interaction_8</th>\n",
       "      <th>heredity_1</th>\n",
       "      <th>heredity_2</th>\n",
       "      <th>heredity_3</th>\n",
       "      <th>interaction_9</th>\n",
       "    </tr>\n",
       "  </thead>\n",
       "  <tbody>\n",
       "    <tr>\n",
       "      <th>0</th>\n",
       "      <td>5</td>\n",
       "      <td>1054</td>\n",
       "      <td>54.70</td>\n",
       "      <td>7</td>\n",
       "      <td>0</td>\n",
       "      <td>3</td>\n",
       "      <td>0.027514</td>\n",
       "      <td>0.051898</td>\n",
       "      <td>0.241379</td>\n",
       "      <td>0</td>\n",
       "      <td>0</td>\n",
       "      <td>0</td>\n",
       "      <td>0</td>\n",
       "      <td>1</td>\n",
       "      <td>19.27</td>\n",
       "      <td>0</td>\n",
       "      <td>0</td>\n",
       "      <td>0</td>\n",
       "      <td>0</td>\n",
       "      <td>1</td>\n",
       "      <td>0</td>\n",
       "      <td>0.575178</td>\n",
       "      <td>0.547174</td>\n",
       "      <td>0.636364</td>\n",
       "      <td>0.0</td>\n",
       "      <td>0.6</td>\n",
       "      <td>0.004045</td>\n",
       "      <td>0.001370</td>\n",
       "      <td>0.021944</td>\n",
       "      <td>0.000131</td>\n",
       "      <td>0</td>\n",
       "      <td>1</td>\n",
       "      <td>0</td>\n",
       "      <td>0</td>\n",
       "      <td>0</td>\n",
       "      <td>0</td>\n",
       "      <td>0</td>\n",
       "      <td>0.000000</td>\n",
       "      <td>0.002427</td>\n",
       "      <td>0.314722</td>\n",
       "      <td>0</td>\n",
       "      <td>0</td>\n",
       "      <td>0</td>\n",
       "      <td>0</td>\n",
       "      <td>0</td>\n",
       "    </tr>\n",
       "    <tr>\n",
       "      <th>1</th>\n",
       "      <td>3</td>\n",
       "      <td>108</td>\n",
       "      <td>27.36</td>\n",
       "      <td>5</td>\n",
       "      <td>2</td>\n",
       "      <td>4</td>\n",
       "      <td>0.129630</td>\n",
       "      <td>0.253333</td>\n",
       "      <td>0.357143</td>\n",
       "      <td>0</td>\n",
       "      <td>0</td>\n",
       "      <td>0</td>\n",
       "      <td>0</td>\n",
       "      <td>1</td>\n",
       "      <td>3.95</td>\n",
       "      <td>0</td>\n",
       "      <td>0</td>\n",
       "      <td>1</td>\n",
       "      <td>0</td>\n",
       "      <td>0</td>\n",
       "      <td>0</td>\n",
       "      <td>0.057955</td>\n",
       "      <td>0.273637</td>\n",
       "      <td>0.454545</td>\n",
       "      <td>0.2</td>\n",
       "      <td>0.8</td>\n",
       "      <td>0.019364</td>\n",
       "      <td>0.006689</td>\n",
       "      <td>0.032468</td>\n",
       "      <td>0.000027</td>\n",
       "      <td>1</td>\n",
       "      <td>0</td>\n",
       "      <td>1</td>\n",
       "      <td>0</td>\n",
       "      <td>0</td>\n",
       "      <td>0</td>\n",
       "      <td>0</td>\n",
       "      <td>0.090909</td>\n",
       "      <td>0.015491</td>\n",
       "      <td>0.015859</td>\n",
       "      <td>0</td>\n",
       "      <td>0</td>\n",
       "      <td>0</td>\n",
       "      <td>3</td>\n",
       "      <td>0</td>\n",
       "    </tr>\n",
       "    <tr>\n",
       "      <th>2</th>\n",
       "      <td>3</td>\n",
       "      <td>1516</td>\n",
       "      <td>62.16</td>\n",
       "      <td>3</td>\n",
       "      <td>10</td>\n",
       "      <td>5</td>\n",
       "      <td>0.008575</td>\n",
       "      <td>0.041003</td>\n",
       "      <td>0.230769</td>\n",
       "      <td>0</td>\n",
       "      <td>0</td>\n",
       "      <td>0</td>\n",
       "      <td>0</td>\n",
       "      <td>1</td>\n",
       "      <td>24.39</td>\n",
       "      <td>0</td>\n",
       "      <td>0</td>\n",
       "      <td>1</td>\n",
       "      <td>0</td>\n",
       "      <td>0</td>\n",
       "      <td>0</td>\n",
       "      <td>0.827775</td>\n",
       "      <td>0.621811</td>\n",
       "      <td>0.272727</td>\n",
       "      <td>1.0</td>\n",
       "      <td>1.0</td>\n",
       "      <td>0.001204</td>\n",
       "      <td>0.001083</td>\n",
       "      <td>0.020979</td>\n",
       "      <td>0.000165</td>\n",
       "      <td>5</td>\n",
       "      <td>0</td>\n",
       "      <td>0</td>\n",
       "      <td>0</td>\n",
       "      <td>0</td>\n",
       "      <td>0</td>\n",
       "      <td>1</td>\n",
       "      <td>0.272727</td>\n",
       "      <td>0.001204</td>\n",
       "      <td>0.514719</td>\n",
       "      <td>0</td>\n",
       "      <td>0</td>\n",
       "      <td>0</td>\n",
       "      <td>15</td>\n",
       "      <td>0</td>\n",
       "    </tr>\n",
       "    <tr>\n",
       "      <th>3</th>\n",
       "      <td>6</td>\n",
       "      <td>1791</td>\n",
       "      <td>92.31</td>\n",
       "      <td>8</td>\n",
       "      <td>4</td>\n",
       "      <td>4</td>\n",
       "      <td>0.016192</td>\n",
       "      <td>0.051541</td>\n",
       "      <td>0.275862</td>\n",
       "      <td>0</td>\n",
       "      <td>0</td>\n",
       "      <td>0</td>\n",
       "      <td>0</td>\n",
       "      <td>1</td>\n",
       "      <td>19.40</td>\n",
       "      <td>0</td>\n",
       "      <td>0</td>\n",
       "      <td>0</td>\n",
       "      <td>0</td>\n",
       "      <td>0</td>\n",
       "      <td>1</td>\n",
       "      <td>0.978130</td>\n",
       "      <td>0.923462</td>\n",
       "      <td>0.727273</td>\n",
       "      <td>0.4</td>\n",
       "      <td>0.8</td>\n",
       "      <td>0.002347</td>\n",
       "      <td>0.001361</td>\n",
       "      <td>0.025078</td>\n",
       "      <td>0.000132</td>\n",
       "      <td>2</td>\n",
       "      <td>0</td>\n",
       "      <td>0</td>\n",
       "      <td>1</td>\n",
       "      <td>0</td>\n",
       "      <td>0</td>\n",
       "      <td>0</td>\n",
       "      <td>0.290909</td>\n",
       "      <td>0.001877</td>\n",
       "      <td>0.903266</td>\n",
       "      <td>0</td>\n",
       "      <td>0</td>\n",
       "      <td>0</td>\n",
       "      <td>12</td>\n",
       "      <td>0</td>\n",
       "    </tr>\n",
       "    <tr>\n",
       "      <th>4</th>\n",
       "      <td>5</td>\n",
       "      <td>430</td>\n",
       "      <td>81.53</td>\n",
       "      <td>3</td>\n",
       "      <td>7</td>\n",
       "      <td>2</td>\n",
       "      <td>0.062791</td>\n",
       "      <td>0.189605</td>\n",
       "      <td>0.111111</td>\n",
       "      <td>0</td>\n",
       "      <td>0</td>\n",
       "      <td>0</td>\n",
       "      <td>0</td>\n",
       "      <td>1</td>\n",
       "      <td>5.27</td>\n",
       "      <td>0</td>\n",
       "      <td>0</td>\n",
       "      <td>0</td>\n",
       "      <td>0</td>\n",
       "      <td>1</td>\n",
       "      <td>0</td>\n",
       "      <td>0.234008</td>\n",
       "      <td>0.815608</td>\n",
       "      <td>0.272727</td>\n",
       "      <td>0.7</td>\n",
       "      <td>0.4</td>\n",
       "      <td>0.009337</td>\n",
       "      <td>0.005007</td>\n",
       "      <td>0.010101</td>\n",
       "      <td>0.000036</td>\n",
       "      <td>4</td>\n",
       "      <td>0</td>\n",
       "      <td>0</td>\n",
       "      <td>0</td>\n",
       "      <td>0</td>\n",
       "      <td>1</td>\n",
       "      <td>0</td>\n",
       "      <td>0.190909</td>\n",
       "      <td>0.003735</td>\n",
       "      <td>0.190858</td>\n",
       "      <td>0</td>\n",
       "      <td>0</td>\n",
       "      <td>0</td>\n",
       "      <td>20</td>\n",
       "      <td>0</td>\n",
       "    </tr>\n",
       "  </tbody>\n",
       "</table>\n",
       "</div>"
      ],
      "text/plain": [
       "   trustLevel  totalScanTimeInSeconds  grandTotal  lineItemVoids  \\\n",
       "0           5                    1054       54.70              7   \n",
       "1           3                     108       27.36              5   \n",
       "2           3                    1516       62.16              3   \n",
       "3           6                    1791       92.31              8   \n",
       "4           5                     430       81.53              3   \n",
       "\n",
       "   scansWithoutRegistration  quantityModifications  scannedLineItemsPerSecond  \\\n",
       "0                         0                      3                   0.027514   \n",
       "1                         2                      4                   0.129630   \n",
       "2                        10                      5                   0.008575   \n",
       "3                         4                      4                   0.016192   \n",
       "4                         7                      2                   0.062791   \n",
       "\n",
       "   valuePerSecond  lineItemVoidsPerPosition  fraud  interaction_1  \\\n",
       "0        0.051898                  0.241379      0              0   \n",
       "1        0.253333                  0.357143      0              0   \n",
       "2        0.041003                  0.230769      0              0   \n",
       "3        0.051541                  0.275862      0              0   \n",
       "4        0.189605                  0.111111      0              0   \n",
       "\n",
       "   interaction_2  interaction_3  interaction_4  average_seconds_per_item  \\\n",
       "0              0              0              1                     19.27   \n",
       "1              0              0              1                      3.95   \n",
       "2              0              0              1                     24.39   \n",
       "3              0              0              1                     19.40   \n",
       "4              0              0              1                      5.27   \n",
       "\n",
       "   trustLevel_1  trustLevel_2  trustLevel_3  trustLevel_4  trustLevel_5  \\\n",
       "0             0             0             0             0             1   \n",
       "1             0             0             1             0             0   \n",
       "2             0             0             1             0             0   \n",
       "3             0             0             0             0             0   \n",
       "4             0             0             0             0             1   \n",
       "\n",
       "   trustLevel_6  totalScanTimeInSeconds_0_1  grandTotal_0_1  \\\n",
       "0             0                    0.575178        0.547174   \n",
       "1             0                    0.057955        0.273637   \n",
       "2             0                    0.827775        0.621811   \n",
       "3             1                    0.978130        0.923462   \n",
       "4             0                    0.234008        0.815608   \n",
       "\n",
       "   lineItemVoids_0_1  scansWithoutRegistration_0_1  quantityModifications_0_1  \\\n",
       "0           0.636364                           0.0                        0.6   \n",
       "1           0.454545                           0.2                        0.8   \n",
       "2           0.272727                           1.0                        1.0   \n",
       "3           0.727273                           0.4                        0.8   \n",
       "4           0.272727                           0.7                        0.4   \n",
       "\n",
       "   scannedLineItemsPerSecond_0_1  valuePerSecond_0_1  \\\n",
       "0                       0.004045            0.001370   \n",
       "1                       0.019364            0.006689   \n",
       "2                       0.001204            0.001083   \n",
       "3                       0.002347            0.001361   \n",
       "4                       0.009337            0.005007   \n",
       "\n",
       "   lineItemVoidsPerPosition_0_1  average_seconds_per_item_01  Labels  \\\n",
       "0                      0.021944                     0.000131       0   \n",
       "1                      0.032468                     0.000027       1   \n",
       "2                      0.020979                     0.000165       5   \n",
       "3                      0.025078                     0.000132       2   \n",
       "4                      0.010101                     0.000036       4   \n",
       "\n",
       "   Labels_0  Labels_1  Labels_2  Labels_3  Labels_4  Labels_5  interaction_5  \\\n",
       "0         1         0         0         0         0         0       0.000000   \n",
       "1         0         1         0         0         0         0       0.090909   \n",
       "2         0         0         0         0         0         1       0.272727   \n",
       "3         0         0         1         0         0         0       0.290909   \n",
       "4         0         0         0         0         1         0       0.190909   \n",
       "\n",
       "   interaction_6  interaction_7  interaction_8  heredity_1  heredity_2  \\\n",
       "0       0.002427       0.314722              0           0           0   \n",
       "1       0.015491       0.015859              0           0           0   \n",
       "2       0.001204       0.514719              0           0           0   \n",
       "3       0.001877       0.903266              0           0           0   \n",
       "4       0.003735       0.190858              0           0           0   \n",
       "\n",
       "   heredity_3  interaction_9  \n",
       "0           0              0  \n",
       "1           3              0  \n",
       "2          15              0  \n",
       "3          12              0  \n",
       "4          20              0  "
      ]
     },
     "execution_count": 44,
     "metadata": {},
     "output_type": "execute_result"
    }
   ],
   "source": [
    "train.head()"
   ]
  },
  {
   "cell_type": "code",
   "execution_count": 45,
   "id": "cfd1ae54",
   "metadata": {},
   "outputs": [
    {
     "data": {
      "text/html": [
       "<div>\n",
       "<style scoped>\n",
       "    .dataframe tbody tr th:only-of-type {\n",
       "        vertical-align: middle;\n",
       "    }\n",
       "\n",
       "    .dataframe tbody tr th {\n",
       "        vertical-align: top;\n",
       "    }\n",
       "\n",
       "    .dataframe thead th {\n",
       "        text-align: right;\n",
       "    }\n",
       "</style>\n",
       "<table border=\"1\" class=\"dataframe\">\n",
       "  <thead>\n",
       "    <tr style=\"text-align: right;\">\n",
       "      <th></th>\n",
       "      <th>totalScanTimeInSeconds</th>\n",
       "      <th>interaction_1</th>\n",
       "      <th>interaction_4</th>\n",
       "      <th>heredity_1</th>\n",
       "      <th>interaction_9</th>\n",
       "      <th>heredity_2</th>\n",
       "      <th>interaction_5</th>\n",
       "    </tr>\n",
       "  </thead>\n",
       "  <tbody>\n",
       "    <tr>\n",
       "      <th>0</th>\n",
       "      <td>0.307523</td>\n",
       "      <td>0.0</td>\n",
       "      <td>1.0</td>\n",
       "      <td>0.0</td>\n",
       "      <td>0.0</td>\n",
       "      <td>0.0</td>\n",
       "      <td>0.000000</td>\n",
       "    </tr>\n",
       "    <tr>\n",
       "      <th>1</th>\n",
       "      <td>0.785832</td>\n",
       "      <td>0.0</td>\n",
       "      <td>1.0</td>\n",
       "      <td>0.0</td>\n",
       "      <td>0.0</td>\n",
       "      <td>0.0</td>\n",
       "      <td>0.600000</td>\n",
       "    </tr>\n",
       "    <tr>\n",
       "      <th>2</th>\n",
       "      <td>0.177375</td>\n",
       "      <td>0.0</td>\n",
       "      <td>1.0</td>\n",
       "      <td>0.0</td>\n",
       "      <td>0.0</td>\n",
       "      <td>0.0</td>\n",
       "      <td>0.381818</td>\n",
       "    </tr>\n",
       "    <tr>\n",
       "      <th>3</th>\n",
       "      <td>0.259747</td>\n",
       "      <td>0.0</td>\n",
       "      <td>1.0</td>\n",
       "      <td>0.0</td>\n",
       "      <td>0.0</td>\n",
       "      <td>0.0</td>\n",
       "      <td>0.036364</td>\n",
       "    </tr>\n",
       "    <tr>\n",
       "      <th>4</th>\n",
       "      <td>0.049423</td>\n",
       "      <td>0.0</td>\n",
       "      <td>1.0</td>\n",
       "      <td>0.0</td>\n",
       "      <td>0.0</td>\n",
       "      <td>0.0</td>\n",
       "      <td>0.218182</td>\n",
       "    </tr>\n",
       "    <tr>\n",
       "      <th>...</th>\n",
       "      <td>...</td>\n",
       "      <td>...</td>\n",
       "      <td>...</td>\n",
       "      <td>...</td>\n",
       "      <td>...</td>\n",
       "      <td>...</td>\n",
       "      <td>...</td>\n",
       "    </tr>\n",
       "    <tr>\n",
       "      <th>295</th>\n",
       "      <td>0.515102</td>\n",
       "      <td>0.0</td>\n",
       "      <td>1.0</td>\n",
       "      <td>0.0</td>\n",
       "      <td>0.0</td>\n",
       "      <td>0.0</td>\n",
       "      <td>0.109091</td>\n",
       "    </tr>\n",
       "    <tr>\n",
       "      <th>296</th>\n",
       "      <td>0.831411</td>\n",
       "      <td>0.0</td>\n",
       "      <td>1.0</td>\n",
       "      <td>0.0</td>\n",
       "      <td>0.0</td>\n",
       "      <td>0.0</td>\n",
       "      <td>0.381818</td>\n",
       "    </tr>\n",
       "    <tr>\n",
       "      <th>297</th>\n",
       "      <td>0.896760</td>\n",
       "      <td>0.0</td>\n",
       "      <td>1.0</td>\n",
       "      <td>0.0</td>\n",
       "      <td>0.0</td>\n",
       "      <td>0.0</td>\n",
       "      <td>0.327273</td>\n",
       "    </tr>\n",
       "    <tr>\n",
       "      <th>298</th>\n",
       "      <td>0.706205</td>\n",
       "      <td>0.0</td>\n",
       "      <td>0.0</td>\n",
       "      <td>0.0</td>\n",
       "      <td>0.0</td>\n",
       "      <td>0.0</td>\n",
       "      <td>0.254545</td>\n",
       "    </tr>\n",
       "    <tr>\n",
       "      <th>299</th>\n",
       "      <td>0.467875</td>\n",
       "      <td>0.0</td>\n",
       "      <td>0.0</td>\n",
       "      <td>0.0</td>\n",
       "      <td>0.0</td>\n",
       "      <td>0.0</td>\n",
       "      <td>0.081818</td>\n",
       "    </tr>\n",
       "  </tbody>\n",
       "</table>\n",
       "<p>300 rows × 7 columns</p>\n",
       "</div>"
      ],
      "text/plain": [
       "     totalScanTimeInSeconds  interaction_1  interaction_4  heredity_1  \\\n",
       "0                  0.307523            0.0            1.0         0.0   \n",
       "1                  0.785832            0.0            1.0         0.0   \n",
       "2                  0.177375            0.0            1.0         0.0   \n",
       "3                  0.259747            0.0            1.0         0.0   \n",
       "4                  0.049423            0.0            1.0         0.0   \n",
       "..                      ...            ...            ...         ...   \n",
       "295                0.515102            0.0            1.0         0.0   \n",
       "296                0.831411            0.0            1.0         0.0   \n",
       "297                0.896760            0.0            1.0         0.0   \n",
       "298                0.706205            0.0            0.0         0.0   \n",
       "299                0.467875            0.0            0.0         0.0   \n",
       "\n",
       "     interaction_9  heredity_2  interaction_5  \n",
       "0              0.0         0.0       0.000000  \n",
       "1              0.0         0.0       0.600000  \n",
       "2              0.0         0.0       0.381818  \n",
       "3              0.0         0.0       0.036364  \n",
       "4              0.0         0.0       0.218182  \n",
       "..             ...         ...            ...  \n",
       "295            0.0         0.0       0.109091  \n",
       "296            0.0         0.0       0.381818  \n",
       "297            0.0         0.0       0.327273  \n",
       "298            0.0         0.0       0.254545  \n",
       "299            0.0         0.0       0.081818  \n",
       "\n",
       "[300 rows x 7 columns]"
      ]
     },
     "execution_count": 45,
     "metadata": {},
     "output_type": "execute_result"
    }
   ],
   "source": [
    "# Defining input and target variables\n",
    "X = train[['totalScanTimeInSeconds', 'interaction_1', 'interaction_4', 'heredity_1', 'interaction_9', 'heredity_2', 'interaction_5']]\n",
    "Y = train['fraud']\n",
    "\n",
    "# Splitting the data into train, test, and validation\n",
    "X_train, X_val, Y_train, Y_val = train_test_split(X, Y, test_size = 0.2)\n",
    "X_val, X_test, Y_val, Y_test = train_test_split(X_val, Y_val, test_size = 0.2)\n",
    "\n",
    "\n",
    "# Scaling the data\n",
    "scaler = MinMaxScaler()\n",
    "X_train = scaler.fit_transform(X_train)\n",
    "X_train = pd.DataFrame(X_train, columns = X.columns)\n",
    "\n",
    "X_test = scaler.fit_transform(X_test)\n",
    "X_test = pd.DataFrame(X_test, columns = X.columns)\n",
    "\n",
    "X_val = scaler.fit_transform(X_val)\n",
    "X_val = pd.DataFrame(X_val, columns = X.columns)\n",
    "\n",
    "\n",
    "X_val"
   ]
  },
  {
   "cell_type": "code",
   "execution_count": 46,
   "id": "42055e07",
   "metadata": {},
   "outputs": [],
   "source": [
    "# Defining top 7, 6, and 5 variables\n",
    "# Train dataset\n",
    "X_train_7 = X_train\n",
    "X_train_6 = X_train[['totalScanTimeInSeconds', 'interaction_1', 'interaction_4', 'heredity_1', 'interaction_9', 'heredity_2']]\n",
    "X_train_5 = X_train[['totalScanTimeInSeconds', 'interaction_1', 'interaction_4', 'heredity_1', 'interaction_9']]\n",
    "\n",
    "# Test dataset\n",
    "X_test_7 = X_test\n",
    "X_test_6 = X_test[['totalScanTimeInSeconds', 'interaction_1', 'interaction_4', 'heredity_1', 'interaction_9', 'heredity_2']]\n",
    "X_test_5 = X_test[['totalScanTimeInSeconds', 'interaction_1', 'interaction_4', 'heredity_1', 'interaction_9']]\n",
    "\n",
    "# Validation dataset\n",
    "X_val_7 = X_val\n",
    "X_val_6 = X_val[['totalScanTimeInSeconds', 'interaction_1', 'interaction_4', 'heredity_1', 'interaction_9', 'heredity_2']]\n",
    "X_val_5 = X_val[['totalScanTimeInSeconds', 'interaction_1', 'interaction_4', 'heredity_1', 'interaction_9']]\n"
   ]
  },
  {
   "cell_type": "markdown",
   "id": "8f95997e",
   "metadata": {},
   "source": [
    "### Random Forest Model"
   ]
  },
  {
   "cell_type": "markdown",
   "id": "b782a975",
   "metadata": {},
   "source": [
    "### Fitting the model with the top 5 features"
   ]
  },
  {
   "cell_type": "code",
   "execution_count": 47,
   "id": "a20fefec",
   "metadata": {},
   "outputs": [
    {
     "data": {
      "text/plain": [
       "RandomForestClassifier(max_depth=5, min_samples_leaf=7, min_samples_split=10,\n",
       "                       n_estimators=300)"
      ]
     },
     "execution_count": 47,
     "metadata": {},
     "output_type": "execute_result"
    }
   ],
   "source": [
    "## Defining the hyper-parameters for RF\n",
    "RF_param_grid = {'n_estimators': [100, 300, 500],\n",
    "                 'min_samples_split': [10, 15], \n",
    "                 'min_samples_leaf': [5, 7], \n",
    "                 'max_depth' : [3, 5, 7]}\n",
    "\n",
    "# Defining customized scoring function\n",
    "my_score_function = make_scorer(cost_function, greater_is_better = True, needs_proba = True)\n",
    "\n",
    "# Performing GridSearch\n",
    "RF_grid_search = GridSearchCV(RandomForestClassifier(), RF_param_grid, cv = 3, scoring = my_score_function, n_jobs = -1).fit(X_train_5, Y_train)\n",
    "\n",
    "# Extracting the best model\n",
    "RF_model = RF_grid_search.best_estimator_\n",
    "RF_model"
   ]
  },
  {
   "cell_type": "code",
   "execution_count": 48,
   "id": "f9bc4931",
   "metadata": {
    "collapsed": true,
    "jupyter": {
     "outputs_hidden": true
    }
   },
   "outputs": [
    {
     "data": {
      "text/plain": [
       "{'mean_fit_time': array([0.21325095, 0.63530405, 1.06999365, 0.22029654, 0.63899247,\n",
       "        1.06639369, 0.21427846, 0.64567002, 1.08287589, 0.23646299,\n",
       "        0.6424671 , 1.06815886, 0.22102435, 0.66306361, 1.11953751,\n",
       "        0.2395304 , 0.65272657, 1.08773843, 0.21868054, 0.64757284,\n",
       "        1.11659122, 0.21862245, 0.64854487, 1.07830588, 0.2191755 ,\n",
       "        0.65587147, 1.12085438, 0.2191062 , 0.64961171, 1.08339588,\n",
       "        0.21977409, 0.65488942, 1.10732452, 0.23629864, 0.64765557,\n",
       "        0.95461027]),\n",
       " 'std_fit_time': array([0.00103043, 0.00700096, 0.01459259, 0.00497609, 0.00762637,\n",
       "        0.01184404, 0.00199365, 0.00437959, 0.01984598, 0.0116372 ,\n",
       "        0.00229495, 0.00354151, 0.00326249, 0.00410284, 0.00656772,\n",
       "        0.01760351, 0.00416743, 0.01424873, 0.00312314, 0.00637517,\n",
       "        0.02579039, 0.00201349, 0.00930834, 0.00524464, 0.00328077,\n",
       "        0.00173246, 0.03855405, 0.00295729, 0.00301594, 0.00094055,\n",
       "        0.00225479, 0.00396255, 0.0234275 , 0.01489567, 0.00381225,\n",
       "        0.15997378]),\n",
       " 'mean_score_time': array([0.08292452, 0.11927795, 0.16571681, 0.08209809, 0.1165398 ,\n",
       "        0.15405385, 0.08466546, 0.1188639 , 0.15464115, 0.08329709,\n",
       "        0.11942387, 0.15479366, 0.08309213, 0.11989983, 0.15533543,\n",
       "        0.08367856, 0.12030856, 0.15603622, 0.08402928, 0.1192352 ,\n",
       "        0.1559279 , 0.0847551 , 0.11945232, 0.15574781, 0.08422438,\n",
       "        0.12069011, 0.15535553, 0.08306774, 0.11968549, 0.15566826,\n",
       "        0.08338348, 0.11885969, 0.15788658, 0.08287517, 0.12048872,\n",
       "        0.11067843]),\n",
       " 'std_score_time': array([1.49083147e-03, 2.17824053e-03, 1.48311788e-02, 5.93377730e-04,\n",
       "        4.28345650e-04, 1.02676044e-03, 3.49006739e-03, 4.32725116e-04,\n",
       "        1.30411007e-03, 8.68422830e-04, 9.64271026e-04, 2.15864170e-03,\n",
       "        3.53318065e-04, 1.61656250e-03, 1.02486352e-03, 7.92596126e-04,\n",
       "        9.12582117e-04, 3.08268312e-03, 6.32419661e-04, 1.72103354e-04,\n",
       "        1.71012188e-03, 2.41613821e-03, 8.54732021e-04, 3.68974831e-04,\n",
       "        1.28908669e-03, 1.10155975e-03, 6.35974646e-04, 5.19907646e-04,\n",
       "        8.51930522e-05, 6.86855279e-04, 4.07334791e-04, 1.00554643e-03,\n",
       "        1.85146736e-03, 1.07066802e-03, 1.71248665e-03, 3.30289977e-02]),\n",
       " 'param_max_depth': masked_array(data=[3, 3, 3, 3, 3, 3, 3, 3, 3, 3, 3, 3, 5, 5, 5, 5, 5, 5,\n",
       "                    5, 5, 5, 5, 5, 5, 7, 7, 7, 7, 7, 7, 7, 7, 7, 7, 7, 7],\n",
       "              mask=[False, False, False, False, False, False, False, False,\n",
       "                    False, False, False, False, False, False, False, False,\n",
       "                    False, False, False, False, False, False, False, False,\n",
       "                    False, False, False, False, False, False, False, False,\n",
       "                    False, False, False, False],\n",
       "        fill_value='?',\n",
       "             dtype=object),\n",
       " 'param_min_samples_leaf': masked_array(data=[5, 5, 5, 5, 5, 5, 7, 7, 7, 7, 7, 7, 5, 5, 5, 5, 5, 5,\n",
       "                    7, 7, 7, 7, 7, 7, 5, 5, 5, 5, 5, 5, 7, 7, 7, 7, 7, 7],\n",
       "              mask=[False, False, False, False, False, False, False, False,\n",
       "                    False, False, False, False, False, False, False, False,\n",
       "                    False, False, False, False, False, False, False, False,\n",
       "                    False, False, False, False, False, False, False, False,\n",
       "                    False, False, False, False],\n",
       "        fill_value='?',\n",
       "             dtype=object),\n",
       " 'param_min_samples_split': masked_array(data=[10, 10, 10, 15, 15, 15, 10, 10, 10, 15, 15, 15, 10, 10,\n",
       "                    10, 15, 15, 15, 10, 10, 10, 15, 15, 15, 10, 10, 10, 15,\n",
       "                    15, 15, 10, 10, 10, 15, 15, 15],\n",
       "              mask=[False, False, False, False, False, False, False, False,\n",
       "                    False, False, False, False, False, False, False, False,\n",
       "                    False, False, False, False, False, False, False, False,\n",
       "                    False, False, False, False, False, False, False, False,\n",
       "                    False, False, False, False],\n",
       "        fill_value='?',\n",
       "             dtype=object),\n",
       " 'param_n_estimators': masked_array(data=[100, 300, 500, 100, 300, 500, 100, 300, 500, 100, 300,\n",
       "                    500, 100, 300, 500, 100, 300, 500, 100, 300, 500, 100,\n",
       "                    300, 500, 100, 300, 500, 100, 300, 500, 100, 300, 500,\n",
       "                    100, 300, 500],\n",
       "              mask=[False, False, False, False, False, False, False, False,\n",
       "                    False, False, False, False, False, False, False, False,\n",
       "                    False, False, False, False, False, False, False, False,\n",
       "                    False, False, False, False, False, False, False, False,\n",
       "                    False, False, False, False],\n",
       "        fill_value='?',\n",
       "             dtype=object),\n",
       " 'params': [{'max_depth': 3,\n",
       "   'min_samples_leaf': 5,\n",
       "   'min_samples_split': 10,\n",
       "   'n_estimators': 100},\n",
       "  {'max_depth': 3,\n",
       "   'min_samples_leaf': 5,\n",
       "   'min_samples_split': 10,\n",
       "   'n_estimators': 300},\n",
       "  {'max_depth': 3,\n",
       "   'min_samples_leaf': 5,\n",
       "   'min_samples_split': 10,\n",
       "   'n_estimators': 500},\n",
       "  {'max_depth': 3,\n",
       "   'min_samples_leaf': 5,\n",
       "   'min_samples_split': 15,\n",
       "   'n_estimators': 100},\n",
       "  {'max_depth': 3,\n",
       "   'min_samples_leaf': 5,\n",
       "   'min_samples_split': 15,\n",
       "   'n_estimators': 300},\n",
       "  {'max_depth': 3,\n",
       "   'min_samples_leaf': 5,\n",
       "   'min_samples_split': 15,\n",
       "   'n_estimators': 500},\n",
       "  {'max_depth': 3,\n",
       "   'min_samples_leaf': 7,\n",
       "   'min_samples_split': 10,\n",
       "   'n_estimators': 100},\n",
       "  {'max_depth': 3,\n",
       "   'min_samples_leaf': 7,\n",
       "   'min_samples_split': 10,\n",
       "   'n_estimators': 300},\n",
       "  {'max_depth': 3,\n",
       "   'min_samples_leaf': 7,\n",
       "   'min_samples_split': 10,\n",
       "   'n_estimators': 500},\n",
       "  {'max_depth': 3,\n",
       "   'min_samples_leaf': 7,\n",
       "   'min_samples_split': 15,\n",
       "   'n_estimators': 100},\n",
       "  {'max_depth': 3,\n",
       "   'min_samples_leaf': 7,\n",
       "   'min_samples_split': 15,\n",
       "   'n_estimators': 300},\n",
       "  {'max_depth': 3,\n",
       "   'min_samples_leaf': 7,\n",
       "   'min_samples_split': 15,\n",
       "   'n_estimators': 500},\n",
       "  {'max_depth': 5,\n",
       "   'min_samples_leaf': 5,\n",
       "   'min_samples_split': 10,\n",
       "   'n_estimators': 100},\n",
       "  {'max_depth': 5,\n",
       "   'min_samples_leaf': 5,\n",
       "   'min_samples_split': 10,\n",
       "   'n_estimators': 300},\n",
       "  {'max_depth': 5,\n",
       "   'min_samples_leaf': 5,\n",
       "   'min_samples_split': 10,\n",
       "   'n_estimators': 500},\n",
       "  {'max_depth': 5,\n",
       "   'min_samples_leaf': 5,\n",
       "   'min_samples_split': 15,\n",
       "   'n_estimators': 100},\n",
       "  {'max_depth': 5,\n",
       "   'min_samples_leaf': 5,\n",
       "   'min_samples_split': 15,\n",
       "   'n_estimators': 300},\n",
       "  {'max_depth': 5,\n",
       "   'min_samples_leaf': 5,\n",
       "   'min_samples_split': 15,\n",
       "   'n_estimators': 500},\n",
       "  {'max_depth': 5,\n",
       "   'min_samples_leaf': 7,\n",
       "   'min_samples_split': 10,\n",
       "   'n_estimators': 100},\n",
       "  {'max_depth': 5,\n",
       "   'min_samples_leaf': 7,\n",
       "   'min_samples_split': 10,\n",
       "   'n_estimators': 300},\n",
       "  {'max_depth': 5,\n",
       "   'min_samples_leaf': 7,\n",
       "   'min_samples_split': 10,\n",
       "   'n_estimators': 500},\n",
       "  {'max_depth': 5,\n",
       "   'min_samples_leaf': 7,\n",
       "   'min_samples_split': 15,\n",
       "   'n_estimators': 100},\n",
       "  {'max_depth': 5,\n",
       "   'min_samples_leaf': 7,\n",
       "   'min_samples_split': 15,\n",
       "   'n_estimators': 300},\n",
       "  {'max_depth': 5,\n",
       "   'min_samples_leaf': 7,\n",
       "   'min_samples_split': 15,\n",
       "   'n_estimators': 500},\n",
       "  {'max_depth': 7,\n",
       "   'min_samples_leaf': 5,\n",
       "   'min_samples_split': 10,\n",
       "   'n_estimators': 100},\n",
       "  {'max_depth': 7,\n",
       "   'min_samples_leaf': 5,\n",
       "   'min_samples_split': 10,\n",
       "   'n_estimators': 300},\n",
       "  {'max_depth': 7,\n",
       "   'min_samples_leaf': 5,\n",
       "   'min_samples_split': 10,\n",
       "   'n_estimators': 500},\n",
       "  {'max_depth': 7,\n",
       "   'min_samples_leaf': 5,\n",
       "   'min_samples_split': 15,\n",
       "   'n_estimators': 100},\n",
       "  {'max_depth': 7,\n",
       "   'min_samples_leaf': 5,\n",
       "   'min_samples_split': 15,\n",
       "   'n_estimators': 300},\n",
       "  {'max_depth': 7,\n",
       "   'min_samples_leaf': 5,\n",
       "   'min_samples_split': 15,\n",
       "   'n_estimators': 500},\n",
       "  {'max_depth': 7,\n",
       "   'min_samples_leaf': 7,\n",
       "   'min_samples_split': 10,\n",
       "   'n_estimators': 100},\n",
       "  {'max_depth': 7,\n",
       "   'min_samples_leaf': 7,\n",
       "   'min_samples_split': 10,\n",
       "   'n_estimators': 300},\n",
       "  {'max_depth': 7,\n",
       "   'min_samples_leaf': 7,\n",
       "   'min_samples_split': 10,\n",
       "   'n_estimators': 500},\n",
       "  {'max_depth': 7,\n",
       "   'min_samples_leaf': 7,\n",
       "   'min_samples_split': 15,\n",
       "   'n_estimators': 100},\n",
       "  {'max_depth': 7,\n",
       "   'min_samples_leaf': 7,\n",
       "   'min_samples_split': 15,\n",
       "   'n_estimators': 300},\n",
       "  {'max_depth': 7,\n",
       "   'min_samples_leaf': 7,\n",
       "   'min_samples_split': 15,\n",
       "   'n_estimators': 500}],\n",
       " 'split0_test_score': array([-90., -90., -90., -90., -90., -90., -90., -90., -85., -85., -90.,\n",
       "        -90., -95., -95., -95., -85., -90., -95., -95., -85., -95., -90.,\n",
       "        -90., -95., -95., -95., -95., -95., -95., -85., -85., -95., -95.,\n",
       "        -85., -85., -85.]),\n",
       " 'split1_test_score': array([-95., -95., -95., -95., -95., -95., -95., -95., -95., -95., -95.,\n",
       "        -90., -70., -95., -95., -95., -95., -95., -95., -95., -95., -95.,\n",
       "        -95., -95., -95., -95., -95., -95., -95., -95., -95., -95., -95.,\n",
       "        -95., -95., -95.]),\n",
       " 'split2_test_score': array([-55., -55., -55., -55., -55., -55., -55., -55., -55., -55., -55.,\n",
       "        -55., -75., -75., -75., -75., -75., -75., -70., -50., -70., -50.,\n",
       "        -50., -70., -70., -75., -75., -75., -75., -75., -70., -70., -60.,\n",
       "        -60., -50., -75.]),\n",
       " 'mean_test_score': array([-80.        , -80.        , -80.        , -80.        ,\n",
       "        -80.        , -80.        , -80.        , -80.        ,\n",
       "        -78.33333333, -78.33333333, -80.        , -78.33333333,\n",
       "        -80.        , -88.33333333, -88.33333333, -85.        ,\n",
       "        -86.66666667, -88.33333333, -86.66666667, -76.66666667,\n",
       "        -86.66666667, -78.33333333, -78.33333333, -86.66666667,\n",
       "        -86.66666667, -88.33333333, -88.33333333, -88.33333333,\n",
       "        -88.33333333, -85.        , -83.33333333, -86.66666667,\n",
       "        -83.33333333, -80.        , -76.66666667, -85.        ]),\n",
       " 'std_test_score': array([17.79513042, 17.79513042, 17.79513042, 17.79513042, 17.79513042,\n",
       "        17.79513042, 17.79513042, 17.79513042, 16.99673171, 16.99673171,\n",
       "        17.79513042, 16.49915823, 10.8012345 ,  9.42809042,  9.42809042,\n",
       "         8.16496581,  8.49836586,  9.42809042, 11.78511302, 19.2930615 ,\n",
       "        11.78511302, 20.13840996, 20.13840996, 11.78511302, 11.78511302,\n",
       "         9.42809042,  9.42809042,  9.42809042,  9.42809042,  8.16496581,\n",
       "        10.27402334, 11.78511302, 16.49915823, 14.71960144, 19.2930615 ,\n",
       "         8.16496581]),\n",
       " 'rank_test_score': array([ 8,  8,  8,  8,  8,  8,  8,  8,  3,  3,  8,  3,  8, 30, 30, 21, 24,\n",
       "        30, 24,  1, 24,  3,  3, 24, 24, 30, 30, 30, 30, 21, 19, 24, 19,  8,\n",
       "         1, 21], dtype=int32)}"
      ]
     },
     "execution_count": 48,
     "metadata": {},
     "output_type": "execute_result"
    }
   ],
   "source": [
    "RF_grid_search.cv_results_"
   ]
  },
  {
   "cell_type": "markdown",
   "id": "ca401c2d",
   "metadata": {},
   "source": [
    "### Score"
   ]
  },
  {
   "cell_type": "code",
   "execution_count": 50,
   "id": "de1a53fe",
   "metadata": {},
   "outputs": [
    {
     "data": {
      "text/plain": [
       "-80.0"
      ]
     },
     "execution_count": 50,
     "metadata": {},
     "output_type": "execute_result"
    }
   ],
   "source": [
    "score = RF_grid_search.cv_results_\n",
    "score['mean_test_score'][0]"
   ]
  },
  {
   "cell_type": "markdown",
   "id": "feb968e8",
   "metadata": {},
   "source": [
    "### Fitting the model with the top 6 features"
   ]
  },
  {
   "cell_type": "code",
   "execution_count": 51,
   "id": "ce8c94db",
   "metadata": {},
   "outputs": [
    {
     "data": {
      "text/plain": [
       "RandomForestClassifier(max_depth=3, min_samples_leaf=7, min_samples_split=15,\n",
       "                       n_estimators=500)"
      ]
     },
     "execution_count": 51,
     "metadata": {},
     "output_type": "execute_result"
    }
   ],
   "source": [
    "# Defining customized scoring function\n",
    "my_score_function = make_scorer(cost_function, greater_is_better = True, needs_proba = True)\n",
    "\n",
    "# Performing GridSearch\n",
    "RF_grid_search = GridSearchCV(RandomForestClassifier(), RF_param_grid, cv = 3, scoring = my_score_function, n_jobs = -1).fit(X_train_6, Y_train)\n",
    "\n",
    "# Extracting the best model\n",
    "RF_model = RF_grid_search.best_estimator_\n",
    "RF_model"
   ]
  },
  {
   "cell_type": "markdown",
   "id": "b61a4171",
   "metadata": {},
   "source": [
    "### Score"
   ]
  },
  {
   "cell_type": "code",
   "execution_count": 52,
   "id": "2dbc53c4",
   "metadata": {},
   "outputs": [
    {
     "data": {
      "text/plain": [
       "-80.0"
      ]
     },
     "execution_count": 52,
     "metadata": {},
     "output_type": "execute_result"
    }
   ],
   "source": [
    "score = RF_grid_search.cv_results_\n",
    "score['mean_test_score'][0]"
   ]
  },
  {
   "cell_type": "markdown",
   "id": "086e6a13",
   "metadata": {},
   "source": [
    "### Fitting the model with the top 7 features"
   ]
  },
  {
   "cell_type": "code",
   "execution_count": 53,
   "id": "241fe38d",
   "metadata": {},
   "outputs": [
    {
     "data": {
      "text/plain": [
       "RandomForestClassifier(max_depth=5, min_samples_leaf=7, min_samples_split=15,\n",
       "                       n_estimators=300)"
      ]
     },
     "execution_count": 53,
     "metadata": {},
     "output_type": "execute_result"
    }
   ],
   "source": [
    "# Defining customized scoring function\n",
    "my_score_function = make_scorer(cost_function, greater_is_better = True, needs_proba = True)\n",
    "\n",
    "# Performing GridSearch\n",
    "RF_grid_search = GridSearchCV(RandomForestClassifier(), RF_param_grid, cv = 3, scoring = my_score_function, n_jobs = -1).fit(X_train_7, Y_train)\n",
    "\n",
    "# Extracting the best model\n",
    "RF_model = RF_grid_search.best_estimator_\n",
    "RF_model"
   ]
  },
  {
   "cell_type": "markdown",
   "id": "397a254f",
   "metadata": {},
   "source": [
    "### Score"
   ]
  },
  {
   "cell_type": "code",
   "execution_count": 54,
   "id": "b3a6eee7",
   "metadata": {},
   "outputs": [
    {
     "data": {
      "text/plain": [
       "-83.33333333333333"
      ]
     },
     "execution_count": 54,
     "metadata": {},
     "output_type": "execute_result"
    }
   ],
   "source": [
    "score = RF_grid_search.cv_results_\n",
    "score['mean_test_score'][0]"
   ]
  },
  {
   "cell_type": "markdown",
   "id": "8d118e04",
   "metadata": {},
   "source": [
    "## From above three scenarios, the best model is the following:\n",
    "#### RandomForestClassifier(max_depth=5, min_samples_leaf=7, min_samples_split=10, n_estimators=300) with the top 5 features."
   ]
  },
  {
   "cell_type": "markdown",
   "id": "ef33e021",
   "metadata": {},
   "source": [
    "### Support Vector Machine"
   ]
  },
  {
   "cell_type": "markdown",
   "id": "dd99871f",
   "metadata": {},
   "source": [
    "### Fitting the model with the top 5 features"
   ]
  },
  {
   "cell_type": "code",
   "execution_count": 55,
   "id": "c56aba51",
   "metadata": {},
   "outputs": [
    {
     "data": {
      "text/plain": [
       "SVR(C=1, gamma=0.1)"
      ]
     },
     "execution_count": 55,
     "metadata": {},
     "output_type": "execute_result"
    }
   ],
   "source": [
    "## Defining the hyper-parameters for svm\n",
    "svm_param_grid = {'kernel': ['rbf', 'poly', 'sigmoid'], \n",
    "                  'C': [0.01, 0.1, 1, 10],\n",
    "                  'gamma': [0.001, 0.01, 0.1, 1]}\n",
    "\n",
    "\n",
    "svm_grid_search = GridSearchCV(SVR(), svm_param_grid, cv = 3, scoring = 'neg_mean_squared_error', n_jobs = -1).fit(X_train_5, Y_train)\n",
    "\n",
    "# Extracting the best model\n",
    "svm_md = svm_grid_search.best_estimator_\n",
    "svm_md"
   ]
  },
  {
   "cell_type": "markdown",
   "id": "3a2c0143",
   "metadata": {},
   "source": [
    "### Score"
   ]
  },
  {
   "cell_type": "code",
   "execution_count": 56,
   "id": "7c429a67",
   "metadata": {},
   "outputs": [
    {
     "data": {
      "text/plain": [
       "-0.05417500901366402"
      ]
     },
     "execution_count": 56,
     "metadata": {},
     "output_type": "execute_result"
    }
   ],
   "source": [
    "score = svm_grid_search.cv_results_\n",
    "score['mean_test_score'][0]"
   ]
  },
  {
   "cell_type": "markdown",
   "id": "fe658922",
   "metadata": {},
   "source": [
    "### Fitting the model with the top 6 features"
   ]
  },
  {
   "cell_type": "code",
   "execution_count": 57,
   "id": "e3de285c",
   "metadata": {},
   "outputs": [
    {
     "data": {
      "text/plain": [
       "SVR(C=1, gamma=0.1)"
      ]
     },
     "execution_count": 57,
     "metadata": {},
     "output_type": "execute_result"
    }
   ],
   "source": [
    "svm_grid_search = GridSearchCV(SVR(), svm_param_grid, cv = 3, scoring = 'neg_mean_squared_error', n_jobs = -1).fit(X_train_6, Y_train)\n",
    "\n",
    "# Extracting the best model\n",
    "svm_md = svm_grid_search.best_estimator_\n",
    "svm_md"
   ]
  },
  {
   "cell_type": "markdown",
   "id": "2fe11950",
   "metadata": {},
   "source": [
    "### Score"
   ]
  },
  {
   "cell_type": "code",
   "execution_count": 58,
   "id": "4e86415f",
   "metadata": {},
   "outputs": [
    {
     "data": {
      "text/plain": [
       "-0.054174347266976536"
      ]
     },
     "execution_count": 58,
     "metadata": {},
     "output_type": "execute_result"
    }
   ],
   "source": [
    "score = svm_grid_search.cv_results_\n",
    "score['mean_test_score'][0]"
   ]
  },
  {
   "cell_type": "markdown",
   "id": "20215fea",
   "metadata": {},
   "source": [
    "### Fitting the model with the top 7 features"
   ]
  },
  {
   "cell_type": "code",
   "execution_count": 17,
   "id": "c7d56fd8",
   "metadata": {},
   "outputs": [
    {
     "data": {
      "text/plain": [
       "SVR(C=10, gamma=0.1)"
      ]
     },
     "execution_count": 17,
     "metadata": {},
     "output_type": "execute_result"
    }
   ],
   "source": [
    "svm_grid_search = GridSearchCV(SVR(), svm_param_grid, cv = 3, scoring = 'neg_mean_squared_error', n_jobs = -1).fit(X_train_7, Y_train)\n",
    "\n",
    "# Extracting the best model\n",
    "svm_md = svm_grid_search.best_estimator_\n",
    "svm_md"
   ]
  },
  {
   "cell_type": "markdown",
   "id": "4986a79b",
   "metadata": {},
   "source": [
    "### Score"
   ]
  },
  {
   "cell_type": "code",
   "execution_count": 18,
   "id": "a1de4e1a",
   "metadata": {},
   "outputs": [
    {
     "data": {
      "text/plain": [
       "-0.05097682227630106"
      ]
     },
     "execution_count": 18,
     "metadata": {},
     "output_type": "execute_result"
    }
   ],
   "source": [
    "score = svm_grid_search.cv_results_\n",
    "score['mean_test_score'][0]"
   ]
  },
  {
   "cell_type": "markdown",
   "id": "a76c3bba",
   "metadata": {},
   "source": [
    "## From above three scenarios, the best model is the following:\n",
    "#### SVR(C=10, gamma=0.1) with the top 7 features."
   ]
  },
  {
   "cell_type": "markdown",
   "id": "03088a72",
   "metadata": {},
   "source": [
    "### AdaBoost"
   ]
  },
  {
   "cell_type": "markdown",
   "id": "5bfed5e0",
   "metadata": {},
   "source": [
    "### Fitting the model with the top 5 features"
   ]
  },
  {
   "cell_type": "code",
   "execution_count": 59,
   "id": "4a445619",
   "metadata": {},
   "outputs": [
    {
     "data": {
      "text/plain": [
       "AdaBoostClassifier(base_estimator=DecisionTreeClassifier(max_depth=7,\n",
       "                                                         min_samples_leaf=5,\n",
       "                                                         min_samples_split=15),\n",
       "                   learning_rate=0.001, n_estimators=300)"
      ]
     },
     "execution_count": 59,
     "metadata": {},
     "output_type": "execute_result"
    }
   ],
   "source": [
    "## Defining the hyper-parameters for RF\n",
    "Ada_param_grid = {'n_estimators': [100, 300, 500],\n",
    "                 'base_estimator__min_samples_split': [10, 15], \n",
    "                 'base_estimator__min_samples_leaf': [5, 7], \n",
    "                 'base_estimator__max_depth' : [3, 5, 7],\n",
    "                 'learning_rate': [0.001, 0.01, 0.1]}\n",
    "\n",
    "## Running grid search with 3 fold\n",
    "Ada_grid_search = GridSearchCV(AdaBoostClassifier(base_estimator = DecisionTreeClassifier()), Ada_param_grid, cv = 3, scoring = 'f1', n_jobs = -1).fit(X_train_5, Y_train)\n",
    "\n",
    "# Extracting the best model\n",
    "ada_md = Ada_grid_search.best_estimator_\n",
    "ada_md"
   ]
  },
  {
   "cell_type": "markdown",
   "id": "cc08058f",
   "metadata": {},
   "source": [
    "### Score"
   ]
  },
  {
   "cell_type": "code",
   "execution_count": 60,
   "id": "3ca50047",
   "metadata": {},
   "outputs": [
    {
     "data": {
      "text/plain": [
       "0.5385441643972354"
      ]
     },
     "execution_count": 60,
     "metadata": {},
     "output_type": "execute_result"
    }
   ],
   "source": [
    "score = Ada_grid_search.cv_results_\n",
    "score['mean_test_score'][0]"
   ]
  },
  {
   "cell_type": "markdown",
   "id": "f7b26827",
   "metadata": {},
   "source": [
    "### Fitting the model with the top 6 features"
   ]
  },
  {
   "cell_type": "code",
   "execution_count": 62,
   "id": "7cb4844d",
   "metadata": {},
   "outputs": [
    {
     "data": {
      "text/plain": [
       "AdaBoostClassifier(base_estimator=DecisionTreeClassifier(max_depth=7,\n",
       "                                                         min_samples_leaf=5,\n",
       "                                                         min_samples_split=15),\n",
       "                   learning_rate=0.001, n_estimators=100)"
      ]
     },
     "execution_count": 62,
     "metadata": {},
     "output_type": "execute_result"
    }
   ],
   "source": [
    "## Running grid search with 3 fold\n",
    "Ada_grid_search = GridSearchCV(AdaBoostClassifier(base_estimator = DecisionTreeClassifier()), Ada_param_grid, cv = 3, scoring = 'f1', n_jobs = -1).fit(X_train_6, Y_train)\n",
    "\n",
    "# Extracting the best model\n",
    "ada_md = Ada_grid_search.best_estimator_\n",
    "ada_md"
   ]
  },
  {
   "cell_type": "markdown",
   "id": "16987459",
   "metadata": {},
   "source": [
    "### Score"
   ]
  },
  {
   "cell_type": "code",
   "execution_count": 63,
   "id": "418eaa51",
   "metadata": {},
   "outputs": [
    {
     "data": {
      "text/plain": [
       "0.5385441643972354"
      ]
     },
     "execution_count": 63,
     "metadata": {},
     "output_type": "execute_result"
    }
   ],
   "source": [
    "score = Ada_grid_search.cv_results_\n",
    "score['mean_test_score'][0]"
   ]
  },
  {
   "cell_type": "markdown",
   "id": "2d6dc217",
   "metadata": {},
   "source": [
    "### Fitting the model with the top 7 features"
   ]
  },
  {
   "cell_type": "code",
   "execution_count": 64,
   "id": "8fe1b6c3",
   "metadata": {},
   "outputs": [
    {
     "data": {
      "text/plain": [
       "AdaBoostClassifier(base_estimator=DecisionTreeClassifier(max_depth=5,\n",
       "                                                         min_samples_leaf=5,\n",
       "                                                         min_samples_split=10),\n",
       "                   learning_rate=0.001, n_estimators=100)"
      ]
     },
     "execution_count": 64,
     "metadata": {},
     "output_type": "execute_result"
    }
   ],
   "source": [
    "## Running grid search with 3 fold\n",
    "Ada_grid_search = GridSearchCV(AdaBoostClassifier(base_estimator = DecisionTreeClassifier()), Ada_param_grid, cv = 3, scoring = 'f1', n_jobs = -1).fit(X_train_7, Y_train)\n",
    "\n",
    "# Extracting the best model\n",
    "ada_md = Ada_grid_search.best_estimator_\n",
    "ada_md"
   ]
  },
  {
   "cell_type": "markdown",
   "id": "c4be29e4",
   "metadata": {},
   "source": [
    "### Score"
   ]
  },
  {
   "cell_type": "code",
   "execution_count": 65,
   "id": "91c2b013",
   "metadata": {},
   "outputs": [
    {
     "data": {
      "text/plain": [
       "0.5210496050361672"
      ]
     },
     "execution_count": 65,
     "metadata": {},
     "output_type": "execute_result"
    }
   ],
   "source": [
    "score = Ada_grid_search.cv_results_\n",
    "score['mean_test_score'][0]"
   ]
  },
  {
   "cell_type": "markdown",
   "id": "5791f8e5",
   "metadata": {},
   "source": [
    "## From above three scenarios as well as the previous models, the best model is the following:\n",
    "#### AdaBoostClassifier(base_estimator=DecisionTreeClassifier(max_depth=7, min_samples_leaf=5, min_samples_split=15), learning_rate=0.001, n_estimators=300) with the top 5 features."
   ]
  },
  {
   "cell_type": "markdown",
   "id": "aa42504b",
   "metadata": {},
   "source": [
    " "
   ]
  }
 ],
 "metadata": {
  "kernelspec": {
   "display_name": "conda_python3",
   "language": "python",
   "name": "conda_python3"
  },
  "language_info": {
   "codemirror_mode": {
    "name": "ipython",
    "version": 3
   },
   "file_extension": ".py",
   "mimetype": "text/x-python",
   "name": "python",
   "nbconvert_exporter": "python",
   "pygments_lexer": "ipython3",
   "version": "3.6.13"
  }
 },
 "nbformat": 4,
 "nbformat_minor": 5
}
