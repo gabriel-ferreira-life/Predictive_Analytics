{
 "cells": [
  {
   "cell_type": "code",
   "execution_count": 46,
   "id": "47dfce3f",
   "metadata": {},
   "outputs": [
    {
     "data": {
      "text/html": [
       "<div>\n",
       "<style scoped>\n",
       "    .dataframe tbody tr th:only-of-type {\n",
       "        vertical-align: middle;\n",
       "    }\n",
       "\n",
       "    .dataframe tbody tr th {\n",
       "        vertical-align: top;\n",
       "    }\n",
       "\n",
       "    .dataframe thead th {\n",
       "        text-align: right;\n",
       "    }\n",
       "</style>\n",
       "<table border=\"1\" class=\"dataframe\">\n",
       "  <thead>\n",
       "    <tr style=\"text-align: right;\">\n",
       "      <th></th>\n",
       "      <th>Fresh</th>\n",
       "      <th>Milk</th>\n",
       "      <th>Grocery</th>\n",
       "      <th>Frozen</th>\n",
       "      <th>Detergents_Paper</th>\n",
       "      <th>Delicassen</th>\n",
       "      <th>Channel</th>\n",
       "    </tr>\n",
       "  </thead>\n",
       "  <tbody>\n",
       "    <tr>\n",
       "      <th>0</th>\n",
       "      <td>6623.613537</td>\n",
       "      <td>5513.09324</td>\n",
       "      <td>6019.057354</td>\n",
       "      <td>5669.568008</td>\n",
       "      <td>5898.660607</td>\n",
       "      <td>5179.234947</td>\n",
       "      <td>2</td>\n",
       "    </tr>\n",
       "  </tbody>\n",
       "</table>\n",
       "</div>"
      ],
      "text/plain": [
       "         Fresh        Milk      Grocery       Frozen  Detergents_Paper  \\\n",
       "0  6623.613537  5513.09324  6019.057354  5669.568008       5898.660607   \n",
       "\n",
       "    Delicassen  Channel  \n",
       "0  5179.234947        2  "
      ]
     },
     "execution_count": 46,
     "metadata": {},
     "output_type": "execute_result"
    }
   ],
   "source": [
    "import boto3\n",
    "import pandas as pd\n",
    "import numpy as np\n",
    "from sklearn.model_selection import train_test_split\n",
    "from sklearn.ensemble import RandomForestClassifier\n",
    "from sklearn.metrics import confusion_matrix, classification_report\n",
    "from sklearn.multiclass import OneVsRestClassifier, OneVsOneClassifier\n",
    "from sklearn.preprocessing import MinMaxScaler\n",
    "from sklearn.tree import DecisionTreeClassifier\n",
    "from sklearn import svm\n",
    "\n",
    "# Defining the s3 bucket\n",
    "s3 = boto3.resource('s3')\n",
    "bucket_name = 'gabriel-predictive-analytics'\n",
    "bucket = s3.Bucket(bucket_name)\n",
    "\n",
    "# Defining the file to be read from s3 bucket\n",
    "file_key = \"MarketingData.csv\"\n",
    "\n",
    "bucket_object = bucket.Object(file_key)\n",
    "file_object = bucket_object.get()\n",
    "file_content_stream = file_object.get('Body')\n",
    "\n",
    "# Reading the csv file\n",
    "marketing_data = pd.read_csv(file_content_stream)\n",
    "marketing_data.head(1) "
   ]
  },
  {
   "cell_type": "code",
   "execution_count": 47,
   "id": "27b17891",
   "metadata": {},
   "outputs": [
    {
     "data": {
      "text/plain": [
       "0    5007\n",
       "3    5002\n",
       "1    5001\n",
       "2    4990\n",
       "Name: Channel, dtype: int64"
      ]
     },
     "execution_count": 47,
     "metadata": {},
     "output_type": "execute_result"
    }
   ],
   "source": [
    "# Computing the number of observations in each of the marketing channels\n",
    "marketing_data['Channel'].value_counts()"
   ]
  },
  {
   "cell_type": "code",
   "execution_count": 48,
   "id": "a78c686c",
   "metadata": {},
   "outputs": [
    {
     "data": {
      "text/html": [
       "<div>\n",
       "<style scoped>\n",
       "    .dataframe tbody tr th:only-of-type {\n",
       "        vertical-align: middle;\n",
       "    }\n",
       "\n",
       "    .dataframe tbody tr th {\n",
       "        vertical-align: top;\n",
       "    }\n",
       "\n",
       "    .dataframe thead th {\n",
       "        text-align: right;\n",
       "    }\n",
       "</style>\n",
       "<table border=\"1\" class=\"dataframe\">\n",
       "  <thead>\n",
       "    <tr style=\"text-align: right;\">\n",
       "      <th></th>\n",
       "      <th>Channel</th>\n",
       "    </tr>\n",
       "  </thead>\n",
       "  <tbody>\n",
       "    <tr>\n",
       "      <th>0</th>\n",
       "      <td>5007</td>\n",
       "    </tr>\n",
       "    <tr>\n",
       "      <th>3</th>\n",
       "      <td>5002</td>\n",
       "    </tr>\n",
       "    <tr>\n",
       "      <th>1</th>\n",
       "      <td>5001</td>\n",
       "    </tr>\n",
       "    <tr>\n",
       "      <th>2</th>\n",
       "      <td>4990</td>\n",
       "    </tr>\n",
       "  </tbody>\n",
       "</table>\n",
       "</div>"
      ],
      "text/plain": [
       "   Channel\n",
       "0     5007\n",
       "3     5002\n",
       "1     5001\n",
       "2     4990"
      ]
     },
     "execution_count": 48,
     "metadata": {},
     "output_type": "execute_result"
    }
   ],
   "source": [
    "X = marketing_data['Channel'].value_counts()\n",
    "X = pd.DataFrame(X)\n",
    "X.head()"
   ]
  },
  {
   "cell_type": "code",
   "execution_count": 49,
   "id": "327c1105",
   "metadata": {},
   "outputs": [
    {
     "data": {
      "text/plain": [
       "<AxesSubplot:>"
      ]
     },
     "execution_count": 49,
     "metadata": {},
     "output_type": "execute_result"
    },
    {
     "data": {
      "image/png": "[encoded data removed]",
      "text/plain": [
       "<Figure size 792x648 with 2 Axes>"
      ]
     },
     "metadata": {
      "needs_background": "light"
     },
     "output_type": "display_data"
    }
   ],
   "source": [
    "import seaborn as sns\n",
    "# Compute the correlation matrix\n",
    "corr = marketing_data.corr()\n",
    "\n",
    "# Generate a mask for the upper triangle\n",
    "mask = np.triu(np.ones_like(corr, dtype=bool))\n",
    "\n",
    "# Set up the matplotlib figure\n",
    "f, ax = plt.subplots(figsize=(11, 9))\n",
    "\n",
    "# Generate a custom diverging colormap\n",
    "cmap = sns.diverging_palette(230, 20, as_cmap=True)\n",
    "\n",
    "# Draw the heatmap with the mask and correct aspect ratio\n",
    "sns.heatmap(corr, mask=mask, cmap=cmap, vmax=.3, center=0,\n",
    "            square=True, linewidths=.5, cbar_kws={\"shrink\": .5})"
   ]
  },
  {
   "cell_type": "code",
   "execution_count": 51,
   "id": "8dc26c58",
   "metadata": {},
   "outputs": [],
   "source": [
    "# Selecting input and target variables\n",
    "X = marketing_data.drop(columns = 'Channel', axis = 1)\n",
    "Y = marketing_data['Channel']\n",
    "\n",
    "# Splitting the dataset into train and test\n",
    "X_train, X_test, Y_train, Y_test = train_test_split(X, Y, test_size = 0.2, stratify = Y)"
   ]
  },
  {
   "cell_type": "code",
   "execution_count": 52,
   "id": "b1bfd49a",
   "metadata": {},
   "outputs": [
    {
     "name": "stdout",
     "output_type": "stream",
     "text": [
      "              precision    recall  f1-score   support\n",
      "\n",
      "           0       0.91      0.77      0.84      1002\n",
      "           1       0.86      0.72      0.79      1000\n",
      "           2       0.90      0.86      0.88       998\n",
      "           3       0.68      0.92      0.78      1000\n",
      "\n",
      "    accuracy                           0.82      4000\n",
      "   macro avg       0.84      0.82      0.82      4000\n",
      "weighted avg       0.84      0.82      0.82      4000\n",
      "\n"
     ]
    }
   ],
   "source": [
    "## OneVsRest strategy with logistic regression\n",
    "one_vs_Rest_tree = OneVsRestClassifier(estimator = DecisionTreeClassifier()).fit(X_train, Y_train)\n",
    "\n",
    "## Predicting on the test dataset\n",
    "one_vs_Rest_tree_preds = one_vs_Rest_tree.predict(X_test)\n",
    "\n",
    "## Computing the confusion matrix to evaluate the predictions\n",
    "print(classification_report(Y_test, one_vs_Rest_tree_preds))"
   ]
  },
  {
   "cell_type": "code",
   "execution_count": 53,
   "id": "95131793",
   "metadata": {},
   "outputs": [
    {
     "name": "stdout",
     "output_type": "stream",
     "text": [
      "              precision    recall  f1-score   support\n",
      "\n",
      "           0       0.88      0.84      0.86      1002\n",
      "           1       0.81      0.80      0.80      1000\n",
      "           2       0.89      0.87      0.88       998\n",
      "           3       0.81      0.87      0.84      1000\n",
      "\n",
      "    accuracy                           0.84      4000\n",
      "   macro avg       0.85      0.84      0.84      4000\n",
      "weighted avg       0.85      0.84      0.84      4000\n",
      "\n"
     ]
    }
   ],
   "source": [
    "## OneVsOne strategy with logistic regression\n",
    "one_vs_one_tree = OneVsOneClassifier(estimator = DecisionTreeClassifier()).fit(X_train, Y_train)\n",
    "\n",
    "## Predicting on the test dataset\n",
    "one_vs_one_tree_preds = one_vs_one_tree.predict(X_test)\n",
    "\n",
    "## Computing the confusion matrix to evaluate the predictions\n",
    "print(classification_report(Y_test, one_vs_one_tree_preds))"
   ]
  },
  {
   "cell_type": "markdown",
   "id": "47101b4a",
   "metadata": {},
   "source": [
    "### Given the above models, I would OneVsOne model to predict channel's class because it provided more balanced results between all classes."
   ]
  }
 ],
 "metadata": {
  "kernelspec": {
   "display_name": "conda_python3",
   "language": "python",
   "name": "conda_python3"
  },
  "language_info": {
   "codemirror_mode": {
    "name": "ipython",
    "version": 3
   },
   "file_extension": ".py",
   "mimetype": "text/x-python",
   "name": "python",
   "nbconvert_exporter": "python",
   "pygments_lexer": "ipython3",
   "version": "3.6.13"
  }
 },
 "nbformat": 4,
 "nbformat_minor": 5
}
