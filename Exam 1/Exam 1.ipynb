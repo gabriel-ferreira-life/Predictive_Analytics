{
 "cells": [
  {
   "cell_type": "markdown",
   "id": "cb6c388e",
   "metadata": {},
   "source": [
    "### 1. True or False.\n",
    "(a) In class imbalanced classification tasks, the goal is to find the model that has the highest accuracy. (True False)\n",
    "### False\n",
    "\n",
    "(b) Over-fitting is the biggest issue with over-sampling. (True False)\n",
    "### True\n",
    "\n",
    "(c) Under-fitting is the biggest issue with over-sampling. (True False)\n",
    "### False\n",
    "\n",
    "(d) A model with a large number of input variables always have a good performance. (True False)\n",
    "### False\n",
    "\n",
    "(e) If we run the SMOTE sampling technique multiple times on an imbalanced dataset, we will always obtain the same synthetic dataset. (True False) \n",
    "### False\n",
    "\n",
    "(f) Having access to good data is better than having a good model. (True False)\n",
    "### True\n",
    "\n",
    "(g) RFE works with any support vector machine model. (True False)\n",
    "### False\n",
    "\n",
    "(h) RFE doesn’t work with any support vector machine model. (True False)\n",
    "### False\n",
    "\n",
    "(i) A typical approach to engineer features is to consider interactions because most interactions help models to generate good predictions. (True False)\n",
    "### True\n",
    "\n",
    "(j) The support vectors in support vector machine models can be used to identify important variables/featues. (True False)\n",
    "### False"
   ]
  },
  {
   "cell_type": "markdown",
   "id": "789be24d",
   "metadata": {},
   "source": [
    "### 2. How does the Recursive Feature Elimination (RFE) algorithm work? Be specific."
   ]
  },
  {
   "cell_type": "markdown",
   "id": "59ade842",
   "metadata": {},
   "source": [
    "The Recursive Feature Elimination (RFE) algorithm works basically as a backward selection of the predictors. This technique begins building a model with all set of predictors and computing an importance score for each predictor. The least important predictor(s) are removed, then the process repeat again. The analyst usually specifies the number of predictor to be used in the model."
   ]
  },
  {
   "cell_type": "markdown",
   "id": "290858fe",
   "metadata": {},
   "source": [
    "### 3. Explain one-hot encoding. Be specific."
   ]
  },
  {
   "cell_type": "markdown",
   "id": "4166acfc",
   "metadata": {},
   "source": [
    "One-hot enconding is the proccess of creating numeric dummies variables out of a multi-class variable. "
   ]
  },
  {
   "cell_type": "markdown",
   "id": "60ed84c6",
   "metadata": {},
   "source": [
    "### 4. If you have a date column in your data-frame, then how will you perform feature engineering on the date column? List at least three features that you will engineer from date. Be specific."
   ]
  },
  {
   "cell_type": "markdown",
   "id": "04e47c09",
   "metadata": {},
   "source": [
    "Having a date column in my data-frame, I could engineer a feature to store the month, it would facilitate the subseting of the data if needed. In the same logic, I could engineer a feature to sotre the year. I could also extract the day name (Sun, Mon, Tue, Wed, Thu, Fri, Sat). From there, I could engineer features about whether it was a week or weekend. Holiday or not, and so on."
   ]
  },
  {
   "cell_type": "markdown",
   "id": "4d4d254a",
   "metadata": {},
   "source": [
    "### 5.  In what scenarios, would you prefer to use the precision-recall curve instead of ROC curve to measure the performance of a classifier? Be specific."
   ]
  },
  {
   "cell_type": "markdown",
   "id": "2c34f506",
   "metadata": {},
   "source": [
    "I would prefer to use the precision-recall curve instead of ROC curve to measure the performance of a classifier when the dataset is imbalanced."
   ]
  },
  {
   "cell_type": "markdown",
   "id": "41213ca1",
   "metadata": {},
   "source": [
    "### 6. Explain the biggest drawback of one-vs-one multi-class classification when compared to one-vs-all multi-class classification. Be specific."
   ]
  },
  {
   "cell_type": "markdown",
   "id": "86a08172",
   "metadata": {},
   "source": [
    "The biggest draw drawback of one-vs-one multi-class classification when compared to one-vs-all multi-class classification is because one-vs-one is harder to interprete and less efficient than one-vs-all."
   ]
  },
  {
   "cell_type": "markdown",
   "id": "9f4e3898",
   "metadata": {},
   "source": [
    "### 7. A data scientist is building a linear regression model. One of the input variables is a categorical variable with three labels. So, he decided to use the one-hot encoding approach to transform the categorical variable into dummy variables. How many dummy variables does he need to include in the linear model?\n",
    "(a) 0\\\n",
    "(b) 1\\\n",
    "(c) 2 \\\n",
    "(d) 3 \\\n",
    "(e) None of the above"
   ]
  },
  {
   "cell_type": "markdown",
   "id": "8963d006",
   "metadata": {},
   "source": [
    "### Answer:\n",
    "(c) 2"
   ]
  },
  {
   "cell_type": "markdown",
   "id": "dd37035f",
   "metadata": {},
   "source": [
    "### 8. Suppose you are building a fraud detection system for major US bank. You have access to all the transaction data for the past week for users (date, location, and amount).What kind of new features can you engineer? Be creative and list at least three features that you would engineer for the fraud detection system."
   ]
  },
  {
   "cell_type": "markdown",
   "id": "0a685293",
   "metadata": {},
   "source": [
    "Using date, I would engineer the day name of the week, and whether it was a week or weekend transaction. Using location, I could extract the demographic data from the rigion and create some type of risk measurement of the area. For example, a transaction in São Paulo, BRA would have a much hiher risk than a transaction in Iowa, USA. Also, a dummy variable to sotre an information about whether it was a transaction within the \"normal\" location range that the user usually act. Lastly, I would flag in a dummy variable all transactions that were outside of the range the user usually expend. "
   ]
  },
  {
   "cell_type": "markdown",
   "id": "976c0ad3",
   "metadata": {},
   "source": [
    "### 9. The chart below was constructed using data related to credit card payments of college students. On the x-axis, we have the credit card balance, and on the y-axis we have the college students’ incomes. The light-blue circles represent payments that didn’t default; on the other hand, the orange circles represent credit card payments that default."
   ]
  },
  {
   "cell_type": "markdown",
   "id": "3d6a370a",
   "metadata": {},
   "source": [
    "### Let’s assume that you are the data scientist in charge of this project. The goal is to build a classification system that can flag future credit card payments that are likely to default. Answer the following:\n",
    "### (a) Is the dataset imbalanced? Be specific."
   ]
  },
  {
   "cell_type": "markdown",
   "id": "0197db63",
   "metadata": {},
   "source": [
    "This dataset is imbalanced because the light-blue circles have a very high proportion when compared to the orange circles."
   ]
  },
  {
   "cell_type": "markdown",
   "id": "03147bcb",
   "metadata": {},
   "source": [
    "### (b) Using the above chart, engineer one feature for your classification model. Be specific."
   ]
  },
  {
   "cell_type": "markdown",
   "id": "5eaff84d",
   "metadata": {},
   "source": [
    "I would engineer a feature to store the interaction between Income and Balance by multiplying them."
   ]
  },
  {
   "cell_type": "markdown",
   "id": "6bbfae52",
   "metadata": {},
   "source": [
    "### 10. Which of the following is/are TRUE feature subset selection?\n",
    "(a) Subset selection can substantially decrease the bias of support vector machine models.\\\n",
    "(b) Ridge regression frequently eliminates some of the features.\\\n",
    "(c) Subset selection can reduce over-fitting.\\\n",
    "(d) Finding the true best subset takes exponential time.\n",
    "\n",
    "### Answer:\n",
    "(c) Subset selection can reduce over-fitting.\\\n",
    "(d) Finding the true best subset takes exponential time.\n"
   ]
  },
  {
   "cell_type": "markdown",
   "id": "a10b6a27",
   "metadata": {},
   "source": [
    "### 11. A data scientist is building a regression model. A few of the input variables are categorical, and he has not looked at the distribution of the categorical data in the test data. The data scientist wants to apply the one-hot encoding on the categorical features. What challenges he may face if he have applied one-hot encoding on a categorical variable of the train dataset?\n",
    "\n",
    "(a) All categories of categorical variable are not present in the test dataset.\\\n",
    "(b) Frequency distribution of categories is different in train as compared to the test dataset.\\\n",
    "(c) Train and test always have same distribution.\\\n",
    "(d) (a) and (b)\\\n",
    "(e) (a) and (c)\\\n",
    "(f) (b) and (c)\\\n",
    "(g) None of the above.\n",
    "\n",
    "### Answer:\n",
    "(d) (a) and (b)"
   ]
  },
  {
   "cell_type": "markdown",
   "id": "0951fc50",
   "metadata": {},
   "source": [
    "### 12. What is the difference between feature engineering and feature selection? Be specific."
   ]
  },
  {
   "cell_type": "markdown",
   "id": "bab1a7e5",
   "metadata": {},
   "source": [
    "Feature engineering is the process of creating new features from raw data and trasforming them into formats that are suitable for the machine learning model. While feature selection is the proccess of selecting the most important features for the machine learning model. Therefore, the difference between feature engineering and feature selection is that in feature engineering we are creating new features while in feature selection we are selecting the most important features."
   ]
  },
  {
   "cell_type": "markdown",
   "id": "8edaba6e",
   "metadata": {},
   "source": [
    "### 13. Based on the discussions from Chapter 4, list at least two benefits of feature selection. Be specific."
   ]
  },
  {
   "cell_type": "markdown",
   "id": "375ab7e4",
   "metadata": {},
   "source": [
    "By performing feature selection, you will likely decrease the number of predictors/input variables, which automatically decreases the complexity of the model. In some cases, removing the predictors can reduce the cost of acquiring data or improve the throughput of the software used to make predictions."
   ]
  },
  {
   "cell_type": "markdown",
   "id": "d709234d",
   "metadata": {},
   "source": [
    "### 14. Consider the F1-scores of three different classifiers in a 5-folds cross-validation setting (using the same test dataset) is shown below."
   ]
  },
  {
   "cell_type": "code",
   "execution_count": 8,
   "id": "29c127d4",
   "metadata": {},
   "outputs": [
    {
     "data": {
      "text/html": [
       "<div>\n",
       "<style scoped>\n",
       "    .dataframe tbody tr th:only-of-type {\n",
       "        vertical-align: middle;\n",
       "    }\n",
       "\n",
       "    .dataframe tbody tr th {\n",
       "        vertical-align: top;\n",
       "    }\n",
       "\n",
       "    .dataframe thead th {\n",
       "        text-align: right;\n",
       "    }\n",
       "</style>\n",
       "<table border=\"1\" class=\"dataframe\">\n",
       "  <thead>\n",
       "    <tr style=\"text-align: right;\">\n",
       "      <th></th>\n",
       "      <th>fold</th>\n",
       "      <th>Model 1</th>\n",
       "      <th>Model 2</th>\n",
       "      <th>Model 3</th>\n",
       "    </tr>\n",
       "  </thead>\n",
       "  <tbody>\n",
       "    <tr>\n",
       "      <th>0</th>\n",
       "      <td>1</td>\n",
       "      <td>0.76</td>\n",
       "      <td>0.81</td>\n",
       "      <td>0.75</td>\n",
       "    </tr>\n",
       "    <tr>\n",
       "      <th>1</th>\n",
       "      <td>2</td>\n",
       "      <td>0.77</td>\n",
       "      <td>0.78</td>\n",
       "      <td>0.73</td>\n",
       "    </tr>\n",
       "    <tr>\n",
       "      <th>2</th>\n",
       "      <td>3</td>\n",
       "      <td>0.78</td>\n",
       "      <td>0.78</td>\n",
       "      <td>0.76</td>\n",
       "    </tr>\n",
       "    <tr>\n",
       "      <th>3</th>\n",
       "      <td>4</td>\n",
       "      <td>0.79</td>\n",
       "      <td>0.80</td>\n",
       "      <td>0.75</td>\n",
       "    </tr>\n",
       "    <tr>\n",
       "      <th>4</th>\n",
       "      <td>5</td>\n",
       "      <td>0.76</td>\n",
       "      <td>0.79</td>\n",
       "      <td>0.73</td>\n",
       "    </tr>\n",
       "  </tbody>\n",
       "</table>\n",
       "</div>"
      ],
      "text/plain": [
       "   fold  Model 1  Model 2  Model 3\n",
       "0     1     0.76     0.81     0.75\n",
       "1     2     0.77     0.78     0.73\n",
       "2     3     0.78     0.78     0.76\n",
       "3     4     0.79     0.80     0.75\n",
       "4     5     0.76     0.79     0.73"
      ]
     },
     "execution_count": 8,
     "metadata": {},
     "output_type": "execute_result"
    }
   ],
   "source": [
    "import pandas as pd\n",
    "\n",
    "fold_cv = pd.DataFrame({'fold': [1, 2, 3, 4, 5], \n",
    "                        \"Model 1\": [0.76, 0.77, 0.78, 0.79, 0.76],\n",
    "                        \"Model 2\": [0.81, 0.78, 0.78, 0.80, 0.79],\n",
    "                        \"Model 3\": [0.75, 0.73, 0.76, 0.75, 0.73]})\n",
    "fold_cv"
   ]
  },
  {
   "cell_type": "markdown",
   "id": "78161bab",
   "metadata": {},
   "source": [
    "### Based on the F1-score, what model would use to make predictions? Be specific."
   ]
  },
  {
   "cell_type": "code",
   "execution_count": 11,
   "id": "0ef95c68",
   "metadata": {},
   "outputs": [
    {
     "name": "stdout",
     "output_type": "stream",
     "text": [
      "Model 1 F1-score average:  0.772\n",
      "Model 2 F1-score average:  0.792\n",
      "Model 3 F1-score average:  0.744\n"
     ]
    }
   ],
   "source": [
    "print(\"Model 1 F1-score average: \", fold_cv['Model 1'].mean())\n",
    "print(\"Model 2 F1-score average: \", fold_cv['Model 2'].mean())\n",
    "print(\"Model 3 F1-score average: \", fold_cv['Model 3'].mean())"
   ]
  },
  {
   "cell_type": "markdown",
   "id": "71f09fb2",
   "metadata": {},
   "source": [
    "### Answer:\n",
    "I would choose model 2 to make predictions."
   ]
  },
  {
   "cell_type": "markdown",
   "id": "b82f304c",
   "metadata": {},
   "source": [
    "### 15. Consider the train.csv and test.csv data files. The train.csv data file contains information on default payments, demographic factors, credit data, history of payment, and bill statements of credit card clients in Taiwan from April 2005 to September 2005.\n",
    "\n",
    "### (a)  Using the pandas library, read the train.csv and test.csv data files and create two data-frames, called them train and test."
   ]
  },
  {
   "cell_type": "code",
   "execution_count": 14,
   "id": "26d92cb7",
   "metadata": {},
   "outputs": [
    {
     "data": {
      "text/plain": [
       "(6000, 23)"
      ]
     },
     "execution_count": 14,
     "metadata": {},
     "output_type": "execute_result"
    }
   ],
   "source": [
    "import pandas as pd\n",
    "import numpy as np\n",
    "import matplotlib.pyplot as plt\n",
    "from sklearn.preprocessing import MinMaxScaler\n",
    "from scipy.stats import boxcox\n",
    "from sklearn.model_selection import train_test_split, GridSearchCV\n",
    "from sklearn.ensemble import RandomForestClassifier, AdaBoostClassifier\n",
    "from sklearn.metrics import confusion_matrix, classification_report\n",
    "from sklearn.multiclass import OneVsRestClassifier\n",
    "from sklearn.tree import DecisionTreeClassifier, plot_tree\n",
    "import precision_recall_cutoff # Calling .py function\n",
    "from sklearn.feature_selection import RFE, RFECV\n",
    "from sklearn.svm import SVR\n",
    "\n",
    "train = pd.read_csv(\"train.csv\")\n",
    "test = pd.read_csv(\"test.csv\")\n",
    "test.shape"
   ]
  },
  {
   "cell_type": "code",
   "execution_count": 15,
   "id": "aa4ed307",
   "metadata": {},
   "outputs": [
    {
     "data": {
      "text/html": [
       "<div>\n",
       "<style scoped>\n",
       "    .dataframe tbody tr th:only-of-type {\n",
       "        vertical-align: middle;\n",
       "    }\n",
       "\n",
       "    .dataframe tbody tr th {\n",
       "        vertical-align: top;\n",
       "    }\n",
       "\n",
       "    .dataframe thead th {\n",
       "        text-align: right;\n",
       "    }\n",
       "</style>\n",
       "<table border=\"1\" class=\"dataframe\">\n",
       "  <thead>\n",
       "    <tr style=\"text-align: right;\">\n",
       "      <th></th>\n",
       "      <th>LIMIT_BAL</th>\n",
       "      <th>SEX</th>\n",
       "      <th>EDUCATION</th>\n",
       "      <th>MARRIAGE</th>\n",
       "      <th>AGE</th>\n",
       "      <th>PAY_0</th>\n",
       "      <th>PAY_2</th>\n",
       "      <th>PAY_3</th>\n",
       "      <th>PAY_4</th>\n",
       "      <th>PAY_5</th>\n",
       "      <th>...</th>\n",
       "      <th>BILL_AMT3</th>\n",
       "      <th>BILL_AMT4</th>\n",
       "      <th>BILL_AMT5</th>\n",
       "      <th>BILL_AMT6</th>\n",
       "      <th>PAY_AMT1</th>\n",
       "      <th>PAY_AMT2</th>\n",
       "      <th>PAY_AMT3</th>\n",
       "      <th>PAY_AMT4</th>\n",
       "      <th>PAY_AMT5</th>\n",
       "      <th>PAY_AMT6</th>\n",
       "    </tr>\n",
       "  </thead>\n",
       "  <tbody>\n",
       "    <tr>\n",
       "      <th>0</th>\n",
       "      <td>120000</td>\n",
       "      <td>2</td>\n",
       "      <td>2</td>\n",
       "      <td>2</td>\n",
       "      <td>26</td>\n",
       "      <td>-1</td>\n",
       "      <td>2</td>\n",
       "      <td>0</td>\n",
       "      <td>0</td>\n",
       "      <td>0</td>\n",
       "      <td>...</td>\n",
       "      <td>2682</td>\n",
       "      <td>3272</td>\n",
       "      <td>3455</td>\n",
       "      <td>3261</td>\n",
       "      <td>0</td>\n",
       "      <td>1000</td>\n",
       "      <td>1000</td>\n",
       "      <td>1000</td>\n",
       "      <td>0</td>\n",
       "      <td>2000</td>\n",
       "    </tr>\n",
       "    <tr>\n",
       "      <th>1</th>\n",
       "      <td>50000</td>\n",
       "      <td>2</td>\n",
       "      <td>2</td>\n",
       "      <td>1</td>\n",
       "      <td>37</td>\n",
       "      <td>0</td>\n",
       "      <td>0</td>\n",
       "      <td>0</td>\n",
       "      <td>0</td>\n",
       "      <td>0</td>\n",
       "      <td>...</td>\n",
       "      <td>49291</td>\n",
       "      <td>28314</td>\n",
       "      <td>28959</td>\n",
       "      <td>29547</td>\n",
       "      <td>2000</td>\n",
       "      <td>2019</td>\n",
       "      <td>1200</td>\n",
       "      <td>1100</td>\n",
       "      <td>1069</td>\n",
       "      <td>1000</td>\n",
       "    </tr>\n",
       "    <tr>\n",
       "      <th>2</th>\n",
       "      <td>20000</td>\n",
       "      <td>1</td>\n",
       "      <td>3</td>\n",
       "      <td>2</td>\n",
       "      <td>35</td>\n",
       "      <td>-2</td>\n",
       "      <td>-2</td>\n",
       "      <td>-2</td>\n",
       "      <td>-2</td>\n",
       "      <td>-1</td>\n",
       "      <td>...</td>\n",
       "      <td>0</td>\n",
       "      <td>0</td>\n",
       "      <td>13007</td>\n",
       "      <td>13912</td>\n",
       "      <td>0</td>\n",
       "      <td>0</td>\n",
       "      <td>0</td>\n",
       "      <td>13007</td>\n",
       "      <td>1122</td>\n",
       "      <td>0</td>\n",
       "    </tr>\n",
       "    <tr>\n",
       "      <th>3</th>\n",
       "      <td>200000</td>\n",
       "      <td>2</td>\n",
       "      <td>3</td>\n",
       "      <td>2</td>\n",
       "      <td>34</td>\n",
       "      <td>0</td>\n",
       "      <td>0</td>\n",
       "      <td>2</td>\n",
       "      <td>0</td>\n",
       "      <td>0</td>\n",
       "      <td>...</td>\n",
       "      <td>5535</td>\n",
       "      <td>2513</td>\n",
       "      <td>1828</td>\n",
       "      <td>3731</td>\n",
       "      <td>2306</td>\n",
       "      <td>12</td>\n",
       "      <td>50</td>\n",
       "      <td>300</td>\n",
       "      <td>3738</td>\n",
       "      <td>66</td>\n",
       "    </tr>\n",
       "    <tr>\n",
       "      <th>4</th>\n",
       "      <td>630000</td>\n",
       "      <td>2</td>\n",
       "      <td>2</td>\n",
       "      <td>2</td>\n",
       "      <td>41</td>\n",
       "      <td>-1</td>\n",
       "      <td>0</td>\n",
       "      <td>-1</td>\n",
       "      <td>-1</td>\n",
       "      <td>-1</td>\n",
       "      <td>...</td>\n",
       "      <td>6500</td>\n",
       "      <td>6500</td>\n",
       "      <td>6500</td>\n",
       "      <td>2870</td>\n",
       "      <td>1000</td>\n",
       "      <td>6500</td>\n",
       "      <td>6500</td>\n",
       "      <td>6500</td>\n",
       "      <td>2870</td>\n",
       "      <td>0</td>\n",
       "    </tr>\n",
       "  </tbody>\n",
       "</table>\n",
       "<p>5 rows × 23 columns</p>\n",
       "</div>"
      ],
      "text/plain": [
       "   LIMIT_BAL  SEX  EDUCATION  MARRIAGE  AGE  PAY_0  PAY_2  PAY_3  PAY_4  \\\n",
       "0     120000    2          2         2   26     -1      2      0      0   \n",
       "1      50000    2          2         1   37      0      0      0      0   \n",
       "2      20000    1          3         2   35     -2     -2     -2     -2   \n",
       "3     200000    2          3         2   34      0      0      2      0   \n",
       "4     630000    2          2         2   41     -1      0     -1     -1   \n",
       "\n",
       "   PAY_5  ...  BILL_AMT3  BILL_AMT4  BILL_AMT5  BILL_AMT6  PAY_AMT1  PAY_AMT2  \\\n",
       "0      0  ...       2682       3272       3455       3261         0      1000   \n",
       "1      0  ...      49291      28314      28959      29547      2000      2019   \n",
       "2     -1  ...          0          0      13007      13912         0         0   \n",
       "3      0  ...       5535       2513       1828       3731      2306        12   \n",
       "4     -1  ...       6500       6500       6500       2870      1000      6500   \n",
       "\n",
       "   PAY_AMT3  PAY_AMT4  PAY_AMT5  PAY_AMT6  \n",
       "0      1000      1000         0      2000  \n",
       "1      1200      1100      1069      1000  \n",
       "2         0     13007      1122         0  \n",
       "3        50       300      3738        66  \n",
       "4      6500      6500      2870         0  \n",
       "\n",
       "[5 rows x 23 columns]"
      ]
     },
     "execution_count": 15,
     "metadata": {},
     "output_type": "execute_result"
    }
   ],
   "source": [
    "test.head()"
   ]
  },
  {
   "cell_type": "code",
   "execution_count": 16,
   "id": "70760fc9",
   "metadata": {},
   "outputs": [
    {
     "data": {
      "text/plain": [
       "(24000, 24)"
      ]
     },
     "execution_count": 16,
     "metadata": {},
     "output_type": "execute_result"
    }
   ],
   "source": [
    "train.shape"
   ]
  },
  {
   "cell_type": "code",
   "execution_count": 17,
   "id": "30ed28b4",
   "metadata": {},
   "outputs": [
    {
     "data": {
      "text/html": [
       "<div>\n",
       "<style scoped>\n",
       "    .dataframe tbody tr th:only-of-type {\n",
       "        vertical-align: middle;\n",
       "    }\n",
       "\n",
       "    .dataframe tbody tr th {\n",
       "        vertical-align: top;\n",
       "    }\n",
       "\n",
       "    .dataframe thead th {\n",
       "        text-align: right;\n",
       "    }\n",
       "</style>\n",
       "<table border=\"1\" class=\"dataframe\">\n",
       "  <thead>\n",
       "    <tr style=\"text-align: right;\">\n",
       "      <th></th>\n",
       "      <th>LIMIT_BAL</th>\n",
       "      <th>SEX</th>\n",
       "      <th>EDUCATION</th>\n",
       "      <th>MARRIAGE</th>\n",
       "      <th>AGE</th>\n",
       "      <th>PAY_0</th>\n",
       "      <th>PAY_2</th>\n",
       "      <th>PAY_3</th>\n",
       "      <th>PAY_4</th>\n",
       "      <th>PAY_5</th>\n",
       "      <th>...</th>\n",
       "      <th>BILL_AMT4</th>\n",
       "      <th>BILL_AMT5</th>\n",
       "      <th>BILL_AMT6</th>\n",
       "      <th>PAY_AMT1</th>\n",
       "      <th>PAY_AMT2</th>\n",
       "      <th>PAY_AMT3</th>\n",
       "      <th>PAY_AMT4</th>\n",
       "      <th>PAY_AMT5</th>\n",
       "      <th>PAY_AMT6</th>\n",
       "      <th>default payment next month</th>\n",
       "    </tr>\n",
       "  </thead>\n",
       "  <tbody>\n",
       "    <tr>\n",
       "      <th>0</th>\n",
       "      <td>400000</td>\n",
       "      <td>1</td>\n",
       "      <td>1</td>\n",
       "      <td>2</td>\n",
       "      <td>32</td>\n",
       "      <td>0</td>\n",
       "      <td>0</td>\n",
       "      <td>0</td>\n",
       "      <td>0</td>\n",
       "      <td>0</td>\n",
       "      <td>...</td>\n",
       "      <td>48272</td>\n",
       "      <td>49478</td>\n",
       "      <td>51242</td>\n",
       "      <td>3028</td>\n",
       "      <td>3023</td>\n",
       "      <td>3000</td>\n",
       "      <td>3000</td>\n",
       "      <td>3000</td>\n",
       "      <td>38662</td>\n",
       "      <td>0</td>\n",
       "    </tr>\n",
       "    <tr>\n",
       "      <th>1</th>\n",
       "      <td>120000</td>\n",
       "      <td>2</td>\n",
       "      <td>2</td>\n",
       "      <td>2</td>\n",
       "      <td>30</td>\n",
       "      <td>-1</td>\n",
       "      <td>-1</td>\n",
       "      <td>-1</td>\n",
       "      <td>-1</td>\n",
       "      <td>-1</td>\n",
       "      <td>...</td>\n",
       "      <td>1964</td>\n",
       "      <td>1883</td>\n",
       "      <td>1538</td>\n",
       "      <td>3230</td>\n",
       "      <td>3011</td>\n",
       "      <td>1964</td>\n",
       "      <td>1883</td>\n",
       "      <td>1538</td>\n",
       "      <td>1911</td>\n",
       "      <td>0</td>\n",
       "    </tr>\n",
       "    <tr>\n",
       "      <th>2</th>\n",
       "      <td>270000</td>\n",
       "      <td>2</td>\n",
       "      <td>2</td>\n",
       "      <td>2</td>\n",
       "      <td>32</td>\n",
       "      <td>0</td>\n",
       "      <td>0</td>\n",
       "      <td>0</td>\n",
       "      <td>0</td>\n",
       "      <td>0</td>\n",
       "      <td>...</td>\n",
       "      <td>94856</td>\n",
       "      <td>86461</td>\n",
       "      <td>83650</td>\n",
       "      <td>1808</td>\n",
       "      <td>69563</td>\n",
       "      <td>2891</td>\n",
       "      <td>2689</td>\n",
       "      <td>3012</td>\n",
       "      <td>2771</td>\n",
       "      <td>0</td>\n",
       "    </tr>\n",
       "    <tr>\n",
       "      <th>3</th>\n",
       "      <td>280000</td>\n",
       "      <td>2</td>\n",
       "      <td>2</td>\n",
       "      <td>1</td>\n",
       "      <td>27</td>\n",
       "      <td>0</td>\n",
       "      <td>0</td>\n",
       "      <td>0</td>\n",
       "      <td>0</td>\n",
       "      <td>0</td>\n",
       "      <td>...</td>\n",
       "      <td>257689</td>\n",
       "      <td>193231</td>\n",
       "      <td>191143</td>\n",
       "      <td>11052</td>\n",
       "      <td>9563</td>\n",
       "      <td>15017</td>\n",
       "      <td>5374</td>\n",
       "      <td>5420</td>\n",
       "      <td>6021</td>\n",
       "      <td>0</td>\n",
       "    </tr>\n",
       "    <tr>\n",
       "      <th>4</th>\n",
       "      <td>30000</td>\n",
       "      <td>2</td>\n",
       "      <td>1</td>\n",
       "      <td>2</td>\n",
       "      <td>27</td>\n",
       "      <td>0</td>\n",
       "      <td>0</td>\n",
       "      <td>-1</td>\n",
       "      <td>0</td>\n",
       "      <td>0</td>\n",
       "      <td>...</td>\n",
       "      <td>1814</td>\n",
       "      <td>0</td>\n",
       "      <td>0</td>\n",
       "      <td>1000</td>\n",
       "      <td>664</td>\n",
       "      <td>1500</td>\n",
       "      <td>0</td>\n",
       "      <td>0</td>\n",
       "      <td>0</td>\n",
       "      <td>0</td>\n",
       "    </tr>\n",
       "  </tbody>\n",
       "</table>\n",
       "<p>5 rows × 24 columns</p>\n",
       "</div>"
      ],
      "text/plain": [
       "   LIMIT_BAL  SEX  EDUCATION  MARRIAGE  AGE  PAY_0  PAY_2  PAY_3  PAY_4  \\\n",
       "0     400000    1          1         2   32      0      0      0      0   \n",
       "1     120000    2          2         2   30     -1     -1     -1     -1   \n",
       "2     270000    2          2         2   32      0      0      0      0   \n",
       "3     280000    2          2         1   27      0      0      0      0   \n",
       "4      30000    2          1         2   27      0      0     -1      0   \n",
       "\n",
       "   PAY_5  ...  BILL_AMT4  BILL_AMT5  BILL_AMT6  PAY_AMT1  PAY_AMT2  PAY_AMT3  \\\n",
       "0      0  ...      48272      49478      51242      3028      3023      3000   \n",
       "1     -1  ...       1964       1883       1538      3230      3011      1964   \n",
       "2      0  ...      94856      86461      83650      1808     69563      2891   \n",
       "3      0  ...     257689     193231     191143     11052      9563     15017   \n",
       "4      0  ...       1814          0          0      1000       664      1500   \n",
       "\n",
       "   PAY_AMT4  PAY_AMT5  PAY_AMT6  default payment next month  \n",
       "0      3000      3000     38662                           0  \n",
       "1      1883      1538      1911                           0  \n",
       "2      2689      3012      2771                           0  \n",
       "3      5374      5420      6021                           0  \n",
       "4         0         0         0                           0  \n",
       "\n",
       "[5 rows x 24 columns]"
      ]
     },
     "execution_count": 17,
     "metadata": {},
     "output_type": "execute_result"
    }
   ],
   "source": [
    "train.head()"
   ]
  },
  {
   "cell_type": "markdown",
   "id": "312ddba6",
   "metadata": {},
   "source": [
    "### (b)  Report the frequency table of default payment next month variable in the train data-frame."
   ]
  },
  {
   "cell_type": "code",
   "execution_count": 18,
   "id": "b5666da7",
   "metadata": {},
   "outputs": [
    {
     "data": {
      "text/plain": [
       "0    18691\n",
       "1     5309\n",
       "Name: default payment next month, dtype: int64"
      ]
     },
     "execution_count": 18,
     "metadata": {},
     "output_type": "execute_result"
    }
   ],
   "source": [
    "train['default payment next month'].value_counts()"
   ]
  },
  {
   "cell_type": "code",
   "execution_count": 20,
   "id": "a8b9da34",
   "metadata": {},
   "outputs": [
    {
     "data": {
      "text/plain": [
       "0    0.78\n",
       "1    0.22\n",
       "Name: default payment next month, dtype: float64"
      ]
     },
     "execution_count": 20,
     "metadata": {},
     "output_type": "execute_result"
    }
   ],
   "source": [
    "round(train['default payment next month'].value_counts() / train.shape[0], 2) "
   ]
  },
  {
   "cell_type": "code",
   "execution_count": null,
   "id": "86f511f3",
   "metadata": {},
   "outputs": [],
   "source": []
  }
 ],
 "metadata": {
  "kernelspec": {
   "display_name": "conda_python3",
   "language": "python",
   "name": "conda_python3"
  },
  "language_info": {
   "codemirror_mode": {
    "name": "ipython",
    "version": 3
   },
   "file_extension": ".py",
   "mimetype": "text/x-python",
   "name": "python",
   "nbconvert_exporter": "python",
   "pygments_lexer": "ipython3",
   "version": "3.6.13"
  }
 },
 "nbformat": 4,
 "nbformat_minor": 5
}
