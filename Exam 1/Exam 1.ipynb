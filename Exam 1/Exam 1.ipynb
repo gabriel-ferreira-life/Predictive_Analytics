{
 "cells": [
  {
   "cell_type": "markdown",
   "id": "84241d7b",
   "metadata": {},
   "source": [
    "### 1. True or False.\n",
    "(a) In class imbalanced classification tasks, the goal is to find the model that has the highest accuracy. (True False)\n",
    "### False\n",
    "\n",
    "(b) Over-fitting is the biggest issue with over-sampling. (True False)\n",
    "### True\n",
    "\n",
    "(c) Under-fitting is the biggest issue with over-sampling. (True False)\n",
    "### False\n",
    "\n",
    "(d) A model with a large number of input variables always have a good performance. (True False)\n",
    "### False\n",
    "\n",
    "(e) If we run the SMOTE sampling technique multiple times on an imbalanced dataset, we will always obtain the same synthetic dataset. (True False) \n",
    "### False\n",
    "\n",
    "(f) Having access to good data is better than having a good model. (True False)\n",
    "### True\n",
    "\n",
    "(g) RFE works with any support vector machine model. (True False)\n",
    "### False\n",
    "\n",
    "(h) RFE doesn’t work with any support vector machine model. (True False)\n",
    "### False\n",
    "\n",
    "(i) A typical approach to engineer features is to consider interactions because most interactions help models to generate good predictions. (True False)\n",
    "### False\n",
    "\n",
    "(j) The support vectors in support vector machine models can be used to identify important variables/featues. (True False)\n",
    "### False"
   ]
  },
  {
   "cell_type": "markdown",
   "id": "90d10b2a",
   "metadata": {},
   "source": [
    "### 2. How does the Recursive Feature Elimination (RFE) algorithm work? Be specific."
   ]
  },
  {
   "cell_type": "markdown",
   "id": "138f3829",
   "metadata": {},
   "source": [
    "The Recursive Feature Elimination (RFE) algorithm works basically as a backward selection of the predictors. This technique begins building a model with all set of predictors and computing an importance score for each predictor. The least important predictor(s) are removed, then the process repeat again. The analyst usually specifies the number of predictor to be used in the model."
   ]
  },
  {
   "cell_type": "markdown",
   "id": "0d97fd4c",
   "metadata": {},
   "source": [
    "### 3. Explain one-hot encoding. Be specific."
   ]
  },
  {
   "cell_type": "markdown",
   "id": "abb5e0fc",
   "metadata": {},
   "source": [
    "One-hot enconding is the proccess of creating numeric dummies variables out of a multi-class variable. The overall goal of one-hot encoding technique is to help machine learning model algorithms to make better precdictions by transforming the data format."
   ]
  },
  {
   "cell_type": "markdown",
   "id": "7c862a1e",
   "metadata": {},
   "source": [
    "### 4. If you have a date column in your data-frame, then how will you perform feature engineering on the date column? List at least three features that you will engineer from date. Be specific."
   ]
  },
  {
   "cell_type": "markdown",
   "id": "8c9928d5",
   "metadata": {},
   "source": [
    "Having a date column in my data-frame, I could engineer a feature to store the month, it would facilitate the subseting of the data if needed. In the same logic, I could engineer a feature to sotre the year. I could also extract the day name (Sun, Mon, Tue, Wed, Thu, Fri, Sat). From there, I could engineer features about whether it was a week or weekend. Holiday or not, and so on."
   ]
  },
  {
   "cell_type": "markdown",
   "id": "1a190987",
   "metadata": {},
   "source": [
    "### 5.  In what scenarios, would you prefer to use the precision-recall curve instead of ROC curve to measure the performance of a classifier? Be specific."
   ]
  },
  {
   "cell_type": "markdown",
   "id": "439fd209",
   "metadata": {},
   "source": [
    "I would prefer to use the precision-recall curve instead of ROC curve to measure the performance of a classifier when the dataset is imbalanced."
   ]
  },
  {
   "cell_type": "markdown",
   "id": "40ee7e00",
   "metadata": {},
   "source": [
    "### 6. Explain the biggest drawback of one-vs-one multi-class classification when compared to one-vs-all multi-class classification. Be specific."
   ]
  },
  {
   "cell_type": "markdown",
   "id": "8a256c85",
   "metadata": {},
   "source": [
    "The biggest draw drawback of one-vs-one multi-class classification when compared to one-vs-all multi-class classification is because one-vs-one throw away data once it focouses in two classes per model."
   ]
  },
  {
   "cell_type": "markdown",
   "id": "68aae11d",
   "metadata": {},
   "source": [
    "### 7. A data scientist is building a linear regression model. One of the input variables is a categorical variable with three labels. So, he decided to use the one-hot encoding approach to transform the categorical variable into dummy variables. How many dummy variables does he need to include in the linear model?\n",
    "(a) 0\\\n",
    "(b) 1\\\n",
    "(c) 2 \\\n",
    "(d) 3 \\\n",
    "(e) None of the above\n",
    "\n",
    "### Answer:\n",
    "(c) 2"
   ]
  },
  {
   "cell_type": "markdown",
   "id": "780349d6",
   "metadata": {},
   "source": [
    "### 8. Suppose you are building a fraud detection system for major US bank. You have access to all the transaction data for the past week for users (date, location, and amount).What kind of new features can you engineer? Be creative and list at least three features that you would engineer for the fraud detection system."
   ]
  },
  {
   "cell_type": "markdown",
   "id": "85ab162c",
   "metadata": {},
   "source": [
    "Using date, I would engineer the day name of the week, and whether it was a week or weekend transaction. Using location, I could use some type of measurement to check whether the transaction was within the demographic location of the customer. Lastly, I would keep in track the rhythm of transactions. For example, if the user makes three following transactions out of his normal amount, I would flag it as suspicious. "
   ]
  },
  {
   "cell_type": "markdown",
   "id": "95027c27",
   "metadata": {},
   "source": [
    "### 9. The chart below was constructed using data related to credit card payments of college students. On the x-axis, we have the credit card balance, and on the y-axis we have the college students’ incomes. The light-blue circles represent payments that didn’t default; on the other hand, the orange circles represent credit card payments that default."
   ]
  },
  {
   "cell_type": "markdown",
   "id": "c7d7c196",
   "metadata": {},
   "source": [
    "### Let’s assume that you are the data scientist in charge of this project. The goal is to build a classification system that can flag future credit card payments that are likely to default. Answer the following:\n",
    "### (a) Is the dataset imbalanced? Be specific."
   ]
  },
  {
   "cell_type": "markdown",
   "id": "93e8dbb8",
   "metadata": {},
   "source": [
    "This dataset is imbalanced because the light-blue circles have a very higher proportion when compared to the orange circles."
   ]
  },
  {
   "cell_type": "markdown",
   "id": "2ee2c3af",
   "metadata": {},
   "source": [
    "### (b) Using the above chart, engineer one feature for your classification model. Be specific."
   ]
  },
  {
   "cell_type": "markdown",
   "id": "bf873110",
   "metadata": {},
   "source": [
    "I would engineer a feature to store the interaction between Income and Balance by multiplying them."
   ]
  },
  {
   "cell_type": "markdown",
   "id": "232b1c5d",
   "metadata": {},
   "source": [
    "### 10. Which of the following is/are TRUE feature subset selection?\n",
    "(a) Subset selection can substantially decrease the bias of support vector machine models.\\\n",
    "(b) Ridge regression frequently eliminates some of the features.\\\n",
    "(c) Subset selection can reduce over-fitting.\\\n",
    "(d) Finding the true best subset takes exponential time.\n",
    "\n",
    "### Answer:\n",
    "(c) Subset selection can reduce over-fitting.\\\n",
    "(d) Finding the true best subset takes exponential time.\n"
   ]
  },
  {
   "cell_type": "markdown",
   "id": "7499da33",
   "metadata": {},
   "source": [
    "### 11. A data scientist is building a regression model. A few of the input variables are categorical, and he has not looked at the distribution of the categorical data in the test data. The data scientist wants to apply the one-hot encoding on the categorical features. What challenges he may face if he have applied one-hot encoding on a categorical variable of the train dataset?\n",
    "\n",
    "(a) All categories of categorical variable are not present in the test dataset.\\\n",
    "(b) Frequency distribution of categories is different in train as compared to the test dataset.\\\n",
    "(c) Train and test always have same distribution.\\\n",
    "(d) (a) and (b)\\\n",
    "(e) (a) and (c)\\\n",
    "(f) (b) and (c)\\\n",
    "(g) None of the above.\n",
    "\n",
    "### Answer:\n",
    "(d) (a) and (b)"
   ]
  },
  {
   "cell_type": "markdown",
   "id": "b3b18aa0",
   "metadata": {},
   "source": [
    "### 12. What is the difference between feature engineering and feature selection? Be specific."
   ]
  },
  {
   "cell_type": "markdown",
   "id": "5c71be86",
   "metadata": {},
   "source": [
    "Feature engineering is the process of creating new features from raw data and trasforming them into formats that are suitable for the machine learning model. While feature selection is the proccess of selecting the most important features for the machine learning model. Therefore, the difference between feature engineering and feature selection is that in feature engineering we are creating new features while in feature selection we are selecting the most important features."
   ]
  },
  {
   "cell_type": "markdown",
   "id": "06e56dd0",
   "metadata": {},
   "source": [
    "### 13. Based on the discussions from Chapter 4, list at least two benefits of feature selection. Be specific."
   ]
  },
  {
   "cell_type": "markdown",
   "id": "16fce15d",
   "metadata": {},
   "source": [
    "By performing feature selection, you will likely decrease the number of predictors/input variables, which automatically decreases the complexity of the model. In some cases, removing the predictors can reduce the cost of acquiring data or improve the throughput of the software used to make predictions."
   ]
  },
  {
   "cell_type": "markdown",
   "id": "a2abfbbf",
   "metadata": {},
   "source": [
    "### 14. Consider the F1-scores of three different classifiers in a 5-folds cross-validation setting (using the same test dataset) is shown below."
   ]
  },
  {
   "cell_type": "code",
   "execution_count": 2,
   "id": "ae44b80d",
   "metadata": {},
   "outputs": [
    {
     "data": {
      "text/html": [
       "<div>\n",
       "<style scoped>\n",
       "    .dataframe tbody tr th:only-of-type {\n",
       "        vertical-align: middle;\n",
       "    }\n",
       "\n",
       "    .dataframe tbody tr th {\n",
       "        vertical-align: top;\n",
       "    }\n",
       "\n",
       "    .dataframe thead th {\n",
       "        text-align: right;\n",
       "    }\n",
       "</style>\n",
       "<table border=\"1\" class=\"dataframe\">\n",
       "  <thead>\n",
       "    <tr style=\"text-align: right;\">\n",
       "      <th></th>\n",
       "      <th>fold</th>\n",
       "      <th>Model 1</th>\n",
       "      <th>Model 2</th>\n",
       "      <th>Model 3</th>\n",
       "    </tr>\n",
       "  </thead>\n",
       "  <tbody>\n",
       "    <tr>\n",
       "      <th>0</th>\n",
       "      <td>1</td>\n",
       "      <td>0.76</td>\n",
       "      <td>0.81</td>\n",
       "      <td>0.75</td>\n",
       "    </tr>\n",
       "    <tr>\n",
       "      <th>1</th>\n",
       "      <td>2</td>\n",
       "      <td>0.77</td>\n",
       "      <td>0.78</td>\n",
       "      <td>0.73</td>\n",
       "    </tr>\n",
       "    <tr>\n",
       "      <th>2</th>\n",
       "      <td>3</td>\n",
       "      <td>0.78</td>\n",
       "      <td>0.78</td>\n",
       "      <td>0.76</td>\n",
       "    </tr>\n",
       "    <tr>\n",
       "      <th>3</th>\n",
       "      <td>4</td>\n",
       "      <td>0.79</td>\n",
       "      <td>0.80</td>\n",
       "      <td>0.75</td>\n",
       "    </tr>\n",
       "    <tr>\n",
       "      <th>4</th>\n",
       "      <td>5</td>\n",
       "      <td>0.76</td>\n",
       "      <td>0.79</td>\n",
       "      <td>0.73</td>\n",
       "    </tr>\n",
       "  </tbody>\n",
       "</table>\n",
       "</div>"
      ],
      "text/plain": [
       "   fold  Model 1  Model 2  Model 3\n",
       "0     1     0.76     0.81     0.75\n",
       "1     2     0.77     0.78     0.73\n",
       "2     3     0.78     0.78     0.76\n",
       "3     4     0.79     0.80     0.75\n",
       "4     5     0.76     0.79     0.73"
      ]
     },
     "execution_count": 2,
     "metadata": {},
     "output_type": "execute_result"
    }
   ],
   "source": [
    "import pandas as pd\n",
    "\n",
    "fold_cv = pd.DataFrame({'fold': [1, 2, 3, 4, 5], \n",
    "                        \"Model 1\": [0.76, 0.77, 0.78, 0.79, 0.76],\n",
    "                        \"Model 2\": [0.81, 0.78, 0.78, 0.80, 0.79],\n",
    "                        \"Model 3\": [0.75, 0.73, 0.76, 0.75, 0.73]})\n",
    "fold_cv"
   ]
  },
  {
   "cell_type": "markdown",
   "id": "e6be1d82",
   "metadata": {},
   "source": [
    "### Based on the F1-score, what model would use to make predictions? Be specific."
   ]
  },
  {
   "cell_type": "code",
   "execution_count": 3,
   "id": "c5451888",
   "metadata": {},
   "outputs": [
    {
     "name": "stdout",
     "output_type": "stream",
     "text": [
      "Model 1 F1-score average:  0.772\n",
      "Model 2 F1-score average:  0.792\n",
      "Model 3 F1-score average:  0.744\n"
     ]
    }
   ],
   "source": [
    "print(\"Model 1 F1-score average: \", fold_cv['Model 1'].mean())\n",
    "print(\"Model 2 F1-score average: \", fold_cv['Model 2'].mean())\n",
    "print(\"Model 3 F1-score average: \", fold_cv['Model 3'].mean())"
   ]
  },
  {
   "cell_type": "markdown",
   "id": "8ee4b7bb",
   "metadata": {},
   "source": [
    "### Answer:\n",
    "I would choose model 2 to make predictions."
   ]
  },
  {
   "cell_type": "markdown",
   "id": "0a0eeef4",
   "metadata": {},
   "source": [
    "### 15. Consider the train.csv and test.csv data files. The train.csv data file contains information on default payments, demographic factors, credit data, history of payment, and bill statements of credit card clients in Taiwan from April 2005 to September 2005.\n",
    "\n",
    "### (a)  Using the pandas library, read the train.csv and test.csv data files and create two data-frames, called them train and test."
   ]
  },
  {
   "cell_type": "code",
   "execution_count": 1,
   "id": "da77b0ad",
   "metadata": {},
   "outputs": [
    {
     "data": {
      "text/plain": [
       "(6000, 23)"
      ]
     },
     "execution_count": 1,
     "metadata": {},
     "output_type": "execute_result"
    }
   ],
   "source": [
    "## Importing libraries\n",
    "import pandas as pd; pd.set_option('display.max_columns', 50)\n",
    "import numpy as np\n",
    "import matplotlib.pyplot as plt\n",
    "from sklearn.preprocessing import MinMaxScaler\n",
    "from scipy.stats import boxcox\n",
    "from sklearn.model_selection import train_test_split, GridSearchCV\n",
    "from sklearn.ensemble import RandomForestClassifier, AdaBoostClassifier\n",
    "from sklearn.metrics import confusion_matrix, classification_report\n",
    "from sklearn.multiclass import OneVsRestClassifier\n",
    "from sklearn.tree import DecisionTreeClassifier, plot_tree\n",
    "import precision_recall_cutoff # Calling .py function\n",
    "from sklearn.feature_selection import RFE, RFECV\n",
    "from sklearn.svm import SVR\n",
    "\n",
    "train = pd.read_csv(\"train.csv\")\n",
    "test = pd.read_csv(\"test.csv\")\n",
    "test.shape"
   ]
  },
  {
   "cell_type": "code",
   "execution_count": 27,
   "id": "85669505",
   "metadata": {},
   "outputs": [
    {
     "data": {
      "text/html": [
       "<div>\n",
       "<style scoped>\n",
       "    .dataframe tbody tr th:only-of-type {\n",
       "        vertical-align: middle;\n",
       "    }\n",
       "\n",
       "    .dataframe tbody tr th {\n",
       "        vertical-align: top;\n",
       "    }\n",
       "\n",
       "    .dataframe thead th {\n",
       "        text-align: right;\n",
       "    }\n",
       "</style>\n",
       "<table border=\"1\" class=\"dataframe\">\n",
       "  <thead>\n",
       "    <tr style=\"text-align: right;\">\n",
       "      <th></th>\n",
       "      <th>LIMIT_BAL</th>\n",
       "      <th>SEX</th>\n",
       "      <th>EDUCATION</th>\n",
       "      <th>MARRIAGE</th>\n",
       "      <th>AGE</th>\n",
       "      <th>PAY_0</th>\n",
       "      <th>PAY_2</th>\n",
       "      <th>PAY_3</th>\n",
       "      <th>PAY_4</th>\n",
       "      <th>PAY_5</th>\n",
       "      <th>PAY_6</th>\n",
       "      <th>BILL_AMT1</th>\n",
       "      <th>BILL_AMT2</th>\n",
       "      <th>BILL_AMT3</th>\n",
       "      <th>BILL_AMT4</th>\n",
       "      <th>BILL_AMT5</th>\n",
       "      <th>BILL_AMT6</th>\n",
       "      <th>PAY_AMT1</th>\n",
       "      <th>PAY_AMT2</th>\n",
       "      <th>PAY_AMT3</th>\n",
       "      <th>PAY_AMT4</th>\n",
       "      <th>PAY_AMT5</th>\n",
       "      <th>PAY_AMT6</th>\n",
       "    </tr>\n",
       "  </thead>\n",
       "  <tbody>\n",
       "    <tr>\n",
       "      <th>0</th>\n",
       "      <td>120000</td>\n",
       "      <td>2</td>\n",
       "      <td>2</td>\n",
       "      <td>2</td>\n",
       "      <td>26</td>\n",
       "      <td>-1</td>\n",
       "      <td>2</td>\n",
       "      <td>0</td>\n",
       "      <td>0</td>\n",
       "      <td>0</td>\n",
       "      <td>2</td>\n",
       "      <td>2682</td>\n",
       "      <td>1725</td>\n",
       "      <td>2682</td>\n",
       "      <td>3272</td>\n",
       "      <td>3455</td>\n",
       "      <td>3261</td>\n",
       "      <td>0</td>\n",
       "      <td>1000</td>\n",
       "      <td>1000</td>\n",
       "      <td>1000</td>\n",
       "      <td>0</td>\n",
       "      <td>2000</td>\n",
       "    </tr>\n",
       "    <tr>\n",
       "      <th>1</th>\n",
       "      <td>50000</td>\n",
       "      <td>2</td>\n",
       "      <td>2</td>\n",
       "      <td>1</td>\n",
       "      <td>37</td>\n",
       "      <td>0</td>\n",
       "      <td>0</td>\n",
       "      <td>0</td>\n",
       "      <td>0</td>\n",
       "      <td>0</td>\n",
       "      <td>0</td>\n",
       "      <td>46990</td>\n",
       "      <td>48233</td>\n",
       "      <td>49291</td>\n",
       "      <td>28314</td>\n",
       "      <td>28959</td>\n",
       "      <td>29547</td>\n",
       "      <td>2000</td>\n",
       "      <td>2019</td>\n",
       "      <td>1200</td>\n",
       "      <td>1100</td>\n",
       "      <td>1069</td>\n",
       "      <td>1000</td>\n",
       "    </tr>\n",
       "    <tr>\n",
       "      <th>2</th>\n",
       "      <td>20000</td>\n",
       "      <td>1</td>\n",
       "      <td>3</td>\n",
       "      <td>2</td>\n",
       "      <td>35</td>\n",
       "      <td>-2</td>\n",
       "      <td>-2</td>\n",
       "      <td>-2</td>\n",
       "      <td>-2</td>\n",
       "      <td>-1</td>\n",
       "      <td>-1</td>\n",
       "      <td>0</td>\n",
       "      <td>0</td>\n",
       "      <td>0</td>\n",
       "      <td>0</td>\n",
       "      <td>13007</td>\n",
       "      <td>13912</td>\n",
       "      <td>0</td>\n",
       "      <td>0</td>\n",
       "      <td>0</td>\n",
       "      <td>13007</td>\n",
       "      <td>1122</td>\n",
       "      <td>0</td>\n",
       "    </tr>\n",
       "    <tr>\n",
       "      <th>3</th>\n",
       "      <td>200000</td>\n",
       "      <td>2</td>\n",
       "      <td>3</td>\n",
       "      <td>2</td>\n",
       "      <td>34</td>\n",
       "      <td>0</td>\n",
       "      <td>0</td>\n",
       "      <td>2</td>\n",
       "      <td>0</td>\n",
       "      <td>0</td>\n",
       "      <td>-1</td>\n",
       "      <td>11073</td>\n",
       "      <td>9787</td>\n",
       "      <td>5535</td>\n",
       "      <td>2513</td>\n",
       "      <td>1828</td>\n",
       "      <td>3731</td>\n",
       "      <td>2306</td>\n",
       "      <td>12</td>\n",
       "      <td>50</td>\n",
       "      <td>300</td>\n",
       "      <td>3738</td>\n",
       "      <td>66</td>\n",
       "    </tr>\n",
       "    <tr>\n",
       "      <th>4</th>\n",
       "      <td>630000</td>\n",
       "      <td>2</td>\n",
       "      <td>2</td>\n",
       "      <td>2</td>\n",
       "      <td>41</td>\n",
       "      <td>-1</td>\n",
       "      <td>0</td>\n",
       "      <td>-1</td>\n",
       "      <td>-1</td>\n",
       "      <td>-1</td>\n",
       "      <td>-1</td>\n",
       "      <td>12137</td>\n",
       "      <td>6500</td>\n",
       "      <td>6500</td>\n",
       "      <td>6500</td>\n",
       "      <td>6500</td>\n",
       "      <td>2870</td>\n",
       "      <td>1000</td>\n",
       "      <td>6500</td>\n",
       "      <td>6500</td>\n",
       "      <td>6500</td>\n",
       "      <td>2870</td>\n",
       "      <td>0</td>\n",
       "    </tr>\n",
       "  </tbody>\n",
       "</table>\n",
       "</div>"
      ],
      "text/plain": [
       "   LIMIT_BAL  SEX  EDUCATION  MARRIAGE  AGE  PAY_0  PAY_2  PAY_3  PAY_4  \\\n",
       "0     120000    2          2         2   26     -1      2      0      0   \n",
       "1      50000    2          2         1   37      0      0      0      0   \n",
       "2      20000    1          3         2   35     -2     -2     -2     -2   \n",
       "3     200000    2          3         2   34      0      0      2      0   \n",
       "4     630000    2          2         2   41     -1      0     -1     -1   \n",
       "\n",
       "   PAY_5  PAY_6  BILL_AMT1  BILL_AMT2  BILL_AMT3  BILL_AMT4  BILL_AMT5  \\\n",
       "0      0      2       2682       1725       2682       3272       3455   \n",
       "1      0      0      46990      48233      49291      28314      28959   \n",
       "2     -1     -1          0          0          0          0      13007   \n",
       "3      0     -1      11073       9787       5535       2513       1828   \n",
       "4     -1     -1      12137       6500       6500       6500       6500   \n",
       "\n",
       "   BILL_AMT6  PAY_AMT1  PAY_AMT2  PAY_AMT3  PAY_AMT4  PAY_AMT5  PAY_AMT6  \n",
       "0       3261         0      1000      1000      1000         0      2000  \n",
       "1      29547      2000      2019      1200      1100      1069      1000  \n",
       "2      13912         0         0         0     13007      1122         0  \n",
       "3       3731      2306        12        50       300      3738        66  \n",
       "4       2870      1000      6500      6500      6500      2870         0  "
      ]
     },
     "execution_count": 27,
     "metadata": {},
     "output_type": "execute_result"
    }
   ],
   "source": [
    "test.head()"
   ]
  },
  {
   "cell_type": "code",
   "execution_count": 28,
   "id": "bd97b6fa",
   "metadata": {},
   "outputs": [
    {
     "data": {
      "text/plain": [
       "(24000, 24)"
      ]
     },
     "execution_count": 28,
     "metadata": {},
     "output_type": "execute_result"
    }
   ],
   "source": [
    "train.shape"
   ]
  },
  {
   "cell_type": "code",
   "execution_count": 29,
   "id": "ad79d7f5",
   "metadata": {},
   "outputs": [
    {
     "data": {
      "text/html": [
       "<div>\n",
       "<style scoped>\n",
       "    .dataframe tbody tr th:only-of-type {\n",
       "        vertical-align: middle;\n",
       "    }\n",
       "\n",
       "    .dataframe tbody tr th {\n",
       "        vertical-align: top;\n",
       "    }\n",
       "\n",
       "    .dataframe thead th {\n",
       "        text-align: right;\n",
       "    }\n",
       "</style>\n",
       "<table border=\"1\" class=\"dataframe\">\n",
       "  <thead>\n",
       "    <tr style=\"text-align: right;\">\n",
       "      <th></th>\n",
       "      <th>LIMIT_BAL</th>\n",
       "      <th>SEX</th>\n",
       "      <th>EDUCATION</th>\n",
       "      <th>MARRIAGE</th>\n",
       "      <th>AGE</th>\n",
       "      <th>PAY_0</th>\n",
       "      <th>PAY_2</th>\n",
       "      <th>PAY_3</th>\n",
       "      <th>PAY_4</th>\n",
       "      <th>PAY_5</th>\n",
       "      <th>PAY_6</th>\n",
       "      <th>BILL_AMT1</th>\n",
       "      <th>BILL_AMT2</th>\n",
       "      <th>BILL_AMT3</th>\n",
       "      <th>BILL_AMT4</th>\n",
       "      <th>BILL_AMT5</th>\n",
       "      <th>BILL_AMT6</th>\n",
       "      <th>PAY_AMT1</th>\n",
       "      <th>PAY_AMT2</th>\n",
       "      <th>PAY_AMT3</th>\n",
       "      <th>PAY_AMT4</th>\n",
       "      <th>PAY_AMT5</th>\n",
       "      <th>PAY_AMT6</th>\n",
       "      <th>default payment next month</th>\n",
       "    </tr>\n",
       "  </thead>\n",
       "  <tbody>\n",
       "    <tr>\n",
       "      <th>0</th>\n",
       "      <td>400000</td>\n",
       "      <td>1</td>\n",
       "      <td>1</td>\n",
       "      <td>2</td>\n",
       "      <td>32</td>\n",
       "      <td>0</td>\n",
       "      <td>0</td>\n",
       "      <td>0</td>\n",
       "      <td>0</td>\n",
       "      <td>0</td>\n",
       "      <td>0</td>\n",
       "      <td>55773</td>\n",
       "      <td>55917</td>\n",
       "      <td>51389</td>\n",
       "      <td>48272</td>\n",
       "      <td>49478</td>\n",
       "      <td>51242</td>\n",
       "      <td>3028</td>\n",
       "      <td>3023</td>\n",
       "      <td>3000</td>\n",
       "      <td>3000</td>\n",
       "      <td>3000</td>\n",
       "      <td>38662</td>\n",
       "      <td>0</td>\n",
       "    </tr>\n",
       "    <tr>\n",
       "      <th>1</th>\n",
       "      <td>120000</td>\n",
       "      <td>2</td>\n",
       "      <td>2</td>\n",
       "      <td>2</td>\n",
       "      <td>30</td>\n",
       "      <td>-1</td>\n",
       "      <td>-1</td>\n",
       "      <td>-1</td>\n",
       "      <td>-1</td>\n",
       "      <td>-1</td>\n",
       "      <td>-1</td>\n",
       "      <td>140</td>\n",
       "      <td>3230</td>\n",
       "      <td>3011</td>\n",
       "      <td>1964</td>\n",
       "      <td>1883</td>\n",
       "      <td>1538</td>\n",
       "      <td>3230</td>\n",
       "      <td>3011</td>\n",
       "      <td>1964</td>\n",
       "      <td>1883</td>\n",
       "      <td>1538</td>\n",
       "      <td>1911</td>\n",
       "      <td>0</td>\n",
       "    </tr>\n",
       "    <tr>\n",
       "      <th>2</th>\n",
       "      <td>270000</td>\n",
       "      <td>2</td>\n",
       "      <td>2</td>\n",
       "      <td>2</td>\n",
       "      <td>32</td>\n",
       "      <td>0</td>\n",
       "      <td>0</td>\n",
       "      <td>0</td>\n",
       "      <td>0</td>\n",
       "      <td>0</td>\n",
       "      <td>0</td>\n",
       "      <td>59710</td>\n",
       "      <td>49986</td>\n",
       "      <td>104390</td>\n",
       "      <td>94856</td>\n",
       "      <td>86461</td>\n",
       "      <td>83650</td>\n",
       "      <td>1808</td>\n",
       "      <td>69563</td>\n",
       "      <td>2891</td>\n",
       "      <td>2689</td>\n",
       "      <td>3012</td>\n",
       "      <td>2771</td>\n",
       "      <td>0</td>\n",
       "    </tr>\n",
       "    <tr>\n",
       "      <th>3</th>\n",
       "      <td>280000</td>\n",
       "      <td>2</td>\n",
       "      <td>2</td>\n",
       "      <td>1</td>\n",
       "      <td>27</td>\n",
       "      <td>0</td>\n",
       "      <td>0</td>\n",
       "      <td>0</td>\n",
       "      <td>0</td>\n",
       "      <td>0</td>\n",
       "      <td>0</td>\n",
       "      <td>280913</td>\n",
       "      <td>283222</td>\n",
       "      <td>273160</td>\n",
       "      <td>257689</td>\n",
       "      <td>193231</td>\n",
       "      <td>191143</td>\n",
       "      <td>11052</td>\n",
       "      <td>9563</td>\n",
       "      <td>15017</td>\n",
       "      <td>5374</td>\n",
       "      <td>5420</td>\n",
       "      <td>6021</td>\n",
       "      <td>0</td>\n",
       "    </tr>\n",
       "    <tr>\n",
       "      <th>4</th>\n",
       "      <td>30000</td>\n",
       "      <td>2</td>\n",
       "      <td>1</td>\n",
       "      <td>2</td>\n",
       "      <td>27</td>\n",
       "      <td>0</td>\n",
       "      <td>0</td>\n",
       "      <td>-1</td>\n",
       "      <td>0</td>\n",
       "      <td>0</td>\n",
       "      <td>-2</td>\n",
       "      <td>1512</td>\n",
       "      <td>2458</td>\n",
       "      <td>664</td>\n",
       "      <td>1814</td>\n",
       "      <td>0</td>\n",
       "      <td>0</td>\n",
       "      <td>1000</td>\n",
       "      <td>664</td>\n",
       "      <td>1500</td>\n",
       "      <td>0</td>\n",
       "      <td>0</td>\n",
       "      <td>0</td>\n",
       "      <td>0</td>\n",
       "    </tr>\n",
       "  </tbody>\n",
       "</table>\n",
       "</div>"
      ],
      "text/plain": [
       "   LIMIT_BAL  SEX  EDUCATION  MARRIAGE  AGE  PAY_0  PAY_2  PAY_3  PAY_4  \\\n",
       "0     400000    1          1         2   32      0      0      0      0   \n",
       "1     120000    2          2         2   30     -1     -1     -1     -1   \n",
       "2     270000    2          2         2   32      0      0      0      0   \n",
       "3     280000    2          2         1   27      0      0      0      0   \n",
       "4      30000    2          1         2   27      0      0     -1      0   \n",
       "\n",
       "   PAY_5  PAY_6  BILL_AMT1  BILL_AMT2  BILL_AMT3  BILL_AMT4  BILL_AMT5  \\\n",
       "0      0      0      55773      55917      51389      48272      49478   \n",
       "1     -1     -1        140       3230       3011       1964       1883   \n",
       "2      0      0      59710      49986     104390      94856      86461   \n",
       "3      0      0     280913     283222     273160     257689     193231   \n",
       "4      0     -2       1512       2458        664       1814          0   \n",
       "\n",
       "   BILL_AMT6  PAY_AMT1  PAY_AMT2  PAY_AMT3  PAY_AMT4  PAY_AMT5  PAY_AMT6  \\\n",
       "0      51242      3028      3023      3000      3000      3000     38662   \n",
       "1       1538      3230      3011      1964      1883      1538      1911   \n",
       "2      83650      1808     69563      2891      2689      3012      2771   \n",
       "3     191143     11052      9563     15017      5374      5420      6021   \n",
       "4          0      1000       664      1500         0         0         0   \n",
       "\n",
       "   default payment next month  \n",
       "0                           0  \n",
       "1                           0  \n",
       "2                           0  \n",
       "3                           0  \n",
       "4                           0  "
      ]
     },
     "execution_count": 29,
     "metadata": {},
     "output_type": "execute_result"
    }
   ],
   "source": [
    "train.head()"
   ]
  },
  {
   "cell_type": "markdown",
   "id": "c3135c99",
   "metadata": {},
   "source": [
    "### (b)  Report the frequency table of default payment next month variable in the train data-frame."
   ]
  },
  {
   "cell_type": "code",
   "execution_count": 30,
   "id": "86a9933c",
   "metadata": {},
   "outputs": [
    {
     "data": {
      "text/plain": [
       "0    18691\n",
       "1     5309\n",
       "Name: default payment next month, dtype: int64"
      ]
     },
     "execution_count": 30,
     "metadata": {},
     "output_type": "execute_result"
    }
   ],
   "source": [
    "train['default payment next month'].value_counts()"
   ]
  },
  {
   "cell_type": "code",
   "execution_count": 31,
   "id": "75fc6e77",
   "metadata": {},
   "outputs": [
    {
     "data": {
      "text/plain": [
       "0    0.78\n",
       "1    0.22\n",
       "Name: default payment next month, dtype: float64"
      ]
     },
     "execution_count": 31,
     "metadata": {},
     "output_type": "execute_result"
    }
   ],
   "source": [
    "round(train['default payment next month'].value_counts() / train.shape[0], 2) "
   ]
  },
  {
   "cell_type": "markdown",
   "id": "e1647f91",
   "metadata": {},
   "source": [
    "### (c) Split the train data-frame intro training (80%) and testing (20%) (taking into account the proportions of 0s and 1s). Make sure the distribution of the categorical variables is the approximately the same in the training and testing dataframes."
   ]
  },
  {
   "cell_type": "code",
   "execution_count": 2,
   "id": "40238dc3",
   "metadata": {},
   "outputs": [],
   "source": [
    "## Creating ID columns\n",
    "train['ID'] = list(range(1, train.shape[0] + 1))\n",
    "\n",
    "## Splitting the data into train and test\n",
    "training = train.groupby('default payment next month', group_keys = False).apply(lambda x: x.sample(frac = 0.8))\n",
    "testing = train[~np.isin(train['ID'], training['ID'])]\n",
    "\n",
    "## Dropping ID\n",
    "training = training.drop(columns = 'ID', axis = 1)\n",
    "testing = testing.drop(columns = 'ID', axis = 1)"
   ]
  },
  {
   "cell_type": "code",
   "execution_count": 33,
   "id": "d3bf4a31",
   "metadata": {},
   "outputs": [
    {
     "data": {
      "text/plain": [
       "2    0.607969\n",
       "1    0.392031\n",
       "Name: SEX, dtype: float64"
      ]
     },
     "execution_count": 33,
     "metadata": {},
     "output_type": "execute_result"
    }
   ],
   "source": [
    "training['SEX'].value_counts() / training.shape[0]"
   ]
  },
  {
   "cell_type": "code",
   "execution_count": 118,
   "id": "b94ed277",
   "metadata": {},
   "outputs": [
    {
     "data": {
      "text/plain": [
       "2    0.6025\n",
       "1    0.3975\n",
       "Name: SEX, dtype: float64"
      ]
     },
     "execution_count": 118,
     "metadata": {},
     "output_type": "execute_result"
    }
   ],
   "source": [
    "testing['SEX'].value_counts() / testing.shape[0]"
   ]
  },
  {
   "cell_type": "code",
   "execution_count": 119,
   "id": "2e4c9275",
   "metadata": {},
   "outputs": [
    {
     "data": {
      "text/plain": [
       "2    0.533073\n",
       "1    0.454688\n",
       "3    0.010521\n",
       "0    0.001719\n",
       "Name: MARRIAGE, dtype: float64"
      ]
     },
     "execution_count": 119,
     "metadata": {},
     "output_type": "execute_result"
    }
   ],
   "source": [
    "training['MARRIAGE'].value_counts() / training.shape[0]"
   ]
  },
  {
   "cell_type": "code",
   "execution_count": 120,
   "id": "34085234",
   "metadata": {},
   "outputs": [
    {
     "data": {
      "text/plain": [
       "2    0.521250\n",
       "1    0.463958\n",
       "3    0.013125\n",
       "0    0.001667\n",
       "Name: MARRIAGE, dtype: float64"
      ]
     },
     "execution_count": 120,
     "metadata": {},
     "output_type": "execute_result"
    }
   ],
   "source": [
    "testing['MARRIAGE'].value_counts() / testing.shape[0]"
   ]
  },
  {
   "cell_type": "code",
   "execution_count": 121,
   "id": "4b2c6720",
   "metadata": {},
   "outputs": [
    {
     "data": {
      "text/plain": [
       "0    0.778802\n",
       "1    0.221198\n",
       "Name: default payment next month, dtype: float64"
      ]
     },
     "execution_count": 121,
     "metadata": {},
     "output_type": "execute_result"
    }
   ],
   "source": [
    "training['default payment next month'].value_counts() / training.shape[0]"
   ]
  },
  {
   "cell_type": "code",
   "execution_count": 122,
   "id": "2c58b6df",
   "metadata": {},
   "outputs": [
    {
     "data": {
      "text/plain": [
       "0    0.77875\n",
       "1    0.22125\n",
       "Name: default payment next month, dtype: float64"
      ]
     },
     "execution_count": 122,
     "metadata": {},
     "output_type": "execute_result"
    }
   ],
   "source": [
    "testing['default payment next month'].value_counts() / testing.shape[0]"
   ]
  },
  {
   "cell_type": "markdown",
   "id": "fa6fb2e7",
   "metadata": {},
   "source": [
    "## Same proportions ✅"
   ]
  },
  {
   "cell_type": "markdown",
   "id": "32ba4ebc",
   "metadata": {},
   "source": [
    "### (d) Using the training data-frame, engineer at least five different features, that can help to predict default payment next month, using the given input variables. Engineer the same features, that you engineer on the training data-frame, on the testing and test data-frames."
   ]
  },
  {
   "cell_type": "code",
   "execution_count": 18,
   "id": "4c4ce9ac",
   "metadata": {},
   "outputs": [],
   "source": [
    "## Train dataset\n",
    "train['interaction_1'] = np.where((train['EDUCATION'] == 1) | (train['EDUCATION'] == 2), 1, 0)\n",
    "train['interaction_2'] = train['PAY_0']*train['PAY_2']*train['PAY_3']*train['PAY_4']*train['PAY_5']\n",
    "train['interaction_3'] = (train['PAY_0']+train['PAY_2']+train['PAY_3']+train['PAY_4']+train['PAY_5'])/5\n",
    "train['interaction_4'] = round((train['BILL_AMT1']+train['BILL_AMT2']+train['BILL_AMT3']+train['BILL_AMT4']+train['BILL_AMT5']+train['BILL_AMT6'])/6, 2)\n",
    "train['interaction_5'] = round((train['PAY_AMT1']+train['PAY_AMT2']+train['PAY_AMT3']+train['PAY_AMT4']+train['PAY_AMT5']+train['PAY_AMT6'])/6, 2)\n",
    "train['interaction_6'] = train['interaction_4'] - train['interaction_5']\n",
    "train['interaction_7'] = train['BILL_AMT1']+train['BILL_AMT2']+train['BILL_AMT3']+train['BILL_AMT4']+train['BILL_AMT5']+train['BILL_AMT6']\n",
    "train['interaction_8'] = train['PAY_AMT1']+train['PAY_AMT2']+train['PAY_AMT3']+train['PAY_AMT4']+train['PAY_AMT5']+train['PAY_AMT6']\n",
    "train['interaction_9'] = train['interaction_7'] - train['interaction_8']\n",
    "train['interaction_10'] = train['LIMIT_BAL'] - train['interaction_7']\n",
    "\n",
    "\n",
    "## Test dataset\n",
    "test['interaction_1'] = np.where((test['EDUCATION'] == 1) | (test['EDUCATION'] == 2), 1, 0)\n",
    "test['interaction_2'] = test['PAY_0']*test['PAY_2']*test['PAY_3']*test['PAY_4']*test['PAY_5']\n",
    "test['interaction_3'] = (test['PAY_0']+test['PAY_2']+test['PAY_3']+test['PAY_4']+test['PAY_5'])/5\n",
    "test['interaction_4'] = round((test['BILL_AMT1']+test['BILL_AMT2']+test['BILL_AMT3']+test['BILL_AMT4']+test['BILL_AMT5']+test['BILL_AMT6'])/6, 2)\n",
    "test['interaction_5'] = round((test['PAY_AMT1']+test['PAY_AMT2']+test['PAY_AMT3']+test['PAY_AMT4']+test['PAY_AMT5']+test['PAY_AMT6'])/6, 2)\n",
    "test['interaction_6'] = test['interaction_4'] - test['interaction_5']\n",
    "test['interaction_7'] = test['BILL_AMT1']+test['BILL_AMT2']+test['BILL_AMT3']+test['BILL_AMT4']+test['BILL_AMT5']+test['BILL_AMT6']\n",
    "test['interaction_8'] = test['PAY_AMT1']+test['PAY_AMT2']+test['PAY_AMT3']+test['PAY_AMT4']+test['PAY_AMT5']+test['PAY_AMT6']\n",
    "test['interaction_9'] = test['interaction_7'] - test['interaction_8']\n",
    "test['interaction_10'] = test['LIMIT_BAL'] - test['interaction_7']"
   ]
  },
  {
   "cell_type": "markdown",
   "id": "a21b6cfb",
   "metadata": {},
   "source": [
    "### Checking Defaults payments only"
   ]
  },
  {
   "cell_type": "code",
   "execution_count": 35,
   "id": "6218b017",
   "metadata": {},
   "outputs": [
    {
     "data": {
      "text/html": [
       "<div>\n",
       "<style scoped>\n",
       "    .dataframe tbody tr th:only-of-type {\n",
       "        vertical-align: middle;\n",
       "    }\n",
       "\n",
       "    .dataframe tbody tr th {\n",
       "        vertical-align: top;\n",
       "    }\n",
       "\n",
       "    .dataframe thead th {\n",
       "        text-align: right;\n",
       "    }\n",
       "</style>\n",
       "<table border=\"1\" class=\"dataframe\">\n",
       "  <thead>\n",
       "    <tr style=\"text-align: right;\">\n",
       "      <th></th>\n",
       "      <th>LIMIT_BAL</th>\n",
       "      <th>SEX</th>\n",
       "      <th>EDUCATION</th>\n",
       "      <th>MARRIAGE</th>\n",
       "      <th>AGE</th>\n",
       "      <th>PAY_0</th>\n",
       "      <th>PAY_2</th>\n",
       "      <th>PAY_3</th>\n",
       "      <th>PAY_4</th>\n",
       "      <th>PAY_5</th>\n",
       "      <th>PAY_6</th>\n",
       "      <th>BILL_AMT1</th>\n",
       "      <th>BILL_AMT2</th>\n",
       "      <th>BILL_AMT3</th>\n",
       "      <th>BILL_AMT4</th>\n",
       "      <th>BILL_AMT5</th>\n",
       "      <th>BILL_AMT6</th>\n",
       "      <th>PAY_AMT1</th>\n",
       "      <th>PAY_AMT2</th>\n",
       "      <th>PAY_AMT3</th>\n",
       "      <th>PAY_AMT4</th>\n",
       "      <th>PAY_AMT5</th>\n",
       "      <th>PAY_AMT6</th>\n",
       "      <th>default payment next month</th>\n",
       "      <th>ID</th>\n",
       "      <th>interaction_1</th>\n",
       "      <th>interaction_2</th>\n",
       "      <th>interaction_3</th>\n",
       "      <th>interaction_4</th>\n",
       "      <th>interaction_5</th>\n",
       "      <th>interaction_6</th>\n",
       "      <th>interaction_7</th>\n",
       "      <th>interaction_8</th>\n",
       "      <th>interaction_9</th>\n",
       "      <th>interaction_10</th>\n",
       "    </tr>\n",
       "  </thead>\n",
       "  <tbody>\n",
       "    <tr>\n",
       "      <th>18691</th>\n",
       "      <td>50000</td>\n",
       "      <td>2</td>\n",
       "      <td>2</td>\n",
       "      <td>2</td>\n",
       "      <td>32</td>\n",
       "      <td>0</td>\n",
       "      <td>0</td>\n",
       "      <td>0</td>\n",
       "      <td>0</td>\n",
       "      <td>0</td>\n",
       "      <td>0</td>\n",
       "      <td>49138</td>\n",
       "      <td>49718</td>\n",
       "      <td>49437</td>\n",
       "      <td>40186</td>\n",
       "      <td>19179</td>\n",
       "      <td>16043</td>\n",
       "      <td>2250</td>\n",
       "      <td>1900</td>\n",
       "      <td>1800</td>\n",
       "      <td>700</td>\n",
       "      <td>1000</td>\n",
       "      <td>1000</td>\n",
       "      <td>1</td>\n",
       "      <td>18692</td>\n",
       "      <td>1</td>\n",
       "      <td>0</td>\n",
       "      <td>0.0</td>\n",
       "      <td>37283.50</td>\n",
       "      <td>1441.67</td>\n",
       "      <td>35841.83</td>\n",
       "      <td>223701</td>\n",
       "      <td>8650</td>\n",
       "      <td>215051</td>\n",
       "      <td>-173701</td>\n",
       "    </tr>\n",
       "    <tr>\n",
       "      <th>18692</th>\n",
       "      <td>420000</td>\n",
       "      <td>2</td>\n",
       "      <td>2</td>\n",
       "      <td>1</td>\n",
       "      <td>40</td>\n",
       "      <td>-2</td>\n",
       "      <td>-2</td>\n",
       "      <td>-2</td>\n",
       "      <td>-2</td>\n",
       "      <td>-2</td>\n",
       "      <td>-1</td>\n",
       "      <td>3976</td>\n",
       "      <td>2892</td>\n",
       "      <td>2890</td>\n",
       "      <td>3391</td>\n",
       "      <td>2409</td>\n",
       "      <td>4270</td>\n",
       "      <td>2916</td>\n",
       "      <td>7898</td>\n",
       "      <td>3401</td>\n",
       "      <td>2416</td>\n",
       "      <td>4281</td>\n",
       "      <td>3785</td>\n",
       "      <td>1</td>\n",
       "      <td>18693</td>\n",
       "      <td>1</td>\n",
       "      <td>-32</td>\n",
       "      <td>-2.0</td>\n",
       "      <td>3304.67</td>\n",
       "      <td>4116.17</td>\n",
       "      <td>-811.50</td>\n",
       "      <td>19828</td>\n",
       "      <td>24697</td>\n",
       "      <td>-4869</td>\n",
       "      <td>400172</td>\n",
       "    </tr>\n",
       "    <tr>\n",
       "      <th>18693</th>\n",
       "      <td>20000</td>\n",
       "      <td>2</td>\n",
       "      <td>3</td>\n",
       "      <td>1</td>\n",
       "      <td>56</td>\n",
       "      <td>1</td>\n",
       "      <td>3</td>\n",
       "      <td>2</td>\n",
       "      <td>2</td>\n",
       "      <td>0</td>\n",
       "      <td>0</td>\n",
       "      <td>9061</td>\n",
       "      <td>8769</td>\n",
       "      <td>9680</td>\n",
       "      <td>9376</td>\n",
       "      <td>9720</td>\n",
       "      <td>10962</td>\n",
       "      <td>0</td>\n",
       "      <td>1200</td>\n",
       "      <td>0</td>\n",
       "      <td>500</td>\n",
       "      <td>1400</td>\n",
       "      <td>0</td>\n",
       "      <td>1</td>\n",
       "      <td>18694</td>\n",
       "      <td>0</td>\n",
       "      <td>0</td>\n",
       "      <td>1.6</td>\n",
       "      <td>9594.67</td>\n",
       "      <td>516.67</td>\n",
       "      <td>9078.00</td>\n",
       "      <td>57568</td>\n",
       "      <td>3100</td>\n",
       "      <td>54468</td>\n",
       "      <td>-37568</td>\n",
       "    </tr>\n",
       "    <tr>\n",
       "      <th>18694</th>\n",
       "      <td>30000</td>\n",
       "      <td>2</td>\n",
       "      <td>1</td>\n",
       "      <td>2</td>\n",
       "      <td>24</td>\n",
       "      <td>0</td>\n",
       "      <td>-1</td>\n",
       "      <td>-1</td>\n",
       "      <td>0</td>\n",
       "      <td>0</td>\n",
       "      <td>0</td>\n",
       "      <td>30900</td>\n",
       "      <td>410</td>\n",
       "      <td>28883</td>\n",
       "      <td>24291</td>\n",
       "      <td>27503</td>\n",
       "      <td>28142</td>\n",
       "      <td>410</td>\n",
       "      <td>28883</td>\n",
       "      <td>1710</td>\n",
       "      <td>6000</td>\n",
       "      <td>1200</td>\n",
       "      <td>1175</td>\n",
       "      <td>1</td>\n",
       "      <td>18695</td>\n",
       "      <td>1</td>\n",
       "      <td>0</td>\n",
       "      <td>-0.4</td>\n",
       "      <td>23354.83</td>\n",
       "      <td>6563.00</td>\n",
       "      <td>16791.83</td>\n",
       "      <td>140129</td>\n",
       "      <td>39378</td>\n",
       "      <td>100751</td>\n",
       "      <td>-110129</td>\n",
       "    </tr>\n",
       "    <tr>\n",
       "      <th>18695</th>\n",
       "      <td>60000</td>\n",
       "      <td>2</td>\n",
       "      <td>2</td>\n",
       "      <td>2</td>\n",
       "      <td>24</td>\n",
       "      <td>0</td>\n",
       "      <td>0</td>\n",
       "      <td>0</td>\n",
       "      <td>0</td>\n",
       "      <td>0</td>\n",
       "      <td>0</td>\n",
       "      <td>58143</td>\n",
       "      <td>60221</td>\n",
       "      <td>50135</td>\n",
       "      <td>19553</td>\n",
       "      <td>11896</td>\n",
       "      <td>15241</td>\n",
       "      <td>3044</td>\n",
       "      <td>1123</td>\n",
       "      <td>7553</td>\n",
       "      <td>474</td>\n",
       "      <td>3586</td>\n",
       "      <td>305</td>\n",
       "      <td>1</td>\n",
       "      <td>18696</td>\n",
       "      <td>1</td>\n",
       "      <td>0</td>\n",
       "      <td>0.0</td>\n",
       "      <td>35864.83</td>\n",
       "      <td>2680.83</td>\n",
       "      <td>33184.00</td>\n",
       "      <td>215189</td>\n",
       "      <td>16085</td>\n",
       "      <td>199104</td>\n",
       "      <td>-155189</td>\n",
       "    </tr>\n",
       "    <tr>\n",
       "      <th>...</th>\n",
       "      <td>...</td>\n",
       "      <td>...</td>\n",
       "      <td>...</td>\n",
       "      <td>...</td>\n",
       "      <td>...</td>\n",
       "      <td>...</td>\n",
       "      <td>...</td>\n",
       "      <td>...</td>\n",
       "      <td>...</td>\n",
       "      <td>...</td>\n",
       "      <td>...</td>\n",
       "      <td>...</td>\n",
       "      <td>...</td>\n",
       "      <td>...</td>\n",
       "      <td>...</td>\n",
       "      <td>...</td>\n",
       "      <td>...</td>\n",
       "      <td>...</td>\n",
       "      <td>...</td>\n",
       "      <td>...</td>\n",
       "      <td>...</td>\n",
       "      <td>...</td>\n",
       "      <td>...</td>\n",
       "      <td>...</td>\n",
       "      <td>...</td>\n",
       "      <td>...</td>\n",
       "      <td>...</td>\n",
       "      <td>...</td>\n",
       "      <td>...</td>\n",
       "      <td>...</td>\n",
       "      <td>...</td>\n",
       "      <td>...</td>\n",
       "      <td>...</td>\n",
       "      <td>...</td>\n",
       "      <td>...</td>\n",
       "    </tr>\n",
       "    <tr>\n",
       "      <th>23995</th>\n",
       "      <td>300000</td>\n",
       "      <td>1</td>\n",
       "      <td>2</td>\n",
       "      <td>1</td>\n",
       "      <td>32</td>\n",
       "      <td>-1</td>\n",
       "      <td>-1</td>\n",
       "      <td>-1</td>\n",
       "      <td>-1</td>\n",
       "      <td>-1</td>\n",
       "      <td>-2</td>\n",
       "      <td>2884</td>\n",
       "      <td>1706</td>\n",
       "      <td>2960</td>\n",
       "      <td>579</td>\n",
       "      <td>0</td>\n",
       "      <td>0</td>\n",
       "      <td>1706</td>\n",
       "      <td>2964</td>\n",
       "      <td>579</td>\n",
       "      <td>0</td>\n",
       "      <td>0</td>\n",
       "      <td>2937</td>\n",
       "      <td>1</td>\n",
       "      <td>23996</td>\n",
       "      <td>1</td>\n",
       "      <td>-1</td>\n",
       "      <td>-1.0</td>\n",
       "      <td>1354.83</td>\n",
       "      <td>1364.33</td>\n",
       "      <td>-9.50</td>\n",
       "      <td>8129</td>\n",
       "      <td>8186</td>\n",
       "      <td>-57</td>\n",
       "      <td>291871</td>\n",
       "    </tr>\n",
       "    <tr>\n",
       "      <th>23996</th>\n",
       "      <td>280000</td>\n",
       "      <td>2</td>\n",
       "      <td>1</td>\n",
       "      <td>2</td>\n",
       "      <td>38</td>\n",
       "      <td>1</td>\n",
       "      <td>-2</td>\n",
       "      <td>-1</td>\n",
       "      <td>-1</td>\n",
       "      <td>-1</td>\n",
       "      <td>-1</td>\n",
       "      <td>0</td>\n",
       "      <td>0</td>\n",
       "      <td>3898</td>\n",
       "      <td>1460</td>\n",
       "      <td>18901</td>\n",
       "      <td>0</td>\n",
       "      <td>0</td>\n",
       "      <td>3898</td>\n",
       "      <td>1460</td>\n",
       "      <td>18901</td>\n",
       "      <td>0</td>\n",
       "      <td>0</td>\n",
       "      <td>1</td>\n",
       "      <td>23997</td>\n",
       "      <td>1</td>\n",
       "      <td>2</td>\n",
       "      <td>-0.8</td>\n",
       "      <td>4043.17</td>\n",
       "      <td>4043.17</td>\n",
       "      <td>0.00</td>\n",
       "      <td>24259</td>\n",
       "      <td>24259</td>\n",
       "      <td>0</td>\n",
       "      <td>255741</td>\n",
       "    </tr>\n",
       "    <tr>\n",
       "      <th>23997</th>\n",
       "      <td>30000</td>\n",
       "      <td>1</td>\n",
       "      <td>2</td>\n",
       "      <td>2</td>\n",
       "      <td>24</td>\n",
       "      <td>0</td>\n",
       "      <td>0</td>\n",
       "      <td>2</td>\n",
       "      <td>0</td>\n",
       "      <td>0</td>\n",
       "      <td>0</td>\n",
       "      <td>22885</td>\n",
       "      <td>25886</td>\n",
       "      <td>25172</td>\n",
       "      <td>27239</td>\n",
       "      <td>57036</td>\n",
       "      <td>28789</td>\n",
       "      <td>3700</td>\n",
       "      <td>0</td>\n",
       "      <td>2500</td>\n",
       "      <td>2100</td>\n",
       "      <td>3000</td>\n",
       "      <td>1700</td>\n",
       "      <td>1</td>\n",
       "      <td>23998</td>\n",
       "      <td>1</td>\n",
       "      <td>0</td>\n",
       "      <td>0.4</td>\n",
       "      <td>31167.83</td>\n",
       "      <td>2166.67</td>\n",
       "      <td>29001.16</td>\n",
       "      <td>187007</td>\n",
       "      <td>13000</td>\n",
       "      <td>174007</td>\n",
       "      <td>-157007</td>\n",
       "    </tr>\n",
       "    <tr>\n",
       "      <th>23998</th>\n",
       "      <td>300000</td>\n",
       "      <td>1</td>\n",
       "      <td>1</td>\n",
       "      <td>1</td>\n",
       "      <td>51</td>\n",
       "      <td>-1</td>\n",
       "      <td>-1</td>\n",
       "      <td>-1</td>\n",
       "      <td>-1</td>\n",
       "      <td>0</td>\n",
       "      <td>0</td>\n",
       "      <td>18961</td>\n",
       "      <td>4371</td>\n",
       "      <td>3391</td>\n",
       "      <td>34282</td>\n",
       "      <td>12983</td>\n",
       "      <td>0</td>\n",
       "      <td>4387</td>\n",
       "      <td>3472</td>\n",
       "      <td>47371</td>\n",
       "      <td>64</td>\n",
       "      <td>0</td>\n",
       "      <td>33588</td>\n",
       "      <td>1</td>\n",
       "      <td>23999</td>\n",
       "      <td>1</td>\n",
       "      <td>0</td>\n",
       "      <td>-0.8</td>\n",
       "      <td>12331.33</td>\n",
       "      <td>14813.67</td>\n",
       "      <td>-2482.34</td>\n",
       "      <td>73988</td>\n",
       "      <td>88882</td>\n",
       "      <td>-14894</td>\n",
       "      <td>226012</td>\n",
       "    </tr>\n",
       "    <tr>\n",
       "      <th>23999</th>\n",
       "      <td>50000</td>\n",
       "      <td>1</td>\n",
       "      <td>3</td>\n",
       "      <td>2</td>\n",
       "      <td>46</td>\n",
       "      <td>0</td>\n",
       "      <td>0</td>\n",
       "      <td>0</td>\n",
       "      <td>0</td>\n",
       "      <td>0</td>\n",
       "      <td>0</td>\n",
       "      <td>50297</td>\n",
       "      <td>46613</td>\n",
       "      <td>46666</td>\n",
       "      <td>20162</td>\n",
       "      <td>19864</td>\n",
       "      <td>19680</td>\n",
       "      <td>1852</td>\n",
       "      <td>4050</td>\n",
       "      <td>676</td>\n",
       "      <td>730</td>\n",
       "      <td>866</td>\n",
       "      <td>3000</td>\n",
       "      <td>1</td>\n",
       "      <td>24000</td>\n",
       "      <td>0</td>\n",
       "      <td>0</td>\n",
       "      <td>0.0</td>\n",
       "      <td>33880.33</td>\n",
       "      <td>1862.33</td>\n",
       "      <td>32018.00</td>\n",
       "      <td>203282</td>\n",
       "      <td>11174</td>\n",
       "      <td>192108</td>\n",
       "      <td>-153282</td>\n",
       "    </tr>\n",
       "  </tbody>\n",
       "</table>\n",
       "<p>5309 rows × 35 columns</p>\n",
       "</div>"
      ],
      "text/plain": [
       "       LIMIT_BAL  SEX  EDUCATION  MARRIAGE  AGE  PAY_0  PAY_2  PAY_3  PAY_4  \\\n",
       "18691      50000    2          2         2   32      0      0      0      0   \n",
       "18692     420000    2          2         1   40     -2     -2     -2     -2   \n",
       "18693      20000    2          3         1   56      1      3      2      2   \n",
       "18694      30000    2          1         2   24      0     -1     -1      0   \n",
       "18695      60000    2          2         2   24      0      0      0      0   \n",
       "...          ...  ...        ...       ...  ...    ...    ...    ...    ...   \n",
       "23995     300000    1          2         1   32     -1     -1     -1     -1   \n",
       "23996     280000    2          1         2   38      1     -2     -1     -1   \n",
       "23997      30000    1          2         2   24      0      0      2      0   \n",
       "23998     300000    1          1         1   51     -1     -1     -1     -1   \n",
       "23999      50000    1          3         2   46      0      0      0      0   \n",
       "\n",
       "       PAY_5  PAY_6  BILL_AMT1  BILL_AMT2  BILL_AMT3  BILL_AMT4  BILL_AMT5  \\\n",
       "18691      0      0      49138      49718      49437      40186      19179   \n",
       "18692     -2     -1       3976       2892       2890       3391       2409   \n",
       "18693      0      0       9061       8769       9680       9376       9720   \n",
       "18694      0      0      30900        410      28883      24291      27503   \n",
       "18695      0      0      58143      60221      50135      19553      11896   \n",
       "...      ...    ...        ...        ...        ...        ...        ...   \n",
       "23995     -1     -2       2884       1706       2960        579          0   \n",
       "23996     -1     -1          0          0       3898       1460      18901   \n",
       "23997      0      0      22885      25886      25172      27239      57036   \n",
       "23998      0      0      18961       4371       3391      34282      12983   \n",
       "23999      0      0      50297      46613      46666      20162      19864   \n",
       "\n",
       "       BILL_AMT6  PAY_AMT1  PAY_AMT2  PAY_AMT3  PAY_AMT4  PAY_AMT5  PAY_AMT6  \\\n",
       "18691      16043      2250      1900      1800       700      1000      1000   \n",
       "18692       4270      2916      7898      3401      2416      4281      3785   \n",
       "18693      10962         0      1200         0       500      1400         0   \n",
       "18694      28142       410     28883      1710      6000      1200      1175   \n",
       "18695      15241      3044      1123      7553       474      3586       305   \n",
       "...          ...       ...       ...       ...       ...       ...       ...   \n",
       "23995          0      1706      2964       579         0         0      2937   \n",
       "23996          0         0      3898      1460     18901         0         0   \n",
       "23997      28789      3700         0      2500      2100      3000      1700   \n",
       "23998          0      4387      3472     47371        64         0     33588   \n",
       "23999      19680      1852      4050       676       730       866      3000   \n",
       "\n",
       "       default payment next month     ID  interaction_1  interaction_2  \\\n",
       "18691                           1  18692              1              0   \n",
       "18692                           1  18693              1            -32   \n",
       "18693                           1  18694              0              0   \n",
       "18694                           1  18695              1              0   \n",
       "18695                           1  18696              1              0   \n",
       "...                           ...    ...            ...            ...   \n",
       "23995                           1  23996              1             -1   \n",
       "23996                           1  23997              1              2   \n",
       "23997                           1  23998              1              0   \n",
       "23998                           1  23999              1              0   \n",
       "23999                           1  24000              0              0   \n",
       "\n",
       "       interaction_3  interaction_4  interaction_5  interaction_6  \\\n",
       "18691            0.0       37283.50        1441.67       35841.83   \n",
       "18692           -2.0        3304.67        4116.17        -811.50   \n",
       "18693            1.6        9594.67         516.67        9078.00   \n",
       "18694           -0.4       23354.83        6563.00       16791.83   \n",
       "18695            0.0       35864.83        2680.83       33184.00   \n",
       "...              ...            ...            ...            ...   \n",
       "23995           -1.0        1354.83        1364.33          -9.50   \n",
       "23996           -0.8        4043.17        4043.17           0.00   \n",
       "23997            0.4       31167.83        2166.67       29001.16   \n",
       "23998           -0.8       12331.33       14813.67       -2482.34   \n",
       "23999            0.0       33880.33        1862.33       32018.00   \n",
       "\n",
       "       interaction_7  interaction_8  interaction_9  interaction_10  \n",
       "18691         223701           8650         215051         -173701  \n",
       "18692          19828          24697          -4869          400172  \n",
       "18693          57568           3100          54468          -37568  \n",
       "18694         140129          39378         100751         -110129  \n",
       "18695         215189          16085         199104         -155189  \n",
       "...              ...            ...            ...             ...  \n",
       "23995           8129           8186            -57          291871  \n",
       "23996          24259          24259              0          255741  \n",
       "23997         187007          13000         174007         -157007  \n",
       "23998          73988          88882         -14894          226012  \n",
       "23999         203282          11174         192108         -153282  \n",
       "\n",
       "[5309 rows x 35 columns]"
      ]
     },
     "execution_count": 35,
     "metadata": {},
     "output_type": "execute_result"
    }
   ],
   "source": [
    "default = train[train['default payment next month'] == 1]\n",
    "default"
   ]
  },
  {
   "cell_type": "markdown",
   "id": "8f670eaa",
   "metadata": {},
   "source": [
    "### Visualizing Decision Tree"
   ]
  },
  {
   "cell_type": "code",
   "execution_count": 34,
   "id": "0bd9e1e6",
   "metadata": {},
   "outputs": [
    {
     "data": {
      "text/plain": [
       "[Text(697.5, 951.3000000000001, 'PAY_0 <= 1.5\\ngini = 0.345\\nsamples = 24000\\nvalue = [18691, 5309]'),\n",
       " Text(348.75, 679.5, 'interaction_3 <= 0.5\\ngini = 0.277\\nsamples = 21512\\nvalue = [17937, 3575]'),\n",
       " Text(174.375, 407.70000000000005, 'interaction_5 <= 899.5\\ngini = 0.243\\nsamples = 19602\\nvalue = [16827, 2775]'),\n",
       " Text(87.1875, 135.89999999999998, 'gini = 0.373\\nsamples = 3789\\nvalue = [2848, 941]'),\n",
       " Text(261.5625, 135.89999999999998, 'gini = 0.205\\nsamples = 15813\\nvalue = [13979, 1834]'),\n",
       " Text(523.125, 407.70000000000005, 'interaction_3 <= 1.1\\ngini = 0.487\\nsamples = 1910\\nvalue = [1110, 800]'),\n",
       " Text(435.9375, 135.89999999999998, 'gini = 0.465\\nsamples = 1095\\nvalue = [692, 403]'),\n",
       " Text(610.3125, 135.89999999999998, 'gini = 0.5\\nsamples = 815\\nvalue = [418, 397]'),\n",
       " Text(1046.25, 679.5, 'PAY_5 <= 1.0\\ngini = 0.422\\nsamples = 2488\\nvalue = [754, 1734]'),\n",
       " Text(871.875, 407.70000000000005, 'BILL_AMT1 <= 2207.5\\ngini = 0.454\\nsamples = 1453\\nvalue = [506, 947]'),\n",
       " Text(784.6875, 135.89999999999998, 'gini = 0.496\\nsamples = 130\\nvalue = [71, 59]'),\n",
       " Text(959.0625, 135.89999999999998, 'gini = 0.441\\nsamples = 1323\\nvalue = [435, 888]'),\n",
       " Text(1220.625, 407.70000000000005, 'PAY_AMT3 <= 12157.0\\ngini = 0.364\\nsamples = 1035\\nvalue = [248, 787]'),\n",
       " Text(1133.4375, 135.89999999999998, 'gini = 0.353\\nsamples = 1010\\nvalue = [231, 779]'),\n",
       " Text(1307.8125, 135.89999999999998, 'gini = 0.435\\nsamples = 25\\nvalue = [17, 8]')]"
      ]
     },
     "execution_count": 34,
     "metadata": {},
     "output_type": "execute_result"
    },
    {
     "data": {
      "image/png": "[encoded data removed]",
      "text/plain": [
       "<Figure size 1800x1440 with 1 Axes>"
      ]
     },
     "metadata": {
      "needs_background": "light"
     },
     "output_type": "display_data"
    }
   ],
   "source": [
    "X = train.drop(['default payment next month', 'ID'], axis = 1)\n",
    "Y = train['default payment next month']\n",
    "\n",
    "# Building the decision tree on train data-frame\n",
    "tree_md = DecisionTreeClassifier(max_depth = 3).fit(X, Y)\n",
    "\n",
    "# Visualizing the decision-tree model\n",
    "fig = plt.figure(figsize = (25,20))\n",
    "plot_tree(tree_md, feature_names = X.columns, filled = True) "
   ]
  },
  {
   "cell_type": "code",
   "execution_count": 90,
   "id": "3657ff75",
   "metadata": {},
   "outputs": [
    {
     "data": {
      "text/plain": [
       "'\\nTo the Left = Yes\\nTo the Right = No\\n\\nvalue = [0: No left , 1: left]\\n'"
      ]
     },
     "execution_count": 90,
     "metadata": {},
     "output_type": "execute_result"
    }
   ],
   "source": [
    "\"\"\"\n",
    "To the Left = Yes\n",
    "To the Right = No\n",
    "\n",
    "value = [0: No left , 1: left]\n",
    "\"\"\""
   ]
  },
  {
   "cell_type": "markdown",
   "id": "16bad0d4",
   "metadata": {},
   "source": [
    "### Creating interactions based on the Decion Tree Visualization"
   ]
  },
  {
   "cell_type": "code",
   "execution_count": 4,
   "id": "846fef77",
   "metadata": {},
   "outputs": [],
   "source": [
    "## Train dataset\n",
    "train['interaction_11'] = np.where((train['PAY_0'] <= 1.5) & (train['interaction_3'] <= 0.5), 1, 0)\n",
    "train['interaction_12'] = np.where((train['PAY_0'] <= 1.5) & (train['interaction_3'] <= 0.5) & (train['interaction_5'] <= 0.5), 1, 0)\n",
    "\n",
    "## Test dataset\n",
    "test['interaction_11'] = np.where((test['PAY_0'] <= 1.5) & (test['interaction_3'] <= 0.5), 1, 0)\n",
    "test['interaction_12'] = np.where((test['PAY_0'] <= 1.5) & (test['interaction_3'] <= 0.5) & (test['interaction_5'] <= 0.5), 1, 0)"
   ]
  },
  {
   "cell_type": "markdown",
   "id": "50d20b46",
   "metadata": {},
   "source": [
    "### Checking Feature Importance"
   ]
  },
  {
   "cell_type": "code",
   "execution_count": 36,
   "id": "cf5429ee",
   "metadata": {},
   "outputs": [
    {
     "name": "stdout",
     "output_type": "stream",
     "text": [
      "01"
     ]
    }
   ],
   "source": [
    "import Feature_Importance_Funs\n",
    "\n",
    "nsim = 2\n",
    "cv = 3\n",
    "test = Feature_Importance_Funs.RF_Feature_Importance(X, Y, nsim, cv)"
   ]
  },
  {
   "cell_type": "code",
   "execution_count": 37,
   "id": "87f81255",
   "metadata": {},
   "outputs": [
    {
     "data": {
      "text/html": [
       "<div>\n",
       "<style scoped>\n",
       "    .dataframe tbody tr th:only-of-type {\n",
       "        vertical-align: middle;\n",
       "    }\n",
       "\n",
       "    .dataframe tbody tr th {\n",
       "        vertical-align: top;\n",
       "    }\n",
       "\n",
       "    .dataframe thead th {\n",
       "        text-align: right;\n",
       "    }\n",
       "</style>\n",
       "<table border=\"1\" class=\"dataframe\">\n",
       "  <thead>\n",
       "    <tr style=\"text-align: right;\">\n",
       "      <th></th>\n",
       "      <th>Features</th>\n",
       "      <th>Importance</th>\n",
       "    </tr>\n",
       "  </thead>\n",
       "  <tbody>\n",
       "    <tr>\n",
       "      <th>0</th>\n",
       "      <td>PAY_0</td>\n",
       "      <td>24.98</td>\n",
       "    </tr>\n",
       "    <tr>\n",
       "      <th>1</th>\n",
       "      <td>interaction_3</td>\n",
       "      <td>19.33</td>\n",
       "    </tr>\n",
       "    <tr>\n",
       "      <th>2</th>\n",
       "      <td>PAY_2</td>\n",
       "      <td>13.31</td>\n",
       "    </tr>\n",
       "    <tr>\n",
       "      <th>3</th>\n",
       "      <td>PAY_3</td>\n",
       "      <td>8.16</td>\n",
       "    </tr>\n",
       "    <tr>\n",
       "      <th>4</th>\n",
       "      <td>PAY_4</td>\n",
       "      <td>6.37</td>\n",
       "    </tr>\n",
       "  </tbody>\n",
       "</table>\n",
       "</div>"
      ],
      "text/plain": [
       "        Features  Importance\n",
       "0          PAY_0       24.98\n",
       "1  interaction_3       19.33\n",
       "2          PAY_2       13.31\n",
       "3          PAY_3        8.16\n",
       "4          PAY_4        6.37"
      ]
     },
     "execution_count": 37,
     "metadata": {},
     "output_type": "execute_result"
    }
   ],
   "source": [
    "feature_importance = pd.DataFrame({'Features': X.columns, 'Importance': test.apply(np.mean, axis = 0)})\n",
    "feature_importance['Importance'] = round(feature_importance['Importance'], 4) * 100\n",
    "feature_importance = feature_importance.sort_values(by = ['Importance'], ascending = False).reset_index(drop = True)\n",
    "feature_importance.head()"
   ]
  },
  {
   "cell_type": "markdown",
   "id": "20003811",
   "metadata": {},
   "source": [
    "### Engineering features based on the heredity principle"
   ]
  },
  {
   "cell_type": "code",
   "execution_count": 19,
   "id": "337d4c59",
   "metadata": {},
   "outputs": [],
   "source": [
    "## Train dataset\n",
    "## Engineering features using the strong heredity principle\n",
    "train['heredity_1'] = train['PAY_0'] * train['interaction_3']\n",
    "\n",
    "train['heredity_2'] = train['PAY_0'] * train['PAY_2']\n",
    "\n",
    "\n",
    "## Test dataset\n",
    "## Engineering features using the strong heredity principle\n",
    "test['heredity_1'] = test['PAY_0'] * test['interaction_3']\n",
    "\n",
    "test['heredity_2'] = test['PAY_0'] * test['PAY_2']"
   ]
  },
  {
   "cell_type": "markdown",
   "id": "3687047e",
   "metadata": {},
   "source": [
    "### Visualizing decision tree once again"
   ]
  },
  {
   "cell_type": "code",
   "execution_count": 40,
   "id": "9f263154",
   "metadata": {},
   "outputs": [
    {
     "data": {
      "text/plain": [
       "[Text(697.5, 951.3000000000001, 'interaction_11 <= 0.5\\ngini = 0.345\\nsamples = 24000\\nvalue = [18691, 5309]'),\n",
       " Text(348.75, 679.5, 'PAY_0 <= 1.5\\ngini = 0.488\\nsamples = 4398\\nvalue = [1864, 2534]'),\n",
       " Text(174.375, 407.70000000000005, 'interaction_3 <= 1.1\\ngini = 0.487\\nsamples = 1910\\nvalue = [1110, 800]'),\n",
       " Text(87.1875, 135.89999999999998, 'gini = 0.465\\nsamples = 1095\\nvalue = [692, 403]'),\n",
       " Text(261.5625, 135.89999999999998, 'gini = 0.5\\nsamples = 815\\nvalue = [418, 397]'),\n",
       " Text(523.125, 407.70000000000005, 'PAY_5 <= 1.0\\ngini = 0.422\\nsamples = 2488\\nvalue = [754, 1734]'),\n",
       " Text(435.9375, 135.89999999999998, 'gini = 0.454\\nsamples = 1453\\nvalue = [506, 947]'),\n",
       " Text(610.3125, 135.89999999999998, 'gini = 0.364\\nsamples = 1035\\nvalue = [248, 787]'),\n",
       " Text(1046.25, 679.5, 'interaction_5 <= 899.5\\ngini = 0.243\\nsamples = 19602\\nvalue = [16827, 2775]'),\n",
       " Text(871.875, 407.70000000000005, 'interaction_2 <= 1.5\\ngini = 0.373\\nsamples = 3789\\nvalue = [2848, 941]'),\n",
       " Text(784.6875, 135.89999999999998, 'gini = 0.336\\nsamples = 2972\\nvalue = [2338, 634]'),\n",
       " Text(959.0625, 135.89999999999998, 'gini = 0.469\\nsamples = 817\\nvalue = [510, 307]'),\n",
       " Text(1220.625, 407.70000000000005, 'LIMIT_BAL <= 75000.0\\ngini = 0.205\\nsamples = 15813\\nvalue = [13979, 1834]'),\n",
       " Text(1133.4375, 135.89999999999998, 'gini = 0.277\\nsamples = 3898\\nvalue = [3251, 647]'),\n",
       " Text(1307.8125, 135.89999999999998, 'gini = 0.179\\nsamples = 11915\\nvalue = [10728, 1187]')]"
      ]
     },
     "execution_count": 40,
     "metadata": {},
     "output_type": "execute_result"
    },
    {
     "data": {
      "image/png": "[encoded data removed]",
      "text/plain": [
       "<Figure size 1800x1440 with 1 Axes>"
      ]
     },
     "metadata": {
      "needs_background": "light"
     },
     "output_type": "display_data"
    }
   ],
   "source": [
    "X = train.drop(['default payment next month', 'ID'], axis = 1)\n",
    "Y = train['default payment next month'] \n",
    "\n",
    "# Building the decision tree on train data-frame\n",
    "tree_md = DecisionTreeClassifier(max_depth = 3).fit(X, Y)\n",
    "\n",
    "# Visualizing the decision-tree model\n",
    "fig = plt.figure(figsize = (25,20))\n",
    "plot_tree(tree_md, feature_names = X.columns, filled = True) "
   ]
  },
  {
   "cell_type": "markdown",
   "id": "eff3d1a3",
   "metadata": {},
   "source": [
    "Nothing interesting to use."
   ]
  },
  {
   "cell_type": "markdown",
   "id": "94aa3e50",
   "metadata": {},
   "source": [
    "### Checking correlation among variables"
   ]
  },
  {
   "cell_type": "code",
   "execution_count": 16,
   "id": "31a1f855",
   "metadata": {},
   "outputs": [
    {
     "data": {
      "text/plain": [
       "<AxesSubplot:>"
      ]
     },
     "execution_count": 16,
     "metadata": {},
     "output_type": "execute_result"
    },
    {
     "data": {
      "image/png": "[encoded data removed]",
      "text/plain": [
       "<Figure size 792x648 with 2 Axes>"
      ]
     },
     "metadata": {
      "needs_background": "light"
     },
     "output_type": "display_data"
    }
   ],
   "source": [
    "import seaborn as sns\n",
    "# Compute the correlation matrix\n",
    "corr = train.corr()\n",
    "\n",
    "# Generate a mask for the upper triangle\n",
    "mask = np.triu(np.ones_like(corr, dtype=bool))\n",
    "\n",
    "# Set up the matplotlib figure\n",
    "f, ax = plt.subplots(figsize=(11, 9))\n",
    "\n",
    "# Generate a custom diverging colormap\n",
    "cmap = sns.diverging_palette(230, 20, as_cmap=True)\n",
    "\n",
    "# Draw the heatmap with the mask and correct aspect ratio\n",
    "sns.heatmap(corr, mask=mask, cmap=cmap, vmax=.3, center=0,\n",
    "            square=True, linewidths=.5, cbar_kws={\"shrink\": .5})"
   ]
  },
  {
   "cell_type": "markdown",
   "id": "23399f06",
   "metadata": {},
   "source": [
    "### Checking feature importance with all engineered variables"
   ]
  },
  {
   "cell_type": "code",
   "execution_count": 43,
   "id": "e82c2363",
   "metadata": {},
   "outputs": [
    {
     "name": "stdout",
     "output_type": "stream",
     "text": [
      "01"
     ]
    }
   ],
   "source": [
    "import Feature_Importance_Funs\n",
    "\n",
    "nsim = 2\n",
    "cv = 3\n",
    "test = Feature_Importance_Funs.RF_Feature_Importance(X, Y, nsim, cv)"
   ]
  },
  {
   "cell_type": "code",
   "execution_count": 44,
   "id": "fe88718b",
   "metadata": {},
   "outputs": [
    {
     "data": {
      "text/html": [
       "<div>\n",
       "<style scoped>\n",
       "    .dataframe tbody tr th:only-of-type {\n",
       "        vertical-align: middle;\n",
       "    }\n",
       "\n",
       "    .dataframe tbody tr th {\n",
       "        vertical-align: top;\n",
       "    }\n",
       "\n",
       "    .dataframe thead th {\n",
       "        text-align: right;\n",
       "    }\n",
       "</style>\n",
       "<table border=\"1\" class=\"dataframe\">\n",
       "  <thead>\n",
       "    <tr style=\"text-align: right;\">\n",
       "      <th></th>\n",
       "      <th>Features</th>\n",
       "      <th>Importance</th>\n",
       "    </tr>\n",
       "  </thead>\n",
       "  <tbody>\n",
       "    <tr>\n",
       "      <th>0</th>\n",
       "      <td>interaction_11</td>\n",
       "      <td>21.90</td>\n",
       "    </tr>\n",
       "    <tr>\n",
       "      <th>1</th>\n",
       "      <td>PAY_0</td>\n",
       "      <td>19.68</td>\n",
       "    </tr>\n",
       "    <tr>\n",
       "      <th>2</th>\n",
       "      <td>interaction_3</td>\n",
       "      <td>14.59</td>\n",
       "    </tr>\n",
       "    <tr>\n",
       "      <th>3</th>\n",
       "      <td>PAY_2</td>\n",
       "      <td>9.52</td>\n",
       "    </tr>\n",
       "    <tr>\n",
       "      <th>4</th>\n",
       "      <td>PAY_3</td>\n",
       "      <td>5.39</td>\n",
       "    </tr>\n",
       "  </tbody>\n",
       "</table>\n",
       "</div>"
      ],
      "text/plain": [
       "         Features  Importance\n",
       "0  interaction_11       21.90\n",
       "1           PAY_0       19.68\n",
       "2   interaction_3       14.59\n",
       "3           PAY_2        9.52\n",
       "4           PAY_3        5.39"
      ]
     },
     "execution_count": 44,
     "metadata": {},
     "output_type": "execute_result"
    }
   ],
   "source": [
    "feature_importance = pd.DataFrame({'Features': X.columns, 'Importance': test.apply(np.mean, axis = 0)})\n",
    "feature_importance['Importance'] = round(feature_importance['Importance'], 4) * 100\n",
    "feature_importance = feature_importance.sort_values(by = ['Importance'], ascending = False).reset_index(drop = True)\n",
    "feature_importance.head()"
   ]
  },
  {
   "cell_type": "markdown",
   "id": "8231906c",
   "metadata": {},
   "source": [
    "### (e) Using the training data-frame (including the engineered features from part (d), run the RFE algorithm to identify important variables. Run the RFE (using the RFECV function) with a base estimator of your preference, step = 1, min features to select = 2, and cv = 3. Run the RFE 100 times and extract the support of each of the features. Combine the results and rank the features. Tip related to features to be included in the RFE algorithm: if you engineered a feature based only on a single raw input variable, you should only include the engineered feature not both (engineered feature and raw feature)."
   ]
  },
  {
   "cell_type": "code",
   "execution_count": null,
   "id": "6c4c6018",
   "metadata": {},
   "outputs": [],
   "source": [
    "RF_list = list()\n",
    "Ada_list = list()\n",
    "\n",
    "for i in range(0,100):\n",
    "    \n",
    "    ## Creating ID columns\n",
    "    train['ID'] = list(range(1, train.shape[0] + 1))\n",
    "\n",
    "    ## Splitting the data into train and test\n",
    "    training = train.groupby('default payment next month', group_keys = False).apply(lambda x: x.sample(frac = 0.8))\n",
    "    testing = train[~np.isin(train['ID'], training['ID'])]\n",
    "\n",
    "    ## Dropping ID\n",
    "    training = training.drop(columns = 'ID', axis = 1)\n",
    "    testing = testing.drop(columns = 'ID', axis = 1)\n",
    "\n",
    "    X_train = training.drop('default payment next month', axis = 1)\n",
    "    Y_train = training['default payment next month']\n",
    "    X_test = testing.drop('default payment next month', axis = 1)\n",
    "    Y_test = testing['default payment next month']\n",
    "    \n",
    "    # Running RFECV with random forest\n",
    "    RF_rfecv = RFECV(estimator = RandomForestClassifier(n_estimators = 500, max_depth = 3), step = 1, min_features_to_select = 2, cv = 3).fit(X_train, Y_train)\n",
    "\n",
    "    # Extracting features that got slected\n",
    "    RF_list.append(X_train.columns[RF_rfecv.support_])\n",
    "\n",
    "    if i == 0:\n",
    "        print('Iteraction :', i, end=' ')\n",
    "    else:\n",
    "        print(i, end=' ')\n"
   ]
  },
  {
   "cell_type": "code",
   "execution_count": null,
   "id": "1a7fe3ed",
   "metadata": {},
   "outputs": [],
   "source": [
    "RF = pd.DataFrame(RF_list)\n",
    "RF.to_csv('RF_list.csv', index = False)"
   ]
  },
  {
   "cell_type": "code",
   "execution_count": 44,
   "id": "197cd230",
   "metadata": {},
   "outputs": [
    {
     "data": {
      "text/plain": [
       "(100, 34)"
      ]
     },
     "execution_count": 44,
     "metadata": {},
     "output_type": "execute_result"
    }
   ],
   "source": [
    "RF = pd.read_csv('RF_list.csv')\n",
    "RF.shape"
   ]
  },
  {
   "cell_type": "code",
   "execution_count": 45,
   "id": "07a692b9",
   "metadata": {},
   "outputs": [
    {
     "data": {
      "text/html": [
       "<div>\n",
       "<style scoped>\n",
       "    .dataframe tbody tr th:only-of-type {\n",
       "        vertical-align: middle;\n",
       "    }\n",
       "\n",
       "    .dataframe tbody tr th {\n",
       "        vertical-align: top;\n",
       "    }\n",
       "\n",
       "    .dataframe thead th {\n",
       "        text-align: right;\n",
       "    }\n",
       "</style>\n",
       "<table border=\"1\" class=\"dataframe\">\n",
       "  <thead>\n",
       "    <tr style=\"text-align: right;\">\n",
       "      <th></th>\n",
       "      <th>0</th>\n",
       "      <th>1</th>\n",
       "      <th>2</th>\n",
       "      <th>3</th>\n",
       "      <th>4</th>\n",
       "      <th>5</th>\n",
       "      <th>6</th>\n",
       "      <th>7</th>\n",
       "      <th>8</th>\n",
       "      <th>9</th>\n",
       "      <th>10</th>\n",
       "      <th>11</th>\n",
       "      <th>12</th>\n",
       "      <th>13</th>\n",
       "      <th>14</th>\n",
       "      <th>15</th>\n",
       "      <th>16</th>\n",
       "      <th>17</th>\n",
       "      <th>18</th>\n",
       "      <th>19</th>\n",
       "      <th>20</th>\n",
       "      <th>21</th>\n",
       "      <th>22</th>\n",
       "      <th>23</th>\n",
       "      <th>24</th>\n",
       "      <th>25</th>\n",
       "      <th>26</th>\n",
       "      <th>27</th>\n",
       "      <th>28</th>\n",
       "      <th>29</th>\n",
       "      <th>30</th>\n",
       "      <th>31</th>\n",
       "      <th>32</th>\n",
       "      <th>33</th>\n",
       "    </tr>\n",
       "  </thead>\n",
       "  <tbody>\n",
       "    <tr>\n",
       "      <th>0</th>\n",
       "      <td>LIMIT_BAL</td>\n",
       "      <td>EDUCATION</td>\n",
       "      <td>MARRIAGE</td>\n",
       "      <td>AGE</td>\n",
       "      <td>PAY_0</td>\n",
       "      <td>PAY_2</td>\n",
       "      <td>PAY_3</td>\n",
       "      <td>PAY_4</td>\n",
       "      <td>PAY_5</td>\n",
       "      <td>PAY_6</td>\n",
       "      <td>BILL_AMT1</td>\n",
       "      <td>BILL_AMT2</td>\n",
       "      <td>BILL_AMT3</td>\n",
       "      <td>BILL_AMT4</td>\n",
       "      <td>BILL_AMT5</td>\n",
       "      <td>BILL_AMT6</td>\n",
       "      <td>PAY_AMT1</td>\n",
       "      <td>PAY_AMT2</td>\n",
       "      <td>PAY_AMT3</td>\n",
       "      <td>PAY_AMT4</td>\n",
       "      <td>PAY_AMT5</td>\n",
       "      <td>PAY_AMT6</td>\n",
       "      <td>interaction_1</td>\n",
       "      <td>interaction_2</td>\n",
       "      <td>interaction_3</td>\n",
       "      <td>interaction_4</td>\n",
       "      <td>interaction_5</td>\n",
       "      <td>interaction_6</td>\n",
       "      <td>interaction_7</td>\n",
       "      <td>interaction_8</td>\n",
       "      <td>interaction_9</td>\n",
       "      <td>heredity_1</td>\n",
       "      <td>heredity_2</td>\n",
       "      <td>NaN</td>\n",
       "    </tr>\n",
       "    <tr>\n",
       "      <th>1</th>\n",
       "      <td>LIMIT_BAL</td>\n",
       "      <td>PAY_0</td>\n",
       "      <td>PAY_2</td>\n",
       "      <td>PAY_3</td>\n",
       "      <td>PAY_4</td>\n",
       "      <td>PAY_5</td>\n",
       "      <td>PAY_6</td>\n",
       "      <td>BILL_AMT1</td>\n",
       "      <td>BILL_AMT2</td>\n",
       "      <td>BILL_AMT4</td>\n",
       "      <td>PAY_AMT1</td>\n",
       "      <td>PAY_AMT2</td>\n",
       "      <td>PAY_AMT3</td>\n",
       "      <td>PAY_AMT4</td>\n",
       "      <td>PAY_AMT6</td>\n",
       "      <td>interaction_2</td>\n",
       "      <td>interaction_3</td>\n",
       "      <td>interaction_4</td>\n",
       "      <td>interaction_5</td>\n",
       "      <td>interaction_7</td>\n",
       "      <td>interaction_8</td>\n",
       "      <td>heredity_1</td>\n",
       "      <td>heredity_2</td>\n",
       "      <td>NaN</td>\n",
       "      <td>NaN</td>\n",
       "      <td>NaN</td>\n",
       "      <td>NaN</td>\n",
       "      <td>NaN</td>\n",
       "      <td>NaN</td>\n",
       "      <td>NaN</td>\n",
       "      <td>NaN</td>\n",
       "      <td>NaN</td>\n",
       "      <td>NaN</td>\n",
       "      <td>NaN</td>\n",
       "    </tr>\n",
       "    <tr>\n",
       "      <th>2</th>\n",
       "      <td>LIMIT_BAL</td>\n",
       "      <td>PAY_0</td>\n",
       "      <td>PAY_2</td>\n",
       "      <td>PAY_3</td>\n",
       "      <td>PAY_4</td>\n",
       "      <td>PAY_5</td>\n",
       "      <td>PAY_6</td>\n",
       "      <td>BILL_AMT1</td>\n",
       "      <td>PAY_AMT1</td>\n",
       "      <td>PAY_AMT2</td>\n",
       "      <td>PAY_AMT3</td>\n",
       "      <td>PAY_AMT4</td>\n",
       "      <td>PAY_AMT5</td>\n",
       "      <td>PAY_AMT6</td>\n",
       "      <td>interaction_2</td>\n",
       "      <td>interaction_3</td>\n",
       "      <td>interaction_4</td>\n",
       "      <td>interaction_5</td>\n",
       "      <td>interaction_7</td>\n",
       "      <td>interaction_8</td>\n",
       "      <td>heredity_1</td>\n",
       "      <td>heredity_2</td>\n",
       "      <td>NaN</td>\n",
       "      <td>NaN</td>\n",
       "      <td>NaN</td>\n",
       "      <td>NaN</td>\n",
       "      <td>NaN</td>\n",
       "      <td>NaN</td>\n",
       "      <td>NaN</td>\n",
       "      <td>NaN</td>\n",
       "      <td>NaN</td>\n",
       "      <td>NaN</td>\n",
       "      <td>NaN</td>\n",
       "      <td>NaN</td>\n",
       "    </tr>\n",
       "    <tr>\n",
       "      <th>3</th>\n",
       "      <td>LIMIT_BAL</td>\n",
       "      <td>PAY_0</td>\n",
       "      <td>PAY_2</td>\n",
       "      <td>PAY_3</td>\n",
       "      <td>PAY_4</td>\n",
       "      <td>PAY_5</td>\n",
       "      <td>PAY_6</td>\n",
       "      <td>BILL_AMT1</td>\n",
       "      <td>BILL_AMT2</td>\n",
       "      <td>BILL_AMT4</td>\n",
       "      <td>BILL_AMT5</td>\n",
       "      <td>PAY_AMT1</td>\n",
       "      <td>PAY_AMT2</td>\n",
       "      <td>PAY_AMT3</td>\n",
       "      <td>PAY_AMT4</td>\n",
       "      <td>PAY_AMT5</td>\n",
       "      <td>PAY_AMT6</td>\n",
       "      <td>interaction_2</td>\n",
       "      <td>interaction_3</td>\n",
       "      <td>interaction_4</td>\n",
       "      <td>interaction_5</td>\n",
       "      <td>interaction_6</td>\n",
       "      <td>interaction_7</td>\n",
       "      <td>interaction_8</td>\n",
       "      <td>interaction_9</td>\n",
       "      <td>heredity_1</td>\n",
       "      <td>heredity_2</td>\n",
       "      <td>NaN</td>\n",
       "      <td>NaN</td>\n",
       "      <td>NaN</td>\n",
       "      <td>NaN</td>\n",
       "      <td>NaN</td>\n",
       "      <td>NaN</td>\n",
       "      <td>NaN</td>\n",
       "    </tr>\n",
       "    <tr>\n",
       "      <th>4</th>\n",
       "      <td>LIMIT_BAL</td>\n",
       "      <td>EDUCATION</td>\n",
       "      <td>PAY_0</td>\n",
       "      <td>PAY_2</td>\n",
       "      <td>PAY_3</td>\n",
       "      <td>PAY_4</td>\n",
       "      <td>PAY_5</td>\n",
       "      <td>PAY_6</td>\n",
       "      <td>BILL_AMT1</td>\n",
       "      <td>BILL_AMT2</td>\n",
       "      <td>BILL_AMT3</td>\n",
       "      <td>BILL_AMT4</td>\n",
       "      <td>BILL_AMT5</td>\n",
       "      <td>BILL_AMT6</td>\n",
       "      <td>PAY_AMT1</td>\n",
       "      <td>PAY_AMT2</td>\n",
       "      <td>PAY_AMT3</td>\n",
       "      <td>PAY_AMT4</td>\n",
       "      <td>PAY_AMT5</td>\n",
       "      <td>PAY_AMT6</td>\n",
       "      <td>interaction_2</td>\n",
       "      <td>interaction_3</td>\n",
       "      <td>interaction_4</td>\n",
       "      <td>interaction_5</td>\n",
       "      <td>interaction_6</td>\n",
       "      <td>interaction_7</td>\n",
       "      <td>interaction_8</td>\n",
       "      <td>interaction_9</td>\n",
       "      <td>heredity_1</td>\n",
       "      <td>heredity_2</td>\n",
       "      <td>NaN</td>\n",
       "      <td>NaN</td>\n",
       "      <td>NaN</td>\n",
       "      <td>NaN</td>\n",
       "    </tr>\n",
       "  </tbody>\n",
       "</table>\n",
       "</div>"
      ],
      "text/plain": [
       "           0          1         2      3      4      5      6          7  \\\n",
       "0  LIMIT_BAL  EDUCATION  MARRIAGE    AGE  PAY_0  PAY_2  PAY_3      PAY_4   \n",
       "1  LIMIT_BAL      PAY_0     PAY_2  PAY_3  PAY_4  PAY_5  PAY_6  BILL_AMT1   \n",
       "2  LIMIT_BAL      PAY_0     PAY_2  PAY_3  PAY_4  PAY_5  PAY_6  BILL_AMT1   \n",
       "3  LIMIT_BAL      PAY_0     PAY_2  PAY_3  PAY_4  PAY_5  PAY_6  BILL_AMT1   \n",
       "4  LIMIT_BAL  EDUCATION     PAY_0  PAY_2  PAY_3  PAY_4  PAY_5      PAY_6   \n",
       "\n",
       "           8          9         10         11         12         13  \\\n",
       "0      PAY_5      PAY_6  BILL_AMT1  BILL_AMT2  BILL_AMT3  BILL_AMT4   \n",
       "1  BILL_AMT2  BILL_AMT4   PAY_AMT1   PAY_AMT2   PAY_AMT3   PAY_AMT4   \n",
       "2   PAY_AMT1   PAY_AMT2   PAY_AMT3   PAY_AMT4   PAY_AMT5   PAY_AMT6   \n",
       "3  BILL_AMT2  BILL_AMT4  BILL_AMT5   PAY_AMT1   PAY_AMT2   PAY_AMT3   \n",
       "4  BILL_AMT1  BILL_AMT2  BILL_AMT3  BILL_AMT4  BILL_AMT5  BILL_AMT6   \n",
       "\n",
       "              14             15             16             17             18  \\\n",
       "0      BILL_AMT5      BILL_AMT6       PAY_AMT1       PAY_AMT2       PAY_AMT3   \n",
       "1       PAY_AMT6  interaction_2  interaction_3  interaction_4  interaction_5   \n",
       "2  interaction_2  interaction_3  interaction_4  interaction_5  interaction_7   \n",
       "3       PAY_AMT4       PAY_AMT5       PAY_AMT6  interaction_2  interaction_3   \n",
       "4       PAY_AMT1       PAY_AMT2       PAY_AMT3       PAY_AMT4       PAY_AMT5   \n",
       "\n",
       "              19             20             21             22             23  \\\n",
       "0       PAY_AMT4       PAY_AMT5       PAY_AMT6  interaction_1  interaction_2   \n",
       "1  interaction_7  interaction_8     heredity_1     heredity_2            NaN   \n",
       "2  interaction_8     heredity_1     heredity_2            NaN            NaN   \n",
       "3  interaction_4  interaction_5  interaction_6  interaction_7  interaction_8   \n",
       "4       PAY_AMT6  interaction_2  interaction_3  interaction_4  interaction_5   \n",
       "\n",
       "              24             25             26             27             28  \\\n",
       "0  interaction_3  interaction_4  interaction_5  interaction_6  interaction_7   \n",
       "1            NaN            NaN            NaN            NaN            NaN   \n",
       "2            NaN            NaN            NaN            NaN            NaN   \n",
       "3  interaction_9     heredity_1     heredity_2            NaN            NaN   \n",
       "4  interaction_6  interaction_7  interaction_8  interaction_9     heredity_1   \n",
       "\n",
       "              29             30          31          32   33  \n",
       "0  interaction_8  interaction_9  heredity_1  heredity_2  NaN  \n",
       "1            NaN            NaN         NaN         NaN  NaN  \n",
       "2            NaN            NaN         NaN         NaN  NaN  \n",
       "3            NaN            NaN         NaN         NaN  NaN  \n",
       "4     heredity_2            NaN         NaN         NaN  NaN  "
      ]
     },
     "execution_count": 45,
     "metadata": {},
     "output_type": "execute_result"
    }
   ],
   "source": [
    "RF.head()"
   ]
  },
  {
   "cell_type": "code",
   "execution_count": 13,
   "id": "838e4c51",
   "metadata": {},
   "outputs": [
    {
     "data": {
      "text/plain": [
       "LIMIT_BAL    92\n",
       "PAY_0         8\n",
       "Name: 0, dtype: int64"
      ]
     },
     "execution_count": 13,
     "metadata": {},
     "output_type": "execute_result"
    }
   ],
   "source": [
    "RF.iloc[:,0].value_counts().head()"
   ]
  },
  {
   "cell_type": "code",
   "execution_count": 14,
   "id": "9899c99b",
   "metadata": {},
   "outputs": [
    {
     "data": {
      "text/plain": [
       "PAY_0        45\n",
       "EDUCATION    27\n",
       "Name: 1, dtype: int64"
      ]
     },
     "execution_count": 14,
     "metadata": {},
     "output_type": "execute_result"
    }
   ],
   "source": [
    "RF.iloc[:,1].value_counts().head(2)"
   ]
  },
  {
   "cell_type": "code",
   "execution_count": 15,
   "id": "517121ef",
   "metadata": {},
   "outputs": [
    {
     "data": {
      "text/plain": [
       "PAY_2       45\n",
       "MARRIAGE    13\n",
       "Name: 2, dtype: int64"
      ]
     },
     "execution_count": 15,
     "metadata": {},
     "output_type": "execute_result"
    }
   ],
   "source": [
    "RF.iloc[:,2].value_counts().head(2)"
   ]
  },
  {
   "cell_type": "code",
   "execution_count": 16,
   "id": "ec5d1e93",
   "metadata": {},
   "outputs": [
    {
     "data": {
      "text/plain": [
       "PAY_3    45\n",
       "AGE      16\n",
       "Name: 3, dtype: int64"
      ]
     },
     "execution_count": 16,
     "metadata": {},
     "output_type": "execute_result"
    }
   ],
   "source": [
    "RF.iloc[:,3].value_counts().head(2)"
   ]
  },
  {
   "cell_type": "code",
   "execution_count": 17,
   "id": "c71e7b65",
   "metadata": {},
   "outputs": [
    {
     "data": {
      "text/plain": [
       "PAY_4    45\n",
       "PAY_0    16\n",
       "Name: 4, dtype: int64"
      ]
     },
     "execution_count": 17,
     "metadata": {},
     "output_type": "execute_result"
    }
   ],
   "source": [
    "RF.iloc[:,4].value_counts().head(2)"
   ]
  },
  {
   "cell_type": "code",
   "execution_count": 18,
   "id": "747fb906",
   "metadata": {},
   "outputs": [
    {
     "data": {
      "text/plain": [
       "PAY_5    45\n",
       "PAY_2    16\n",
       "Name: 5, dtype: int64"
      ]
     },
     "execution_count": 18,
     "metadata": {},
     "output_type": "execute_result"
    }
   ],
   "source": [
    "RF.iloc[:,5].value_counts().head(2)"
   ]
  },
  {
   "cell_type": "markdown",
   "id": "a6853332",
   "metadata": {},
   "source": [
    "### Top 6 features according to  RFECV with random forest."
   ]
  },
  {
   "cell_type": "code",
   "execution_count": 108,
   "id": "ce9f4dfc",
   "metadata": {},
   "outputs": [
    {
     "data": {
      "text/html": [
       "<div>\n",
       "<style scoped>\n",
       "    .dataframe tbody tr th:only-of-type {\n",
       "        vertical-align: middle;\n",
       "    }\n",
       "\n",
       "    .dataframe tbody tr th {\n",
       "        vertical-align: top;\n",
       "    }\n",
       "\n",
       "    .dataframe thead th {\n",
       "        text-align: right;\n",
       "    }\n",
       "</style>\n",
       "<table border=\"1\" class=\"dataframe\">\n",
       "  <thead>\n",
       "    <tr style=\"text-align: right;\">\n",
       "      <th></th>\n",
       "      <th>Top_6_Features</th>\n",
       "    </tr>\n",
       "  </thead>\n",
       "  <tbody>\n",
       "    <tr>\n",
       "      <th>1</th>\n",
       "      <td>LIMIT_BAL</td>\n",
       "    </tr>\n",
       "    <tr>\n",
       "      <th>2</th>\n",
       "      <td>PAY_0</td>\n",
       "    </tr>\n",
       "    <tr>\n",
       "      <th>3</th>\n",
       "      <td>PAY_2</td>\n",
       "    </tr>\n",
       "    <tr>\n",
       "      <th>4</th>\n",
       "      <td>PAY_3</td>\n",
       "    </tr>\n",
       "    <tr>\n",
       "      <th>5</th>\n",
       "      <td>PAY_4</td>\n",
       "    </tr>\n",
       "  </tbody>\n",
       "</table>\n",
       "</div>"
      ],
      "text/plain": [
       "  Top_6_Features\n",
       "1      LIMIT_BAL\n",
       "2          PAY_0\n",
       "3          PAY_2\n",
       "4          PAY_3\n",
       "5          PAY_4"
      ]
     },
     "execution_count": 108,
     "metadata": {},
     "output_type": "execute_result"
    }
   ],
   "source": [
    "ranked_features = pd.DataFrame({\"Top_6_Features\": ['LIMIT_BAL', \n",
    "                                                   'PAY_0', \n",
    "                                                   'PAY_2', \n",
    "                                                   'PAY_3',\n",
    "                                                   'PAY_4',\n",
    "                                                  'PAY_5']}, index = [1, 2, 3, 4, 5, 6])\n",
    "ranked_features.head()"
   ]
  },
  {
   "cell_type": "markdown",
   "id": "319049ba",
   "metadata": {},
   "source": [
    "### Splitting the data into train and test"
   ]
  },
  {
   "cell_type": "code",
   "execution_count": 61,
   "id": "16f4d349",
   "metadata": {},
   "outputs": [],
   "source": [
    "## Splitting the data into train and test\n",
    "training = train.groupby('default payment next month', group_keys = False).apply(lambda x: x.sample(frac = 0.8))\n",
    "testing = train[~np.isin(train['ID'], training['ID'])]\n",
    "\n",
    "## Dropping ID\n",
    "training = training.drop(columns = 'ID', axis = 1)\n",
    "testing = testing.drop(columns = 'ID', axis = 1)\n",
    "\n",
    "X_train = training.drop('default payment next month', axis = 1)\n",
    "Y_train = training['default payment next month']\n",
    "X_test = testing.drop('default payment next month', axis = 1)\n",
    "Y_test = testing['default payment next month']"
   ]
  },
  {
   "cell_type": "markdown",
   "id": "e46e3642",
   "metadata": {},
   "source": [
    "### Checking the best combination of hyper-parameters to be considered"
   ]
  },
  {
   "cell_type": "code",
   "execution_count": 21,
   "id": "521d29ab",
   "metadata": {},
   "outputs": [
    {
     "data": {
      "text/plain": [
       "RandomForestClassifier(max_depth=7, min_samples_leaf=7, min_samples_split=15,\n",
       "                       n_estimators=500)"
      ]
     },
     "execution_count": 21,
     "metadata": {},
     "output_type": "execute_result"
    }
   ],
   "source": [
    "## Defining the grid of hyper-parameters to be considered\n",
    "RF_param_grid = {'n_estimators': [100, 300, 500],\n",
    "                 'min_samples_split': [10, 15], \n",
    "                 'min_samples_leaf': [5, 7], \n",
    "                 'max_depth' : [3, 5, 7]}\n",
    "\n",
    "## Performing grid search with 5 folds\n",
    "RF_grid_search = GridSearchCV(RandomForestClassifier(), RF_param_grid, cv = 5, scoring = 'f1').fit(X_train, Y_train)\n",
    "\n",
    "## Extracting the best model\n",
    "RF_grid_search.best_estimator_"
   ]
  },
  {
   "cell_type": "markdown",
   "id": "35e184b8",
   "metadata": {},
   "source": [
    "### (f) Using the top 5 variables from the part (e) and the same base estimator from part (e), build a model on the training data-frame. Then, use this model to make predictions on the testing data-frame. Use the provided precision recall cutoff.py (posted under the Exam 1 link) file to estimate the optimal cutoff value. Compute the classification report of this model."
   ]
  },
  {
   "cell_type": "code",
   "execution_count": 62,
   "id": "0452a083",
   "metadata": {},
   "outputs": [
    {
     "name": "stdout",
     "output_type": "stream",
     "text": [
      "The cutoff values is:  0.20298425711349452\n"
     ]
    }
   ],
   "source": [
    "X_train_1 = X_train[['LIMIT_BAL', 'PAY_0', 'PAY_2', 'PAY_3','PAY_4']]\n",
    "X_test_1 = X_test[['LIMIT_BAL', 'PAY_0', 'PAY_2', 'PAY_3','PAY_4']]\n",
    "\n",
    "# Building the RF model with best hyper-parameters\n",
    "RF = RandomForestClassifier(max_depth = 7, min_samples_leaf = 7, min_samples_split = 15, n_estimators = 500).fit(X_train_1, Y_train)\n",
    "\n",
    "# Predicting on test\n",
    "RF_preds = RF.predict_proba(X_test_1)[:, 1]\n",
    "\n",
    "# Predicting labels\n",
    "RF_labels = precision_recall_cutoff.precision_recall_cutoff(Y_test, RF_preds)\n",
    "\n"
   ]
  },
  {
   "cell_type": "code",
   "execution_count": 63,
   "id": "429dbe7c",
   "metadata": {},
   "outputs": [
    {
     "name": "stdout",
     "output_type": "stream",
     "text": [
      "              precision    recall  f1-score   support\n",
      "\n",
      "           0       0.87      0.83      0.85      3738\n",
      "           1       0.49      0.58      0.53      1062\n",
      "\n",
      "    accuracy                           0.77      4800\n",
      "   macro avg       0.68      0.70      0.69      4800\n",
      "weighted avg       0.79      0.77      0.78      4800\n",
      "\n"
     ]
    }
   ],
   "source": [
    "# Computing the classification report\n",
    "print(classification_report(Y_test, RF_labels))"
   ]
  },
  {
   "cell_type": "code",
   "execution_count": null,
   "id": "4d8c49cb",
   "metadata": {},
   "outputs": [],
   "source": []
  },
  {
   "cell_type": "markdown",
   "id": "53679edf",
   "metadata": {},
   "source": [
    "### (g) Using the top 6 variables from the part (e) and the same base estimator from part (e), build a model on the training data-frame. Then, use this model to make predictions on the testing data-frame. Use the provided precision recall cutoff.py (posted under the Exam 1 link) file to estimate the optimal cutoff value. Compute the classification report of this model."
   ]
  },
  {
   "cell_type": "code",
   "execution_count": 49,
   "id": "db29323f",
   "metadata": {},
   "outputs": [
    {
     "name": "stdout",
     "output_type": "stream",
     "text": [
      "The cutoff values is:  0.23743785197239886\n"
     ]
    }
   ],
   "source": [
    "X_train_2 = X_train[['LIMIT_BAL', 'PAY_0', 'PAY_2', 'PAY_3','PAY_4','PAY_5']]\n",
    "X_test_2 = X_test[['LIMIT_BAL', 'PAY_0', 'PAY_2', 'PAY_3','PAY_4','PAY_5']]\n",
    "\n",
    "# Building the RF model with best hyper-parameters\n",
    "RF = RandomForestClassifier(max_depth = 7, min_samples_leaf = 7, min_samples_split = 15, n_estimators = 500).fit(X_train_2, Y_train)\n",
    "\n",
    "# Predicting on test\n",
    "RF_preds = RF.predict_proba(X_test_2)[:, 1]\n",
    "\n",
    "# Predicting labels\n",
    "RF_labels = precision_recall_cutoff.precision_recall_cutoff(Y_test, RF_preds)\n"
   ]
  },
  {
   "cell_type": "code",
   "execution_count": 50,
   "id": "4ce904ec",
   "metadata": {},
   "outputs": [
    {
     "name": "stdout",
     "output_type": "stream",
     "text": [
      "              precision    recall  f1-score   support\n",
      "\n",
      "           0       0.88      0.85      0.86      3738\n",
      "           1       0.52      0.58      0.55      1062\n",
      "\n",
      "    accuracy                           0.79      4800\n",
      "   macro avg       0.70      0.72      0.71      4800\n",
      "weighted avg       0.80      0.79      0.79      4800\n",
      "\n"
     ]
    }
   ],
   "source": [
    "# Computing the classification report\n",
    "print(classification_report(Y_test, RF_labels))"
   ]
  },
  {
   "cell_type": "markdown",
   "id": "ca9aeaa1",
   "metadata": {},
   "source": [
    "### (h) Using the results from parts (f) and (g), what model would you use to predict default payment next month? Be specific."
   ]
  },
  {
   "cell_type": "markdown",
   "id": "47fdf776",
   "metadata": {},
   "source": [
    "Once both models have an almost indentical results, I would go with the model from part (f) because it took one less variable."
   ]
  },
  {
   "cell_type": "markdown",
   "id": "db28f113",
   "metadata": {},
   "source": [
    "### (i) Based on your answer from part (h), predict the likelihood of default payment next month on the test. Submit the likelihoods in a csv file. Also submit the associated cut-off value."
   ]
  },
  {
   "cell_type": "code",
   "execution_count": 20,
   "id": "fb0f78e9",
   "metadata": {},
   "outputs": [
    {
     "data": {
      "text/plain": [
       "(6000, 35)"
      ]
     },
     "execution_count": 20,
     "metadata": {},
     "output_type": "execute_result"
    }
   ],
   "source": [
    "test.shape"
   ]
  },
  {
   "cell_type": "code",
   "execution_count": 25,
   "id": "3b2e2161",
   "metadata": {},
   "outputs": [
    {
     "data": {
      "text/plain": [
       "(19200, 5)"
      ]
     },
     "execution_count": 25,
     "metadata": {},
     "output_type": "execute_result"
    }
   ],
   "source": [
    "X_train_1.shape"
   ]
  },
  {
   "cell_type": "code",
   "execution_count": 26,
   "id": "5abf1ea1",
   "metadata": {},
   "outputs": [],
   "source": [
    "test_1 = test[['LIMIT_BAL', 'PAY_0', 'PAY_2', 'PAY_3','PAY_4']]"
   ]
  },
  {
   "cell_type": "code",
   "execution_count": 51,
   "id": "c27620b1",
   "metadata": {},
   "outputs": [
    {
     "data": {
      "text/plain": [
       "array([0.41370831, 0.16026787, 0.12646137, ..., 0.12511981, 0.16870642,\n",
       "       0.58474879])"
      ]
     },
     "execution_count": 51,
     "metadata": {},
     "output_type": "execute_result"
    }
   ],
   "source": [
    "# Building the RF model with best hyper-parameters\n",
    "RF = RandomForestClassifier(max_depth = 7, min_samples_leaf = 7, min_samples_split = 15, n_estimators = 500).fit(X_train_1, Y_train)\n",
    "\n",
    "# Predicting on test\n",
    "RF_preds = RF.predict_proba(test_1)[:, 1]\n",
    "\n",
    "RF_preds"
   ]
  },
  {
   "cell_type": "markdown",
   "id": "ce188056",
   "metadata": {},
   "source": [
    "The cutoff value is:  0.26"
   ]
  },
  {
   "cell_type": "code",
   "execution_count": 31,
   "id": "36e61a80",
   "metadata": {},
   "outputs": [
    {
     "data": {
      "text/html": [
       "<div>\n",
       "<style scoped>\n",
       "    .dataframe tbody tr th:only-of-type {\n",
       "        vertical-align: middle;\n",
       "    }\n",
       "\n",
       "    .dataframe tbody tr th {\n",
       "        vertical-align: top;\n",
       "    }\n",
       "\n",
       "    .dataframe thead th {\n",
       "        text-align: right;\n",
       "    }\n",
       "</style>\n",
       "<table border=\"1\" class=\"dataframe\">\n",
       "  <thead>\n",
       "    <tr style=\"text-align: right;\">\n",
       "      <th></th>\n",
       "      <th>Likelyhoods</th>\n",
       "    </tr>\n",
       "  </thead>\n",
       "  <tbody>\n",
       "    <tr>\n",
       "      <th>0</th>\n",
       "      <td>0.417190</td>\n",
       "    </tr>\n",
       "    <tr>\n",
       "      <th>1</th>\n",
       "      <td>0.160482</td>\n",
       "    </tr>\n",
       "    <tr>\n",
       "      <th>2</th>\n",
       "      <td>0.124979</td>\n",
       "    </tr>\n",
       "    <tr>\n",
       "      <th>3</th>\n",
       "      <td>0.202144</td>\n",
       "    </tr>\n",
       "    <tr>\n",
       "      <th>4</th>\n",
       "      <td>0.103105</td>\n",
       "    </tr>\n",
       "    <tr>\n",
       "      <th>...</th>\n",
       "      <td>...</td>\n",
       "    </tr>\n",
       "    <tr>\n",
       "      <th>5995</th>\n",
       "      <td>0.092989</td>\n",
       "    </tr>\n",
       "    <tr>\n",
       "      <th>5996</th>\n",
       "      <td>0.208354</td>\n",
       "    </tr>\n",
       "    <tr>\n",
       "      <th>5997</th>\n",
       "      <td>0.126278</td>\n",
       "    </tr>\n",
       "    <tr>\n",
       "      <th>5998</th>\n",
       "      <td>0.167301</td>\n",
       "    </tr>\n",
       "    <tr>\n",
       "      <th>5999</th>\n",
       "      <td>0.584310</td>\n",
       "    </tr>\n",
       "  </tbody>\n",
       "</table>\n",
       "<p>6000 rows × 1 columns</p>\n",
       "</div>"
      ],
      "text/plain": [
       "      Likelyhoods\n",
       "0        0.417190\n",
       "1        0.160482\n",
       "2        0.124979\n",
       "3        0.202144\n",
       "4        0.103105\n",
       "...           ...\n",
       "5995     0.092989\n",
       "5996     0.208354\n",
       "5997     0.126278\n",
       "5998     0.167301\n",
       "5999     0.584310\n",
       "\n",
       "[6000 rows x 1 columns]"
      ]
     },
     "execution_count": 31,
     "metadata": {},
     "output_type": "execute_result"
    }
   ],
   "source": [
    "RF_preds = pd.DataFrame({\"Likelyhoods\": RF_preds})\n",
    "RF_preds"
   ]
  },
  {
   "cell_type": "markdown",
   "id": "e6beede2",
   "metadata": {},
   "source": [
    "### Exporting likelyhood to a csv file"
   ]
  },
  {
   "cell_type": "code",
   "execution_count": 34,
   "id": "1303bcb5",
   "metadata": {},
   "outputs": [],
   "source": [
    "RF_preds.to_csv(\"Exam_1_Likelyhoods.csv\", index = False)"
   ]
  },
  {
   "cell_type": "markdown",
   "id": "5f34d192",
   "metadata": {},
   "source": [
    "### Checking CSV file"
   ]
  },
  {
   "cell_type": "code",
   "execution_count": 36,
   "id": "4a983531",
   "metadata": {},
   "outputs": [
    {
     "data": {
      "text/html": [
       "<div>\n",
       "<style scoped>\n",
       "    .dataframe tbody tr th:only-of-type {\n",
       "        vertical-align: middle;\n",
       "    }\n",
       "\n",
       "    .dataframe tbody tr th {\n",
       "        vertical-align: top;\n",
       "    }\n",
       "\n",
       "    .dataframe thead th {\n",
       "        text-align: right;\n",
       "    }\n",
       "</style>\n",
       "<table border=\"1\" class=\"dataframe\">\n",
       "  <thead>\n",
       "    <tr style=\"text-align: right;\">\n",
       "      <th></th>\n",
       "      <th>Likelyhoods</th>\n",
       "    </tr>\n",
       "  </thead>\n",
       "  <tbody>\n",
       "    <tr>\n",
       "      <th>0</th>\n",
       "      <td>0.417190</td>\n",
       "    </tr>\n",
       "    <tr>\n",
       "      <th>1</th>\n",
       "      <td>0.160482</td>\n",
       "    </tr>\n",
       "    <tr>\n",
       "      <th>2</th>\n",
       "      <td>0.124979</td>\n",
       "    </tr>\n",
       "    <tr>\n",
       "      <th>3</th>\n",
       "      <td>0.202144</td>\n",
       "    </tr>\n",
       "    <tr>\n",
       "      <th>4</th>\n",
       "      <td>0.103105</td>\n",
       "    </tr>\n",
       "  </tbody>\n",
       "</table>\n",
       "</div>"
      ],
      "text/plain": [
       "   Likelyhoods\n",
       "0     0.417190\n",
       "1     0.160482\n",
       "2     0.124979\n",
       "3     0.202144\n",
       "4     0.103105"
      ]
     },
     "execution_count": 36,
     "metadata": {},
     "output_type": "execute_result"
    }
   ],
   "source": [
    "checking = pd.read_csv(\"Exam_1_Likelyhoods.csv\")\n",
    "checking.head()"
   ]
  },
  {
   "cell_type": "markdown",
   "id": "4ab12ea8",
   "metadata": {},
   "source": [
    "### Checking results of AdaBoost Model"
   ]
  },
  {
   "cell_type": "code",
   "execution_count": 64,
   "id": "ab3df5a6",
   "metadata": {},
   "outputs": [
    {
     "name": "stdout",
     "output_type": "stream",
     "text": [
      "The cutoff values is:  0.4401450791590235\n"
     ]
    }
   ],
   "source": [
    "# Adaboost Classifier Model\n",
    "ADA_md = AdaBoostClassifier(base_estimator = DecisionTreeClassifier(max_depth = 3), n_estimators = 500, learning_rate = 0.01).fit(X_train_1, Y_train)\n",
    "\n",
    "# Predicting on Test dataaset\n",
    "ADA_preds = ADA_md.predict_proba(X_test_1)[:,1]\n",
    "\n",
    "# Predicting labels\n",
    "ADA_labels = precision_recall_cutoff.precision_recall_cutoff(Y_test, ADA_preds)\n"
   ]
  },
  {
   "cell_type": "code",
   "execution_count": 66,
   "id": "6b6865bf",
   "metadata": {},
   "outputs": [
    {
     "name": "stdout",
     "output_type": "stream",
     "text": [
      "              precision    recall  f1-score   support\n",
      "\n",
      "           0       0.87      0.85      0.86      3738\n",
      "           1       0.51      0.56      0.53      1062\n",
      "\n",
      "    accuracy                           0.78      4800\n",
      "   macro avg       0.69      0.70      0.70      4800\n",
      "weighted avg       0.79      0.78      0.79      4800\n",
      "\n"
     ]
    }
   ],
   "source": [
    "# Computing the classification report\n",
    "print(classification_report(Y_test, ADA_labels))"
   ]
  },
  {
   "cell_type": "markdown",
   "id": "ac969012",
   "metadata": {},
   "source": [
    "### Checking if the SMOTE technique helps."
   ]
  },
  {
   "cell_type": "code",
   "execution_count": 20,
   "id": "a8fe8e53",
   "metadata": {
    "collapsed": true,
    "jupyter": {
     "outputs_hidden": true
    }
   },
   "outputs": [
    {
     "name": "stdout",
     "output_type": "stream",
     "text": [
      "Requirement already satisfied: imblearn in /home/ec2-user/anaconda3/envs/python3/lib/python3.6/site-packages (0.0)\n",
      "Requirement already satisfied: imbalanced-learn in /home/ec2-user/anaconda3/envs/python3/lib/python3.6/site-packages (from imblearn) (0.8.1)\n",
      "Requirement already satisfied: scipy>=0.19.1 in /home/ec2-user/anaconda3/envs/python3/lib/python3.6/site-packages (from imbalanced-learn->imblearn) (1.5.3)\n",
      "Requirement already satisfied: numpy>=1.13.3 in /home/ec2-user/anaconda3/envs/python3/lib/python3.6/site-packages (from imbalanced-learn->imblearn) (1.19.5)\n",
      "Requirement already satisfied: joblib>=0.11 in /home/ec2-user/anaconda3/envs/python3/lib/python3.6/site-packages (from imbalanced-learn->imblearn) (1.0.1)\n",
      "Requirement already satisfied: scikit-learn>=0.24 in /home/ec2-user/anaconda3/envs/python3/lib/python3.6/site-packages (from imbalanced-learn->imblearn) (0.24.1)\n",
      "Requirement already satisfied: threadpoolctl>=2.0.0 in /home/ec2-user/anaconda3/envs/python3/lib/python3.6/site-packages (from scikit-learn>=0.24->imbalanced-learn->imblearn) (2.1.0)\n",
      "Note: you may need to restart the kernel to use updated packages.\n"
     ]
    }
   ],
   "source": [
    "pip install imblearn"
   ]
  },
  {
   "cell_type": "code",
   "execution_count": 9,
   "id": "7a535859",
   "metadata": {},
   "outputs": [
    {
     "data": {
      "text/plain": [
       "1    14953\n",
       "0    14953\n",
       "Name: default payment next month, dtype: int64"
      ]
     },
     "execution_count": 9,
     "metadata": {},
     "output_type": "execute_result"
    }
   ],
   "source": [
    "from imblearn.over_sampling import SMOTE\n",
    "\n",
    "# Running SMOTE\n",
    "X_SMOTE, Y_SMOTE = SMOTE().fit_resample(X_train, Y_train)\n",
    "Y_SMOTE.value_counts()"
   ]
  },
  {
   "cell_type": "code",
   "execution_count": 52,
   "id": "5f37885b",
   "metadata": {},
   "outputs": [
    {
     "name": "stdout",
     "output_type": "stream",
     "text": [
      "The cutoff values is:  0.4985358780452983\n"
     ]
    }
   ],
   "source": [
    "# Building the RF model with best hyper-parameters\n",
    "RF = RandomForestClassifier(max_depth = 7, min_samples_leaf = 7, min_samples_split = 15, n_estimators = 500).fit(X_SMOTE, Y_SMOTE)\n",
    "\n",
    "# Predicting on test\n",
    "RF_preds = RF.predict_proba(X_test)[:, 1]\n",
    "\n",
    "# Predicting labels\n",
    "RF_labels = precision_recall_cutoff.precision_recall_cutoff(Y_test, RF_preds)\n"
   ]
  },
  {
   "cell_type": "code",
   "execution_count": 53,
   "id": "12ea5d94",
   "metadata": {},
   "outputs": [
    {
     "name": "stdout",
     "output_type": "stream",
     "text": [
      "              precision    recall  f1-score   support\n",
      "\n",
      "           0       0.87      0.87      0.87      3738\n",
      "           1       0.55      0.56      0.55      1062\n",
      "\n",
      "    accuracy                           0.80      4800\n",
      "   macro avg       0.71      0.71      0.71      4800\n",
      "weighted avg       0.80      0.80      0.80      4800\n",
      "\n"
     ]
    }
   ],
   "source": [
    "# Computing the classification report\n",
    "print(classification_report(Y_test, RF_labels))"
   ]
  },
  {
   "cell_type": "markdown",
   "id": "7495fce9",
   "metadata": {},
   "source": [
    "### Checking the results of other feature importance method "
   ]
  },
  {
   "cell_type": "code",
   "execution_count": 47,
   "id": "d613b014",
   "metadata": {},
   "outputs": [
    {
     "data": {
      "text/html": [
       "<div>\n",
       "<style scoped>\n",
       "    .dataframe tbody tr th:only-of-type {\n",
       "        vertical-align: middle;\n",
       "    }\n",
       "\n",
       "    .dataframe tbody tr th {\n",
       "        vertical-align: top;\n",
       "    }\n",
       "\n",
       "    .dataframe thead th {\n",
       "        text-align: right;\n",
       "    }\n",
       "</style>\n",
       "<table border=\"1\" class=\"dataframe\">\n",
       "  <thead>\n",
       "    <tr style=\"text-align: right;\">\n",
       "      <th></th>\n",
       "      <th>Features</th>\n",
       "      <th>Importance</th>\n",
       "    </tr>\n",
       "  </thead>\n",
       "  <tbody>\n",
       "    <tr>\n",
       "      <th>0</th>\n",
       "      <td>interaction_11</td>\n",
       "      <td>21.90</td>\n",
       "    </tr>\n",
       "    <tr>\n",
       "      <th>1</th>\n",
       "      <td>PAY_0</td>\n",
       "      <td>19.68</td>\n",
       "    </tr>\n",
       "    <tr>\n",
       "      <th>2</th>\n",
       "      <td>interaction_3</td>\n",
       "      <td>14.59</td>\n",
       "    </tr>\n",
       "    <tr>\n",
       "      <th>3</th>\n",
       "      <td>PAY_2</td>\n",
       "      <td>9.52</td>\n",
       "    </tr>\n",
       "    <tr>\n",
       "      <th>4</th>\n",
       "      <td>PAY_3</td>\n",
       "      <td>5.39</td>\n",
       "    </tr>\n",
       "  </tbody>\n",
       "</table>\n",
       "</div>"
      ],
      "text/plain": [
       "         Features  Importance\n",
       "0  interaction_11       21.90\n",
       "1           PAY_0       19.68\n",
       "2   interaction_3       14.59\n",
       "3           PAY_2        9.52\n",
       "4           PAY_3        5.39"
      ]
     },
     "execution_count": 47,
     "metadata": {},
     "output_type": "execute_result"
    }
   ],
   "source": [
    "feature_importance.head()"
   ]
  },
  {
   "cell_type": "code",
   "execution_count": 42,
   "id": "e90e4eba",
   "metadata": {},
   "outputs": [
    {
     "name": "stdout",
     "output_type": "stream",
     "text": [
      "The cutoff values is:  0.24426999737607752\n"
     ]
    }
   ],
   "source": [
    "X_train_3 = X_train[['interaction_11', 'PAY_0', 'interaction_3', 'PAY_2', 'PAY_3']]\n",
    "X_test_3 = X_test[['interaction_11', 'PAY_0', 'interaction_3', 'PAY_2', 'PAY_3']]\n",
    "\n",
    "# Building the RF model with best hyper-parameters\n",
    "RF = RandomForestClassifier(max_depth = 7, min_samples_leaf = 7, min_samples_split = 15, n_estimators = 500).fit(X_train_3, Y_train)\n",
    "\n",
    "# Predicting on test\n",
    "RF_preds = RF.predict_proba(X_test_3)[:, 1]\n",
    "\n",
    "# Predicting labels\n",
    "RF_labels = precision_recall_cutoff.precision_recall_cutoff(Y_test, RF_preds)\n",
    "\n"
   ]
  },
  {
   "cell_type": "code",
   "execution_count": 43,
   "id": "11a85016",
   "metadata": {},
   "outputs": [
    {
     "name": "stdout",
     "output_type": "stream",
     "text": [
      "              precision    recall  f1-score   support\n",
      "\n",
      "           0       0.87      0.87      0.87      3738\n",
      "           1       0.54      0.56      0.55      1062\n",
      "\n",
      "    accuracy                           0.80      4800\n",
      "   macro avg       0.71      0.71      0.71      4800\n",
      "weighted avg       0.80      0.80      0.80      4800\n",
      "\n"
     ]
    }
   ],
   "source": [
    "# Computing the classification report\n",
    "print(classification_report(Y_test, RF_labels))"
   ]
  },
  {
   "cell_type": "markdown",
   "id": "519db5fe",
   "metadata": {},
   "source": [
    "### Testing oversampling technique"
   ]
  },
  {
   "cell_type": "code",
   "execution_count": 37,
   "id": "5e739ac0",
   "metadata": {},
   "outputs": [],
   "source": [
    "from imblearn.over_sampling import RandomOverSampler"
   ]
  },
  {
   "cell_type": "code",
   "execution_count": 40,
   "id": "7f60ff3e",
   "metadata": {},
   "outputs": [
    {
     "name": "stdout",
     "output_type": "stream",
     "text": [
      "The cutoff values is:  0.5973463647331819\n"
     ]
    }
   ],
   "source": [
    "# Running over-sampling\n",
    "X_over, Y_over = RandomOverSampler().fit_resample(X_train_1, Y_train)\n",
    "\n",
    "# Building the RF model with best hyper-parameters\n",
    "RF = RandomForestClassifier(max_depth = 7, min_samples_leaf = 7, min_samples_split = 15, n_estimators = 500).fit(X_over, Y_over)\n",
    "\n",
    "# Predicting on test\n",
    "RF_preds = RF.predict_proba(X_test_3)[:, 1]\n",
    "\n",
    "# Predicting labels\n",
    "RF_labels = precision_recall_cutoff.precision_recall_cutoff(Y_test, RF_preds)"
   ]
  },
  {
   "cell_type": "code",
   "execution_count": 41,
   "id": "66fada6b",
   "metadata": {},
   "outputs": [
    {
     "name": "stdout",
     "output_type": "stream",
     "text": [
      "              precision    recall  f1-score   support\n",
      "\n",
      "           0       0.87      0.87      0.87      3738\n",
      "           1       0.55      0.55      0.55      1062\n",
      "\n",
      "    accuracy                           0.80      4800\n",
      "   macro avg       0.71      0.71      0.71      4800\n",
      "weighted avg       0.80      0.80      0.80      4800\n",
      "\n"
     ]
    }
   ],
   "source": [
    "# Computing the classification report\n",
    "print(classification_report(Y_test, RF_labels))"
   ]
  }
 ],
 "metadata": {
  "kernelspec": {
   "display_name": "conda_python3",
   "language": "python",
   "name": "conda_python3"
  },
  "language_info": {
   "codemirror_mode": {
    "name": "ipython",
    "version": 3
   },
   "file_extension": ".py",
   "mimetype": "text/x-python",
   "name": "python",
   "nbconvert_exporter": "python",
   "pygments_lexer": "ipython3",
   "version": "3.6.13"
  }
 },
 "nbformat": 4,
 "nbformat_minor": 5
}
