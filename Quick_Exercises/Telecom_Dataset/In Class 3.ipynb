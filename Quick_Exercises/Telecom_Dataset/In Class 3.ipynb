{
 "cells": [
  {
   "cell_type": "code",
   "execution_count": null,
   "id": "72e59da6",
   "metadata": {},
   "outputs": [
    {
     "name": "stdout",
     "output_type": "stream",
     "text": [
      "Collecting imblearn\n",
      "  Downloading imblearn-0.0-py2.py3-none-any.whl (1.9 kB)\n",
      "Collecting imbalanced-learn\n",
      "  Downloading imbalanced_learn-0.9.0-py3-none-any.whl (199 kB)\n",
      "     |████████████████████████████████| 199 kB 11.1 MB/s            \n",
      "\u001b[?25hRequirement already satisfied: joblib>=0.11 in /home/ec2-user/anaconda3/envs/python3/lib/python3.6/site-packages (from imbalanced-learn->imblearn) (1.0.1)\n",
      "Requirement already satisfied: numpy>=1.14.6 in /home/ec2-user/anaconda3/envs/python3/lib/python3.6/site-packages (from imbalanced-learn->imblearn) (1.19.5)\n",
      "Requirement already satisfied: scipy>=1.1.0 in /home/ec2-user/anaconda3/envs/python3/lib/python3.6/site-packages (from imbalanced-learn->imblearn) (1.5.3)\n",
      "  Downloading imbalanced_learn-0.8.1-py3-none-any.whl (189 kB)\n",
      "     |████████████████████████████████| 189 kB 70.6 MB/s            \n",
      "\u001b[?25hRequirement already satisfied: scikit-learn>=0.24 in /home/ec2-user/anaconda3/envs/python3/lib/python3.6/site-packages (from imbalanced-learn->imblearn) (0.24.1)\n",
      "Requirement already satisfied: threadpoolctl>=2.0.0 in /home/ec2-user/anaconda3/envs/python3/lib/python3.6/site-packages (from scikit-learn>=0.24->imbalanced-learn->imblearn) (2.1.0)\n"
     ]
    }
   ],
   "source": [
    "pip install imblearn"
   ]
  },
  {
   "cell_type": "code",
   "execution_count": 2,
   "id": "cf6b8e5d",
   "metadata": {},
   "outputs": [
    {
     "data": {
      "text/html": [
       "<div>\n",
       "<style scoped>\n",
       "    .dataframe tbody tr th:only-of-type {\n",
       "        vertical-align: middle;\n",
       "    }\n",
       "\n",
       "    .dataframe tbody tr th {\n",
       "        vertical-align: top;\n",
       "    }\n",
       "\n",
       "    .dataframe thead th {\n",
       "        text-align: right;\n",
       "    }\n",
       "</style>\n",
       "<table border=\"1\" class=\"dataframe\">\n",
       "  <thead>\n",
       "    <tr style=\"text-align: right;\">\n",
       "      <th></th>\n",
       "      <th>Churn</th>\n",
       "      <th>AccountWeeks</th>\n",
       "      <th>ContractRenewal</th>\n",
       "      <th>DataPlan</th>\n",
       "      <th>DataUsage</th>\n",
       "      <th>CustServCalls</th>\n",
       "      <th>DayMins</th>\n",
       "      <th>DayCalls</th>\n",
       "      <th>MonthlyCharge</th>\n",
       "      <th>OverageFee</th>\n",
       "      <th>RoamMins</th>\n",
       "    </tr>\n",
       "  </thead>\n",
       "  <tbody>\n",
       "    <tr>\n",
       "      <th>0</th>\n",
       "      <td>0</td>\n",
       "      <td>128</td>\n",
       "      <td>1</td>\n",
       "      <td>1</td>\n",
       "      <td>2.7</td>\n",
       "      <td>1</td>\n",
       "      <td>265.1</td>\n",
       "      <td>110</td>\n",
       "      <td>89.0</td>\n",
       "      <td>9.87</td>\n",
       "      <td>10.0</td>\n",
       "    </tr>\n",
       "  </tbody>\n",
       "</table>\n",
       "</div>"
      ],
      "text/plain": [
       "   Churn  AccountWeeks  ContractRenewal  DataPlan  DataUsage  CustServCalls  \\\n",
       "0      0           128                1         1        2.7              1   \n",
       "\n",
       "   DayMins  DayCalls  MonthlyCharge  OverageFee  RoamMins  \n",
       "0    265.1       110           89.0        9.87      10.0  "
      ]
     },
     "execution_count": 2,
     "metadata": {},
     "output_type": "execute_result"
    }
   ],
   "source": [
    "import boto3\n",
    "import pandas as pd\n",
    "import numpy as np\n",
    "from sklearn.model_selection import train_test_split\n",
    "from sklearn.ensemble import RandomForestClassifier, AdaBoostClassifier\n",
    "from sklearn.tree import DecisionTreeClassifier\n",
    "from sklearn.metrics import roc_curve, classification_report\n",
    "from imblearn.over_sampling import SMOTE\n",
    "\n",
    "\n",
    "# Defining the s3 bucket\n",
    "s3 = boto3.resource('s3')\n",
    "bucket_name = 'gabriel-predictive-analytics'\n",
    "bucket = s3.Bucket(bucket_name)\n",
    "\n",
    "# Defining the file to be read from s3 bucket\n",
    "file_key = \"telecom_churn.csv\"\n",
    "\n",
    "bucket_object = bucket.Object(file_key)\n",
    "file_object = bucket_object.get()\n",
    "file_content_stream = file_object.get('Body')\n",
    "\n",
    "# Reading the csv file\n",
    "churn = pd.read_csv(file_content_stream)\n",
    "churn.head(1)"
   ]
  },
  {
   "cell_type": "code",
   "execution_count": 3,
   "id": "bf61c4c5",
   "metadata": {},
   "outputs": [
    {
     "data": {
      "text/plain": [
       "0    0.855086\n",
       "1    0.144914\n",
       "Name: Churn, dtype: float64"
      ]
     },
     "execution_count": 3,
     "metadata": {},
     "output_type": "execute_result"
    }
   ],
   "source": [
    "# Relative Frequency table\n",
    "churn['Churn'].value_counts() / churn.shape[0]"
   ]
  },
  {
   "cell_type": "code",
   "execution_count": 4,
   "id": "d6c963aa",
   "metadata": {},
   "outputs": [],
   "source": [
    "# Defining the input and target variables\n",
    "X = churn[['AccountWeeks', 'ContractRenewal', 'CustServCalls', 'MonthlyCharge', 'DayMins']]\n",
    "Y = churn['Churn']\n",
    "\n",
    "# Splitting the data\n",
    "X_train, X_test, Y_train, Y_test = train_test_split(X, Y, test_size = 0.2, stratify=Y)"
   ]
  },
  {
   "cell_type": "code",
   "execution_count": 6,
   "id": "9d39db04",
   "metadata": {},
   "outputs": [],
   "source": [
    "# Running SMOTE\n",
    "X_SMOTE, Y_SMOTE = SMOTE().fit_resample(X_train, Y_train)"
   ]
  },
  {
   "cell_type": "code",
   "execution_count": 7,
   "id": "75883085",
   "metadata": {},
   "outputs": [
    {
     "data": {
      "text/plain": [
       "1    2280\n",
       "0    2280\n",
       "Name: Churn, dtype: int64"
      ]
     },
     "execution_count": 7,
     "metadata": {},
     "output_type": "execute_result"
    }
   ],
   "source": [
    "Y_SMOTE.value_counts()"
   ]
  },
  {
   "cell_type": "code",
   "execution_count": 9,
   "id": "4bd6b5dc",
   "metadata": {},
   "outputs": [
    {
     "name": "stdout",
     "output_type": "stream",
     "text": [
      "              precision    recall  f1-score   support\n",
      "\n",
      "           0       0.97      0.86      0.91       570\n",
      "           1       0.51      0.86      0.64        97\n",
      "\n",
      "    accuracy                           0.86       667\n",
      "   macro avg       0.74      0.86      0.77       667\n",
      "weighted avg       0.90      0.86      0.87       667\n",
      "\n"
     ]
    }
   ],
   "source": [
    "# Random Forest Classifier model\n",
    "RF_md = RandomForestClassifier(n_estimators = 500, max_depth = 3).fit(X_SMOTE, Y_SMOTE)\n",
    "\n",
    "# Predicting on test dataset\n",
    "RF_preds = RF_md.predict_proba(X_test)[:,1]\n",
    "\n",
    "# Computing the ROC curve\n",
    "fpr, tpr, threshold = roc_curve(Y_test, RF_preds)\n",
    "\n",
    "# Creating a data-frame\n",
    "cutoff_values = pd.DataFrame({'False_Positive': fpr, 'True_Positive': tpr, 'Cutoff': threshold})\n",
    "\n",
    "# fiding the cutoff value close to the perfect model (tpr = 1, fpr = 0)\n",
    "cutoff_values['True_Positive_minus_1'] = cutoff_values['True_Positive'] -1\n",
    "cutoff_values['Distance_to_perfect_model'] = np.sqrt(cutoff_values['False_Positive']**2 + cutoff_values['True_Positive_minus_1']**2)\n",
    "cutoff_values = cutoff_values.sort_values(by = 'Distance_to_perfect_model').reset_index(drop = True)\n",
    "\n",
    "## Changing likelihoods to labels\n",
    "RF_preds = np.where(RF_preds < cutoff_values['Cutoff'][0], 0, 1)\n",
    "\n",
    "# Printing classification report\n",
    "print(classification_report(Y_test, RF_preds))"
   ]
  },
  {
   "cell_type": "code",
   "execution_count": 10,
   "id": "2157cbe9",
   "metadata": {},
   "outputs": [
    {
     "name": "stdout",
     "output_type": "stream",
     "text": [
      "              precision    recall  f1-score   support\n",
      "\n",
      "           0       0.98      0.87      0.92       570\n",
      "           1       0.54      0.88      0.67        97\n",
      "\n",
      "    accuracy                           0.87       667\n",
      "   macro avg       0.76      0.87      0.79       667\n",
      "weighted avg       0.91      0.87      0.88       667\n",
      "\n"
     ]
    }
   ],
   "source": [
    "# Adaboost Classifier Model\n",
    "ADA_md = AdaBoostClassifier(base_estimator = DecisionTreeClassifier(max_depth = 3), n_estimators = 500, learning_rate = 0.01).fit(X_SMOTE, Y_SMOTE)\n",
    "\n",
    "# Predicting on Test dataaset\n",
    "ADA_preds = ADA_md.predict_proba(X_test)[:,1]\n",
    "\n",
    "# Computing the ROC curve\n",
    "fpr, tpr, threshold = roc_curve(Y_test, ADA_preds) \n",
    "\n",
    "cutoff_values = pd.DataFrame({\"False_Positive\": fpr, \"True_Positive\": tpr, \"Cutoff\": threshold})\n",
    "\n",
    "# fiding the cutoff value close to the perfect model (tpr = 1, fpr = 0)\n",
    "cutoff_values['True_Positive_minus_1'] = cutoff_values['True_Positive'] -1\n",
    "cutoff_values['Distance_to_perfect_model'] = np.sqrt(cutoff_values['False_Positive']**2 + cutoff_values['True_Positive_minus_1']**2)\n",
    "cutoff_values = cutoff_values.sort_values(by = 'Distance_to_perfect_model').reset_index(drop = True)\n",
    "\n",
    "## Changing likelihoods to labels\n",
    "ADA_preds = np.where(ADA_preds < cutoff_values['Cutoff'][0], 0, 1)\n",
    "\n",
    "# Printing classification report\n",
    "print(classification_report(Y_test, ADA_preds))"
   ]
  },
  {
   "cell_type": "markdown",
   "id": "0ac6d184",
   "metadata": {},
   "source": [
    "### Based on my results, I would use AdaBoostClassifier to predict class 1"
   ]
  },
  {
   "cell_type": "code",
   "execution_count": 15,
   "id": "43c6e7fd",
   "metadata": {},
   "outputs": [
    {
     "data": {
      "text/plain": [
       "0.4654803485040742"
      ]
     },
     "execution_count": 15,
     "metadata": {},
     "output_type": "execute_result"
    }
   ],
   "source": [
    "cutoff_values['Cutoff'][0]"
   ]
  },
  {
   "cell_type": "code",
   "execution_count": 12,
   "id": "011ed1d5",
   "metadata": {},
   "outputs": [
    {
     "data": {
      "text/html": [
       "<div>\n",
       "<style scoped>\n",
       "    .dataframe tbody tr th:only-of-type {\n",
       "        vertical-align: middle;\n",
       "    }\n",
       "\n",
       "    .dataframe tbody tr th {\n",
       "        vertical-align: top;\n",
       "    }\n",
       "\n",
       "    .dataframe thead th {\n",
       "        text-align: right;\n",
       "    }\n",
       "</style>\n",
       "<table border=\"1\" class=\"dataframe\">\n",
       "  <thead>\n",
       "    <tr style=\"text-align: right;\">\n",
       "      <th></th>\n",
       "      <th>False_Positive</th>\n",
       "      <th>True_Positive</th>\n",
       "      <th>Cutoff</th>\n",
       "      <th>True_Positive_minus_1</th>\n",
       "      <th>Distance_to_perfect_model</th>\n",
       "    </tr>\n",
       "  </thead>\n",
       "  <tbody>\n",
       "    <tr>\n",
       "      <th>0</th>\n",
       "      <td>0.128070</td>\n",
       "      <td>0.876289</td>\n",
       "      <td>0.465480</td>\n",
       "      <td>-0.123711</td>\n",
       "      <td>0.178063</td>\n",
       "    </tr>\n",
       "    <tr>\n",
       "      <th>1</th>\n",
       "      <td>0.122807</td>\n",
       "      <td>0.865979</td>\n",
       "      <td>0.469048</td>\n",
       "      <td>-0.134021</td>\n",
       "      <td>0.181778</td>\n",
       "    </tr>\n",
       "    <tr>\n",
       "      <th>2</th>\n",
       "      <td>0.128070</td>\n",
       "      <td>0.865979</td>\n",
       "      <td>0.466674</td>\n",
       "      <td>-0.134021</td>\n",
       "      <td>0.185374</td>\n",
       "    </tr>\n",
       "    <tr>\n",
       "      <th>3</th>\n",
       "      <td>0.108772</td>\n",
       "      <td>0.845361</td>\n",
       "      <td>0.487139</td>\n",
       "      <td>-0.154639</td>\n",
       "      <td>0.189062</td>\n",
       "    </tr>\n",
       "    <tr>\n",
       "      <th>4</th>\n",
       "      <td>0.152632</td>\n",
       "      <td>0.876289</td>\n",
       "      <td>0.458017</td>\n",
       "      <td>-0.123711</td>\n",
       "      <td>0.196471</td>\n",
       "    </tr>\n",
       "  </tbody>\n",
       "</table>\n",
       "</div>"
      ],
      "text/plain": [
       "   False_Positive  True_Positive    Cutoff  True_Positive_minus_1  \\\n",
       "0        0.128070       0.876289  0.465480              -0.123711   \n",
       "1        0.122807       0.865979  0.469048              -0.134021   \n",
       "2        0.128070       0.865979  0.466674              -0.134021   \n",
       "3        0.108772       0.845361  0.487139              -0.154639   \n",
       "4        0.152632       0.876289  0.458017              -0.123711   \n",
       "\n",
       "   Distance_to_perfect_model  \n",
       "0                   0.178063  \n",
       "1                   0.181778  \n",
       "2                   0.185374  \n",
       "3                   0.189062  \n",
       "4                   0.196471  "
      ]
     },
     "execution_count": 12,
     "metadata": {},
     "output_type": "execute_result"
    }
   ],
   "source": [
    "cutoff_values.head()"
   ]
  }
 ],
 "metadata": {
  "kernelspec": {
   "display_name": "conda_python3",
   "language": "python",
   "name": "conda_python3"
  },
  "language_info": {
   "codemirror_mode": {
    "name": "ipython",
    "version": 3
   },
   "file_extension": ".py",
   "mimetype": "text/x-python",
   "name": "python",
   "nbconvert_exporter": "python",
   "pygments_lexer": "ipython3",
   "version": "3.6.13"
  }
 },
 "nbformat": 4,
 "nbformat_minor": 5
}
