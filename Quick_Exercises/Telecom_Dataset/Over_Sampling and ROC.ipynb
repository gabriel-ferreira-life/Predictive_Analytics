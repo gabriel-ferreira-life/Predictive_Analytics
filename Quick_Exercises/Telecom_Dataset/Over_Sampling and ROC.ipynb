{
 "cells": [
  {
   "cell_type": "markdown",
   "id": "6103e50a",
   "metadata": {},
   "source": [
    "### Installing Imbalance Learn library"
   ]
  },
  {
   "cell_type": "code",
   "execution_count": 3,
   "id": "8c025340",
   "metadata": {},
   "outputs": [
    {
     "name": "stdout",
     "output_type": "stream",
     "text": [
      "Collecting imblearn\n",
      "  Downloading imblearn-0.0-py2.py3-none-any.whl (1.9 kB)\n",
      "Collecting imbalanced-learn\n",
      "  Downloading imbalanced_learn-0.9.0-py3-none-any.whl (199 kB)\n",
      "     |████████████████████████████████| 199 kB 39.8 MB/s            \n",
      "\u001b[?25hRequirement already satisfied: scipy>=1.1.0 in /home/ec2-user/anaconda3/envs/python3/lib/python3.6/site-packages (from imbalanced-learn->imblearn) (1.5.3)\n",
      "  Downloading imbalanced_learn-0.8.1-py3-none-any.whl (189 kB)\n",
      "     |████████████████████████████████| 189 kB 43.3 MB/s            \n",
      "\u001b[?25hRequirement already satisfied: scikit-learn>=0.24 in /home/ec2-user/anaconda3/envs/python3/lib/python3.6/site-packages (from imbalanced-learn->imblearn) (0.24.1)\n",
      "Requirement already satisfied: numpy>=1.13.3 in /home/ec2-user/anaconda3/envs/python3/lib/python3.6/site-packages (from imbalanced-learn->imblearn) (1.19.5)\n",
      "Requirement already satisfied: joblib>=0.11 in /home/ec2-user/anaconda3/envs/python3/lib/python3.6/site-packages (from imbalanced-learn->imblearn) (1.0.1)\n",
      "Requirement already satisfied: threadpoolctl>=2.0.0 in /home/ec2-user/anaconda3/envs/python3/lib/python3.6/site-packages (from scikit-learn>=0.24->imbalanced-learn->imblearn) (2.1.0)\n",
      "Installing collected packages: imbalanced-learn, imblearn\n",
      "Successfully installed imbalanced-learn-0.8.1 imblearn-0.0\n",
      "Note: you may need to restart the kernel to use updated packages.\n"
     ]
    }
   ],
   "source": [
    "pip install imblearn"
   ]
  },
  {
   "cell_type": "markdown",
   "id": "2b2dfe5d",
   "metadata": {},
   "source": [
    "### Reading the csv data file and creating a data-frame called churn"
   ]
  },
  {
   "cell_type": "code",
   "execution_count": 1,
   "id": "42d0d600",
   "metadata": {},
   "outputs": [
    {
     "data": {
      "text/html": [
       "<div>\n",
       "<style scoped>\n",
       "    .dataframe tbody tr th:only-of-type {\n",
       "        vertical-align: middle;\n",
       "    }\n",
       "\n",
       "    .dataframe tbody tr th {\n",
       "        vertical-align: top;\n",
       "    }\n",
       "\n",
       "    .dataframe thead th {\n",
       "        text-align: right;\n",
       "    }\n",
       "</style>\n",
       "<table border=\"1\" class=\"dataframe\">\n",
       "  <thead>\n",
       "    <tr style=\"text-align: right;\">\n",
       "      <th></th>\n",
       "      <th>Churn</th>\n",
       "      <th>AccountWeeks</th>\n",
       "      <th>ContractRenewal</th>\n",
       "      <th>DataPlan</th>\n",
       "      <th>DataUsage</th>\n",
       "      <th>CustServCalls</th>\n",
       "      <th>DayMins</th>\n",
       "      <th>DayCalls</th>\n",
       "      <th>MonthlyCharge</th>\n",
       "      <th>OverageFee</th>\n",
       "      <th>RoamMins</th>\n",
       "    </tr>\n",
       "  </thead>\n",
       "  <tbody>\n",
       "    <tr>\n",
       "      <th>0</th>\n",
       "      <td>0</td>\n",
       "      <td>128</td>\n",
       "      <td>1</td>\n",
       "      <td>1</td>\n",
       "      <td>2.7</td>\n",
       "      <td>1</td>\n",
       "      <td>265.1</td>\n",
       "      <td>110</td>\n",
       "      <td>89.0</td>\n",
       "      <td>9.87</td>\n",
       "      <td>10.0</td>\n",
       "    </tr>\n",
       "  </tbody>\n",
       "</table>\n",
       "</div>"
      ],
      "text/plain": [
       "   Churn  AccountWeeks  ContractRenewal  DataPlan  DataUsage  CustServCalls  \\\n",
       "0      0           128                1         1        2.7              1   \n",
       "\n",
       "   DayMins  DayCalls  MonthlyCharge  OverageFee  RoamMins  \n",
       "0    265.1       110           89.0        9.87      10.0  "
      ]
     },
     "execution_count": 1,
     "metadata": {},
     "output_type": "execute_result"
    }
   ],
   "source": [
    "import boto3\n",
    "import pandas as pd\n",
    "import numpy as np\n",
    "from sklearn.model_selection import train_test_split\n",
    "from sklearn.ensemble import RandomForestClassifier, AdaBoostClassifier\n",
    "from sklearn.tree import DecisionTreeClassifier\n",
    "from sklearn.metrics import roc_curve, classification_report\n",
    "from imblearn.over_sampling import RandomOverSampler\n",
    "\n",
    "# Defining the s3 bucket\n",
    "s3 = boto3.resource('s3')\n",
    "bucket_name = 'gabriel-predictive-analytics'\n",
    "bucket = s3.Bucket(bucket_name)\n",
    "\n",
    "# Defining the file to be read from s3 bucket\n",
    "file_key = \"telecom_churn.csv\"\n",
    "\n",
    "bucket_object = bucket.Object(file_key)\n",
    "file_object = bucket_object.get()\n",
    "file_content_stream = file_object.get('Body')\n",
    "\n",
    "# Reading the csv file\n",
    "churn = pd.read_csv(file_content_stream)\n",
    "churn.head(1)"
   ]
  },
  {
   "cell_type": "markdown",
   "id": "e9ff5c05",
   "metadata": {},
   "source": [
    "### Looking at the relative frequency table of the Churn variable"
   ]
  },
  {
   "cell_type": "code",
   "execution_count": 2,
   "id": "5fbb725c",
   "metadata": {},
   "outputs": [
    {
     "data": {
      "text/plain": [
       "0    0.855086\n",
       "1    0.144914\n",
       "Name: Churn, dtype: float64"
      ]
     },
     "execution_count": 2,
     "metadata": {},
     "output_type": "execute_result"
    }
   ],
   "source": [
    "# Relative Frequency table\n",
    "churn['Churn'].value_counts() / churn.shape[0]"
   ]
  },
  {
   "cell_type": "markdown",
   "id": "6bd65673",
   "metadata": {},
   "source": [
    "As we can see, this is an unbalanced dataset."
   ]
  },
  {
   "cell_type": "markdown",
   "id": "2e11c894",
   "metadata": {},
   "source": [
    "### Let's use the following variable to predict Churn: AccountWeeks, ContractRenewal, CustServCalls, MonthlyCharge, and DayMins as the predictor variables, and Churn is the target variable.\n",
    "\n",
    "### Let's then split the data into two data-frames (taking into account the proportion of 0s and 1s): train (80%) and test (20%)."
   ]
  },
  {
   "cell_type": "code",
   "execution_count": 3,
   "id": "51a6bb70",
   "metadata": {},
   "outputs": [],
   "source": [
    "# Defining the input and target variables\n",
    "X = churn[['AccountWeeks', 'ContractRenewal', 'CustServCalls', 'MonthlyCharge', 'DayMins']]\n",
    "Y = churn['Churn']\n",
    "\n",
    "# Splitting the data\n",
    "X_train, X_test, Y_train, Y_test = train_test_split(X, Y, test_size = 0.2, stratify=Y)"
   ]
  },
  {
   "cell_type": "markdown",
   "id": "2df1f868",
   "metadata": {},
   "source": [
    "### Performing over-sampling technique on the train dataset by creating synthetic dataset to have a balance dataset"
   ]
  },
  {
   "cell_type": "code",
   "execution_count": 4,
   "id": "ac6de858",
   "metadata": {},
   "outputs": [],
   "source": [
    "# Running over-sampling\n",
    "X_over, Y_over = RandomOverSampler().fit_resample(X_train, Y_train)"
   ]
  },
  {
   "cell_type": "markdown",
   "id": "635aec38",
   "metadata": {},
   "source": [
    "### Using the over-sampling data-frame, let's build a random forest classification model with 500 trees and the maximum depth of each tree equal to 3.\n",
    "\n",
    "### Then, estimate the cutoff value that makes the random forest classification model the closest to the perfect model based on the ROC curve. Using the optimal cutoff value."
   ]
  },
  {
   "cell_type": "code",
   "execution_count": 5,
   "id": "f9ee2366",
   "metadata": {},
   "outputs": [
    {
     "data": {
      "text/html": [
       "<div>\n",
       "<style scoped>\n",
       "    .dataframe tbody tr th:only-of-type {\n",
       "        vertical-align: middle;\n",
       "    }\n",
       "\n",
       "    .dataframe tbody tr th {\n",
       "        vertical-align: top;\n",
       "    }\n",
       "\n",
       "    .dataframe thead th {\n",
       "        text-align: right;\n",
       "    }\n",
       "</style>\n",
       "<table border=\"1\" class=\"dataframe\">\n",
       "  <thead>\n",
       "    <tr style=\"text-align: right;\">\n",
       "      <th></th>\n",
       "      <th>False_Positive</th>\n",
       "      <th>True_Positive</th>\n",
       "      <th>Cutoff</th>\n",
       "    </tr>\n",
       "  </thead>\n",
       "  <tbody>\n",
       "    <tr>\n",
       "      <th>0</th>\n",
       "      <td>0.000000</td>\n",
       "      <td>0.000000</td>\n",
       "      <td>1.879997</td>\n",
       "    </tr>\n",
       "    <tr>\n",
       "      <th>1</th>\n",
       "      <td>0.000000</td>\n",
       "      <td>0.010309</td>\n",
       "      <td>0.879997</td>\n",
       "    </tr>\n",
       "    <tr>\n",
       "      <th>2</th>\n",
       "      <td>0.000000</td>\n",
       "      <td>0.030928</td>\n",
       "      <td>0.834721</td>\n",
       "    </tr>\n",
       "    <tr>\n",
       "      <th>3</th>\n",
       "      <td>0.005263</td>\n",
       "      <td>0.030928</td>\n",
       "      <td>0.799044</td>\n",
       "    </tr>\n",
       "    <tr>\n",
       "      <th>4</th>\n",
       "      <td>0.005263</td>\n",
       "      <td>0.309278</td>\n",
       "      <td>0.780919</td>\n",
       "    </tr>\n",
       "  </tbody>\n",
       "</table>\n",
       "</div>"
      ],
      "text/plain": [
       "   False_Positive  True_Positive    Cutoff\n",
       "0        0.000000       0.000000  1.879997\n",
       "1        0.000000       0.010309  0.879997\n",
       "2        0.000000       0.030928  0.834721\n",
       "3        0.005263       0.030928  0.799044\n",
       "4        0.005263       0.309278  0.780919"
      ]
     },
     "execution_count": 5,
     "metadata": {},
     "output_type": "execute_result"
    }
   ],
   "source": [
    "# Random Forest Classifier model\n",
    "RF_md = RandomForestClassifier(n_estimators = 500, max_depth = 3).fit(X_over, Y_over)\n",
    "\n",
    "# Predicting on test dataset\n",
    "RF_preds = RF_md.predict_proba(X_test)[:,1]\n",
    "\n",
    "# Computing the ROC curve\n",
    "fpr, tpr, threshold = roc_curve(Y_test, RF_preds)\n",
    "\n",
    "# Creating a data-frame\n",
    "cutoff_values = pd.DataFrame({'False_Positive': fpr, 'True_Positive': tpr, 'Cutoff': threshold})\n",
    "cutoff_values.head()"
   ]
  },
  {
   "cell_type": "markdown",
   "id": "52db1ea2",
   "metadata": {},
   "source": [
    "### Checking the classification report."
   ]
  },
  {
   "cell_type": "code",
   "execution_count": 6,
   "id": "9d8da74d",
   "metadata": {},
   "outputs": [
    {
     "name": "stdout",
     "output_type": "stream",
     "text": [
      "              precision    recall  f1-score   support\n",
      "\n",
      "           0       0.97      0.83      0.90       570\n",
      "           1       0.46      0.84      0.59        97\n",
      "\n",
      "    accuracy                           0.83       667\n",
      "   macro avg       0.71      0.83      0.74       667\n",
      "weighted avg       0.89      0.83      0.85       667\n",
      "\n"
     ]
    }
   ],
   "source": [
    "# fiding the cutoff value close to the perfect model (tpr = 1, fpr = 0)\n",
    "cutoff_values['True_Positive_minus_1'] = cutoff_values['True_Positive'] -1\n",
    "cutoff_values['Distance_to_perfect_model'] = np.sqrt(cutoff_values['False_Positive']**2 + cutoff_values['True_Positive_minus_1']**2)\n",
    "cutoff_values = cutoff_values.sort_values(by = 'Distance_to_perfect_model').reset_index(drop = True)\n",
    "\n",
    "## Changing likelihoods to labels\n",
    "RF_preds = np.where(RF_preds < cutoff_values['Cutoff'][0], 0, 1)\n",
    "\n",
    "# Printing classification report\n",
    "print(classification_report(Y_test, RF_preds))"
   ]
  },
  {
   "cell_type": "markdown",
   "id": "faaae7f5",
   "metadata": {},
   "source": [
    "### Repeating the same process but now using an ada-boost classification model with 500 trees, the maximum depth of each tree equal to 3, and learning rate equal to 0.01"
   ]
  },
  {
   "cell_type": "code",
   "execution_count": 11,
   "id": "1fdb80dd",
   "metadata": {},
   "outputs": [
    {
     "name": "stdout",
     "output_type": "stream",
     "text": [
      "              precision    recall  f1-score   support\n",
      "\n",
      "           0       0.97      0.89      0.93       570\n",
      "           1       0.56      0.82      0.67        97\n",
      "\n",
      "    accuracy                           0.88       667\n",
      "   macro avg       0.76      0.86      0.80       667\n",
      "weighted avg       0.91      0.88      0.89       667\n",
      "\n"
     ]
    }
   ],
   "source": [
    "# Adaboost Classifier Model\n",
    "ADA_md = AdaBoostClassifier(base_estimator = DecisionTreeClassifier(max_depth = 3), n_estimators = 500, learning_rate = 0.01).fit(X_over, Y_over)\n",
    "\n",
    "# Predicting on Test dataaset\n",
    "ADA_preds = ADA_md.predict_proba(X_test)[:,1]\n",
    "\n",
    "# Computing the ROC curve\n",
    "fpr, tpr, threshold = roc_curve(Y_test, ADA_preds) \n",
    "\n",
    "cutoff_values = pd.DataFrame({\"False_Positive\": fpr, \"True_Positive\": tpr, \"Cutoff\": threshold})\n",
    "\n",
    "# fiding the cutoff value close to the perfect model (tpr = 1, fpr = 0)\n",
    "cutoff_values['True_Positive_minus_1'] = cutoff_values['True_Positive'] -1\n",
    "cutoff_values['Distance_to_perfect_model'] = np.sqrt(cutoff_values['False_Positive']**2 + cutoff_values['True_Positive_minus_1']**2)\n",
    "cutoff_values = cutoff_values.sort_values(by = 'Distance_to_perfect_model').reset_index(drop = True)\n",
    "\n",
    "## Changing likelihoods to labels\n",
    "ADA_preds = np.where(ADA_preds < cutoff_values['Cutoff'][0], 0, 1)\n",
    "\n",
    "# Printing classification report\n",
    "print(classification_report(Y_test, ADA_preds))"
   ]
  },
  {
   "cell_type": "markdown",
   "id": "b14eaa7c",
   "metadata": {},
   "source": [
    "#### Using the results from part 4 and 5, I would use the Adaboost Classifier Model to predict customer churn because it has a higher precision on Class 1."
   ]
  }
 ],
 "metadata": {
  "kernelspec": {
   "display_name": "conda_python3",
   "language": "python",
   "name": "conda_python3"
  },
  "language_info": {
   "codemirror_mode": {
    "name": "ipython",
    "version": 3
   },
   "file_extension": ".py",
   "mimetype": "text/x-python",
   "name": "python",
   "nbconvert_exporter": "python",
   "pygments_lexer": "ipython3",
   "version": "3.6.13"
  }
 },
 "nbformat": 4,
 "nbformat_minor": 5
}
